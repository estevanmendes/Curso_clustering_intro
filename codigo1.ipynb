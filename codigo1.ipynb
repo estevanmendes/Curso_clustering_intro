{
 "metadata": {
  "language_info": {
   "codemirror_mode": {
    "name": "ipython",
    "version": 3
   },
   "file_extension": ".py",
   "mimetype": "text/x-python",
   "name": "python",
   "nbconvert_exporter": "python",
   "pygments_lexer": "ipython3",
   "version": "3.7.9-final"
  },
  "orig_nbformat": 2,
  "kernelspec": {
   "name": "python3",
   "display_name": "Python 3.7.9 64-bit ('myenv': conda)",
   "metadata": {
    "interpreter": {
     "hash": "a507cdf376b69cecd2c89e7a1051eae61b266665cfe46f78fefb4235d6785f29"
    }
   }
  }
 },
 "nbformat": 4,
 "nbformat_minor": 2,
 "cells": [
  {
   "cell_type": "code",
   "execution_count": 37,
   "metadata": {},
   "outputs": [],
   "source": [
    "import plotly.graph_objects as go\n",
    "import pandas as pd\n",
    "import numpy as np \n",
    "import matplotlib.pyplot as plt\n",
    "import seaborn as sns\n",
    "from sklearn import preprocessing\n",
    "from sklearn.cluster import KMeans, DBSCAN, MeanShift, estimate_bandwidth\n",
    "from sklearn.metrics import silhouette_score"
   ]
  },
  {
   "cell_type": "code",
   "execution_count": 2,
   "metadata": {},
   "outputs": [
    {
     "output_type": "execute_result",
     "data": {
      "text/plain": [
       "   Alcohol  Malic_Acid   Ash  Ash_Alcanity  Magnesium  Total_Phenols  \\\n",
       "0    14.23        1.71  2.43          15.6        127           2.80   \n",
       "1    13.20        1.78  2.14          11.2        100           2.65   \n",
       "2    13.16        2.36  2.67          18.6        101           2.80   \n",
       "3    14.37        1.95  2.50          16.8        113           3.85   \n",
       "4    13.24        2.59  2.87          21.0        118           2.80   \n",
       "\n",
       "   Flavanoids  Nonflavanoid_Phenols  Proanthocyanins  Color_Intensity   Hue  \\\n",
       "0        3.06                  0.28             2.29             5.64  1.04   \n",
       "1        2.76                  0.26             1.28             4.38  1.05   \n",
       "2        3.24                  0.30             2.81             5.68  1.03   \n",
       "3        3.49                  0.24             2.18             7.80  0.86   \n",
       "4        2.69                  0.39             1.82             4.32  1.04   \n",
       "\n",
       "   OD280  Proline  Customer_Segment  \n",
       "0   3.92     1065                 1  \n",
       "1   3.40     1050                 1  \n",
       "2   3.17     1185                 1  \n",
       "3   3.45     1480                 1  \n",
       "4   2.93      735                 1  "
      ],
      "text/html": "<div>\n<style scoped>\n    .dataframe tbody tr th:only-of-type {\n        vertical-align: middle;\n    }\n\n    .dataframe tbody tr th {\n        vertical-align: top;\n    }\n\n    .dataframe thead th {\n        text-align: right;\n    }\n</style>\n<table border=\"1\" class=\"dataframe\">\n  <thead>\n    <tr style=\"text-align: right;\">\n      <th></th>\n      <th>Alcohol</th>\n      <th>Malic_Acid</th>\n      <th>Ash</th>\n      <th>Ash_Alcanity</th>\n      <th>Magnesium</th>\n      <th>Total_Phenols</th>\n      <th>Flavanoids</th>\n      <th>Nonflavanoid_Phenols</th>\n      <th>Proanthocyanins</th>\n      <th>Color_Intensity</th>\n      <th>Hue</th>\n      <th>OD280</th>\n      <th>Proline</th>\n      <th>Customer_Segment</th>\n    </tr>\n  </thead>\n  <tbody>\n    <tr>\n      <th>0</th>\n      <td>14.23</td>\n      <td>1.71</td>\n      <td>2.43</td>\n      <td>15.6</td>\n      <td>127</td>\n      <td>2.80</td>\n      <td>3.06</td>\n      <td>0.28</td>\n      <td>2.29</td>\n      <td>5.64</td>\n      <td>1.04</td>\n      <td>3.92</td>\n      <td>1065</td>\n      <td>1</td>\n    </tr>\n    <tr>\n      <th>1</th>\n      <td>13.20</td>\n      <td>1.78</td>\n      <td>2.14</td>\n      <td>11.2</td>\n      <td>100</td>\n      <td>2.65</td>\n      <td>2.76</td>\n      <td>0.26</td>\n      <td>1.28</td>\n      <td>4.38</td>\n      <td>1.05</td>\n      <td>3.40</td>\n      <td>1050</td>\n      <td>1</td>\n    </tr>\n    <tr>\n      <th>2</th>\n      <td>13.16</td>\n      <td>2.36</td>\n      <td>2.67</td>\n      <td>18.6</td>\n      <td>101</td>\n      <td>2.80</td>\n      <td>3.24</td>\n      <td>0.30</td>\n      <td>2.81</td>\n      <td>5.68</td>\n      <td>1.03</td>\n      <td>3.17</td>\n      <td>1185</td>\n      <td>1</td>\n    </tr>\n    <tr>\n      <th>3</th>\n      <td>14.37</td>\n      <td>1.95</td>\n      <td>2.50</td>\n      <td>16.8</td>\n      <td>113</td>\n      <td>3.85</td>\n      <td>3.49</td>\n      <td>0.24</td>\n      <td>2.18</td>\n      <td>7.80</td>\n      <td>0.86</td>\n      <td>3.45</td>\n      <td>1480</td>\n      <td>1</td>\n    </tr>\n    <tr>\n      <th>4</th>\n      <td>13.24</td>\n      <td>2.59</td>\n      <td>2.87</td>\n      <td>21.0</td>\n      <td>118</td>\n      <td>2.80</td>\n      <td>2.69</td>\n      <td>0.39</td>\n      <td>1.82</td>\n      <td>4.32</td>\n      <td>1.04</td>\n      <td>2.93</td>\n      <td>735</td>\n      <td>1</td>\n    </tr>\n  </tbody>\n</table>\n</div>"
     },
     "metadata": {},
     "execution_count": 2
    }
   ],
   "source": [
    "df=pd.read_csv('wine.csv')\n",
    "df.head()"
   ]
  },
  {
   "cell_type": "code",
   "execution_count": 3,
   "metadata": {},
   "outputs": [
    {
     "output_type": "execute_result",
     "data": {
      "text/plain": [
       "   Alcool  Malic_Acid    Po  Alcalinidade_po  Magnesio  Total_Phenols  \\\n",
       "0   14.23        1.71  2.43             15.6       127           2.80   \n",
       "1   13.20        1.78  2.14             11.2       100           2.65   \n",
       "2   13.16        2.36  2.67             18.6       101           2.80   \n",
       "3   14.37        1.95  2.50             16.8       113           3.85   \n",
       "4   13.24        2.59  2.87             21.0       118           2.80   \n",
       "\n",
       "   Flavanoids  Nonflavanoid_Phenols  Proanthocyanins  Intensidade_de_cor  \\\n",
       "0        3.06                  0.28             2.29                5.64   \n",
       "1        2.76                  0.26             1.28                4.38   \n",
       "2        3.24                  0.30             2.81                5.68   \n",
       "3        3.49                  0.24             2.18                7.80   \n",
       "4        2.69                  0.39             1.82                4.32   \n",
       "\n",
       "    Hue  OD280  Proline  Customer_Segment  \n",
       "0  1.04   3.92     1065                 1  \n",
       "1  1.05   3.40     1050                 1  \n",
       "2  1.03   3.17     1185                 1  \n",
       "3  0.86   3.45     1480                 1  \n",
       "4  1.04   2.93      735                 1  "
      ],
      "text/html": "<div>\n<style scoped>\n    .dataframe tbody tr th:only-of-type {\n        vertical-align: middle;\n    }\n\n    .dataframe tbody tr th {\n        vertical-align: top;\n    }\n\n    .dataframe thead th {\n        text-align: right;\n    }\n</style>\n<table border=\"1\" class=\"dataframe\">\n  <thead>\n    <tr style=\"text-align: right;\">\n      <th></th>\n      <th>Alcool</th>\n      <th>Malic_Acid</th>\n      <th>Po</th>\n      <th>Alcalinidade_po</th>\n      <th>Magnesio</th>\n      <th>Total_Phenols</th>\n      <th>Flavanoids</th>\n      <th>Nonflavanoid_Phenols</th>\n      <th>Proanthocyanins</th>\n      <th>Intensidade_de_cor</th>\n      <th>Hue</th>\n      <th>OD280</th>\n      <th>Proline</th>\n      <th>Customer_Segment</th>\n    </tr>\n  </thead>\n  <tbody>\n    <tr>\n      <th>0</th>\n      <td>14.23</td>\n      <td>1.71</td>\n      <td>2.43</td>\n      <td>15.6</td>\n      <td>127</td>\n      <td>2.80</td>\n      <td>3.06</td>\n      <td>0.28</td>\n      <td>2.29</td>\n      <td>5.64</td>\n      <td>1.04</td>\n      <td>3.92</td>\n      <td>1065</td>\n      <td>1</td>\n    </tr>\n    <tr>\n      <th>1</th>\n      <td>13.20</td>\n      <td>1.78</td>\n      <td>2.14</td>\n      <td>11.2</td>\n      <td>100</td>\n      <td>2.65</td>\n      <td>2.76</td>\n      <td>0.26</td>\n      <td>1.28</td>\n      <td>4.38</td>\n      <td>1.05</td>\n      <td>3.40</td>\n      <td>1050</td>\n      <td>1</td>\n    </tr>\n    <tr>\n      <th>2</th>\n      <td>13.16</td>\n      <td>2.36</td>\n      <td>2.67</td>\n      <td>18.6</td>\n      <td>101</td>\n      <td>2.80</td>\n      <td>3.24</td>\n      <td>0.30</td>\n      <td>2.81</td>\n      <td>5.68</td>\n      <td>1.03</td>\n      <td>3.17</td>\n      <td>1185</td>\n      <td>1</td>\n    </tr>\n    <tr>\n      <th>3</th>\n      <td>14.37</td>\n      <td>1.95</td>\n      <td>2.50</td>\n      <td>16.8</td>\n      <td>113</td>\n      <td>3.85</td>\n      <td>3.49</td>\n      <td>0.24</td>\n      <td>2.18</td>\n      <td>7.80</td>\n      <td>0.86</td>\n      <td>3.45</td>\n      <td>1480</td>\n      <td>1</td>\n    </tr>\n    <tr>\n      <th>4</th>\n      <td>13.24</td>\n      <td>2.59</td>\n      <td>2.87</td>\n      <td>21.0</td>\n      <td>118</td>\n      <td>2.80</td>\n      <td>2.69</td>\n      <td>0.39</td>\n      <td>1.82</td>\n      <td>4.32</td>\n      <td>1.04</td>\n      <td>2.93</td>\n      <td>735</td>\n      <td>1</td>\n    </tr>\n  </tbody>\n</table>\n</div>"
     },
     "metadata": {},
     "execution_count": 3
    }
   ],
   "source": [
    "df=df.rename(columns={'Alcohol':'Alcool', 'Ash':'Po',\n",
    "                       'Ash_Alcanity':'Alcalinidade_po', 'Magnesium':'Magnesio',\n",
    "                       'Color_Intensity':'Intensidade_de_cor' })\n",
    "df.head()                       "
   ]
  },
  {
   "cell_type": "code",
   "execution_count": 4,
   "metadata": {},
   "outputs": [
    {
     "output_type": "execute_result",
     "data": {
      "text/plain": [
       "           Alcool  Malic_Acid          Po  Alcalinidade_po    Magnesio  \\\n",
       "count  178.000000  178.000000  178.000000       178.000000  178.000000   \n",
       "mean    13.000618    2.336348    2.366517        19.494944   99.741573   \n",
       "std      0.811827    1.117146    0.274344         3.339564   14.282484   \n",
       "min     11.030000    0.740000    1.360000        10.600000   70.000000   \n",
       "25%     12.362500    1.602500    2.210000        17.200000   88.000000   \n",
       "50%     13.050000    1.865000    2.360000        19.500000   98.000000   \n",
       "75%     13.677500    3.082500    2.557500        21.500000  107.000000   \n",
       "max     14.830000    5.800000    3.230000        30.000000  162.000000   \n",
       "\n",
       "       Total_Phenols  Flavanoids  Nonflavanoid_Phenols  Proanthocyanins  \\\n",
       "count     178.000000  178.000000            178.000000       178.000000   \n",
       "mean        2.295112    2.029270              0.361854         1.590899   \n",
       "std         0.625851    0.998859              0.124453         0.572359   \n",
       "min         0.980000    0.340000              0.130000         0.410000   \n",
       "25%         1.742500    1.205000              0.270000         1.250000   \n",
       "50%         2.355000    2.135000              0.340000         1.555000   \n",
       "75%         2.800000    2.875000              0.437500         1.950000   \n",
       "max         3.880000    5.080000              0.660000         3.580000   \n",
       "\n",
       "       Intensidade_de_cor         Hue       OD280      Proline  \\\n",
       "count          178.000000  178.000000  178.000000   178.000000   \n",
       "mean             5.058090    0.957449    2.611685   746.893258   \n",
       "std              2.318286    0.228572    0.709990   314.907474   \n",
       "min              1.280000    0.480000    1.270000   278.000000   \n",
       "25%              3.220000    0.782500    1.937500   500.500000   \n",
       "50%              4.690000    0.965000    2.780000   673.500000   \n",
       "75%              6.200000    1.120000    3.170000   985.000000   \n",
       "max             13.000000    1.710000    4.000000  1680.000000   \n",
       "\n",
       "       Customer_Segment  \n",
       "count        178.000000  \n",
       "mean           1.938202  \n",
       "std            0.775035  \n",
       "min            1.000000  \n",
       "25%            1.000000  \n",
       "50%            2.000000  \n",
       "75%            3.000000  \n",
       "max            3.000000  "
      ],
      "text/html": "<div>\n<style scoped>\n    .dataframe tbody tr th:only-of-type {\n        vertical-align: middle;\n    }\n\n    .dataframe tbody tr th {\n        vertical-align: top;\n    }\n\n    .dataframe thead th {\n        text-align: right;\n    }\n</style>\n<table border=\"1\" class=\"dataframe\">\n  <thead>\n    <tr style=\"text-align: right;\">\n      <th></th>\n      <th>Alcool</th>\n      <th>Malic_Acid</th>\n      <th>Po</th>\n      <th>Alcalinidade_po</th>\n      <th>Magnesio</th>\n      <th>Total_Phenols</th>\n      <th>Flavanoids</th>\n      <th>Nonflavanoid_Phenols</th>\n      <th>Proanthocyanins</th>\n      <th>Intensidade_de_cor</th>\n      <th>Hue</th>\n      <th>OD280</th>\n      <th>Proline</th>\n      <th>Customer_Segment</th>\n    </tr>\n  </thead>\n  <tbody>\n    <tr>\n      <th>count</th>\n      <td>178.000000</td>\n      <td>178.000000</td>\n      <td>178.000000</td>\n      <td>178.000000</td>\n      <td>178.000000</td>\n      <td>178.000000</td>\n      <td>178.000000</td>\n      <td>178.000000</td>\n      <td>178.000000</td>\n      <td>178.000000</td>\n      <td>178.000000</td>\n      <td>178.000000</td>\n      <td>178.000000</td>\n      <td>178.000000</td>\n    </tr>\n    <tr>\n      <th>mean</th>\n      <td>13.000618</td>\n      <td>2.336348</td>\n      <td>2.366517</td>\n      <td>19.494944</td>\n      <td>99.741573</td>\n      <td>2.295112</td>\n      <td>2.029270</td>\n      <td>0.361854</td>\n      <td>1.590899</td>\n      <td>5.058090</td>\n      <td>0.957449</td>\n      <td>2.611685</td>\n      <td>746.893258</td>\n      <td>1.938202</td>\n    </tr>\n    <tr>\n      <th>std</th>\n      <td>0.811827</td>\n      <td>1.117146</td>\n      <td>0.274344</td>\n      <td>3.339564</td>\n      <td>14.282484</td>\n      <td>0.625851</td>\n      <td>0.998859</td>\n      <td>0.124453</td>\n      <td>0.572359</td>\n      <td>2.318286</td>\n      <td>0.228572</td>\n      <td>0.709990</td>\n      <td>314.907474</td>\n      <td>0.775035</td>\n    </tr>\n    <tr>\n      <th>min</th>\n      <td>11.030000</td>\n      <td>0.740000</td>\n      <td>1.360000</td>\n      <td>10.600000</td>\n      <td>70.000000</td>\n      <td>0.980000</td>\n      <td>0.340000</td>\n      <td>0.130000</td>\n      <td>0.410000</td>\n      <td>1.280000</td>\n      <td>0.480000</td>\n      <td>1.270000</td>\n      <td>278.000000</td>\n      <td>1.000000</td>\n    </tr>\n    <tr>\n      <th>25%</th>\n      <td>12.362500</td>\n      <td>1.602500</td>\n      <td>2.210000</td>\n      <td>17.200000</td>\n      <td>88.000000</td>\n      <td>1.742500</td>\n      <td>1.205000</td>\n      <td>0.270000</td>\n      <td>1.250000</td>\n      <td>3.220000</td>\n      <td>0.782500</td>\n      <td>1.937500</td>\n      <td>500.500000</td>\n      <td>1.000000</td>\n    </tr>\n    <tr>\n      <th>50%</th>\n      <td>13.050000</td>\n      <td>1.865000</td>\n      <td>2.360000</td>\n      <td>19.500000</td>\n      <td>98.000000</td>\n      <td>2.355000</td>\n      <td>2.135000</td>\n      <td>0.340000</td>\n      <td>1.555000</td>\n      <td>4.690000</td>\n      <td>0.965000</td>\n      <td>2.780000</td>\n      <td>673.500000</td>\n      <td>2.000000</td>\n    </tr>\n    <tr>\n      <th>75%</th>\n      <td>13.677500</td>\n      <td>3.082500</td>\n      <td>2.557500</td>\n      <td>21.500000</td>\n      <td>107.000000</td>\n      <td>2.800000</td>\n      <td>2.875000</td>\n      <td>0.437500</td>\n      <td>1.950000</td>\n      <td>6.200000</td>\n      <td>1.120000</td>\n      <td>3.170000</td>\n      <td>985.000000</td>\n      <td>3.000000</td>\n    </tr>\n    <tr>\n      <th>max</th>\n      <td>14.830000</td>\n      <td>5.800000</td>\n      <td>3.230000</td>\n      <td>30.000000</td>\n      <td>162.000000</td>\n      <td>3.880000</td>\n      <td>5.080000</td>\n      <td>0.660000</td>\n      <td>3.580000</td>\n      <td>13.000000</td>\n      <td>1.710000</td>\n      <td>4.000000</td>\n      <td>1680.000000</td>\n      <td>3.000000</td>\n    </tr>\n  </tbody>\n</table>\n</div>"
     },
     "metadata": {},
     "execution_count": 4
    }
   ],
   "source": [
    "df.describe()"
   ]
  },
  {
   "cell_type": "code",
   "execution_count": 5,
   "metadata": {},
   "outputs": [
    {
     "output_type": "execute_result",
     "data": {
      "text/plain": [
       "<AxesSubplot:>"
      ]
     },
     "metadata": {},
     "execution_count": 5
    },
    {
     "output_type": "display_data",
     "data": {
      "text/plain": "<Figure size 720x720 with 2 Axes>",
      "image/svg+xml": "<?xml version=\"1.0\" encoding=\"utf-8\" standalone=\"no\"?>\r\n<!DOCTYPE svg PUBLIC \"-//W3C//DTD SVG 1.1//EN\"\r\n  \"http://www.w3.org/Graphics/SVG/1.1/DTD/svg11.dtd\">\r\n<!-- Created with matplotlib (https://matplotlib.org/) -->\r\n<svg height=\"678.757031pt\" version=\"1.1\" viewBox=\"0 0 670.483125 678.757031\" width=\"670.483125pt\" xmlns=\"http://www.w3.org/2000/svg\" xmlns:xlink=\"http://www.w3.org/1999/xlink\">\r\n <metadata>\r\n  <rdf:RDF xmlns:cc=\"http://creativecommons.org/ns#\" xmlns:dc=\"http://purl.org/dc/elements/1.1/\" xmlns:rdf=\"http://www.w3.org/1999/02/22-rdf-syntax-ns#\">\r\n   <cc:Work>\r\n    <dc:type rdf:resource=\"http://purl.org/dc/dcmitype/StillImage\"/>\r\n    <dc:date>2021-02-09T14:09:56.085330</dc:date>\r\n    <dc:format>image/svg+xml</dc:format>\r\n    <dc:creator>\r\n     <cc:Agent>\r\n      <dc:title>Matplotlib v3.3.1, https://matplotlib.org/</dc:title>\r\n     </cc:Agent>\r\n    </dc:creator>\r\n   </cc:Work>\r\n  </rdf:RDF>\r\n </metadata>\r\n <defs>\r\n  <style type=\"text/css\">*{stroke-linecap:butt;stroke-linejoin:round;}</style>\r\n </defs>\r\n <g id=\"figure_1\">\r\n  <g id=\"patch_1\">\r\n   <path d=\"M 0 678.757031 \r\nL 670.483125 678.757031 \r\nL 670.483125 0 \r\nL 0 0 \r\nz\r\n\" style=\"fill:none;\"/>\r\n  </g>\r\n  <g id=\"axes_1\">\r\n   <g id=\"patch_2\">\r\n    <path d=\"M 124.157813 554.599219 \r\nL 570.557813 554.599219 \r\nL 570.557813 10.999219 \r\nL 124.157813 10.999219 \r\nz\r\n\" style=\"fill:#ffffff;\"/>\r\n   </g>\r\n   <g id=\"QuadMesh_1\">\r\n    <path clip-path=\"url(#p8ad2712132)\" d=\"M 124.157813 10.999219 \r\nL 156.043527 10.999219 \r\nL 156.043527 49.82779 \r\nL 124.157813 49.82779 \r\nL 124.157813 10.999219 \r\n\" style=\"fill:#faebdd;\"/>\r\n    <path clip-path=\"url(#p8ad2712132)\" d=\"M 156.043527 10.999219 \r\nL 187.929241 10.999219 \r\nL 187.929241 49.82779 \r\nL 156.043527 49.82779 \r\nL 156.043527 10.999219 \r\n\" style=\"fill:#ce1d4e;\"/>\r\n    <path clip-path=\"url(#p8ad2712132)\" d=\"M 187.929241 10.999219 \r\nL 219.814955 10.999219 \r\nL 219.814955 49.82779 \r\nL 187.929241 49.82779 \r\nL 187.929241 10.999219 \r\n\" style=\"fill:#e13342;\"/>\r\n    <path clip-path=\"url(#p8ad2712132)\" d=\"M 219.814955 10.999219 \r\nL 251.70067 10.999219 \r\nL 251.70067 49.82779 \r\nL 219.814955 49.82779 \r\nL 219.814955 10.999219 \r\n\" style=\"fill:#711f57;\"/>\r\n    <path clip-path=\"url(#p8ad2712132)\" d=\"M 251.70067 10.999219 \r\nL 283.586384 10.999219 \r\nL 283.586384 49.82779 \r\nL 251.70067 49.82779 \r\nL 251.70067 10.999219 \r\n\" style=\"fill:#e8403e;\"/>\r\n    <path clip-path=\"url(#p8ad2712132)\" d=\"M 283.586384 10.999219 \r\nL 315.472098 10.999219 \r\nL 315.472098 49.82779 \r\nL 283.586384 49.82779 \r\nL 283.586384 10.999219 \r\n\" style=\"fill:#eb463e;\"/>\r\n    <path clip-path=\"url(#p8ad2712132)\" d=\"M 315.472098 10.999219 \r\nL 347.357813 10.999219 \r\nL 347.357813 49.82779 \r\nL 315.472098 49.82779 \r\nL 315.472098 10.999219 \r\n\" style=\"fill:#e53940;\"/>\r\n    <path clip-path=\"url(#p8ad2712132)\" d=\"M 347.357813 10.999219 \r\nL 379.243527 10.999219 \r\nL 379.243527 49.82779 \r\nL 347.357813 49.82779 \r\nL 347.357813 10.999219 \r\n\" style=\"fill:#951c5b;\"/>\r\n    <path clip-path=\"url(#p8ad2712132)\" d=\"M 379.243527 10.999219 \r\nL 411.129241 10.999219 \r\nL 411.129241 49.82779 \r\nL 379.243527 49.82779 \r\nL 379.243527 10.999219 \r\n\" style=\"fill:#d62449;\"/>\r\n    <path clip-path=\"url(#p8ad2712132)\" d=\"M 411.129241 10.999219 \r\nL 443.014955 10.999219 \r\nL 443.014955 49.82779 \r\nL 411.129241 49.82779 \r\nL 411.129241 10.999219 \r\n\" style=\"fill:#f58a61;\"/>\r\n    <path clip-path=\"url(#p8ad2712132)\" d=\"M 443.014955 10.999219 \r\nL 474.90067 10.999219 \r\nL 474.90067 49.82779 \r\nL 443.014955 49.82779 \r\nL 443.014955 10.999219 \r\n\" style=\"fill:#aa185a;\"/>\r\n    <path clip-path=\"url(#p8ad2712132)\" d=\"M 474.90067 10.999219 \r\nL 506.786384 10.999219 \r\nL 506.786384 49.82779 \r\nL 474.90067 49.82779 \r\nL 474.90067 10.999219 \r\n\" style=\"fill:#ca1a50;\"/>\r\n    <path clip-path=\"url(#p8ad2712132)\" d=\"M 506.786384 10.999219 \r\nL 538.672098 10.999219 \r\nL 538.672098 49.82779 \r\nL 506.786384 49.82779 \r\nL 506.786384 10.999219 \r\n\" style=\"fill:#f6a077;\"/>\r\n    <path clip-path=\"url(#p8ad2712132)\" d=\"M 538.672098 10.999219 \r\nL 570.557813 10.999219 \r\nL 570.557813 49.82779 \r\nL 538.672098 49.82779 \r\nL 538.672098 10.999219 \r\n\" style=\"fill:#6d1f56;\"/>\r\n    <path clip-path=\"url(#p8ad2712132)\" d=\"M 124.157813 49.82779 \r\nL 156.043527 49.82779 \r\nL 156.043527 88.656362 \r\nL 124.157813 88.656362 \r\nL 124.157813 49.82779 \r\n\" style=\"fill:#ce1d4e;\"/>\r\n    <path clip-path=\"url(#p8ad2712132)\" d=\"M 156.043527 49.82779 \r\nL 187.929241 49.82779 \r\nL 187.929241 88.656362 \r\nL 156.043527 88.656362 \r\nL 156.043527 49.82779 \r\n\" style=\"fill:#faebdd;\"/>\r\n    <path clip-path=\"url(#p8ad2712132)\" d=\"M 187.929241 49.82779 \r\nL 219.814955 49.82779 \r\nL 219.814955 88.656362 \r\nL 187.929241 88.656362 \r\nL 187.929241 49.82779 \r\n\" style=\"fill:#db2946;\"/>\r\n    <path clip-path=\"url(#p8ad2712132)\" d=\"M 219.814955 49.82779 \r\nL 251.70067 49.82779 \r\nL 251.70067 88.656362 \r\nL 219.814955 88.656362 \r\nL 219.814955 49.82779 \r\n\" style=\"fill:#eb463e;\"/>\r\n    <path clip-path=\"url(#p8ad2712132)\" d=\"M 251.70067 49.82779 \r\nL 283.586384 49.82779 \r\nL 283.586384 88.656362 \r\nL 251.70067 88.656362 \r\nL 251.70067 49.82779 \r\n\" style=\"fill:#ad1759;\"/>\r\n    <path clip-path=\"url(#p8ad2712132)\" d=\"M 283.586384 49.82779 \r\nL 315.472098 49.82779 \r\nL 315.472098 88.656362 \r\nL 283.586384 88.656362 \r\nL 283.586384 49.82779 \r\n\" style=\"fill:#6b1f56;\"/>\r\n    <path clip-path=\"url(#p8ad2712132)\" d=\"M 315.472098 49.82779 \r\nL 347.357813 49.82779 \r\nL 347.357813 88.656362 \r\nL 315.472098 88.656362 \r\nL 315.472098 49.82779 \r\n\" style=\"fill:#5b1e51;\"/>\r\n    <path clip-path=\"url(#p8ad2712132)\" d=\"M 347.357813 49.82779 \r\nL 379.243527 49.82779 \r\nL 379.243527 88.656362 \r\nL 347.357813 88.656362 \r\nL 347.357813 49.82779 \r\n\" style=\"fill:#eb483e;\"/>\r\n    <path clip-path=\"url(#p8ad2712132)\" d=\"M 379.243527 49.82779 \r\nL 411.129241 49.82779 \r\nL 411.129241 88.656362 \r\nL 379.243527 88.656362 \r\nL 379.243527 49.82779 \r\n\" style=\"fill:#861e5b;\"/>\r\n    <path clip-path=\"url(#p8ad2712132)\" d=\"M 411.129241 49.82779 \r\nL 443.014955 49.82779 \r\nL 443.014955 88.656362 \r\nL 411.129241 88.656362 \r\nL 411.129241 49.82779 \r\n\" style=\"fill:#e63b40;\"/>\r\n    <path clip-path=\"url(#p8ad2712132)\" d=\"M 443.014955 49.82779 \r\nL 474.90067 49.82779 \r\nL 474.90067 88.656362 \r\nL 443.014955 88.656362 \r\nL 443.014955 49.82779 \r\n\" style=\"fill:#3a1a41;\"/>\r\n    <path clip-path=\"url(#p8ad2712132)\" d=\"M 474.90067 49.82779 \r\nL 506.786384 49.82779 \r\nL 506.786384 88.656362 \r\nL 474.90067 88.656362 \r\nL 474.90067 49.82779 \r\n\" style=\"fill:#641f54;\"/>\r\n    <path clip-path=\"url(#p8ad2712132)\" d=\"M 506.786384 49.82779 \r\nL 538.672098 49.82779 \r\nL 538.672098 88.656362 \r\nL 506.786384 88.656362 \r\nL 506.786384 49.82779 \r\n\" style=\"fill:#8c1d5b;\"/>\r\n    <path clip-path=\"url(#p8ad2712132)\" d=\"M 538.672098 49.82779 \r\nL 570.557813 49.82779 \r\nL 570.557813 88.656362 \r\nL 538.672098 88.656362 \r\nL 538.672098 49.82779 \r\n\" style=\"fill:#f26f4c;\"/>\r\n    <path clip-path=\"url(#p8ad2712132)\" d=\"M 124.157813 88.656362 \r\nL 156.043527 88.656362 \r\nL 156.043527 127.484933 \r\nL 124.157813 127.484933 \r\nL 124.157813 88.656362 \r\n\" style=\"fill:#e13342;\"/>\r\n    <path clip-path=\"url(#p8ad2712132)\" d=\"M 156.043527 88.656362 \r\nL 187.929241 88.656362 \r\nL 187.929241 127.484933 \r\nL 156.043527 127.484933 \r\nL 156.043527 88.656362 \r\n\" style=\"fill:#db2946;\"/>\r\n    <path clip-path=\"url(#p8ad2712132)\" d=\"M 187.929241 88.656362 \r\nL 219.814955 88.656362 \r\nL 219.814955 127.484933 \r\nL 187.929241 127.484933 \r\nL 187.929241 88.656362 \r\n\" style=\"fill:#faebdd;\"/>\r\n    <path clip-path=\"url(#p8ad2712132)\" d=\"M 219.814955 88.656362 \r\nL 251.70067 88.656362 \r\nL 251.70067 127.484933 \r\nL 219.814955 127.484933 \r\nL 219.814955 88.656362 \r\n\" style=\"fill:#f26f4c;\"/>\r\n    <path clip-path=\"url(#p8ad2712132)\" d=\"M 251.70067 88.656362 \r\nL 283.586384 88.656362 \r\nL 283.586384 127.484933 \r\nL 251.70067 127.484933 \r\nL 251.70067 88.656362 \r\n\" style=\"fill:#eb463e;\"/>\r\n    <path clip-path=\"url(#p8ad2712132)\" d=\"M 283.586384 88.656362 \r\nL 315.472098 88.656362 \r\nL 315.472098 127.484933 \r\nL 283.586384 127.484933 \r\nL 283.586384 88.656362 \r\n\" style=\"fill:#d5224a;\"/>\r\n    <path clip-path=\"url(#p8ad2712132)\" d=\"M 315.472098 88.656362 \r\nL 347.357813 88.656362 \r\nL 347.357813 127.484933 \r\nL 315.472098 127.484933 \r\nL 315.472098 88.656362 \r\n\" style=\"fill:#d2204c;\"/>\r\n    <path clip-path=\"url(#p8ad2712132)\" d=\"M 347.357813 88.656362 \r\nL 379.243527 88.656362 \r\nL 379.243527 127.484933 \r\nL 347.357813 127.484933 \r\nL 347.357813 88.656362 \r\n\" style=\"fill:#de2e44;\"/>\r\n    <path clip-path=\"url(#p8ad2712132)\" d=\"M 379.243527 88.656362 \r\nL 411.129241 88.656362 \r\nL 411.129241 127.484933 \r\nL 379.243527 127.484933 \r\nL 379.243527 88.656362 \r\n\" style=\"fill:#bc1656;\"/>\r\n    <path clip-path=\"url(#p8ad2712132)\" d=\"M 411.129241 88.656362 \r\nL 443.014955 88.656362 \r\nL 443.014955 127.484933 \r\nL 411.129241 127.484933 \r\nL 411.129241 88.656362 \r\n\" style=\"fill:#e83f3f;\"/>\r\n    <path clip-path=\"url(#p8ad2712132)\" d=\"M 443.014955 88.656362 \r\nL 474.90067 88.656362 \r\nL 474.90067 127.484933 \r\nL 443.014955 127.484933 \r\nL 443.014955 88.656362 \r\n\" style=\"fill:#aa185a;\"/>\r\n    <path clip-path=\"url(#p8ad2712132)\" d=\"M 474.90067 88.656362 \r\nL 506.786384 88.656362 \r\nL 506.786384 127.484933 \r\nL 474.90067 127.484933 \r\nL 474.90067 88.656362 \r\n\" style=\"fill:#ba1656;\"/>\r\n    <path clip-path=\"url(#p8ad2712132)\" d=\"M 506.786384 88.656362 \r\nL 538.672098 88.656362 \r\nL 538.672098 127.484933 \r\nL 506.786384 127.484933 \r\nL 506.786384 88.656362 \r\n\" style=\"fill:#e33641;\"/>\r\n    <path clip-path=\"url(#p8ad2712132)\" d=\"M 538.672098 88.656362 \r\nL 570.557813 88.656362 \r\nL 570.557813 127.484933 \r\nL 538.672098 127.484933 \r\nL 538.672098 88.656362 \r\n\" style=\"fill:#af1759;\"/>\r\n    <path clip-path=\"url(#p8ad2712132)\" d=\"M 124.157813 127.484933 \r\nL 156.043527 127.484933 \r\nL 156.043527 166.313504 \r\nL 124.157813 166.313504 \r\nL 124.157813 127.484933 \r\n\" style=\"fill:#711f57;\"/>\r\n    <path clip-path=\"url(#p8ad2712132)\" d=\"M 156.043527 127.484933 \r\nL 187.929241 127.484933 \r\nL 187.929241 166.313504 \r\nL 156.043527 166.313504 \r\nL 156.043527 127.484933 \r\n\" style=\"fill:#eb463e;\"/>\r\n    <path clip-path=\"url(#p8ad2712132)\" d=\"M 187.929241 127.484933 \r\nL 219.814955 127.484933 \r\nL 219.814955 166.313504 \r\nL 187.929241 166.313504 \r\nL 187.929241 127.484933 \r\n\" style=\"fill:#f26f4c;\"/>\r\n    <path clip-path=\"url(#p8ad2712132)\" d=\"M 219.814955 127.484933 \r\nL 251.70067 127.484933 \r\nL 251.70067 166.313504 \r\nL 219.814955 166.313504 \r\nL 219.814955 127.484933 \r\n\" style=\"fill:#faebdd;\"/>\r\n    <path clip-path=\"url(#p8ad2712132)\" d=\"M 251.70067 127.484933 \r\nL 283.586384 127.484933 \r\nL 283.586384 166.313504 \r\nL 251.70067 166.313504 \r\nL 251.70067 127.484933 \r\n\" style=\"fill:#a6195a;\"/>\r\n    <path clip-path=\"url(#p8ad2712132)\" d=\"M 283.586384 127.484933 \r\nL 315.472098 127.484933 \r\nL 315.472098 166.313504 \r\nL 283.586384 166.313504 \r\nL 283.586384 127.484933 \r\n\" style=\"fill:#6e1f57;\"/>\r\n    <path clip-path=\"url(#p8ad2712132)\" d=\"M 315.472098 127.484933 \r\nL 347.357813 127.484933 \r\nL 347.357813 166.313504 \r\nL 315.472098 166.313504 \r\nL 315.472098 127.484933 \r\n\" style=\"fill:#681f55;\"/>\r\n    <path clip-path=\"url(#p8ad2712132)\" d=\"M 347.357813 127.484933 \r\nL 379.243527 127.484933 \r\nL 379.243527 166.313504 \r\nL 347.357813 166.313504 \r\nL 347.357813 127.484933 \r\n\" style=\"fill:#ef5a41;\"/>\r\n    <path clip-path=\"url(#p8ad2712132)\" d=\"M 379.243527 127.484933 \r\nL 411.129241 127.484933 \r\nL 411.129241 166.313504 \r\nL 379.243527 166.313504 \r\nL 379.243527 127.484933 \r\n\" style=\"fill:#8c1d5b;\"/>\r\n    <path clip-path=\"url(#p8ad2712132)\" d=\"M 411.129241 127.484933 \r\nL 443.014955 127.484933 \r\nL 443.014955 166.313504 \r\nL 411.129241 166.313504 \r\nL 411.129241 127.484933 \r\n\" style=\"fill:#bf1654;\"/>\r\n    <path clip-path=\"url(#p8ad2712132)\" d=\"M 443.014955 127.484933 \r\nL 474.90067 127.484933 \r\nL 474.90067 166.313504 \r\nL 443.014955 166.313504 \r\nL 443.014955 127.484933 \r\n\" style=\"fill:#7a1f59;\"/>\r\n    <path clip-path=\"url(#p8ad2712132)\" d=\"M 474.90067 127.484933 \r\nL 506.786384 127.484933 \r\nL 506.786384 166.313504 \r\nL 474.90067 166.313504 \r\nL 474.90067 127.484933 \r\n\" style=\"fill:#7a1f59;\"/>\r\n    <path clip-path=\"url(#p8ad2712132)\" d=\"M 506.786384 127.484933 \r\nL 538.672098 127.484933 \r\nL 538.672098 166.313504 \r\nL 506.786384 166.313504 \r\nL 506.786384 127.484933 \r\n\" style=\"fill:#541e4e;\"/>\r\n    <path clip-path=\"url(#p8ad2712132)\" d=\"M 538.672098 127.484933 \r\nL 570.557813 127.484933 \r\nL 570.557813 166.313504 \r\nL 538.672098 166.313504 \r\nL 538.672098 127.484933 \r\n\" style=\"fill:#f4835b;\"/>\r\n    <path clip-path=\"url(#p8ad2712132)\" d=\"M 124.157813 166.313504 \r\nL 156.043527 166.313504 \r\nL 156.043527 205.142076 \r\nL 124.157813 205.142076 \r\nL 124.157813 166.313504 \r\n\" style=\"fill:#e8403e;\"/>\r\n    <path clip-path=\"url(#p8ad2712132)\" d=\"M 156.043527 166.313504 \r\nL 187.929241 166.313504 \r\nL 187.929241 205.142076 \r\nL 156.043527 205.142076 \r\nL 156.043527 166.313504 \r\n\" style=\"fill:#ad1759;\"/>\r\n    <path clip-path=\"url(#p8ad2712132)\" d=\"M 187.929241 166.313504 \r\nL 219.814955 166.313504 \r\nL 219.814955 205.142076 \r\nL 187.929241 205.142076 \r\nL 187.929241 166.313504 \r\n\" style=\"fill:#eb463e;\"/>\r\n    <path clip-path=\"url(#p8ad2712132)\" d=\"M 219.814955 166.313504 \r\nL 251.70067 166.313504 \r\nL 251.70067 205.142076 \r\nL 219.814955 205.142076 \r\nL 219.814955 166.313504 \r\n\" style=\"fill:#a6195a;\"/>\r\n    <path clip-path=\"url(#p8ad2712132)\" d=\"M 251.70067 166.313504 \r\nL 283.586384 166.313504 \r\nL 283.586384 205.142076 \r\nL 251.70067 205.142076 \r\nL 251.70067 166.313504 \r\n\" style=\"fill:#faebdd;\"/>\r\n    <path clip-path=\"url(#p8ad2712132)\" d=\"M 283.586384 166.313504 \r\nL 315.472098 166.313504 \r\nL 315.472098 205.142076 \r\nL 283.586384 205.142076 \r\nL 283.586384 166.313504 \r\n\" style=\"fill:#e23442;\"/>\r\n    <path clip-path=\"url(#p8ad2712132)\" d=\"M 315.472098 166.313504 \r\nL 347.357813 166.313504 \r\nL 347.357813 205.142076 \r\nL 315.472098 205.142076 \r\nL 315.472098 166.313504 \r\n\" style=\"fill:#df2f44;\"/>\r\n    <path clip-path=\"url(#p8ad2712132)\" d=\"M 347.357813 166.313504 \r\nL 379.243527 166.313504 \r\nL 379.243527 205.142076 \r\nL 347.357813 205.142076 \r\nL 347.357813 166.313504 \r\n\" style=\"fill:#7d1f5a;\"/>\r\n    <path clip-path=\"url(#p8ad2712132)\" d=\"M 379.243527 166.313504 \r\nL 411.129241 166.313504 \r\nL 411.129241 205.142076 \r\nL 379.243527 205.142076 \r\nL 379.243527 166.313504 \r\n\" style=\"fill:#e53940;\"/>\r\n    <path clip-path=\"url(#p8ad2712132)\" d=\"M 411.129241 166.313504 \r\nL 443.014955 166.313504 \r\nL 443.014955 205.142076 \r\nL 411.129241 205.142076 \r\nL 411.129241 166.313504 \r\n\" style=\"fill:#e03143;\"/>\r\n    <path clip-path=\"url(#p8ad2712132)\" d=\"M 443.014955 166.313504 \r\nL 474.90067 166.313504 \r\nL 474.90067 205.142076 \r\nL 443.014955 205.142076 \r\nL 443.014955 166.313504 \r\n\" style=\"fill:#c71951;\"/>\r\n    <path clip-path=\"url(#p8ad2712132)\" d=\"M 474.90067 166.313504 \r\nL 506.786384 166.313504 \r\nL 506.786384 205.142076 \r\nL 474.90067 205.142076 \r\nL 474.90067 166.313504 \r\n\" style=\"fill:#c81951;\"/>\r\n    <path clip-path=\"url(#p8ad2712132)\" d=\"M 506.786384 166.313504 \r\nL 538.672098 166.313504 \r\nL 538.672098 205.142076 \r\nL 506.786384 205.142076 \r\nL 506.786384 166.313504 \r\n\" style=\"fill:#f16244;\"/>\r\n    <path clip-path=\"url(#p8ad2712132)\" d=\"M 538.672098 166.313504 \r\nL 570.557813 166.313504 \r\nL 570.557813 205.142076 \r\nL 538.672098 205.142076 \r\nL 538.672098 166.313504 \r\n\" style=\"fill:#891e5b;\"/>\r\n    <path clip-path=\"url(#p8ad2712132)\" d=\"M 124.157813 205.142076 \r\nL 156.043527 205.142076 \r\nL 156.043527 243.970647 \r\nL 124.157813 243.970647 \r\nL 124.157813 205.142076 \r\n\" style=\"fill:#eb463e;\"/>\r\n    <path clip-path=\"url(#p8ad2712132)\" d=\"M 156.043527 205.142076 \r\nL 187.929241 205.142076 \r\nL 187.929241 243.970647 \r\nL 156.043527 243.970647 \r\nL 156.043527 205.142076 \r\n\" style=\"fill:#6b1f56;\"/>\r\n    <path clip-path=\"url(#p8ad2712132)\" d=\"M 187.929241 205.142076 \r\nL 219.814955 205.142076 \r\nL 219.814955 243.970647 \r\nL 187.929241 243.970647 \r\nL 187.929241 205.142076 \r\n\" style=\"fill:#d5224a;\"/>\r\n    <path clip-path=\"url(#p8ad2712132)\" d=\"M 219.814955 205.142076 \r\nL 251.70067 205.142076 \r\nL 251.70067 243.970647 \r\nL 219.814955 243.970647 \r\nL 219.814955 205.142076 \r\n\" style=\"fill:#6e1f57;\"/>\r\n    <path clip-path=\"url(#p8ad2712132)\" d=\"M 251.70067 205.142076 \r\nL 283.586384 205.142076 \r\nL 283.586384 243.970647 \r\nL 251.70067 243.970647 \r\nL 251.70067 205.142076 \r\n\" style=\"fill:#e23442;\"/>\r\n    <path clip-path=\"url(#p8ad2712132)\" d=\"M 283.586384 205.142076 \r\nL 315.472098 205.142076 \r\nL 315.472098 243.970647 \r\nL 283.586384 243.970647 \r\nL 283.586384 205.142076 \r\n\" style=\"fill:#faebdd;\"/>\r\n    <path clip-path=\"url(#p8ad2712132)\" d=\"M 315.472098 205.142076 \r\nL 347.357813 205.142076 \r\nL 347.357813 243.970647 \r\nL 315.472098 243.970647 \r\nL 315.472098 205.142076 \r\n\" style=\"fill:#f7d0b5;\"/>\r\n    <path clip-path=\"url(#p8ad2712132)\" d=\"M 347.357813 205.142076 \r\nL 379.243527 205.142076 \r\nL 379.243527 243.970647 \r\nL 347.357813 243.970647 \r\nL 347.357813 205.142076 \r\n\" style=\"fill:#531e4d;\"/>\r\n    <path clip-path=\"url(#p8ad2712132)\" d=\"M 379.243527 205.142076 \r\nL 411.129241 205.142076 \r\nL 411.129241 243.970647 \r\nL 379.243527 243.970647 \r\nL 379.243527 205.142076 \r\n\" style=\"fill:#f59970;\"/>\r\n    <path clip-path=\"url(#p8ad2712132)\" d=\"M 411.129241 205.142076 \r\nL 443.014955 205.142076 \r\nL 443.014955 243.970647 \r\nL 411.129241 243.970647 \r\nL 411.129241 205.142076 \r\n\" style=\"fill:#ad1759;\"/>\r\n    <path clip-path=\"url(#p8ad2712132)\" d=\"M 443.014955 205.142076 \r\nL 474.90067 205.142076 \r\nL 474.90067 243.970647 \r\nL 443.014955 243.970647 \r\nL 443.014955 205.142076 \r\n\" style=\"fill:#f26d4b;\"/>\r\n    <path clip-path=\"url(#p8ad2712132)\" d=\"M 474.90067 205.142076 \r\nL 506.786384 205.142076 \r\nL 506.786384 243.970647 \r\nL 474.90067 243.970647 \r\nL 474.90067 205.142076 \r\n\" style=\"fill:#f6ad85;\"/>\r\n    <path clip-path=\"url(#p8ad2712132)\" d=\"M 506.786384 205.142076 \r\nL 538.672098 205.142076 \r\nL 538.672098 243.970647 \r\nL 506.786384 243.970647 \r\nL 506.786384 205.142076 \r\n\" style=\"fill:#f47d57;\"/>\r\n    <path clip-path=\"url(#p8ad2712132)\" d=\"M 538.672098 205.142076 \r\nL 570.557813 205.142076 \r\nL 570.557813 243.970647 \r\nL 538.672098 243.970647 \r\nL 538.672098 205.142076 \r\n\" style=\"fill:#1a102a;\"/>\r\n    <path clip-path=\"url(#p8ad2712132)\" d=\"M 124.157813 243.970647 \r\nL 156.043527 243.970647 \r\nL 156.043527 282.799219 \r\nL 124.157813 282.799219 \r\nL 124.157813 243.970647 \r\n\" style=\"fill:#e53940;\"/>\r\n    <path clip-path=\"url(#p8ad2712132)\" d=\"M 156.043527 243.970647 \r\nL 187.929241 243.970647 \r\nL 187.929241 282.799219 \r\nL 156.043527 282.799219 \r\nL 156.043527 243.970647 \r\n\" style=\"fill:#5b1e51;\"/>\r\n    <path clip-path=\"url(#p8ad2712132)\" d=\"M 187.929241 243.970647 \r\nL 219.814955 243.970647 \r\nL 219.814955 282.799219 \r\nL 187.929241 282.799219 \r\nL 187.929241 243.970647 \r\n\" style=\"fill:#d2204c;\"/>\r\n    <path clip-path=\"url(#p8ad2712132)\" d=\"M 219.814955 243.970647 \r\nL 251.70067 243.970647 \r\nL 251.70067 282.799219 \r\nL 219.814955 282.799219 \r\nL 219.814955 243.970647 \r\n\" style=\"fill:#681f55;\"/>\r\n    <path clip-path=\"url(#p8ad2712132)\" d=\"M 251.70067 243.970647 \r\nL 283.586384 243.970647 \r\nL 283.586384 282.799219 \r\nL 251.70067 282.799219 \r\nL 251.70067 243.970647 \r\n\" style=\"fill:#df2f44;\"/>\r\n    <path clip-path=\"url(#p8ad2712132)\" d=\"M 283.586384 243.970647 \r\nL 315.472098 243.970647 \r\nL 315.472098 282.799219 \r\nL 283.586384 282.799219 \r\nL 283.586384 243.970647 \r\n\" style=\"fill:#f7d0b5;\"/>\r\n    <path clip-path=\"url(#p8ad2712132)\" d=\"M 315.472098 243.970647 \r\nL 347.357813 243.970647 \r\nL 347.357813 282.799219 \r\nL 315.472098 282.799219 \r\nL 315.472098 243.970647 \r\n\" style=\"fill:#faebdd;\"/>\r\n    <path clip-path=\"url(#p8ad2712132)\" d=\"M 347.357813 243.970647 \r\nL 379.243527 243.970647 \r\nL 379.243527 282.799219 \r\nL 347.357813 282.799219 \r\nL 347.357813 243.970647 \r\n\" style=\"fill:#3f1b43;\"/>\r\n    <path clip-path=\"url(#p8ad2712132)\" d=\"M 379.243527 243.970647 \r\nL 411.129241 243.970647 \r\nL 411.129241 282.799219 \r\nL 379.243527 282.799219 \r\nL 379.243527 243.970647 \r\n\" style=\"fill:#f6a178;\"/>\r\n    <path clip-path=\"url(#p8ad2712132)\" d=\"M 411.129241 243.970647 \r\nL 443.014955 243.970647 \r\nL 443.014955 282.799219 \r\nL 411.129241 282.799219 \r\nL 411.129241 243.970647 \r\n\" style=\"fill:#921c5b;\"/>\r\n    <path clip-path=\"url(#p8ad2712132)\" d=\"M 443.014955 243.970647 \r\nL 474.90067 243.970647 \r\nL 474.90067 282.799219 \r\nL 443.014955 282.799219 \r\nL 443.014955 243.970647 \r\n\" style=\"fill:#f58860;\"/>\r\n    <path clip-path=\"url(#p8ad2712132)\" d=\"M 474.90067 243.970647 \r\nL 506.786384 243.970647 \r\nL 506.786384 282.799219 \r\nL 474.90067 282.799219 \r\nL 474.90067 243.970647 \r\n\" style=\"fill:#f6bf9d;\"/>\r\n    <path clip-path=\"url(#p8ad2712132)\" d=\"M 506.786384 243.970647 \r\nL 538.672098 243.970647 \r\nL 538.672098 282.799219 \r\nL 506.786384 282.799219 \r\nL 506.786384 243.970647 \r\n\" style=\"fill:#f47c55;\"/>\r\n    <path clip-path=\"url(#p8ad2712132)\" d=\"M 538.672098 243.970647 \r\nL 570.557813 243.970647 \r\nL 570.557813 282.799219 \r\nL 538.672098 282.799219 \r\nL 538.672098 243.970647 \r\n\" style=\"fill:#03051a;\"/>\r\n    <path clip-path=\"url(#p8ad2712132)\" d=\"M 124.157813 282.799219 \r\nL 156.043527 282.799219 \r\nL 156.043527 321.62779 \r\nL 124.157813 321.62779 \r\nL 124.157813 282.799219 \r\n\" style=\"fill:#951c5b;\"/>\r\n    <path clip-path=\"url(#p8ad2712132)\" d=\"M 156.043527 282.799219 \r\nL 187.929241 282.799219 \r\nL 187.929241 321.62779 \r\nL 156.043527 321.62779 \r\nL 156.043527 282.799219 \r\n\" style=\"fill:#eb483e;\"/>\r\n    <path clip-path=\"url(#p8ad2712132)\" d=\"M 187.929241 282.799219 \r\nL 219.814955 282.799219 \r\nL 219.814955 321.62779 \r\nL 187.929241 321.62779 \r\nL 187.929241 282.799219 \r\n\" style=\"fill:#de2e44;\"/>\r\n    <path clip-path=\"url(#p8ad2712132)\" d=\"M 219.814955 282.799219 \r\nL 251.70067 282.799219 \r\nL 251.70067 321.62779 \r\nL 219.814955 321.62779 \r\nL 219.814955 282.799219 \r\n\" style=\"fill:#ef5a41;\"/>\r\n    <path clip-path=\"url(#p8ad2712132)\" d=\"M 251.70067 282.799219 \r\nL 283.586384 282.799219 \r\nL 283.586384 321.62779 \r\nL 251.70067 321.62779 \r\nL 251.70067 282.799219 \r\n\" style=\"fill:#7d1f5a;\"/>\r\n    <path clip-path=\"url(#p8ad2712132)\" d=\"M 283.586384 282.799219 \r\nL 315.472098 282.799219 \r\nL 315.472098 321.62779 \r\nL 283.586384 321.62779 \r\nL 283.586384 282.799219 \r\n\" style=\"fill:#531e4d;\"/>\r\n    <path clip-path=\"url(#p8ad2712132)\" d=\"M 315.472098 282.799219 \r\nL 347.357813 282.799219 \r\nL 347.357813 321.62779 \r\nL 315.472098 321.62779 \r\nL 315.472098 282.799219 \r\n\" style=\"fill:#3f1b43;\"/>\r\n    <path clip-path=\"url(#p8ad2712132)\" d=\"M 347.357813 282.799219 \r\nL 379.243527 282.799219 \r\nL 379.243527 321.62779 \r\nL 347.357813 321.62779 \r\nL 347.357813 282.799219 \r\n\" style=\"fill:#faebdd;\"/>\r\n    <path clip-path=\"url(#p8ad2712132)\" d=\"M 379.243527 282.799219 \r\nL 411.129241 282.799219 \r\nL 411.129241 321.62779 \r\nL 379.243527 321.62779 \r\nL 379.243527 282.799219 \r\n\" style=\"fill:#641f54;\"/>\r\n    <path clip-path=\"url(#p8ad2712132)\" d=\"M 411.129241 282.799219 \r\nL 443.014955 282.799219 \r\nL 443.014955 321.62779 \r\nL 411.129241 321.62779 \r\nL 411.129241 282.799219 \r\n\" style=\"fill:#d62449;\"/>\r\n    <path clip-path=\"url(#p8ad2712132)\" d=\"M 443.014955 282.799219 \r\nL 474.90067 282.799219 \r\nL 474.90067 321.62779 \r\nL 443.014955 321.62779 \r\nL 443.014955 282.799219 \r\n\" style=\"fill:#7d1f5a;\"/>\r\n    <path clip-path=\"url(#p8ad2712132)\" d=\"M 474.90067 282.799219 \r\nL 506.786384 282.799219 \r\nL 506.786384 321.62779 \r\nL 474.90067 321.62779 \r\nL 474.90067 282.799219 \r\n\" style=\"fill:#461c48;\"/>\r\n    <path clip-path=\"url(#p8ad2712132)\" d=\"M 506.786384 282.799219 \r\nL 538.672098 282.799219 \r\nL 538.672098 321.62779 \r\nL 506.786384 321.62779 \r\nL 506.786384 282.799219 \r\n\" style=\"fill:#711f57;\"/>\r\n    <path clip-path=\"url(#p8ad2712132)\" d=\"M 538.672098 282.799219 \r\nL 570.557813 282.799219 \r\nL 570.557813 321.62779 \r\nL 538.672098 321.62779 \r\nL 538.672098 282.799219 \r\n\" style=\"fill:#f47c55;\"/>\r\n    <path clip-path=\"url(#p8ad2712132)\" d=\"M 124.157813 321.62779 \r\nL 156.043527 321.62779 \r\nL 156.043527 360.456362 \r\nL 124.157813 360.456362 \r\nL 124.157813 321.62779 \r\n\" style=\"fill:#d62449;\"/>\r\n    <path clip-path=\"url(#p8ad2712132)\" d=\"M 156.043527 321.62779 \r\nL 187.929241 321.62779 \r\nL 187.929241 360.456362 \r\nL 156.043527 360.456362 \r\nL 156.043527 321.62779 \r\n\" style=\"fill:#861e5b;\"/>\r\n    <path clip-path=\"url(#p8ad2712132)\" d=\"M 187.929241 321.62779 \r\nL 219.814955 321.62779 \r\nL 219.814955 360.456362 \r\nL 187.929241 360.456362 \r\nL 187.929241 321.62779 \r\n\" style=\"fill:#bc1656;\"/>\r\n    <path clip-path=\"url(#p8ad2712132)\" d=\"M 219.814955 321.62779 \r\nL 251.70067 321.62779 \r\nL 251.70067 360.456362 \r\nL 219.814955 360.456362 \r\nL 219.814955 321.62779 \r\n\" style=\"fill:#8c1d5b;\"/>\r\n    <path clip-path=\"url(#p8ad2712132)\" d=\"M 251.70067 321.62779 \r\nL 283.586384 321.62779 \r\nL 283.586384 360.456362 \r\nL 251.70067 360.456362 \r\nL 251.70067 321.62779 \r\n\" style=\"fill:#e53940;\"/>\r\n    <path clip-path=\"url(#p8ad2712132)\" d=\"M 283.586384 321.62779 \r\nL 315.472098 321.62779 \r\nL 315.472098 360.456362 \r\nL 283.586384 360.456362 \r\nL 283.586384 321.62779 \r\n\" style=\"fill:#f59970;\"/>\r\n    <path clip-path=\"url(#p8ad2712132)\" d=\"M 315.472098 321.62779 \r\nL 347.357813 321.62779 \r\nL 347.357813 360.456362 \r\nL 315.472098 360.456362 \r\nL 315.472098 321.62779 \r\n\" style=\"fill:#f6a178;\"/>\r\n    <path clip-path=\"url(#p8ad2712132)\" d=\"M 347.357813 321.62779 \r\nL 379.243527 321.62779 \r\nL 379.243527 360.456362 \r\nL 347.357813 360.456362 \r\nL 347.357813 321.62779 \r\n\" style=\"fill:#641f54;\"/>\r\n    <path clip-path=\"url(#p8ad2712132)\" d=\"M 379.243527 321.62779 \r\nL 411.129241 321.62779 \r\nL 411.129241 360.456362 \r\nL 379.243527 360.456362 \r\nL 379.243527 321.62779 \r\n\" style=\"fill:#faebdd;\"/>\r\n    <path clip-path=\"url(#p8ad2712132)\" d=\"M 411.129241 321.62779 \r\nL 443.014955 321.62779 \r\nL 443.014955 360.456362 \r\nL 411.129241 360.456362 \r\nL 411.129241 321.62779 \r\n\" style=\"fill:#b41658;\"/>\r\n    <path clip-path=\"url(#p8ad2712132)\" d=\"M 443.014955 321.62779 \r\nL 474.90067 321.62779 \r\nL 474.90067 360.456362 \r\nL 443.014955 360.456362 \r\nL 443.014955 321.62779 \r\n\" style=\"fill:#eb483e;\"/>\r\n    <path clip-path=\"url(#p8ad2712132)\" d=\"M 474.90067 321.62779 \r\nL 506.786384 321.62779 \r\nL 506.786384 360.456362 \r\nL 474.90067 360.456362 \r\nL 474.90067 321.62779 \r\n\" style=\"fill:#f4835b;\"/>\r\n    <path clip-path=\"url(#p8ad2712132)\" d=\"M 506.786384 321.62779 \r\nL 538.672098 321.62779 \r\nL 538.672098 360.456362 \r\nL 506.786384 360.456362 \r\nL 506.786384 321.62779 \r\n\" style=\"fill:#ee523f;\"/>\r\n    <path clip-path=\"url(#p8ad2712132)\" d=\"M 538.672098 321.62779 \r\nL 570.557813 321.62779 \r\nL 570.557813 360.456362 \r\nL 538.672098 360.456362 \r\nL 538.672098 321.62779 \r\n\" style=\"fill:#481c48;\"/>\r\n    <path clip-path=\"url(#p8ad2712132)\" d=\"M 124.157813 360.456362 \r\nL 156.043527 360.456362 \r\nL 156.043527 399.284933 \r\nL 124.157813 399.284933 \r\nL 124.157813 360.456362 \r\n\" style=\"fill:#f58a61;\"/>\r\n    <path clip-path=\"url(#p8ad2712132)\" d=\"M 156.043527 360.456362 \r\nL 187.929241 360.456362 \r\nL 187.929241 399.284933 \r\nL 156.043527 399.284933 \r\nL 156.043527 360.456362 \r\n\" style=\"fill:#e63b40;\"/>\r\n    <path clip-path=\"url(#p8ad2712132)\" d=\"M 187.929241 360.456362 \r\nL 219.814955 360.456362 \r\nL 219.814955 399.284933 \r\nL 187.929241 399.284933 \r\nL 187.929241 360.456362 \r\n\" style=\"fill:#e83f3f;\"/>\r\n    <path clip-path=\"url(#p8ad2712132)\" d=\"M 219.814955 360.456362 \r\nL 251.70067 360.456362 \r\nL 251.70067 399.284933 \r\nL 219.814955 399.284933 \r\nL 219.814955 360.456362 \r\n\" style=\"fill:#bf1654;\"/>\r\n    <path clip-path=\"url(#p8ad2712132)\" d=\"M 251.70067 360.456362 \r\nL 283.586384 360.456362 \r\nL 283.586384 399.284933 \r\nL 251.70067 399.284933 \r\nL 251.70067 360.456362 \r\n\" style=\"fill:#e03143;\"/>\r\n    <path clip-path=\"url(#p8ad2712132)\" d=\"M 283.586384 360.456362 \r\nL 315.472098 360.456362 \r\nL 315.472098 399.284933 \r\nL 283.586384 399.284933 \r\nL 283.586384 360.456362 \r\n\" style=\"fill:#ad1759;\"/>\r\n    <path clip-path=\"url(#p8ad2712132)\" d=\"M 315.472098 360.456362 \r\nL 347.357813 360.456362 \r\nL 347.357813 399.284933 \r\nL 315.472098 399.284933 \r\nL 315.472098 360.456362 \r\n\" style=\"fill:#921c5b;\"/>\r\n    <path clip-path=\"url(#p8ad2712132)\" d=\"M 347.357813 360.456362 \r\nL 379.243527 360.456362 \r\nL 379.243527 399.284933 \r\nL 347.357813 399.284933 \r\nL 347.357813 360.456362 \r\n\" style=\"fill:#d62449;\"/>\r\n    <path clip-path=\"url(#p8ad2712132)\" d=\"M 379.243527 360.456362 \r\nL 411.129241 360.456362 \r\nL 411.129241 399.284933 \r\nL 379.243527 399.284933 \r\nL 379.243527 360.456362 \r\n\" style=\"fill:#b41658;\"/>\r\n    <path clip-path=\"url(#p8ad2712132)\" d=\"M 411.129241 360.456362 \r\nL 443.014955 360.456362 \r\nL 443.014955 399.284933 \r\nL 411.129241 399.284933 \r\nL 411.129241 360.456362 \r\n\" style=\"fill:#faebdd;\"/>\r\n    <path clip-path=\"url(#p8ad2712132)\" d=\"M 443.014955 360.456362 \r\nL 474.90067 360.456362 \r\nL 474.90067 399.284933 \r\nL 443.014955 399.284933 \r\nL 443.014955 360.456362 \r\n\" style=\"fill:#431c46;\"/>\r\n    <path clip-path=\"url(#p8ad2712132)\" d=\"M 474.90067 360.456362 \r\nL 506.786384 360.456362 \r\nL 506.786384 399.284933 \r\nL 474.90067 399.284933 \r\nL 474.90067 360.456362 \r\n\" style=\"fill:#581e4f;\"/>\r\n    <path clip-path=\"url(#p8ad2712132)\" d=\"M 506.786384 360.456362 \r\nL 538.672098 360.456362 \r\nL 538.672098 399.284933 \r\nL 506.786384 399.284933 \r\nL 506.786384 360.456362 \r\n\" style=\"fill:#ed4e3e;\"/>\r\n    <path clip-path=\"url(#p8ad2712132)\" d=\"M 538.672098 360.456362 \r\nL 570.557813 360.456362 \r\nL 570.557813 399.284933 \r\nL 538.672098 399.284933 \r\nL 538.672098 360.456362 \r\n\" style=\"fill:#e8403e;\"/>\r\n    <path clip-path=\"url(#p8ad2712132)\" d=\"M 124.157813 399.284933 \r\nL 156.043527 399.284933 \r\nL 156.043527 438.113504 \r\nL 124.157813 438.113504 \r\nL 124.157813 399.284933 \r\n\" style=\"fill:#aa185a;\"/>\r\n    <path clip-path=\"url(#p8ad2712132)\" d=\"M 156.043527 399.284933 \r\nL 187.929241 399.284933 \r\nL 187.929241 438.113504 \r\nL 156.043527 438.113504 \r\nL 156.043527 399.284933 \r\n\" style=\"fill:#3a1a41;\"/>\r\n    <path clip-path=\"url(#p8ad2712132)\" d=\"M 187.929241 399.284933 \r\nL 219.814955 399.284933 \r\nL 219.814955 438.113504 \r\nL 187.929241 438.113504 \r\nL 187.929241 399.284933 \r\n\" style=\"fill:#aa185a;\"/>\r\n    <path clip-path=\"url(#p8ad2712132)\" d=\"M 219.814955 399.284933 \r\nL 251.70067 399.284933 \r\nL 251.70067 438.113504 \r\nL 219.814955 438.113504 \r\nL 219.814955 399.284933 \r\n\" style=\"fill:#7a1f59;\"/>\r\n    <path clip-path=\"url(#p8ad2712132)\" d=\"M 251.70067 399.284933 \r\nL 283.586384 399.284933 \r\nL 283.586384 438.113504 \r\nL 251.70067 438.113504 \r\nL 251.70067 399.284933 \r\n\" style=\"fill:#c71951;\"/>\r\n    <path clip-path=\"url(#p8ad2712132)\" d=\"M 283.586384 399.284933 \r\nL 315.472098 399.284933 \r\nL 315.472098 438.113504 \r\nL 283.586384 438.113504 \r\nL 283.586384 399.284933 \r\n\" style=\"fill:#f26d4b;\"/>\r\n    <path clip-path=\"url(#p8ad2712132)\" d=\"M 315.472098 399.284933 \r\nL 347.357813 399.284933 \r\nL 347.357813 438.113504 \r\nL 315.472098 438.113504 \r\nL 315.472098 399.284933 \r\n\" style=\"fill:#f58860;\"/>\r\n    <path clip-path=\"url(#p8ad2712132)\" d=\"M 347.357813 399.284933 \r\nL 379.243527 399.284933 \r\nL 379.243527 438.113504 \r\nL 347.357813 438.113504 \r\nL 347.357813 399.284933 \r\n\" style=\"fill:#7d1f5a;\"/>\r\n    <path clip-path=\"url(#p8ad2712132)\" d=\"M 379.243527 399.284933 \r\nL 411.129241 399.284933 \r\nL 411.129241 438.113504 \r\nL 379.243527 438.113504 \r\nL 379.243527 399.284933 \r\n\" style=\"fill:#eb483e;\"/>\r\n    <path clip-path=\"url(#p8ad2712132)\" d=\"M 411.129241 399.284933 \r\nL 443.014955 399.284933 \r\nL 443.014955 438.113504 \r\nL 411.129241 438.113504 \r\nL 411.129241 399.284933 \r\n\" style=\"fill:#431c46;\"/>\r\n    <path clip-path=\"url(#p8ad2712132)\" d=\"M 443.014955 399.284933 \r\nL 474.90067 399.284933 \r\nL 474.90067 438.113504 \r\nL 443.014955 438.113504 \r\nL 443.014955 399.284933 \r\n\" style=\"fill:#faebdd;\"/>\r\n    <path clip-path=\"url(#p8ad2712132)\" d=\"M 474.90067 399.284933 \r\nL 506.786384 399.284933 \r\nL 506.786384 438.113504 \r\nL 474.90067 438.113504 \r\nL 474.90067 399.284933 \r\n\" style=\"fill:#f58d64;\"/>\r\n    <path clip-path=\"url(#p8ad2712132)\" d=\"M 506.786384 399.284933 \r\nL 538.672098 399.284933 \r\nL 538.672098 438.113504 \r\nL 506.786384 438.113504 \r\nL 506.786384 399.284933 \r\n\" style=\"fill:#e53940;\"/>\r\n    <path clip-path=\"url(#p8ad2712132)\" d=\"M 538.672098 399.284933 \r\nL 570.557813 399.284933 \r\nL 570.557813 438.113504 \r\nL 538.672098 438.113504 \r\nL 538.672098 399.284933 \r\n\" style=\"fill:#2e1739;\"/>\r\n    <path clip-path=\"url(#p8ad2712132)\" d=\"M 124.157813 438.113504 \r\nL 156.043527 438.113504 \r\nL 156.043527 476.942076 \r\nL 124.157813 476.942076 \r\nL 124.157813 438.113504 \r\n\" style=\"fill:#ca1a50;\"/>\r\n    <path clip-path=\"url(#p8ad2712132)\" d=\"M 156.043527 438.113504 \r\nL 187.929241 438.113504 \r\nL 187.929241 476.942076 \r\nL 156.043527 476.942076 \r\nL 156.043527 438.113504 \r\n\" style=\"fill:#641f54;\"/>\r\n    <path clip-path=\"url(#p8ad2712132)\" d=\"M 187.929241 438.113504 \r\nL 219.814955 438.113504 \r\nL 219.814955 476.942076 \r\nL 187.929241 476.942076 \r\nL 187.929241 438.113504 \r\n\" style=\"fill:#ba1656;\"/>\r\n    <path clip-path=\"url(#p8ad2712132)\" d=\"M 219.814955 438.113504 \r\nL 251.70067 438.113504 \r\nL 251.70067 476.942076 \r\nL 219.814955 476.942076 \r\nL 219.814955 438.113504 \r\n\" style=\"fill:#7a1f59;\"/>\r\n    <path clip-path=\"url(#p8ad2712132)\" d=\"M 251.70067 438.113504 \r\nL 283.586384 438.113504 \r\nL 283.586384 476.942076 \r\nL 251.70067 476.942076 \r\nL 251.70067 438.113504 \r\n\" style=\"fill:#c81951;\"/>\r\n    <path clip-path=\"url(#p8ad2712132)\" d=\"M 283.586384 438.113504 \r\nL 315.472098 438.113504 \r\nL 315.472098 476.942076 \r\nL 283.586384 476.942076 \r\nL 283.586384 438.113504 \r\n\" style=\"fill:#f6ad85;\"/>\r\n    <path clip-path=\"url(#p8ad2712132)\" d=\"M 315.472098 438.113504 \r\nL 347.357813 438.113504 \r\nL 347.357813 476.942076 \r\nL 315.472098 476.942076 \r\nL 315.472098 438.113504 \r\n\" style=\"fill:#f6bf9d;\"/>\r\n    <path clip-path=\"url(#p8ad2712132)\" d=\"M 347.357813 438.113504 \r\nL 379.243527 438.113504 \r\nL 379.243527 476.942076 \r\nL 347.357813 476.942076 \r\nL 347.357813 438.113504 \r\n\" style=\"fill:#461c48;\"/>\r\n    <path clip-path=\"url(#p8ad2712132)\" d=\"M 379.243527 438.113504 \r\nL 411.129241 438.113504 \r\nL 411.129241 476.942076 \r\nL 379.243527 476.942076 \r\nL 379.243527 438.113504 \r\n\" style=\"fill:#f4835b;\"/>\r\n    <path clip-path=\"url(#p8ad2712132)\" d=\"M 411.129241 438.113504 \r\nL 443.014955 438.113504 \r\nL 443.014955 476.942076 \r\nL 411.129241 476.942076 \r\nL 411.129241 438.113504 \r\n\" style=\"fill:#581e4f;\"/>\r\n    <path clip-path=\"url(#p8ad2712132)\" d=\"M 443.014955 438.113504 \r\nL 474.90067 438.113504 \r\nL 474.90067 476.942076 \r\nL 443.014955 476.942076 \r\nL 443.014955 438.113504 \r\n\" style=\"fill:#f58d64;\"/>\r\n    <path clip-path=\"url(#p8ad2712132)\" d=\"M 474.90067 438.113504 \r\nL 506.786384 438.113504 \r\nL 506.786384 476.942076 \r\nL 474.90067 476.942076 \r\nL 474.90067 438.113504 \r\n\" style=\"fill:#faebdd;\"/>\r\n    <path clip-path=\"url(#p8ad2712132)\" d=\"M 506.786384 438.113504 \r\nL 538.672098 438.113504 \r\nL 538.672098 476.942076 \r\nL 506.786384 476.942076 \r\nL 506.786384 438.113504 \r\n\" style=\"fill:#ec4c3e;\"/>\r\n    <path clip-path=\"url(#p8ad2712132)\" d=\"M 538.672098 438.113504 \r\nL 570.557813 438.113504 \r\nL 570.557813 476.942076 \r\nL 538.672098 476.942076 \r\nL 538.672098 438.113504 \r\n\" style=\"fill:#0d0a21;\"/>\r\n    <path clip-path=\"url(#p8ad2712132)\" d=\"M 124.157813 476.942076 \r\nL 156.043527 476.942076 \r\nL 156.043527 515.770647 \r\nL 124.157813 515.770647 \r\nL 124.157813 476.942076 \r\n\" style=\"fill:#f6a077;\"/>\r\n    <path clip-path=\"url(#p8ad2712132)\" d=\"M 156.043527 476.942076 \r\nL 187.929241 476.942076 \r\nL 187.929241 515.770647 \r\nL 156.043527 515.770647 \r\nL 156.043527 476.942076 \r\n\" style=\"fill:#8c1d5b;\"/>\r\n    <path clip-path=\"url(#p8ad2712132)\" d=\"M 187.929241 476.942076 \r\nL 219.814955 476.942076 \r\nL 219.814955 515.770647 \r\nL 187.929241 515.770647 \r\nL 187.929241 476.942076 \r\n\" style=\"fill:#e33641;\"/>\r\n    <path clip-path=\"url(#p8ad2712132)\" d=\"M 219.814955 476.942076 \r\nL 251.70067 476.942076 \r\nL 251.70067 515.770647 \r\nL 219.814955 515.770647 \r\nL 219.814955 476.942076 \r\n\" style=\"fill:#541e4e;\"/>\r\n    <path clip-path=\"url(#p8ad2712132)\" d=\"M 251.70067 476.942076 \r\nL 283.586384 476.942076 \r\nL 283.586384 515.770647 \r\nL 251.70067 515.770647 \r\nL 251.70067 476.942076 \r\n\" style=\"fill:#f16244;\"/>\r\n    <path clip-path=\"url(#p8ad2712132)\" d=\"M 283.586384 476.942076 \r\nL 315.472098 476.942076 \r\nL 315.472098 515.770647 \r\nL 283.586384 515.770647 \r\nL 283.586384 476.942076 \r\n\" style=\"fill:#f47d57;\"/>\r\n    <path clip-path=\"url(#p8ad2712132)\" d=\"M 315.472098 476.942076 \r\nL 347.357813 476.942076 \r\nL 347.357813 515.770647 \r\nL 315.472098 515.770647 \r\nL 315.472098 476.942076 \r\n\" style=\"fill:#f47c55;\"/>\r\n    <path clip-path=\"url(#p8ad2712132)\" d=\"M 347.357813 476.942076 \r\nL 379.243527 476.942076 \r\nL 379.243527 515.770647 \r\nL 347.357813 515.770647 \r\nL 347.357813 476.942076 \r\n\" style=\"fill:#711f57;\"/>\r\n    <path clip-path=\"url(#p8ad2712132)\" d=\"M 379.243527 476.942076 \r\nL 411.129241 476.942076 \r\nL 411.129241 515.770647 \r\nL 379.243527 515.770647 \r\nL 379.243527 476.942076 \r\n\" style=\"fill:#ee523f;\"/>\r\n    <path clip-path=\"url(#p8ad2712132)\" d=\"M 411.129241 476.942076 \r\nL 443.014955 476.942076 \r\nL 443.014955 515.770647 \r\nL 411.129241 515.770647 \r\nL 411.129241 476.942076 \r\n\" style=\"fill:#ed4e3e;\"/>\r\n    <path clip-path=\"url(#p8ad2712132)\" d=\"M 443.014955 476.942076 \r\nL 474.90067 476.942076 \r\nL 474.90067 515.770647 \r\nL 443.014955 515.770647 \r\nL 443.014955 476.942076 \r\n\" style=\"fill:#e53940;\"/>\r\n    <path clip-path=\"url(#p8ad2712132)\" d=\"M 474.90067 476.942076 \r\nL 506.786384 476.942076 \r\nL 506.786384 515.770647 \r\nL 474.90067 515.770647 \r\nL 474.90067 476.942076 \r\n\" style=\"fill:#ec4c3e;\"/>\r\n    <path clip-path=\"url(#p8ad2712132)\" d=\"M 506.786384 476.942076 \r\nL 538.672098 476.942076 \r\nL 538.672098 515.770647 \r\nL 506.786384 515.770647 \r\nL 506.786384 476.942076 \r\n\" style=\"fill:#faebdd;\"/>\r\n    <path clip-path=\"url(#p8ad2712132)\" d=\"M 538.672098 476.942076 \r\nL 570.557813 476.942076 \r\nL 570.557813 515.770647 \r\nL 538.672098 515.770647 \r\nL 538.672098 476.942076 \r\n\" style=\"fill:#2b1637;\"/>\r\n    <path clip-path=\"url(#p8ad2712132)\" d=\"M 124.157813 515.770647 \r\nL 156.043527 515.770647 \r\nL 156.043527 554.599219 \r\nL 124.157813 554.599219 \r\nL 124.157813 515.770647 \r\n\" style=\"fill:#6d1f56;\"/>\r\n    <path clip-path=\"url(#p8ad2712132)\" d=\"M 156.043527 515.770647 \r\nL 187.929241 515.770647 \r\nL 187.929241 554.599219 \r\nL 156.043527 554.599219 \r\nL 156.043527 515.770647 \r\n\" style=\"fill:#f26f4c;\"/>\r\n    <path clip-path=\"url(#p8ad2712132)\" d=\"M 187.929241 515.770647 \r\nL 219.814955 515.770647 \r\nL 219.814955 554.599219 \r\nL 187.929241 554.599219 \r\nL 187.929241 515.770647 \r\n\" style=\"fill:#af1759;\"/>\r\n    <path clip-path=\"url(#p8ad2712132)\" d=\"M 219.814955 515.770647 \r\nL 251.70067 515.770647 \r\nL 251.70067 554.599219 \r\nL 219.814955 554.599219 \r\nL 219.814955 515.770647 \r\n\" style=\"fill:#f4835b;\"/>\r\n    <path clip-path=\"url(#p8ad2712132)\" d=\"M 251.70067 515.770647 \r\nL 283.586384 515.770647 \r\nL 283.586384 554.599219 \r\nL 251.70067 554.599219 \r\nL 251.70067 515.770647 \r\n\" style=\"fill:#891e5b;\"/>\r\n    <path clip-path=\"url(#p8ad2712132)\" d=\"M 283.586384 515.770647 \r\nL 315.472098 515.770647 \r\nL 315.472098 554.599219 \r\nL 283.586384 554.599219 \r\nL 283.586384 515.770647 \r\n\" style=\"fill:#1a102a;\"/>\r\n    <path clip-path=\"url(#p8ad2712132)\" d=\"M 315.472098 515.770647 \r\nL 347.357813 515.770647 \r\nL 347.357813 554.599219 \r\nL 315.472098 554.599219 \r\nL 315.472098 515.770647 \r\n\" style=\"fill:#03051a;\"/>\r\n    <path clip-path=\"url(#p8ad2712132)\" d=\"M 347.357813 515.770647 \r\nL 379.243527 515.770647 \r\nL 379.243527 554.599219 \r\nL 347.357813 554.599219 \r\nL 347.357813 515.770647 \r\n\" style=\"fill:#f47c55;\"/>\r\n    <path clip-path=\"url(#p8ad2712132)\" d=\"M 379.243527 515.770647 \r\nL 411.129241 515.770647 \r\nL 411.129241 554.599219 \r\nL 379.243527 554.599219 \r\nL 379.243527 515.770647 \r\n\" style=\"fill:#481c48;\"/>\r\n    <path clip-path=\"url(#p8ad2712132)\" d=\"M 411.129241 515.770647 \r\nL 443.014955 515.770647 \r\nL 443.014955 554.599219 \r\nL 411.129241 554.599219 \r\nL 411.129241 515.770647 \r\n\" style=\"fill:#e8403e;\"/>\r\n    <path clip-path=\"url(#p8ad2712132)\" d=\"M 443.014955 515.770647 \r\nL 474.90067 515.770647 \r\nL 474.90067 554.599219 \r\nL 443.014955 554.599219 \r\nL 443.014955 515.770647 \r\n\" style=\"fill:#2e1739;\"/>\r\n    <path clip-path=\"url(#p8ad2712132)\" d=\"M 474.90067 515.770647 \r\nL 506.786384 515.770647 \r\nL 506.786384 554.599219 \r\nL 474.90067 554.599219 \r\nL 474.90067 515.770647 \r\n\" style=\"fill:#0d0a21;\"/>\r\n    <path clip-path=\"url(#p8ad2712132)\" d=\"M 506.786384 515.770647 \r\nL 538.672098 515.770647 \r\nL 538.672098 554.599219 \r\nL 506.786384 554.599219 \r\nL 506.786384 515.770647 \r\n\" style=\"fill:#2b1637;\"/>\r\n    <path clip-path=\"url(#p8ad2712132)\" d=\"M 538.672098 515.770647 \r\nL 570.557813 515.770647 \r\nL 570.557813 554.599219 \r\nL 538.672098 554.599219 \r\nL 538.672098 515.770647 \r\n\" style=\"fill:#faebdd;\"/>\r\n   </g>\r\n   <g id=\"matplotlib.axis_1\">\r\n    <g id=\"xtick_1\">\r\n     <g id=\"line2d_1\">\r\n      <defs>\r\n       <path d=\"M 0 0 \r\nL 0 3.5 \r\n\" id=\"m44f14d305e\" style=\"stroke:#000000;stroke-width:0.8;\"/>\r\n      </defs>\r\n      <g>\r\n       <use style=\"stroke:#000000;stroke-width:0.8;\" x=\"140.10067\" xlink:href=\"#m44f14d305e\" y=\"554.599219\"/>\r\n      </g>\r\n     </g>\r\n     <g id=\"text_1\">\r\n      <!-- Alcool -->\r\n      <g transform=\"translate(142.860045 591.732031)rotate(-90)scale(0.1 -0.1)\">\r\n       <defs>\r\n        <path d=\"M 34.1875 63.1875 \r\nL 20.796875 26.90625 \r\nL 47.609375 26.90625 \r\nz\r\nM 28.609375 72.90625 \r\nL 39.796875 72.90625 \r\nL 67.578125 0 \r\nL 57.328125 0 \r\nL 50.6875 18.703125 \r\nL 17.828125 18.703125 \r\nL 11.1875 0 \r\nL 0.78125 0 \r\nz\r\n\" id=\"DejaVuSans-65\"/>\r\n        <path d=\"M 9.421875 75.984375 \r\nL 18.40625 75.984375 \r\nL 18.40625 0 \r\nL 9.421875 0 \r\nz\r\n\" id=\"DejaVuSans-108\"/>\r\n        <path d=\"M 48.78125 52.59375 \r\nL 48.78125 44.1875 \r\nQ 44.96875 46.296875 41.140625 47.34375 \r\nQ 37.3125 48.390625 33.40625 48.390625 \r\nQ 24.65625 48.390625 19.8125 42.84375 \r\nQ 14.984375 37.3125 14.984375 27.296875 \r\nQ 14.984375 17.28125 19.8125 11.734375 \r\nQ 24.65625 6.203125 33.40625 6.203125 \r\nQ 37.3125 6.203125 41.140625 7.25 \r\nQ 44.96875 8.296875 48.78125 10.40625 \r\nL 48.78125 2.09375 \r\nQ 45.015625 0.34375 40.984375 -0.53125 \r\nQ 36.96875 -1.421875 32.421875 -1.421875 \r\nQ 20.0625 -1.421875 12.78125 6.34375 \r\nQ 5.515625 14.109375 5.515625 27.296875 \r\nQ 5.515625 40.671875 12.859375 48.328125 \r\nQ 20.21875 56 33.015625 56 \r\nQ 37.15625 56 41.109375 55.140625 \r\nQ 45.0625 54.296875 48.78125 52.59375 \r\nz\r\n\" id=\"DejaVuSans-99\"/>\r\n        <path d=\"M 30.609375 48.390625 \r\nQ 23.390625 48.390625 19.1875 42.75 \r\nQ 14.984375 37.109375 14.984375 27.296875 \r\nQ 14.984375 17.484375 19.15625 11.84375 \r\nQ 23.34375 6.203125 30.609375 6.203125 \r\nQ 37.796875 6.203125 41.984375 11.859375 \r\nQ 46.1875 17.53125 46.1875 27.296875 \r\nQ 46.1875 37.015625 41.984375 42.703125 \r\nQ 37.796875 48.390625 30.609375 48.390625 \r\nz\r\nM 30.609375 56 \r\nQ 42.328125 56 49.015625 48.375 \r\nQ 55.71875 40.765625 55.71875 27.296875 \r\nQ 55.71875 13.875 49.015625 6.21875 \r\nQ 42.328125 -1.421875 30.609375 -1.421875 \r\nQ 18.84375 -1.421875 12.171875 6.21875 \r\nQ 5.515625 13.875 5.515625 27.296875 \r\nQ 5.515625 40.765625 12.171875 48.375 \r\nQ 18.84375 56 30.609375 56 \r\nz\r\n\" id=\"DejaVuSans-111\"/>\r\n       </defs>\r\n       <use xlink:href=\"#DejaVuSans-65\"/>\r\n       <use x=\"68.408203\" xlink:href=\"#DejaVuSans-108\"/>\r\n       <use x=\"96.191406\" xlink:href=\"#DejaVuSans-99\"/>\r\n       <use x=\"151.171875\" xlink:href=\"#DejaVuSans-111\"/>\r\n       <use x=\"212.353516\" xlink:href=\"#DejaVuSans-111\"/>\r\n       <use x=\"273.535156\" xlink:href=\"#DejaVuSans-108\"/>\r\n      </g>\r\n     </g>\r\n    </g>\r\n    <g id=\"xtick_2\">\r\n     <g id=\"line2d_2\">\r\n      <g>\r\n       <use style=\"stroke:#000000;stroke-width:0.8;\" x=\"171.986384\" xlink:href=\"#m44f14d305e\" y=\"554.599219\"/>\r\n      </g>\r\n     </g>\r\n     <g id=\"text_2\">\r\n      <!-- Malic_Acid -->\r\n      <g transform=\"translate(174.606696 613.700781)rotate(-90)scale(0.1 -0.1)\">\r\n       <defs>\r\n        <path d=\"M 9.8125 72.90625 \r\nL 24.515625 72.90625 \r\nL 43.109375 23.296875 \r\nL 61.8125 72.90625 \r\nL 76.515625 72.90625 \r\nL 76.515625 0 \r\nL 66.890625 0 \r\nL 66.890625 64.015625 \r\nL 48.09375 14.015625 \r\nL 38.1875 14.015625 \r\nL 19.390625 64.015625 \r\nL 19.390625 0 \r\nL 9.8125 0 \r\nz\r\n\" id=\"DejaVuSans-77\"/>\r\n        <path d=\"M 34.28125 27.484375 \r\nQ 23.390625 27.484375 19.1875 25 \r\nQ 14.984375 22.515625 14.984375 16.5 \r\nQ 14.984375 11.71875 18.140625 8.90625 \r\nQ 21.296875 6.109375 26.703125 6.109375 \r\nQ 34.1875 6.109375 38.703125 11.40625 \r\nQ 43.21875 16.703125 43.21875 25.484375 \r\nL 43.21875 27.484375 \r\nz\r\nM 52.203125 31.203125 \r\nL 52.203125 0 \r\nL 43.21875 0 \r\nL 43.21875 8.296875 \r\nQ 40.140625 3.328125 35.546875 0.953125 \r\nQ 30.953125 -1.421875 24.3125 -1.421875 \r\nQ 15.921875 -1.421875 10.953125 3.296875 \r\nQ 6 8.015625 6 15.921875 \r\nQ 6 25.140625 12.171875 29.828125 \r\nQ 18.359375 34.515625 30.609375 34.515625 \r\nL 43.21875 34.515625 \r\nL 43.21875 35.40625 \r\nQ 43.21875 41.609375 39.140625 45 \r\nQ 35.0625 48.390625 27.6875 48.390625 \r\nQ 23 48.390625 18.546875 47.265625 \r\nQ 14.109375 46.140625 10.015625 43.890625 \r\nL 10.015625 52.203125 \r\nQ 14.9375 54.109375 19.578125 55.046875 \r\nQ 24.21875 56 28.609375 56 \r\nQ 40.484375 56 46.34375 49.84375 \r\nQ 52.203125 43.703125 52.203125 31.203125 \r\nz\r\n\" id=\"DejaVuSans-97\"/>\r\n        <path d=\"M 9.421875 54.6875 \r\nL 18.40625 54.6875 \r\nL 18.40625 0 \r\nL 9.421875 0 \r\nz\r\nM 9.421875 75.984375 \r\nL 18.40625 75.984375 \r\nL 18.40625 64.59375 \r\nL 9.421875 64.59375 \r\nz\r\n\" id=\"DejaVuSans-105\"/>\r\n        <path d=\"M 50.984375 -16.609375 \r\nL 50.984375 -23.578125 \r\nL -0.984375 -23.578125 \r\nL -0.984375 -16.609375 \r\nz\r\n\" id=\"DejaVuSans-95\"/>\r\n        <path d=\"M 45.40625 46.390625 \r\nL 45.40625 75.984375 \r\nL 54.390625 75.984375 \r\nL 54.390625 0 \r\nL 45.40625 0 \r\nL 45.40625 8.203125 \r\nQ 42.578125 3.328125 38.25 0.953125 \r\nQ 33.9375 -1.421875 27.875 -1.421875 \r\nQ 17.96875 -1.421875 11.734375 6.484375 \r\nQ 5.515625 14.40625 5.515625 27.296875 \r\nQ 5.515625 40.1875 11.734375 48.09375 \r\nQ 17.96875 56 27.875 56 \r\nQ 33.9375 56 38.25 53.625 \r\nQ 42.578125 51.265625 45.40625 46.390625 \r\nz\r\nM 14.796875 27.296875 \r\nQ 14.796875 17.390625 18.875 11.75 \r\nQ 22.953125 6.109375 30.078125 6.109375 \r\nQ 37.203125 6.109375 41.296875 11.75 \r\nQ 45.40625 17.390625 45.40625 27.296875 \r\nQ 45.40625 37.203125 41.296875 42.84375 \r\nQ 37.203125 48.484375 30.078125 48.484375 \r\nQ 22.953125 48.484375 18.875 42.84375 \r\nQ 14.796875 37.203125 14.796875 27.296875 \r\nz\r\n\" id=\"DejaVuSans-100\"/>\r\n       </defs>\r\n       <use xlink:href=\"#DejaVuSans-77\"/>\r\n       <use x=\"86.279297\" xlink:href=\"#DejaVuSans-97\"/>\r\n       <use x=\"147.558594\" xlink:href=\"#DejaVuSans-108\"/>\r\n       <use x=\"175.341797\" xlink:href=\"#DejaVuSans-105\"/>\r\n       <use x=\"203.125\" xlink:href=\"#DejaVuSans-99\"/>\r\n       <use x=\"258.105469\" xlink:href=\"#DejaVuSans-95\"/>\r\n       <use x=\"308.105469\" xlink:href=\"#DejaVuSans-65\"/>\r\n       <use x=\"374.763672\" xlink:href=\"#DejaVuSans-99\"/>\r\n       <use x=\"429.744141\" xlink:href=\"#DejaVuSans-105\"/>\r\n       <use x=\"457.527344\" xlink:href=\"#DejaVuSans-100\"/>\r\n      </g>\r\n     </g>\r\n    </g>\r\n    <g id=\"xtick_3\">\r\n     <g id=\"line2d_3\">\r\n      <g>\r\n       <use style=\"stroke:#000000;stroke-width:0.8;\" x=\"203.872098\" xlink:href=\"#m44f14d305e\" y=\"554.599219\"/>\r\n      </g>\r\n     </g>\r\n     <g id=\"text_3\">\r\n      <!-- Po -->\r\n      <g transform=\"translate(206.631473 573.385156)rotate(-90)scale(0.1 -0.1)\">\r\n       <defs>\r\n        <path d=\"M 19.671875 64.796875 \r\nL 19.671875 37.40625 \r\nL 32.078125 37.40625 \r\nQ 38.96875 37.40625 42.71875 40.96875 \r\nQ 46.484375 44.53125 46.484375 51.125 \r\nQ 46.484375 57.671875 42.71875 61.234375 \r\nQ 38.96875 64.796875 32.078125 64.796875 \r\nz\r\nM 9.8125 72.90625 \r\nL 32.078125 72.90625 \r\nQ 44.34375 72.90625 50.609375 67.359375 \r\nQ 56.890625 61.8125 56.890625 51.125 \r\nQ 56.890625 40.328125 50.609375 34.8125 \r\nQ 44.34375 29.296875 32.078125 29.296875 \r\nL 19.671875 29.296875 \r\nL 19.671875 0 \r\nL 9.8125 0 \r\nz\r\n\" id=\"DejaVuSans-80\"/>\r\n       </defs>\r\n       <use xlink:href=\"#DejaVuSans-80\"/>\r\n       <use x=\"56.677734\" xlink:href=\"#DejaVuSans-111\"/>\r\n      </g>\r\n     </g>\r\n    </g>\r\n    <g id=\"xtick_4\">\r\n     <g id=\"line2d_4\">\r\n      <g>\r\n       <use style=\"stroke:#000000;stroke-width:0.8;\" x=\"235.757812\" xlink:href=\"#m44f14d305e\" y=\"554.599219\"/>\r\n      </g>\r\n     </g>\r\n     <g id=\"text_4\">\r\n      <!-- Alcalinidade_po -->\r\n      <g transform=\"translate(238.378125 639.961719)rotate(-90)scale(0.1 -0.1)\">\r\n       <defs>\r\n        <path d=\"M 54.890625 33.015625 \r\nL 54.890625 0 \r\nL 45.90625 0 \r\nL 45.90625 32.71875 \r\nQ 45.90625 40.484375 42.875 44.328125 \r\nQ 39.84375 48.1875 33.796875 48.1875 \r\nQ 26.515625 48.1875 22.3125 43.546875 \r\nQ 18.109375 38.921875 18.109375 30.90625 \r\nL 18.109375 0 \r\nL 9.078125 0 \r\nL 9.078125 54.6875 \r\nL 18.109375 54.6875 \r\nL 18.109375 46.1875 \r\nQ 21.34375 51.125 25.703125 53.5625 \r\nQ 30.078125 56 35.796875 56 \r\nQ 45.21875 56 50.046875 50.171875 \r\nQ 54.890625 44.34375 54.890625 33.015625 \r\nz\r\n\" id=\"DejaVuSans-110\"/>\r\n        <path d=\"M 56.203125 29.59375 \r\nL 56.203125 25.203125 \r\nL 14.890625 25.203125 \r\nQ 15.484375 15.921875 20.484375 11.0625 \r\nQ 25.484375 6.203125 34.421875 6.203125 \r\nQ 39.59375 6.203125 44.453125 7.46875 \r\nQ 49.3125 8.734375 54.109375 11.28125 \r\nL 54.109375 2.78125 \r\nQ 49.265625 0.734375 44.1875 -0.34375 \r\nQ 39.109375 -1.421875 33.890625 -1.421875 \r\nQ 20.796875 -1.421875 13.15625 6.1875 \r\nQ 5.515625 13.8125 5.515625 26.8125 \r\nQ 5.515625 40.234375 12.765625 48.109375 \r\nQ 20.015625 56 32.328125 56 \r\nQ 43.359375 56 49.78125 48.890625 \r\nQ 56.203125 41.796875 56.203125 29.59375 \r\nz\r\nM 47.21875 32.234375 \r\nQ 47.125 39.59375 43.09375 43.984375 \r\nQ 39.0625 48.390625 32.421875 48.390625 \r\nQ 24.90625 48.390625 20.390625 44.140625 \r\nQ 15.875 39.890625 15.1875 32.171875 \r\nz\r\n\" id=\"DejaVuSans-101\"/>\r\n        <path d=\"M 18.109375 8.203125 \r\nL 18.109375 -20.796875 \r\nL 9.078125 -20.796875 \r\nL 9.078125 54.6875 \r\nL 18.109375 54.6875 \r\nL 18.109375 46.390625 \r\nQ 20.953125 51.265625 25.265625 53.625 \r\nQ 29.59375 56 35.59375 56 \r\nQ 45.5625 56 51.78125 48.09375 \r\nQ 58.015625 40.1875 58.015625 27.296875 \r\nQ 58.015625 14.40625 51.78125 6.484375 \r\nQ 45.5625 -1.421875 35.59375 -1.421875 \r\nQ 29.59375 -1.421875 25.265625 0.953125 \r\nQ 20.953125 3.328125 18.109375 8.203125 \r\nz\r\nM 48.6875 27.296875 \r\nQ 48.6875 37.203125 44.609375 42.84375 \r\nQ 40.53125 48.484375 33.40625 48.484375 \r\nQ 26.265625 48.484375 22.1875 42.84375 \r\nQ 18.109375 37.203125 18.109375 27.296875 \r\nQ 18.109375 17.390625 22.1875 11.75 \r\nQ 26.265625 6.109375 33.40625 6.109375 \r\nQ 40.53125 6.109375 44.609375 11.75 \r\nQ 48.6875 17.390625 48.6875 27.296875 \r\nz\r\n\" id=\"DejaVuSans-112\"/>\r\n       </defs>\r\n       <use xlink:href=\"#DejaVuSans-65\"/>\r\n       <use x=\"68.408203\" xlink:href=\"#DejaVuSans-108\"/>\r\n       <use x=\"96.191406\" xlink:href=\"#DejaVuSans-99\"/>\r\n       <use x=\"151.171875\" xlink:href=\"#DejaVuSans-97\"/>\r\n       <use x=\"212.451172\" xlink:href=\"#DejaVuSans-108\"/>\r\n       <use x=\"240.234375\" xlink:href=\"#DejaVuSans-105\"/>\r\n       <use x=\"268.017578\" xlink:href=\"#DejaVuSans-110\"/>\r\n       <use x=\"331.396484\" xlink:href=\"#DejaVuSans-105\"/>\r\n       <use x=\"359.179688\" xlink:href=\"#DejaVuSans-100\"/>\r\n       <use x=\"422.65625\" xlink:href=\"#DejaVuSans-97\"/>\r\n       <use x=\"483.935547\" xlink:href=\"#DejaVuSans-100\"/>\r\n       <use x=\"547.412109\" xlink:href=\"#DejaVuSans-101\"/>\r\n       <use x=\"608.935547\" xlink:href=\"#DejaVuSans-95\"/>\r\n       <use x=\"658.935547\" xlink:href=\"#DejaVuSans-112\"/>\r\n       <use x=\"722.412109\" xlink:href=\"#DejaVuSans-111\"/>\r\n      </g>\r\n     </g>\r\n    </g>\r\n    <g id=\"xtick_5\">\r\n     <g id=\"line2d_5\">\r\n      <g>\r\n       <use style=\"stroke:#000000;stroke-width:0.8;\" x=\"267.643527\" xlink:href=\"#m44f14d305e\" y=\"554.599219\"/>\r\n      </g>\r\n     </g>\r\n     <g id=\"text_5\">\r\n      <!-- Magnesio -->\r\n      <g transform=\"translate(270.402902 609.300781)rotate(-90)scale(0.1 -0.1)\">\r\n       <defs>\r\n        <path d=\"M 45.40625 27.984375 \r\nQ 45.40625 37.75 41.375 43.109375 \r\nQ 37.359375 48.484375 30.078125 48.484375 \r\nQ 22.859375 48.484375 18.828125 43.109375 \r\nQ 14.796875 37.75 14.796875 27.984375 \r\nQ 14.796875 18.265625 18.828125 12.890625 \r\nQ 22.859375 7.515625 30.078125 7.515625 \r\nQ 37.359375 7.515625 41.375 12.890625 \r\nQ 45.40625 18.265625 45.40625 27.984375 \r\nz\r\nM 54.390625 6.78125 \r\nQ 54.390625 -7.171875 48.1875 -13.984375 \r\nQ 42 -20.796875 29.203125 -20.796875 \r\nQ 24.46875 -20.796875 20.265625 -20.09375 \r\nQ 16.0625 -19.390625 12.109375 -17.921875 \r\nL 12.109375 -9.1875 \r\nQ 16.0625 -11.328125 19.921875 -12.34375 \r\nQ 23.78125 -13.375 27.78125 -13.375 \r\nQ 36.625 -13.375 41.015625 -8.765625 \r\nQ 45.40625 -4.15625 45.40625 5.171875 \r\nL 45.40625 9.625 \r\nQ 42.625 4.78125 38.28125 2.390625 \r\nQ 33.9375 0 27.875 0 \r\nQ 17.828125 0 11.671875 7.65625 \r\nQ 5.515625 15.328125 5.515625 27.984375 \r\nQ 5.515625 40.671875 11.671875 48.328125 \r\nQ 17.828125 56 27.875 56 \r\nQ 33.9375 56 38.28125 53.609375 \r\nQ 42.625 51.21875 45.40625 46.390625 \r\nL 45.40625 54.6875 \r\nL 54.390625 54.6875 \r\nz\r\n\" id=\"DejaVuSans-103\"/>\r\n        <path d=\"M 44.28125 53.078125 \r\nL 44.28125 44.578125 \r\nQ 40.484375 46.53125 36.375 47.5 \r\nQ 32.28125 48.484375 27.875 48.484375 \r\nQ 21.1875 48.484375 17.84375 46.4375 \r\nQ 14.5 44.390625 14.5 40.28125 \r\nQ 14.5 37.15625 16.890625 35.375 \r\nQ 19.28125 33.59375 26.515625 31.984375 \r\nL 29.59375 31.296875 \r\nQ 39.15625 29.25 43.1875 25.515625 \r\nQ 47.21875 21.78125 47.21875 15.09375 \r\nQ 47.21875 7.46875 41.1875 3.015625 \r\nQ 35.15625 -1.421875 24.609375 -1.421875 \r\nQ 20.21875 -1.421875 15.453125 -0.5625 \r\nQ 10.6875 0.296875 5.421875 2 \r\nL 5.421875 11.28125 \r\nQ 10.40625 8.6875 15.234375 7.390625 \r\nQ 20.0625 6.109375 24.8125 6.109375 \r\nQ 31.15625 6.109375 34.5625 8.28125 \r\nQ 37.984375 10.453125 37.984375 14.40625 \r\nQ 37.984375 18.0625 35.515625 20.015625 \r\nQ 33.0625 21.96875 24.703125 23.78125 \r\nL 21.578125 24.515625 \r\nQ 13.234375 26.265625 9.515625 29.90625 \r\nQ 5.8125 33.546875 5.8125 39.890625 \r\nQ 5.8125 47.609375 11.28125 51.796875 \r\nQ 16.75 56 26.8125 56 \r\nQ 31.78125 56 36.171875 55.265625 \r\nQ 40.578125 54.546875 44.28125 53.078125 \r\nz\r\n\" id=\"DejaVuSans-115\"/>\r\n       </defs>\r\n       <use xlink:href=\"#DejaVuSans-77\"/>\r\n       <use x=\"86.279297\" xlink:href=\"#DejaVuSans-97\"/>\r\n       <use x=\"147.558594\" xlink:href=\"#DejaVuSans-103\"/>\r\n       <use x=\"211.035156\" xlink:href=\"#DejaVuSans-110\"/>\r\n       <use x=\"274.414062\" xlink:href=\"#DejaVuSans-101\"/>\r\n       <use x=\"335.9375\" xlink:href=\"#DejaVuSans-115\"/>\r\n       <use x=\"388.037109\" xlink:href=\"#DejaVuSans-105\"/>\r\n       <use x=\"415.820312\" xlink:href=\"#DejaVuSans-111\"/>\r\n      </g>\r\n     </g>\r\n    </g>\r\n    <g id=\"xtick_6\">\r\n     <g id=\"line2d_6\">\r\n      <g>\r\n       <use style=\"stroke:#000000;stroke-width:0.8;\" x=\"299.529241\" xlink:href=\"#m44f14d305e\" y=\"554.599219\"/>\r\n      </g>\r\n     </g>\r\n     <g id=\"text_6\">\r\n      <!-- Total_Phenols -->\r\n      <g transform=\"translate(302.149554 628.916406)rotate(-90)scale(0.1 -0.1)\">\r\n       <defs>\r\n        <path d=\"M -0.296875 72.90625 \r\nL 61.375 72.90625 \r\nL 61.375 64.59375 \r\nL 35.5 64.59375 \r\nL 35.5 0 \r\nL 25.59375 0 \r\nL 25.59375 64.59375 \r\nL -0.296875 64.59375 \r\nz\r\n\" id=\"DejaVuSans-84\"/>\r\n        <path d=\"M 18.3125 70.21875 \r\nL 18.3125 54.6875 \r\nL 36.8125 54.6875 \r\nL 36.8125 47.703125 \r\nL 18.3125 47.703125 \r\nL 18.3125 18.015625 \r\nQ 18.3125 11.328125 20.140625 9.421875 \r\nQ 21.96875 7.515625 27.59375 7.515625 \r\nL 36.8125 7.515625 \r\nL 36.8125 0 \r\nL 27.59375 0 \r\nQ 17.1875 0 13.234375 3.875 \r\nQ 9.28125 7.765625 9.28125 18.015625 \r\nL 9.28125 47.703125 \r\nL 2.6875 47.703125 \r\nL 2.6875 54.6875 \r\nL 9.28125 54.6875 \r\nL 9.28125 70.21875 \r\nz\r\n\" id=\"DejaVuSans-116\"/>\r\n        <path d=\"M 54.890625 33.015625 \r\nL 54.890625 0 \r\nL 45.90625 0 \r\nL 45.90625 32.71875 \r\nQ 45.90625 40.484375 42.875 44.328125 \r\nQ 39.84375 48.1875 33.796875 48.1875 \r\nQ 26.515625 48.1875 22.3125 43.546875 \r\nQ 18.109375 38.921875 18.109375 30.90625 \r\nL 18.109375 0 \r\nL 9.078125 0 \r\nL 9.078125 75.984375 \r\nL 18.109375 75.984375 \r\nL 18.109375 46.1875 \r\nQ 21.34375 51.125 25.703125 53.5625 \r\nQ 30.078125 56 35.796875 56 \r\nQ 45.21875 56 50.046875 50.171875 \r\nQ 54.890625 44.34375 54.890625 33.015625 \r\nz\r\n\" id=\"DejaVuSans-104\"/>\r\n       </defs>\r\n       <use xlink:href=\"#DejaVuSans-84\"/>\r\n       <use x=\"44.083984\" xlink:href=\"#DejaVuSans-111\"/>\r\n       <use x=\"105.265625\" xlink:href=\"#DejaVuSans-116\"/>\r\n       <use x=\"144.474609\" xlink:href=\"#DejaVuSans-97\"/>\r\n       <use x=\"205.753906\" xlink:href=\"#DejaVuSans-108\"/>\r\n       <use x=\"233.537109\" xlink:href=\"#DejaVuSans-95\"/>\r\n       <use x=\"283.537109\" xlink:href=\"#DejaVuSans-80\"/>\r\n       <use x=\"343.839844\" xlink:href=\"#DejaVuSans-104\"/>\r\n       <use x=\"407.21875\" xlink:href=\"#DejaVuSans-101\"/>\r\n       <use x=\"468.742188\" xlink:href=\"#DejaVuSans-110\"/>\r\n       <use x=\"532.121094\" xlink:href=\"#DejaVuSans-111\"/>\r\n       <use x=\"593.302734\" xlink:href=\"#DejaVuSans-108\"/>\r\n       <use x=\"621.085938\" xlink:href=\"#DejaVuSans-115\"/>\r\n      </g>\r\n     </g>\r\n    </g>\r\n    <g id=\"xtick_7\">\r\n     <g id=\"line2d_7\">\r\n      <g>\r\n       <use style=\"stroke:#000000;stroke-width:0.8;\" x=\"331.414955\" xlink:href=\"#m44f14d305e\" y=\"554.599219\"/>\r\n      </g>\r\n     </g>\r\n     <g id=\"text_7\">\r\n      <!-- Flavanoids -->\r\n      <g transform=\"translate(334.17433 615.096094)rotate(-90)scale(0.1 -0.1)\">\r\n       <defs>\r\n        <path d=\"M 9.8125 72.90625 \r\nL 51.703125 72.90625 \r\nL 51.703125 64.59375 \r\nL 19.671875 64.59375 \r\nL 19.671875 43.109375 \r\nL 48.578125 43.109375 \r\nL 48.578125 34.8125 \r\nL 19.671875 34.8125 \r\nL 19.671875 0 \r\nL 9.8125 0 \r\nz\r\n\" id=\"DejaVuSans-70\"/>\r\n        <path d=\"M 2.984375 54.6875 \r\nL 12.5 54.6875 \r\nL 29.59375 8.796875 \r\nL 46.6875 54.6875 \r\nL 56.203125 54.6875 \r\nL 35.6875 0 \r\nL 23.484375 0 \r\nz\r\n\" id=\"DejaVuSans-118\"/>\r\n       </defs>\r\n       <use xlink:href=\"#DejaVuSans-70\"/>\r\n       <use x=\"57.519531\" xlink:href=\"#DejaVuSans-108\"/>\r\n       <use x=\"85.302734\" xlink:href=\"#DejaVuSans-97\"/>\r\n       <use x=\"146.582031\" xlink:href=\"#DejaVuSans-118\"/>\r\n       <use x=\"205.761719\" xlink:href=\"#DejaVuSans-97\"/>\r\n       <use x=\"267.041016\" xlink:href=\"#DejaVuSans-110\"/>\r\n       <use x=\"330.419922\" xlink:href=\"#DejaVuSans-111\"/>\r\n       <use x=\"391.601562\" xlink:href=\"#DejaVuSans-105\"/>\r\n       <use x=\"419.384766\" xlink:href=\"#DejaVuSans-100\"/>\r\n       <use x=\"482.861328\" xlink:href=\"#DejaVuSans-115\"/>\r\n      </g>\r\n     </g>\r\n    </g>\r\n    <g id=\"xtick_8\">\r\n     <g id=\"line2d_8\">\r\n      <g>\r\n       <use style=\"stroke:#000000;stroke-width:0.8;\" x=\"363.30067\" xlink:href=\"#m44f14d305e\" y=\"554.599219\"/>\r\n      </g>\r\n     </g>\r\n     <g id=\"text_8\">\r\n      <!-- Nonflavanoid_Phenols -->\r\n      <g transform=\"translate(365.920982 671.557031)rotate(-90)scale(0.1 -0.1)\">\r\n       <defs>\r\n        <path d=\"M 9.8125 72.90625 \r\nL 23.09375 72.90625 \r\nL 55.421875 11.921875 \r\nL 55.421875 72.90625 \r\nL 64.984375 72.90625 \r\nL 64.984375 0 \r\nL 51.703125 0 \r\nL 19.390625 60.984375 \r\nL 19.390625 0 \r\nL 9.8125 0 \r\nz\r\n\" id=\"DejaVuSans-78\"/>\r\n        <path d=\"M 37.109375 75.984375 \r\nL 37.109375 68.5 \r\nL 28.515625 68.5 \r\nQ 23.6875 68.5 21.796875 66.546875 \r\nQ 19.921875 64.59375 19.921875 59.515625 \r\nL 19.921875 54.6875 \r\nL 34.71875 54.6875 \r\nL 34.71875 47.703125 \r\nL 19.921875 47.703125 \r\nL 19.921875 0 \r\nL 10.890625 0 \r\nL 10.890625 47.703125 \r\nL 2.296875 47.703125 \r\nL 2.296875 54.6875 \r\nL 10.890625 54.6875 \r\nL 10.890625 58.5 \r\nQ 10.890625 67.625 15.140625 71.796875 \r\nQ 19.390625 75.984375 28.609375 75.984375 \r\nz\r\n\" id=\"DejaVuSans-102\"/>\r\n       </defs>\r\n       <use xlink:href=\"#DejaVuSans-78\"/>\r\n       <use x=\"74.804688\" xlink:href=\"#DejaVuSans-111\"/>\r\n       <use x=\"135.986328\" xlink:href=\"#DejaVuSans-110\"/>\r\n       <use x=\"199.365234\" xlink:href=\"#DejaVuSans-102\"/>\r\n       <use x=\"234.570312\" xlink:href=\"#DejaVuSans-108\"/>\r\n       <use x=\"262.353516\" xlink:href=\"#DejaVuSans-97\"/>\r\n       <use x=\"323.632812\" xlink:href=\"#DejaVuSans-118\"/>\r\n       <use x=\"382.8125\" xlink:href=\"#DejaVuSans-97\"/>\r\n       <use x=\"444.091797\" xlink:href=\"#DejaVuSans-110\"/>\r\n       <use x=\"507.470703\" xlink:href=\"#DejaVuSans-111\"/>\r\n       <use x=\"568.652344\" xlink:href=\"#DejaVuSans-105\"/>\r\n       <use x=\"596.435547\" xlink:href=\"#DejaVuSans-100\"/>\r\n       <use x=\"659.912109\" xlink:href=\"#DejaVuSans-95\"/>\r\n       <use x=\"709.912109\" xlink:href=\"#DejaVuSans-80\"/>\r\n       <use x=\"770.214844\" xlink:href=\"#DejaVuSans-104\"/>\r\n       <use x=\"833.59375\" xlink:href=\"#DejaVuSans-101\"/>\r\n       <use x=\"895.117188\" xlink:href=\"#DejaVuSans-110\"/>\r\n       <use x=\"958.496094\" xlink:href=\"#DejaVuSans-111\"/>\r\n       <use x=\"1019.677734\" xlink:href=\"#DejaVuSans-108\"/>\r\n       <use x=\"1047.460938\" xlink:href=\"#DejaVuSans-115\"/>\r\n      </g>\r\n     </g>\r\n    </g>\r\n    <g id=\"xtick_9\">\r\n     <g id=\"line2d_9\">\r\n      <g>\r\n       <use style=\"stroke:#000000;stroke-width:0.8;\" x=\"395.186384\" xlink:href=\"#m44f14d305e\" y=\"554.599219\"/>\r\n      </g>\r\n     </g>\r\n     <g id=\"text_9\">\r\n      <!-- Proanthocyanins -->\r\n      <g transform=\"translate(397.945759 644.508594)rotate(-90)scale(0.1 -0.1)\">\r\n       <defs>\r\n        <path d=\"M 41.109375 46.296875 \r\nQ 39.59375 47.171875 37.8125 47.578125 \r\nQ 36.03125 48 33.890625 48 \r\nQ 26.265625 48 22.1875 43.046875 \r\nQ 18.109375 38.09375 18.109375 28.8125 \r\nL 18.109375 0 \r\nL 9.078125 0 \r\nL 9.078125 54.6875 \r\nL 18.109375 54.6875 \r\nL 18.109375 46.1875 \r\nQ 20.953125 51.171875 25.484375 53.578125 \r\nQ 30.03125 56 36.53125 56 \r\nQ 37.453125 56 38.578125 55.875 \r\nQ 39.703125 55.765625 41.0625 55.515625 \r\nz\r\n\" id=\"DejaVuSans-114\"/>\r\n        <path d=\"M 32.171875 -5.078125 \r\nQ 28.375 -14.84375 24.75 -17.8125 \r\nQ 21.140625 -20.796875 15.09375 -20.796875 \r\nL 7.90625 -20.796875 \r\nL 7.90625 -13.28125 \r\nL 13.1875 -13.28125 \r\nQ 16.890625 -13.28125 18.9375 -11.515625 \r\nQ 21 -9.765625 23.484375 -3.21875 \r\nL 25.09375 0.875 \r\nL 2.984375 54.6875 \r\nL 12.5 54.6875 \r\nL 29.59375 11.921875 \r\nL 46.6875 54.6875 \r\nL 56.203125 54.6875 \r\nz\r\n\" id=\"DejaVuSans-121\"/>\r\n       </defs>\r\n       <use xlink:href=\"#DejaVuSans-80\"/>\r\n       <use x=\"58.552734\" xlink:href=\"#DejaVuSans-114\"/>\r\n       <use x=\"97.416016\" xlink:href=\"#DejaVuSans-111\"/>\r\n       <use x=\"158.597656\" xlink:href=\"#DejaVuSans-97\"/>\r\n       <use x=\"219.876953\" xlink:href=\"#DejaVuSans-110\"/>\r\n       <use x=\"283.255859\" xlink:href=\"#DejaVuSans-116\"/>\r\n       <use x=\"322.464844\" xlink:href=\"#DejaVuSans-104\"/>\r\n       <use x=\"385.84375\" xlink:href=\"#DejaVuSans-111\"/>\r\n       <use x=\"447.025391\" xlink:href=\"#DejaVuSans-99\"/>\r\n       <use x=\"502.005859\" xlink:href=\"#DejaVuSans-121\"/>\r\n       <use x=\"561.185547\" xlink:href=\"#DejaVuSans-97\"/>\r\n       <use x=\"622.464844\" xlink:href=\"#DejaVuSans-110\"/>\r\n       <use x=\"685.84375\" xlink:href=\"#DejaVuSans-105\"/>\r\n       <use x=\"713.626953\" xlink:href=\"#DejaVuSans-110\"/>\r\n       <use x=\"777.005859\" xlink:href=\"#DejaVuSans-115\"/>\r\n      </g>\r\n     </g>\r\n    </g>\r\n    <g id=\"xtick_10\">\r\n     <g id=\"line2d_10\">\r\n      <g>\r\n       <use style=\"stroke:#000000;stroke-width:0.8;\" x=\"427.072098\" xlink:href=\"#m44f14d305e\" y=\"554.599219\"/>\r\n      </g>\r\n     </g>\r\n     <g id=\"text_10\">\r\n      <!-- Intensidade_de_cor -->\r\n      <g transform=\"translate(429.692411 658.492969)rotate(-90)scale(0.1 -0.1)\">\r\n       <defs>\r\n        <path d=\"M 9.8125 72.90625 \r\nL 19.671875 72.90625 \r\nL 19.671875 0 \r\nL 9.8125 0 \r\nz\r\n\" id=\"DejaVuSans-73\"/>\r\n       </defs>\r\n       <use xlink:href=\"#DejaVuSans-73\"/>\r\n       <use x=\"29.492188\" xlink:href=\"#DejaVuSans-110\"/>\r\n       <use x=\"92.871094\" xlink:href=\"#DejaVuSans-116\"/>\r\n       <use x=\"132.080078\" xlink:href=\"#DejaVuSans-101\"/>\r\n       <use x=\"193.603516\" xlink:href=\"#DejaVuSans-110\"/>\r\n       <use x=\"256.982422\" xlink:href=\"#DejaVuSans-115\"/>\r\n       <use x=\"309.082031\" xlink:href=\"#DejaVuSans-105\"/>\r\n       <use x=\"336.865234\" xlink:href=\"#DejaVuSans-100\"/>\r\n       <use x=\"400.341797\" xlink:href=\"#DejaVuSans-97\"/>\r\n       <use x=\"461.621094\" xlink:href=\"#DejaVuSans-100\"/>\r\n       <use x=\"525.097656\" xlink:href=\"#DejaVuSans-101\"/>\r\n       <use x=\"586.621094\" xlink:href=\"#DejaVuSans-95\"/>\r\n       <use x=\"636.621094\" xlink:href=\"#DejaVuSans-100\"/>\r\n       <use x=\"700.097656\" xlink:href=\"#DejaVuSans-101\"/>\r\n       <use x=\"761.621094\" xlink:href=\"#DejaVuSans-95\"/>\r\n       <use x=\"811.621094\" xlink:href=\"#DejaVuSans-99\"/>\r\n       <use x=\"866.601562\" xlink:href=\"#DejaVuSans-111\"/>\r\n       <use x=\"927.783203\" xlink:href=\"#DejaVuSans-114\"/>\r\n      </g>\r\n     </g>\r\n    </g>\r\n    <g id=\"xtick_11\">\r\n     <g id=\"line2d_11\">\r\n      <g>\r\n       <use style=\"stroke:#000000;stroke-width:0.8;\" x=\"458.957813\" xlink:href=\"#m44f14d305e\" y=\"554.599219\"/>\r\n      </g>\r\n     </g>\r\n     <g id=\"text_11\">\r\n      <!-- Hue -->\r\n      <g transform=\"translate(461.717188 581.610156)rotate(-90)scale(0.1 -0.1)\">\r\n       <defs>\r\n        <path d=\"M 9.8125 72.90625 \r\nL 19.671875 72.90625 \r\nL 19.671875 43.015625 \r\nL 55.515625 43.015625 \r\nL 55.515625 72.90625 \r\nL 65.375 72.90625 \r\nL 65.375 0 \r\nL 55.515625 0 \r\nL 55.515625 34.71875 \r\nL 19.671875 34.71875 \r\nL 19.671875 0 \r\nL 9.8125 0 \r\nz\r\n\" id=\"DejaVuSans-72\"/>\r\n        <path d=\"M 8.5 21.578125 \r\nL 8.5 54.6875 \r\nL 17.484375 54.6875 \r\nL 17.484375 21.921875 \r\nQ 17.484375 14.15625 20.5 10.265625 \r\nQ 23.53125 6.390625 29.59375 6.390625 \r\nQ 36.859375 6.390625 41.078125 11.03125 \r\nQ 45.3125 15.671875 45.3125 23.6875 \r\nL 45.3125 54.6875 \r\nL 54.296875 54.6875 \r\nL 54.296875 0 \r\nL 45.3125 0 \r\nL 45.3125 8.40625 \r\nQ 42.046875 3.421875 37.71875 1 \r\nQ 33.40625 -1.421875 27.6875 -1.421875 \r\nQ 18.265625 -1.421875 13.375 4.4375 \r\nQ 8.5 10.296875 8.5 21.578125 \r\nz\r\nM 31.109375 56 \r\nz\r\n\" id=\"DejaVuSans-117\"/>\r\n       </defs>\r\n       <use xlink:href=\"#DejaVuSans-72\"/>\r\n       <use x=\"75.195312\" xlink:href=\"#DejaVuSans-117\"/>\r\n       <use x=\"138.574219\" xlink:href=\"#DejaVuSans-101\"/>\r\n      </g>\r\n     </g>\r\n    </g>\r\n    <g id=\"xtick_12\">\r\n     <g id=\"line2d_12\">\r\n      <g>\r\n       <use style=\"stroke:#000000;stroke-width:0.8;\" x=\"490.843527\" xlink:href=\"#m44f14d305e\" y=\"554.599219\"/>\r\n      </g>\r\n     </g>\r\n     <g id=\"text_12\">\r\n      <!-- OD280 -->\r\n      <g transform=\"translate(493.602902 596.258594)rotate(-90)scale(0.1 -0.1)\">\r\n       <defs>\r\n        <path d=\"M 39.40625 66.21875 \r\nQ 28.65625 66.21875 22.328125 58.203125 \r\nQ 16.015625 50.203125 16.015625 36.375 \r\nQ 16.015625 22.609375 22.328125 14.59375 \r\nQ 28.65625 6.59375 39.40625 6.59375 \r\nQ 50.140625 6.59375 56.421875 14.59375 \r\nQ 62.703125 22.609375 62.703125 36.375 \r\nQ 62.703125 50.203125 56.421875 58.203125 \r\nQ 50.140625 66.21875 39.40625 66.21875 \r\nz\r\nM 39.40625 74.21875 \r\nQ 54.734375 74.21875 63.90625 63.9375 \r\nQ 73.09375 53.65625 73.09375 36.375 \r\nQ 73.09375 19.140625 63.90625 8.859375 \r\nQ 54.734375 -1.421875 39.40625 -1.421875 \r\nQ 24.03125 -1.421875 14.8125 8.828125 \r\nQ 5.609375 19.09375 5.609375 36.375 \r\nQ 5.609375 53.65625 14.8125 63.9375 \r\nQ 24.03125 74.21875 39.40625 74.21875 \r\nz\r\n\" id=\"DejaVuSans-79\"/>\r\n        <path d=\"M 19.671875 64.796875 \r\nL 19.671875 8.109375 \r\nL 31.59375 8.109375 \r\nQ 46.6875 8.109375 53.6875 14.9375 \r\nQ 60.6875 21.78125 60.6875 36.53125 \r\nQ 60.6875 51.171875 53.6875 57.984375 \r\nQ 46.6875 64.796875 31.59375 64.796875 \r\nz\r\nM 9.8125 72.90625 \r\nL 30.078125 72.90625 \r\nQ 51.265625 72.90625 61.171875 64.09375 \r\nQ 71.09375 55.28125 71.09375 36.53125 \r\nQ 71.09375 17.671875 61.125 8.828125 \r\nQ 51.171875 0 30.078125 0 \r\nL 9.8125 0 \r\nz\r\n\" id=\"DejaVuSans-68\"/>\r\n        <path d=\"M 19.1875 8.296875 \r\nL 53.609375 8.296875 \r\nL 53.609375 0 \r\nL 7.328125 0 \r\nL 7.328125 8.296875 \r\nQ 12.9375 14.109375 22.625 23.890625 \r\nQ 32.328125 33.6875 34.8125 36.53125 \r\nQ 39.546875 41.84375 41.421875 45.53125 \r\nQ 43.3125 49.21875 43.3125 52.78125 \r\nQ 43.3125 58.59375 39.234375 62.25 \r\nQ 35.15625 65.921875 28.609375 65.921875 \r\nQ 23.96875 65.921875 18.8125 64.3125 \r\nQ 13.671875 62.703125 7.8125 59.421875 \r\nL 7.8125 69.390625 \r\nQ 13.765625 71.78125 18.9375 73 \r\nQ 24.125 74.21875 28.421875 74.21875 \r\nQ 39.75 74.21875 46.484375 68.546875 \r\nQ 53.21875 62.890625 53.21875 53.421875 \r\nQ 53.21875 48.921875 51.53125 44.890625 \r\nQ 49.859375 40.875 45.40625 35.40625 \r\nQ 44.1875 33.984375 37.640625 27.21875 \r\nQ 31.109375 20.453125 19.1875 8.296875 \r\nz\r\n\" id=\"DejaVuSans-50\"/>\r\n        <path d=\"M 31.78125 34.625 \r\nQ 24.75 34.625 20.71875 30.859375 \r\nQ 16.703125 27.09375 16.703125 20.515625 \r\nQ 16.703125 13.921875 20.71875 10.15625 \r\nQ 24.75 6.390625 31.78125 6.390625 \r\nQ 38.8125 6.390625 42.859375 10.171875 \r\nQ 46.921875 13.96875 46.921875 20.515625 \r\nQ 46.921875 27.09375 42.890625 30.859375 \r\nQ 38.875 34.625 31.78125 34.625 \r\nz\r\nM 21.921875 38.8125 \r\nQ 15.578125 40.375 12.03125 44.71875 \r\nQ 8.5 49.078125 8.5 55.328125 \r\nQ 8.5 64.0625 14.71875 69.140625 \r\nQ 20.953125 74.21875 31.78125 74.21875 \r\nQ 42.671875 74.21875 48.875 69.140625 \r\nQ 55.078125 64.0625 55.078125 55.328125 \r\nQ 55.078125 49.078125 51.53125 44.71875 \r\nQ 48 40.375 41.703125 38.8125 \r\nQ 48.828125 37.15625 52.796875 32.3125 \r\nQ 56.78125 27.484375 56.78125 20.515625 \r\nQ 56.78125 9.90625 50.3125 4.234375 \r\nQ 43.84375 -1.421875 31.78125 -1.421875 \r\nQ 19.734375 -1.421875 13.25 4.234375 \r\nQ 6.78125 9.90625 6.78125 20.515625 \r\nQ 6.78125 27.484375 10.78125 32.3125 \r\nQ 14.796875 37.15625 21.921875 38.8125 \r\nz\r\nM 18.3125 54.390625 \r\nQ 18.3125 48.734375 21.84375 45.5625 \r\nQ 25.390625 42.390625 31.78125 42.390625 \r\nQ 38.140625 42.390625 41.71875 45.5625 \r\nQ 45.3125 48.734375 45.3125 54.390625 \r\nQ 45.3125 60.0625 41.71875 63.234375 \r\nQ 38.140625 66.40625 31.78125 66.40625 \r\nQ 25.390625 66.40625 21.84375 63.234375 \r\nQ 18.3125 60.0625 18.3125 54.390625 \r\nz\r\n\" id=\"DejaVuSans-56\"/>\r\n        <path d=\"M 31.78125 66.40625 \r\nQ 24.171875 66.40625 20.328125 58.90625 \r\nQ 16.5 51.421875 16.5 36.375 \r\nQ 16.5 21.390625 20.328125 13.890625 \r\nQ 24.171875 6.390625 31.78125 6.390625 \r\nQ 39.453125 6.390625 43.28125 13.890625 \r\nQ 47.125 21.390625 47.125 36.375 \r\nQ 47.125 51.421875 43.28125 58.90625 \r\nQ 39.453125 66.40625 31.78125 66.40625 \r\nz\r\nM 31.78125 74.21875 \r\nQ 44.046875 74.21875 50.515625 64.515625 \r\nQ 56.984375 54.828125 56.984375 36.375 \r\nQ 56.984375 17.96875 50.515625 8.265625 \r\nQ 44.046875 -1.421875 31.78125 -1.421875 \r\nQ 19.53125 -1.421875 13.0625 8.265625 \r\nQ 6.59375 17.96875 6.59375 36.375 \r\nQ 6.59375 54.828125 13.0625 64.515625 \r\nQ 19.53125 74.21875 31.78125 74.21875 \r\nz\r\n\" id=\"DejaVuSans-48\"/>\r\n       </defs>\r\n       <use xlink:href=\"#DejaVuSans-79\"/>\r\n       <use x=\"78.710938\" xlink:href=\"#DejaVuSans-68\"/>\r\n       <use x=\"155.712891\" xlink:href=\"#DejaVuSans-50\"/>\r\n       <use x=\"219.335938\" xlink:href=\"#DejaVuSans-56\"/>\r\n       <use x=\"282.958984\" xlink:href=\"#DejaVuSans-48\"/>\r\n      </g>\r\n     </g>\r\n    </g>\r\n    <g id=\"xtick_13\">\r\n     <g id=\"line2d_13\">\r\n      <g>\r\n       <use style=\"stroke:#000000;stroke-width:0.8;\" x=\"522.729241\" xlink:href=\"#m44f14d305e\" y=\"554.599219\"/>\r\n      </g>\r\n     </g>\r\n     <g id=\"text_13\">\r\n      <!-- Proline -->\r\n      <g transform=\"translate(525.488616 595.505469)rotate(-90)scale(0.1 -0.1)\">\r\n       <use xlink:href=\"#DejaVuSans-80\"/>\r\n       <use x=\"58.552734\" xlink:href=\"#DejaVuSans-114\"/>\r\n       <use x=\"97.416016\" xlink:href=\"#DejaVuSans-111\"/>\r\n       <use x=\"158.597656\" xlink:href=\"#DejaVuSans-108\"/>\r\n       <use x=\"186.380859\" xlink:href=\"#DejaVuSans-105\"/>\r\n       <use x=\"214.164062\" xlink:href=\"#DejaVuSans-110\"/>\r\n       <use x=\"277.542969\" xlink:href=\"#DejaVuSans-101\"/>\r\n      </g>\r\n     </g>\r\n    </g>\r\n    <g id=\"xtick_14\">\r\n     <g id=\"line2d_14\">\r\n      <g>\r\n       <use style=\"stroke:#000000;stroke-width:0.8;\" x=\"554.614955\" xlink:href=\"#m44f14d305e\" y=\"554.599219\"/>\r\n      </g>\r\n     </g>\r\n     <g id=\"text_14\">\r\n      <!-- Customer_Segment -->\r\n      <g transform=\"translate(557.146987 660.174219)rotate(-90)scale(0.1 -0.1)\">\r\n       <defs>\r\n        <path d=\"M 64.40625 67.28125 \r\nL 64.40625 56.890625 \r\nQ 59.421875 61.53125 53.78125 63.8125 \r\nQ 48.140625 66.109375 41.796875 66.109375 \r\nQ 29.296875 66.109375 22.65625 58.46875 \r\nQ 16.015625 50.828125 16.015625 36.375 \r\nQ 16.015625 21.96875 22.65625 14.328125 \r\nQ 29.296875 6.6875 41.796875 6.6875 \r\nQ 48.140625 6.6875 53.78125 8.984375 \r\nQ 59.421875 11.28125 64.40625 15.921875 \r\nL 64.40625 5.609375 \r\nQ 59.234375 2.09375 53.4375 0.328125 \r\nQ 47.65625 -1.421875 41.21875 -1.421875 \r\nQ 24.65625 -1.421875 15.125 8.703125 \r\nQ 5.609375 18.84375 5.609375 36.375 \r\nQ 5.609375 53.953125 15.125 64.078125 \r\nQ 24.65625 74.21875 41.21875 74.21875 \r\nQ 47.75 74.21875 53.53125 72.484375 \r\nQ 59.328125 70.75 64.40625 67.28125 \r\nz\r\n\" id=\"DejaVuSans-67\"/>\r\n        <path d=\"M 52 44.1875 \r\nQ 55.375 50.25 60.0625 53.125 \r\nQ 64.75 56 71.09375 56 \r\nQ 79.640625 56 84.28125 50.015625 \r\nQ 88.921875 44.046875 88.921875 33.015625 \r\nL 88.921875 0 \r\nL 79.890625 0 \r\nL 79.890625 32.71875 \r\nQ 79.890625 40.578125 77.09375 44.375 \r\nQ 74.3125 48.1875 68.609375 48.1875 \r\nQ 61.625 48.1875 57.5625 43.546875 \r\nQ 53.515625 38.921875 53.515625 30.90625 \r\nL 53.515625 0 \r\nL 44.484375 0 \r\nL 44.484375 32.71875 \r\nQ 44.484375 40.625 41.703125 44.40625 \r\nQ 38.921875 48.1875 33.109375 48.1875 \r\nQ 26.21875 48.1875 22.15625 43.53125 \r\nQ 18.109375 38.875 18.109375 30.90625 \r\nL 18.109375 0 \r\nL 9.078125 0 \r\nL 9.078125 54.6875 \r\nL 18.109375 54.6875 \r\nL 18.109375 46.1875 \r\nQ 21.1875 51.21875 25.484375 53.609375 \r\nQ 29.78125 56 35.6875 56 \r\nQ 41.65625 56 45.828125 52.96875 \r\nQ 50 49.953125 52 44.1875 \r\nz\r\n\" id=\"DejaVuSans-109\"/>\r\n        <path d=\"M 53.515625 70.515625 \r\nL 53.515625 60.890625 \r\nQ 47.90625 63.578125 42.921875 64.890625 \r\nQ 37.9375 66.21875 33.296875 66.21875 \r\nQ 25.25 66.21875 20.875 63.09375 \r\nQ 16.5 59.96875 16.5 54.203125 \r\nQ 16.5 49.359375 19.40625 46.890625 \r\nQ 22.3125 44.4375 30.421875 42.921875 \r\nL 36.375 41.703125 \r\nQ 47.40625 39.59375 52.65625 34.296875 \r\nQ 57.90625 29 57.90625 20.125 \r\nQ 57.90625 9.515625 50.796875 4.046875 \r\nQ 43.703125 -1.421875 29.984375 -1.421875 \r\nQ 24.8125 -1.421875 18.96875 -0.25 \r\nQ 13.140625 0.921875 6.890625 3.21875 \r\nL 6.890625 13.375 \r\nQ 12.890625 10.015625 18.65625 8.296875 \r\nQ 24.421875 6.59375 29.984375 6.59375 \r\nQ 38.421875 6.59375 43.015625 9.90625 \r\nQ 47.609375 13.234375 47.609375 19.390625 \r\nQ 47.609375 24.75 44.3125 27.78125 \r\nQ 41.015625 30.8125 33.5 32.328125 \r\nL 27.484375 33.5 \r\nQ 16.453125 35.6875 11.515625 40.375 \r\nQ 6.59375 45.0625 6.59375 53.421875 \r\nQ 6.59375 63.09375 13.40625 68.65625 \r\nQ 20.21875 74.21875 32.171875 74.21875 \r\nQ 37.3125 74.21875 42.625 73.28125 \r\nQ 47.953125 72.359375 53.515625 70.515625 \r\nz\r\n\" id=\"DejaVuSans-83\"/>\r\n       </defs>\r\n       <use xlink:href=\"#DejaVuSans-67\"/>\r\n       <use x=\"69.824219\" xlink:href=\"#DejaVuSans-117\"/>\r\n       <use x=\"133.203125\" xlink:href=\"#DejaVuSans-115\"/>\r\n       <use x=\"185.302734\" xlink:href=\"#DejaVuSans-116\"/>\r\n       <use x=\"224.511719\" xlink:href=\"#DejaVuSans-111\"/>\r\n       <use x=\"285.693359\" xlink:href=\"#DejaVuSans-109\"/>\r\n       <use x=\"383.105469\" xlink:href=\"#DejaVuSans-101\"/>\r\n       <use x=\"444.628906\" xlink:href=\"#DejaVuSans-114\"/>\r\n       <use x=\"485.742188\" xlink:href=\"#DejaVuSans-95\"/>\r\n       <use x=\"535.742188\" xlink:href=\"#DejaVuSans-83\"/>\r\n       <use x=\"599.21875\" xlink:href=\"#DejaVuSans-101\"/>\r\n       <use x=\"660.742188\" xlink:href=\"#DejaVuSans-103\"/>\r\n       <use x=\"724.21875\" xlink:href=\"#DejaVuSans-109\"/>\r\n       <use x=\"821.630859\" xlink:href=\"#DejaVuSans-101\"/>\r\n       <use x=\"883.154297\" xlink:href=\"#DejaVuSans-110\"/>\r\n       <use x=\"946.533203\" xlink:href=\"#DejaVuSans-116\"/>\r\n      </g>\r\n     </g>\r\n    </g>\r\n   </g>\r\n   <g id=\"matplotlib.axis_2\">\r\n    <g id=\"ytick_1\">\r\n     <g id=\"line2d_15\">\r\n      <defs>\r\n       <path d=\"M 0 0 \r\nL -3.5 0 \r\n\" id=\"mc99b12c72c\" style=\"stroke:#000000;stroke-width:0.8;\"/>\r\n      </defs>\r\n      <g>\r\n       <use style=\"stroke:#000000;stroke-width:0.8;\" x=\"124.157813\" xlink:href=\"#mc99b12c72c\" y=\"30.413504\"/>\r\n      </g>\r\n     </g>\r\n     <g id=\"text_15\">\r\n      <!-- Alcool -->\r\n      <g transform=\"translate(87.025 34.212723)scale(0.1 -0.1)\">\r\n       <use xlink:href=\"#DejaVuSans-65\"/>\r\n       <use x=\"68.408203\" xlink:href=\"#DejaVuSans-108\"/>\r\n       <use x=\"96.191406\" xlink:href=\"#DejaVuSans-99\"/>\r\n       <use x=\"151.171875\" xlink:href=\"#DejaVuSans-111\"/>\r\n       <use x=\"212.353516\" xlink:href=\"#DejaVuSans-111\"/>\r\n       <use x=\"273.535156\" xlink:href=\"#DejaVuSans-108\"/>\r\n      </g>\r\n     </g>\r\n    </g>\r\n    <g id=\"ytick_2\">\r\n     <g id=\"line2d_16\">\r\n      <g>\r\n       <use style=\"stroke:#000000;stroke-width:0.8;\" x=\"124.157813\" xlink:href=\"#mc99b12c72c\" y=\"69.242076\"/>\r\n      </g>\r\n     </g>\r\n     <g id=\"text_16\">\r\n      <!-- Malic_Acid -->\r\n      <g transform=\"translate(65.05625 73.041295)scale(0.1 -0.1)\">\r\n       <use xlink:href=\"#DejaVuSans-77\"/>\r\n       <use x=\"86.279297\" xlink:href=\"#DejaVuSans-97\"/>\r\n       <use x=\"147.558594\" xlink:href=\"#DejaVuSans-108\"/>\r\n       <use x=\"175.341797\" xlink:href=\"#DejaVuSans-105\"/>\r\n       <use x=\"203.125\" xlink:href=\"#DejaVuSans-99\"/>\r\n       <use x=\"258.105469\" xlink:href=\"#DejaVuSans-95\"/>\r\n       <use x=\"308.105469\" xlink:href=\"#DejaVuSans-65\"/>\r\n       <use x=\"374.763672\" xlink:href=\"#DejaVuSans-99\"/>\r\n       <use x=\"429.744141\" xlink:href=\"#DejaVuSans-105\"/>\r\n       <use x=\"457.527344\" xlink:href=\"#DejaVuSans-100\"/>\r\n      </g>\r\n     </g>\r\n    </g>\r\n    <g id=\"ytick_3\">\r\n     <g id=\"line2d_17\">\r\n      <g>\r\n       <use style=\"stroke:#000000;stroke-width:0.8;\" x=\"124.157813\" xlink:href=\"#mc99b12c72c\" y=\"108.070647\"/>\r\n      </g>\r\n     </g>\r\n     <g id=\"text_17\">\r\n      <!-- Po -->\r\n      <g transform=\"translate(105.371875 111.869866)scale(0.1 -0.1)\">\r\n       <use xlink:href=\"#DejaVuSans-80\"/>\r\n       <use x=\"56.677734\" xlink:href=\"#DejaVuSans-111\"/>\r\n      </g>\r\n     </g>\r\n    </g>\r\n    <g id=\"ytick_4\">\r\n     <g id=\"line2d_18\">\r\n      <g>\r\n       <use style=\"stroke:#000000;stroke-width:0.8;\" x=\"124.157813\" xlink:href=\"#mc99b12c72c\" y=\"146.899219\"/>\r\n      </g>\r\n     </g>\r\n     <g id=\"text_18\">\r\n      <!-- Alcalinidade_po -->\r\n      <g transform=\"translate(38.795312 150.698437)scale(0.1 -0.1)\">\r\n       <use xlink:href=\"#DejaVuSans-65\"/>\r\n       <use x=\"68.408203\" xlink:href=\"#DejaVuSans-108\"/>\r\n       <use x=\"96.191406\" xlink:href=\"#DejaVuSans-99\"/>\r\n       <use x=\"151.171875\" xlink:href=\"#DejaVuSans-97\"/>\r\n       <use x=\"212.451172\" xlink:href=\"#DejaVuSans-108\"/>\r\n       <use x=\"240.234375\" xlink:href=\"#DejaVuSans-105\"/>\r\n       <use x=\"268.017578\" xlink:href=\"#DejaVuSans-110\"/>\r\n       <use x=\"331.396484\" xlink:href=\"#DejaVuSans-105\"/>\r\n       <use x=\"359.179688\" xlink:href=\"#DejaVuSans-100\"/>\r\n       <use x=\"422.65625\" xlink:href=\"#DejaVuSans-97\"/>\r\n       <use x=\"483.935547\" xlink:href=\"#DejaVuSans-100\"/>\r\n       <use x=\"547.412109\" xlink:href=\"#DejaVuSans-101\"/>\r\n       <use x=\"608.935547\" xlink:href=\"#DejaVuSans-95\"/>\r\n       <use x=\"658.935547\" xlink:href=\"#DejaVuSans-112\"/>\r\n       <use x=\"722.412109\" xlink:href=\"#DejaVuSans-111\"/>\r\n      </g>\r\n     </g>\r\n    </g>\r\n    <g id=\"ytick_5\">\r\n     <g id=\"line2d_19\">\r\n      <g>\r\n       <use style=\"stroke:#000000;stroke-width:0.8;\" x=\"124.157813\" xlink:href=\"#mc99b12c72c\" y=\"185.72779\"/>\r\n      </g>\r\n     </g>\r\n     <g id=\"text_19\">\r\n      <!-- Magnesio -->\r\n      <g transform=\"translate(69.45625 189.527009)scale(0.1 -0.1)\">\r\n       <use xlink:href=\"#DejaVuSans-77\"/>\r\n       <use x=\"86.279297\" xlink:href=\"#DejaVuSans-97\"/>\r\n       <use x=\"147.558594\" xlink:href=\"#DejaVuSans-103\"/>\r\n       <use x=\"211.035156\" xlink:href=\"#DejaVuSans-110\"/>\r\n       <use x=\"274.414062\" xlink:href=\"#DejaVuSans-101\"/>\r\n       <use x=\"335.9375\" xlink:href=\"#DejaVuSans-115\"/>\r\n       <use x=\"388.037109\" xlink:href=\"#DejaVuSans-105\"/>\r\n       <use x=\"415.820312\" xlink:href=\"#DejaVuSans-111\"/>\r\n      </g>\r\n     </g>\r\n    </g>\r\n    <g id=\"ytick_6\">\r\n     <g id=\"line2d_20\">\r\n      <g>\r\n       <use style=\"stroke:#000000;stroke-width:0.8;\" x=\"124.157813\" xlink:href=\"#mc99b12c72c\" y=\"224.556362\"/>\r\n      </g>\r\n     </g>\r\n     <g id=\"text_20\">\r\n      <!-- Total_Phenols -->\r\n      <g transform=\"translate(49.840625 228.35558)scale(0.1 -0.1)\">\r\n       <use xlink:href=\"#DejaVuSans-84\"/>\r\n       <use x=\"44.083984\" xlink:href=\"#DejaVuSans-111\"/>\r\n       <use x=\"105.265625\" xlink:href=\"#DejaVuSans-116\"/>\r\n       <use x=\"144.474609\" xlink:href=\"#DejaVuSans-97\"/>\r\n       <use x=\"205.753906\" xlink:href=\"#DejaVuSans-108\"/>\r\n       <use x=\"233.537109\" xlink:href=\"#DejaVuSans-95\"/>\r\n       <use x=\"283.537109\" xlink:href=\"#DejaVuSans-80\"/>\r\n       <use x=\"343.839844\" xlink:href=\"#DejaVuSans-104\"/>\r\n       <use x=\"407.21875\" xlink:href=\"#DejaVuSans-101\"/>\r\n       <use x=\"468.742188\" xlink:href=\"#DejaVuSans-110\"/>\r\n       <use x=\"532.121094\" xlink:href=\"#DejaVuSans-111\"/>\r\n       <use x=\"593.302734\" xlink:href=\"#DejaVuSans-108\"/>\r\n       <use x=\"621.085938\" xlink:href=\"#DejaVuSans-115\"/>\r\n      </g>\r\n     </g>\r\n    </g>\r\n    <g id=\"ytick_7\">\r\n     <g id=\"line2d_21\">\r\n      <g>\r\n       <use style=\"stroke:#000000;stroke-width:0.8;\" x=\"124.157813\" xlink:href=\"#mc99b12c72c\" y=\"263.384933\"/>\r\n      </g>\r\n     </g>\r\n     <g id=\"text_21\">\r\n      <!-- Flavanoids -->\r\n      <g transform=\"translate(63.660938 267.184152)scale(0.1 -0.1)\">\r\n       <use xlink:href=\"#DejaVuSans-70\"/>\r\n       <use x=\"57.519531\" xlink:href=\"#DejaVuSans-108\"/>\r\n       <use x=\"85.302734\" xlink:href=\"#DejaVuSans-97\"/>\r\n       <use x=\"146.582031\" xlink:href=\"#DejaVuSans-118\"/>\r\n       <use x=\"205.761719\" xlink:href=\"#DejaVuSans-97\"/>\r\n       <use x=\"267.041016\" xlink:href=\"#DejaVuSans-110\"/>\r\n       <use x=\"330.419922\" xlink:href=\"#DejaVuSans-111\"/>\r\n       <use x=\"391.601562\" xlink:href=\"#DejaVuSans-105\"/>\r\n       <use x=\"419.384766\" xlink:href=\"#DejaVuSans-100\"/>\r\n       <use x=\"482.861328\" xlink:href=\"#DejaVuSans-115\"/>\r\n      </g>\r\n     </g>\r\n    </g>\r\n    <g id=\"ytick_8\">\r\n     <g id=\"line2d_22\">\r\n      <g>\r\n       <use style=\"stroke:#000000;stroke-width:0.8;\" x=\"124.157813\" xlink:href=\"#mc99b12c72c\" y=\"302.213504\"/>\r\n      </g>\r\n     </g>\r\n     <g id=\"text_22\">\r\n      <!-- Nonflavanoid_Phenols -->\r\n      <g transform=\"translate(7.2 306.012723)scale(0.1 -0.1)\">\r\n       <use xlink:href=\"#DejaVuSans-78\"/>\r\n       <use x=\"74.804688\" xlink:href=\"#DejaVuSans-111\"/>\r\n       <use x=\"135.986328\" xlink:href=\"#DejaVuSans-110\"/>\r\n       <use x=\"199.365234\" xlink:href=\"#DejaVuSans-102\"/>\r\n       <use x=\"234.570312\" xlink:href=\"#DejaVuSans-108\"/>\r\n       <use x=\"262.353516\" xlink:href=\"#DejaVuSans-97\"/>\r\n       <use x=\"323.632812\" xlink:href=\"#DejaVuSans-118\"/>\r\n       <use x=\"382.8125\" xlink:href=\"#DejaVuSans-97\"/>\r\n       <use x=\"444.091797\" xlink:href=\"#DejaVuSans-110\"/>\r\n       <use x=\"507.470703\" xlink:href=\"#DejaVuSans-111\"/>\r\n       <use x=\"568.652344\" xlink:href=\"#DejaVuSans-105\"/>\r\n       <use x=\"596.435547\" xlink:href=\"#DejaVuSans-100\"/>\r\n       <use x=\"659.912109\" xlink:href=\"#DejaVuSans-95\"/>\r\n       <use x=\"709.912109\" xlink:href=\"#DejaVuSans-80\"/>\r\n       <use x=\"770.214844\" xlink:href=\"#DejaVuSans-104\"/>\r\n       <use x=\"833.59375\" xlink:href=\"#DejaVuSans-101\"/>\r\n       <use x=\"895.117188\" xlink:href=\"#DejaVuSans-110\"/>\r\n       <use x=\"958.496094\" xlink:href=\"#DejaVuSans-111\"/>\r\n       <use x=\"1019.677734\" xlink:href=\"#DejaVuSans-108\"/>\r\n       <use x=\"1047.460938\" xlink:href=\"#DejaVuSans-115\"/>\r\n      </g>\r\n     </g>\r\n    </g>\r\n    <g id=\"ytick_9\">\r\n     <g id=\"line2d_23\">\r\n      <g>\r\n       <use style=\"stroke:#000000;stroke-width:0.8;\" x=\"124.157813\" xlink:href=\"#mc99b12c72c\" y=\"341.042076\"/>\r\n      </g>\r\n     </g>\r\n     <g id=\"text_23\">\r\n      <!-- Proanthocyanins -->\r\n      <g transform=\"translate(34.248437 344.841295)scale(0.1 -0.1)\">\r\n       <use xlink:href=\"#DejaVuSans-80\"/>\r\n       <use x=\"58.552734\" xlink:href=\"#DejaVuSans-114\"/>\r\n       <use x=\"97.416016\" xlink:href=\"#DejaVuSans-111\"/>\r\n       <use x=\"158.597656\" xlink:href=\"#DejaVuSans-97\"/>\r\n       <use x=\"219.876953\" xlink:href=\"#DejaVuSans-110\"/>\r\n       <use x=\"283.255859\" xlink:href=\"#DejaVuSans-116\"/>\r\n       <use x=\"322.464844\" xlink:href=\"#DejaVuSans-104\"/>\r\n       <use x=\"385.84375\" xlink:href=\"#DejaVuSans-111\"/>\r\n       <use x=\"447.025391\" xlink:href=\"#DejaVuSans-99\"/>\r\n       <use x=\"502.005859\" xlink:href=\"#DejaVuSans-121\"/>\r\n       <use x=\"561.185547\" xlink:href=\"#DejaVuSans-97\"/>\r\n       <use x=\"622.464844\" xlink:href=\"#DejaVuSans-110\"/>\r\n       <use x=\"685.84375\" xlink:href=\"#DejaVuSans-105\"/>\r\n       <use x=\"713.626953\" xlink:href=\"#DejaVuSans-110\"/>\r\n       <use x=\"777.005859\" xlink:href=\"#DejaVuSans-115\"/>\r\n      </g>\r\n     </g>\r\n    </g>\r\n    <g id=\"ytick_10\">\r\n     <g id=\"line2d_24\">\r\n      <g>\r\n       <use style=\"stroke:#000000;stroke-width:0.8;\" x=\"124.157813\" xlink:href=\"#mc99b12c72c\" y=\"379.870647\"/>\r\n      </g>\r\n     </g>\r\n     <g id=\"text_24\">\r\n      <!-- Intensidade_de_cor -->\r\n      <g transform=\"translate(20.264062 383.669866)scale(0.1 -0.1)\">\r\n       <use xlink:href=\"#DejaVuSans-73\"/>\r\n       <use x=\"29.492188\" xlink:href=\"#DejaVuSans-110\"/>\r\n       <use x=\"92.871094\" xlink:href=\"#DejaVuSans-116\"/>\r\n       <use x=\"132.080078\" xlink:href=\"#DejaVuSans-101\"/>\r\n       <use x=\"193.603516\" xlink:href=\"#DejaVuSans-110\"/>\r\n       <use x=\"256.982422\" xlink:href=\"#DejaVuSans-115\"/>\r\n       <use x=\"309.082031\" xlink:href=\"#DejaVuSans-105\"/>\r\n       <use x=\"336.865234\" xlink:href=\"#DejaVuSans-100\"/>\r\n       <use x=\"400.341797\" xlink:href=\"#DejaVuSans-97\"/>\r\n       <use x=\"461.621094\" xlink:href=\"#DejaVuSans-100\"/>\r\n       <use x=\"525.097656\" xlink:href=\"#DejaVuSans-101\"/>\r\n       <use x=\"586.621094\" xlink:href=\"#DejaVuSans-95\"/>\r\n       <use x=\"636.621094\" xlink:href=\"#DejaVuSans-100\"/>\r\n       <use x=\"700.097656\" xlink:href=\"#DejaVuSans-101\"/>\r\n       <use x=\"761.621094\" xlink:href=\"#DejaVuSans-95\"/>\r\n       <use x=\"811.621094\" xlink:href=\"#DejaVuSans-99\"/>\r\n       <use x=\"866.601562\" xlink:href=\"#DejaVuSans-111\"/>\r\n       <use x=\"927.783203\" xlink:href=\"#DejaVuSans-114\"/>\r\n      </g>\r\n     </g>\r\n    </g>\r\n    <g id=\"ytick_11\">\r\n     <g id=\"line2d_25\">\r\n      <g>\r\n       <use style=\"stroke:#000000;stroke-width:0.8;\" x=\"124.157813\" xlink:href=\"#mc99b12c72c\" y=\"418.699219\"/>\r\n      </g>\r\n     </g>\r\n     <g id=\"text_25\">\r\n      <!-- Hue -->\r\n      <g transform=\"translate(97.146875 422.498437)scale(0.1 -0.1)\">\r\n       <use xlink:href=\"#DejaVuSans-72\"/>\r\n       <use x=\"75.195312\" xlink:href=\"#DejaVuSans-117\"/>\r\n       <use x=\"138.574219\" xlink:href=\"#DejaVuSans-101\"/>\r\n      </g>\r\n     </g>\r\n    </g>\r\n    <g id=\"ytick_12\">\r\n     <g id=\"line2d_26\">\r\n      <g>\r\n       <use style=\"stroke:#000000;stroke-width:0.8;\" x=\"124.157813\" xlink:href=\"#mc99b12c72c\" y=\"457.52779\"/>\r\n      </g>\r\n     </g>\r\n     <g id=\"text_26\">\r\n      <!-- OD280 -->\r\n      <g transform=\"translate(82.498437 461.327009)scale(0.1 -0.1)\">\r\n       <use xlink:href=\"#DejaVuSans-79\"/>\r\n       <use x=\"78.710938\" xlink:href=\"#DejaVuSans-68\"/>\r\n       <use x=\"155.712891\" xlink:href=\"#DejaVuSans-50\"/>\r\n       <use x=\"219.335938\" xlink:href=\"#DejaVuSans-56\"/>\r\n       <use x=\"282.958984\" xlink:href=\"#DejaVuSans-48\"/>\r\n      </g>\r\n     </g>\r\n    </g>\r\n    <g id=\"ytick_13\">\r\n     <g id=\"line2d_27\">\r\n      <g>\r\n       <use style=\"stroke:#000000;stroke-width:0.8;\" x=\"124.157813\" xlink:href=\"#mc99b12c72c\" y=\"496.356362\"/>\r\n      </g>\r\n     </g>\r\n     <g id=\"text_27\">\r\n      <!-- Proline -->\r\n      <g transform=\"translate(83.251563 500.15558)scale(0.1 -0.1)\">\r\n       <use xlink:href=\"#DejaVuSans-80\"/>\r\n       <use x=\"58.552734\" xlink:href=\"#DejaVuSans-114\"/>\r\n       <use x=\"97.416016\" xlink:href=\"#DejaVuSans-111\"/>\r\n       <use x=\"158.597656\" xlink:href=\"#DejaVuSans-108\"/>\r\n       <use x=\"186.380859\" xlink:href=\"#DejaVuSans-105\"/>\r\n       <use x=\"214.164062\" xlink:href=\"#DejaVuSans-110\"/>\r\n       <use x=\"277.542969\" xlink:href=\"#DejaVuSans-101\"/>\r\n      </g>\r\n     </g>\r\n    </g>\r\n    <g id=\"ytick_14\">\r\n     <g id=\"line2d_28\">\r\n      <g>\r\n       <use style=\"stroke:#000000;stroke-width:0.8;\" x=\"124.157813\" xlink:href=\"#mc99b12c72c\" y=\"535.184933\"/>\r\n      </g>\r\n     </g>\r\n     <g id=\"text_28\">\r\n      <!-- Customer_Segment -->\r\n      <g transform=\"translate(18.582813 538.895871)scale(0.1 -0.1)\">\r\n       <use xlink:href=\"#DejaVuSans-67\"/>\r\n       <use x=\"69.824219\" xlink:href=\"#DejaVuSans-117\"/>\r\n       <use x=\"133.203125\" xlink:href=\"#DejaVuSans-115\"/>\r\n       <use x=\"185.302734\" xlink:href=\"#DejaVuSans-116\"/>\r\n       <use x=\"224.511719\" xlink:href=\"#DejaVuSans-111\"/>\r\n       <use x=\"285.693359\" xlink:href=\"#DejaVuSans-109\"/>\r\n       <use x=\"383.105469\" xlink:href=\"#DejaVuSans-101\"/>\r\n       <use x=\"444.628906\" xlink:href=\"#DejaVuSans-114\"/>\r\n       <use x=\"485.742188\" xlink:href=\"#DejaVuSans-95\"/>\r\n       <use x=\"535.742188\" xlink:href=\"#DejaVuSans-83\"/>\r\n       <use x=\"599.21875\" xlink:href=\"#DejaVuSans-101\"/>\r\n       <use x=\"660.742188\" xlink:href=\"#DejaVuSans-103\"/>\r\n       <use x=\"724.21875\" xlink:href=\"#DejaVuSans-109\"/>\r\n       <use x=\"821.630859\" xlink:href=\"#DejaVuSans-101\"/>\r\n       <use x=\"883.154297\" xlink:href=\"#DejaVuSans-110\"/>\r\n       <use x=\"946.533203\" xlink:href=\"#DejaVuSans-116\"/>\r\n      </g>\r\n     </g>\r\n    </g>\r\n   </g>\r\n   <g id=\"text_29\">\r\n    <!-- 1 -->\r\n    <g style=\"fill:#262626;\" transform=\"translate(136.91942 33.172879)scale(0.1 -0.1)\">\r\n     <defs>\r\n      <path d=\"M 12.40625 8.296875 \r\nL 28.515625 8.296875 \r\nL 28.515625 63.921875 \r\nL 10.984375 60.40625 \r\nL 10.984375 69.390625 \r\nL 28.421875 72.90625 \r\nL 38.28125 72.90625 \r\nL 38.28125 8.296875 \r\nL 54.390625 8.296875 \r\nL 54.390625 0 \r\nL 12.40625 0 \r\nz\r\n\" id=\"DejaVuSans-49\"/>\r\n     </defs>\r\n     <use xlink:href=\"#DejaVuSans-49\"/>\r\n    </g>\r\n   </g>\r\n   <g id=\"text_30\">\r\n    <!-- 0.094 -->\r\n    <g style=\"fill:#ffffff;\" transform=\"translate(157.672321 33.172879)scale(0.1 -0.1)\">\r\n     <defs>\r\n      <path d=\"M 10.6875 12.40625 \r\nL 21 12.40625 \r\nL 21 0 \r\nL 10.6875 0 \r\nz\r\n\" id=\"DejaVuSans-46\"/>\r\n      <path d=\"M 10.984375 1.515625 \r\nL 10.984375 10.5 \r\nQ 14.703125 8.734375 18.5 7.8125 \r\nQ 22.3125 6.890625 25.984375 6.890625 \r\nQ 35.75 6.890625 40.890625 13.453125 \r\nQ 46.046875 20.015625 46.78125 33.40625 \r\nQ 43.953125 29.203125 39.59375 26.953125 \r\nQ 35.25 24.703125 29.984375 24.703125 \r\nQ 19.046875 24.703125 12.671875 31.3125 \r\nQ 6.296875 37.9375 6.296875 49.421875 \r\nQ 6.296875 60.640625 12.9375 67.421875 \r\nQ 19.578125 74.21875 30.609375 74.21875 \r\nQ 43.265625 74.21875 49.921875 64.515625 \r\nQ 56.59375 54.828125 56.59375 36.375 \r\nQ 56.59375 19.140625 48.40625 8.859375 \r\nQ 40.234375 -1.421875 26.421875 -1.421875 \r\nQ 22.703125 -1.421875 18.890625 -0.6875 \r\nQ 15.09375 0.046875 10.984375 1.515625 \r\nz\r\nM 30.609375 32.421875 \r\nQ 37.25 32.421875 41.125 36.953125 \r\nQ 45.015625 41.5 45.015625 49.421875 \r\nQ 45.015625 57.28125 41.125 61.84375 \r\nQ 37.25 66.40625 30.609375 66.40625 \r\nQ 23.96875 66.40625 20.09375 61.84375 \r\nQ 16.21875 57.28125 16.21875 49.421875 \r\nQ 16.21875 41.5 20.09375 36.953125 \r\nQ 23.96875 32.421875 30.609375 32.421875 \r\nz\r\n\" id=\"DejaVuSans-57\"/>\r\n      <path d=\"M 37.796875 64.3125 \r\nL 12.890625 25.390625 \r\nL 37.796875 25.390625 \r\nz\r\nM 35.203125 72.90625 \r\nL 47.609375 72.90625 \r\nL 47.609375 25.390625 \r\nL 58.015625 25.390625 \r\nL 58.015625 17.1875 \r\nL 47.609375 17.1875 \r\nL 47.609375 0 \r\nL 37.796875 0 \r\nL 37.796875 17.1875 \r\nL 4.890625 17.1875 \r\nL 4.890625 26.703125 \r\nz\r\n\" id=\"DejaVuSans-52\"/>\r\n     </defs>\r\n     <use xlink:href=\"#DejaVuSans-48\"/>\r\n     <use x=\"63.623047\" xlink:href=\"#DejaVuSans-46\"/>\r\n     <use x=\"95.410156\" xlink:href=\"#DejaVuSans-48\"/>\r\n     <use x=\"159.033203\" xlink:href=\"#DejaVuSans-57\"/>\r\n     <use x=\"222.65625\" xlink:href=\"#DejaVuSans-52\"/>\r\n    </g>\r\n   </g>\r\n   <g id=\"text_31\">\r\n    <!-- 0.21 -->\r\n    <g style=\"fill:#ffffff;\" transform=\"translate(192.739286 33.172879)scale(0.1 -0.1)\">\r\n     <use xlink:href=\"#DejaVuSans-48\"/>\r\n     <use x=\"63.623047\" xlink:href=\"#DejaVuSans-46\"/>\r\n     <use x=\"95.410156\" xlink:href=\"#DejaVuSans-50\"/>\r\n     <use x=\"159.033203\" xlink:href=\"#DejaVuSans-49\"/>\r\n    </g>\r\n   </g>\r\n   <g id=\"text_32\">\r\n    <!-- -0.31 -->\r\n    <g style=\"fill:#ffffff;\" transform=\"translate(222.821094 33.172879)scale(0.1 -0.1)\">\r\n     <defs>\r\n      <path d=\"M 4.890625 31.390625 \r\nL 31.203125 31.390625 \r\nL 31.203125 23.390625 \r\nL 4.890625 23.390625 \r\nz\r\n\" id=\"DejaVuSans-45\"/>\r\n      <path d=\"M 40.578125 39.3125 \r\nQ 47.65625 37.796875 51.625 33 \r\nQ 55.609375 28.21875 55.609375 21.1875 \r\nQ 55.609375 10.40625 48.1875 4.484375 \r\nQ 40.765625 -1.421875 27.09375 -1.421875 \r\nQ 22.515625 -1.421875 17.65625 -0.515625 \r\nQ 12.796875 0.390625 7.625 2.203125 \r\nL 7.625 11.71875 \r\nQ 11.71875 9.328125 16.59375 8.109375 \r\nQ 21.484375 6.890625 26.8125 6.890625 \r\nQ 36.078125 6.890625 40.9375 10.546875 \r\nQ 45.796875 14.203125 45.796875 21.1875 \r\nQ 45.796875 27.640625 41.28125 31.265625 \r\nQ 36.765625 34.90625 28.71875 34.90625 \r\nL 20.21875 34.90625 \r\nL 20.21875 43.015625 \r\nL 29.109375 43.015625 \r\nQ 36.375 43.015625 40.234375 45.921875 \r\nQ 44.09375 48.828125 44.09375 54.296875 \r\nQ 44.09375 59.90625 40.109375 62.90625 \r\nQ 36.140625 65.921875 28.71875 65.921875 \r\nQ 24.65625 65.921875 20.015625 65.03125 \r\nQ 15.375 64.15625 9.8125 62.3125 \r\nL 9.8125 71.09375 \r\nQ 15.4375 72.65625 20.34375 73.4375 \r\nQ 25.25 74.21875 29.59375 74.21875 \r\nQ 40.828125 74.21875 47.359375 69.109375 \r\nQ 53.90625 64.015625 53.90625 55.328125 \r\nQ 53.90625 49.265625 50.4375 45.09375 \r\nQ 46.96875 40.921875 40.578125 39.3125 \r\nz\r\n\" id=\"DejaVuSans-51\"/>\r\n     </defs>\r\n     <use xlink:href=\"#DejaVuSans-45\"/>\r\n     <use x=\"36.083984\" xlink:href=\"#DejaVuSans-48\"/>\r\n     <use x=\"99.707031\" xlink:href=\"#DejaVuSans-46\"/>\r\n     <use x=\"131.494141\" xlink:href=\"#DejaVuSans-51\"/>\r\n     <use x=\"195.117188\" xlink:href=\"#DejaVuSans-49\"/>\r\n    </g>\r\n   </g>\r\n   <g id=\"text_33\">\r\n    <!-- 0.27 -->\r\n    <g style=\"fill:#ffffff;\" transform=\"translate(256.510714 33.172879)scale(0.1 -0.1)\">\r\n     <defs>\r\n      <path d=\"M 8.203125 72.90625 \r\nL 55.078125 72.90625 \r\nL 55.078125 68.703125 \r\nL 28.609375 0 \r\nL 18.3125 0 \r\nL 43.21875 64.59375 \r\nL 8.203125 64.59375 \r\nz\r\n\" id=\"DejaVuSans-55\"/>\r\n     </defs>\r\n     <use xlink:href=\"#DejaVuSans-48\"/>\r\n     <use x=\"63.623047\" xlink:href=\"#DejaVuSans-46\"/>\r\n     <use x=\"95.410156\" xlink:href=\"#DejaVuSans-50\"/>\r\n     <use x=\"159.033203\" xlink:href=\"#DejaVuSans-55\"/>\r\n    </g>\r\n   </g>\r\n   <g id=\"text_34\">\r\n    <!-- 0.29 -->\r\n    <g style=\"fill:#ffffff;\" transform=\"translate(288.396429 33.172879)scale(0.1 -0.1)\">\r\n     <use xlink:href=\"#DejaVuSans-48\"/>\r\n     <use x=\"63.623047\" xlink:href=\"#DejaVuSans-46\"/>\r\n     <use x=\"95.410156\" xlink:href=\"#DejaVuSans-50\"/>\r\n     <use x=\"159.033203\" xlink:href=\"#DejaVuSans-57\"/>\r\n    </g>\r\n   </g>\r\n   <g id=\"text_35\">\r\n    <!-- 0.24 -->\r\n    <g style=\"fill:#ffffff;\" transform=\"translate(320.282143 33.172879)scale(0.1 -0.1)\">\r\n     <use xlink:href=\"#DejaVuSans-48\"/>\r\n     <use x=\"63.623047\" xlink:href=\"#DejaVuSans-46\"/>\r\n     <use x=\"95.410156\" xlink:href=\"#DejaVuSans-50\"/>\r\n     <use x=\"159.033203\" xlink:href=\"#DejaVuSans-52\"/>\r\n    </g>\r\n   </g>\r\n   <g id=\"text_36\">\r\n    <!-- -0.16 -->\r\n    <g style=\"fill:#ffffff;\" transform=\"translate(350.363951 33.172879)scale(0.1 -0.1)\">\r\n     <defs>\r\n      <path d=\"M 33.015625 40.375 \r\nQ 26.375 40.375 22.484375 35.828125 \r\nQ 18.609375 31.296875 18.609375 23.390625 \r\nQ 18.609375 15.53125 22.484375 10.953125 \r\nQ 26.375 6.390625 33.015625 6.390625 \r\nQ 39.65625 6.390625 43.53125 10.953125 \r\nQ 47.40625 15.53125 47.40625 23.390625 \r\nQ 47.40625 31.296875 43.53125 35.828125 \r\nQ 39.65625 40.375 33.015625 40.375 \r\nz\r\nM 52.59375 71.296875 \r\nL 52.59375 62.3125 \r\nQ 48.875 64.0625 45.09375 64.984375 \r\nQ 41.3125 65.921875 37.59375 65.921875 \r\nQ 27.828125 65.921875 22.671875 59.328125 \r\nQ 17.53125 52.734375 16.796875 39.40625 \r\nQ 19.671875 43.65625 24.015625 45.921875 \r\nQ 28.375 48.1875 33.59375 48.1875 \r\nQ 44.578125 48.1875 50.953125 41.515625 \r\nQ 57.328125 34.859375 57.328125 23.390625 \r\nQ 57.328125 12.15625 50.6875 5.359375 \r\nQ 44.046875 -1.421875 33.015625 -1.421875 \r\nQ 20.359375 -1.421875 13.671875 8.265625 \r\nQ 6.984375 17.96875 6.984375 36.375 \r\nQ 6.984375 53.65625 15.1875 63.9375 \r\nQ 23.390625 74.21875 37.203125 74.21875 \r\nQ 40.921875 74.21875 44.703125 73.484375 \r\nQ 48.484375 72.75 52.59375 71.296875 \r\nz\r\n\" id=\"DejaVuSans-54\"/>\r\n     </defs>\r\n     <use xlink:href=\"#DejaVuSans-45\"/>\r\n     <use x=\"36.083984\" xlink:href=\"#DejaVuSans-48\"/>\r\n     <use x=\"99.707031\" xlink:href=\"#DejaVuSans-46\"/>\r\n     <use x=\"131.494141\" xlink:href=\"#DejaVuSans-49\"/>\r\n     <use x=\"195.117188\" xlink:href=\"#DejaVuSans-54\"/>\r\n    </g>\r\n   </g>\r\n   <g id=\"text_37\">\r\n    <!-- 0.14 -->\r\n    <g style=\"fill:#ffffff;\" transform=\"translate(384.053571 33.172879)scale(0.1 -0.1)\">\r\n     <use xlink:href=\"#DejaVuSans-48\"/>\r\n     <use x=\"63.623047\" xlink:href=\"#DejaVuSans-46\"/>\r\n     <use x=\"95.410156\" xlink:href=\"#DejaVuSans-49\"/>\r\n     <use x=\"159.033203\" xlink:href=\"#DejaVuSans-52\"/>\r\n    </g>\r\n   </g>\r\n   <g id=\"text_38\">\r\n    <!-- 0.55 -->\r\n    <g style=\"fill:#ffffff;\" transform=\"translate(415.939286 33.172879)scale(0.1 -0.1)\">\r\n     <defs>\r\n      <path d=\"M 10.796875 72.90625 \r\nL 49.515625 72.90625 \r\nL 49.515625 64.59375 \r\nL 19.828125 64.59375 \r\nL 19.828125 46.734375 \r\nQ 21.96875 47.46875 24.109375 47.828125 \r\nQ 26.265625 48.1875 28.421875 48.1875 \r\nQ 40.625 48.1875 47.75 41.5 \r\nQ 54.890625 34.8125 54.890625 23.390625 \r\nQ 54.890625 11.625 47.5625 5.09375 \r\nQ 40.234375 -1.421875 26.90625 -1.421875 \r\nQ 22.3125 -1.421875 17.546875 -0.640625 \r\nQ 12.796875 0.140625 7.71875 1.703125 \r\nL 7.71875 11.625 \r\nQ 12.109375 9.234375 16.796875 8.0625 \r\nQ 21.484375 6.890625 26.703125 6.890625 \r\nQ 35.15625 6.890625 40.078125 11.328125 \r\nQ 45.015625 15.765625 45.015625 23.390625 \r\nQ 45.015625 31 40.078125 35.4375 \r\nQ 35.15625 39.890625 26.703125 39.890625 \r\nQ 22.75 39.890625 18.8125 39.015625 \r\nQ 14.890625 38.140625 10.796875 36.28125 \r\nz\r\n\" id=\"DejaVuSans-53\"/>\r\n     </defs>\r\n     <use xlink:href=\"#DejaVuSans-48\"/>\r\n     <use x=\"63.623047\" xlink:href=\"#DejaVuSans-46\"/>\r\n     <use x=\"95.410156\" xlink:href=\"#DejaVuSans-53\"/>\r\n     <use x=\"159.033203\" xlink:href=\"#DejaVuSans-53\"/>\r\n    </g>\r\n   </g>\r\n   <g id=\"text_39\">\r\n    <!-- -0.072 -->\r\n    <g style=\"fill:#ffffff;\" transform=\"translate(442.839844 33.172879)scale(0.1 -0.1)\">\r\n     <use xlink:href=\"#DejaVuSans-45\"/>\r\n     <use x=\"36.083984\" xlink:href=\"#DejaVuSans-48\"/>\r\n     <use x=\"99.707031\" xlink:href=\"#DejaVuSans-46\"/>\r\n     <use x=\"131.494141\" xlink:href=\"#DejaVuSans-48\"/>\r\n     <use x=\"195.117188\" xlink:href=\"#DejaVuSans-55\"/>\r\n     <use x=\"258.740234\" xlink:href=\"#DejaVuSans-50\"/>\r\n    </g>\r\n   </g>\r\n   <g id=\"text_40\">\r\n    <!-- 0.072 -->\r\n    <g style=\"fill:#ffffff;\" transform=\"translate(476.529464 33.172879)scale(0.1 -0.1)\">\r\n     <use xlink:href=\"#DejaVuSans-48\"/>\r\n     <use x=\"63.623047\" xlink:href=\"#DejaVuSans-46\"/>\r\n     <use x=\"95.410156\" xlink:href=\"#DejaVuSans-48\"/>\r\n     <use x=\"159.033203\" xlink:href=\"#DejaVuSans-55\"/>\r\n     <use x=\"222.65625\" xlink:href=\"#DejaVuSans-50\"/>\r\n    </g>\r\n   </g>\r\n   <g id=\"text_41\">\r\n    <!-- 0.64 -->\r\n    <g style=\"fill:#262626;\" transform=\"translate(511.596429 33.172879)scale(0.1 -0.1)\">\r\n     <use xlink:href=\"#DejaVuSans-48\"/>\r\n     <use x=\"63.623047\" xlink:href=\"#DejaVuSans-46\"/>\r\n     <use x=\"95.410156\" xlink:href=\"#DejaVuSans-54\"/>\r\n     <use x=\"159.033203\" xlink:href=\"#DejaVuSans-52\"/>\r\n    </g>\r\n   </g>\r\n   <g id=\"text_42\">\r\n    <!-- -0.33 -->\r\n    <g style=\"fill:#ffffff;\" transform=\"translate(541.678237 33.172879)scale(0.1 -0.1)\">\r\n     <use xlink:href=\"#DejaVuSans-45\"/>\r\n     <use x=\"36.083984\" xlink:href=\"#DejaVuSans-48\"/>\r\n     <use x=\"99.707031\" xlink:href=\"#DejaVuSans-46\"/>\r\n     <use x=\"131.494141\" xlink:href=\"#DejaVuSans-51\"/>\r\n     <use x=\"195.117188\" xlink:href=\"#DejaVuSans-51\"/>\r\n    </g>\r\n   </g>\r\n   <g id=\"text_43\">\r\n    <!-- 0.094 -->\r\n    <g style=\"fill:#ffffff;\" transform=\"translate(125.786607 72.001451)scale(0.1 -0.1)\">\r\n     <use xlink:href=\"#DejaVuSans-48\"/>\r\n     <use x=\"63.623047\" xlink:href=\"#DejaVuSans-46\"/>\r\n     <use x=\"95.410156\" xlink:href=\"#DejaVuSans-48\"/>\r\n     <use x=\"159.033203\" xlink:href=\"#DejaVuSans-57\"/>\r\n     <use x=\"222.65625\" xlink:href=\"#DejaVuSans-52\"/>\r\n    </g>\r\n   </g>\r\n   <g id=\"text_44\">\r\n    <!-- 1 -->\r\n    <g style=\"fill:#262626;\" transform=\"translate(168.805134 72.001451)scale(0.1 -0.1)\">\r\n     <use xlink:href=\"#DejaVuSans-49\"/>\r\n    </g>\r\n   </g>\r\n   <g id=\"text_45\">\r\n    <!-- 0.16 -->\r\n    <g style=\"fill:#ffffff;\" transform=\"translate(192.739286 72.001451)scale(0.1 -0.1)\">\r\n     <use xlink:href=\"#DejaVuSans-48\"/>\r\n     <use x=\"63.623047\" xlink:href=\"#DejaVuSans-46\"/>\r\n     <use x=\"95.410156\" xlink:href=\"#DejaVuSans-49\"/>\r\n     <use x=\"159.033203\" xlink:href=\"#DejaVuSans-54\"/>\r\n    </g>\r\n   </g>\r\n   <g id=\"text_46\">\r\n    <!-- 0.29 -->\r\n    <g style=\"fill:#ffffff;\" transform=\"translate(224.625 72.001451)scale(0.1 -0.1)\">\r\n     <use xlink:href=\"#DejaVuSans-48\"/>\r\n     <use x=\"63.623047\" xlink:href=\"#DejaVuSans-46\"/>\r\n     <use x=\"95.410156\" xlink:href=\"#DejaVuSans-50\"/>\r\n     <use x=\"159.033203\" xlink:href=\"#DejaVuSans-57\"/>\r\n    </g>\r\n   </g>\r\n   <g id=\"text_47\">\r\n    <!-- -0.055 -->\r\n    <g style=\"fill:#ffffff;\" transform=\"translate(251.525558 72.001451)scale(0.1 -0.1)\">\r\n     <use xlink:href=\"#DejaVuSans-45\"/>\r\n     <use x=\"36.083984\" xlink:href=\"#DejaVuSans-48\"/>\r\n     <use x=\"99.707031\" xlink:href=\"#DejaVuSans-46\"/>\r\n     <use x=\"131.494141\" xlink:href=\"#DejaVuSans-48\"/>\r\n     <use x=\"195.117188\" xlink:href=\"#DejaVuSans-53\"/>\r\n     <use x=\"258.740234\" xlink:href=\"#DejaVuSans-53\"/>\r\n    </g>\r\n   </g>\r\n   <g id=\"text_48\">\r\n    <!-- -0.34 -->\r\n    <g style=\"fill:#ffffff;\" transform=\"translate(286.592522 72.001451)scale(0.1 -0.1)\">\r\n     <use xlink:href=\"#DejaVuSans-45\"/>\r\n     <use x=\"36.083984\" xlink:href=\"#DejaVuSans-48\"/>\r\n     <use x=\"99.707031\" xlink:href=\"#DejaVuSans-46\"/>\r\n     <use x=\"131.494141\" xlink:href=\"#DejaVuSans-51\"/>\r\n     <use x=\"195.117188\" xlink:href=\"#DejaVuSans-52\"/>\r\n    </g>\r\n   </g>\r\n   <g id=\"text_49\">\r\n    <!-- -0.41 -->\r\n    <g style=\"fill:#ffffff;\" transform=\"translate(318.478237 72.001451)scale(0.1 -0.1)\">\r\n     <use xlink:href=\"#DejaVuSans-45\"/>\r\n     <use x=\"36.083984\" xlink:href=\"#DejaVuSans-48\"/>\r\n     <use x=\"99.707031\" xlink:href=\"#DejaVuSans-46\"/>\r\n     <use x=\"131.494141\" xlink:href=\"#DejaVuSans-52\"/>\r\n     <use x=\"195.117188\" xlink:href=\"#DejaVuSans-49\"/>\r\n    </g>\r\n   </g>\r\n   <g id=\"text_50\">\r\n    <!-- 0.29 -->\r\n    <g style=\"fill:#ffffff;\" transform=\"translate(352.167857 72.001451)scale(0.1 -0.1)\">\r\n     <use xlink:href=\"#DejaVuSans-48\"/>\r\n     <use x=\"63.623047\" xlink:href=\"#DejaVuSans-46\"/>\r\n     <use x=\"95.410156\" xlink:href=\"#DejaVuSans-50\"/>\r\n     <use x=\"159.033203\" xlink:href=\"#DejaVuSans-57\"/>\r\n    </g>\r\n   </g>\r\n   <g id=\"text_51\">\r\n    <!-- -0.22 -->\r\n    <g style=\"fill:#ffffff;\" transform=\"translate(382.249665 72.001451)scale(0.1 -0.1)\">\r\n     <use xlink:href=\"#DejaVuSans-45\"/>\r\n     <use x=\"36.083984\" xlink:href=\"#DejaVuSans-48\"/>\r\n     <use x=\"99.707031\" xlink:href=\"#DejaVuSans-46\"/>\r\n     <use x=\"131.494141\" xlink:href=\"#DejaVuSans-50\"/>\r\n     <use x=\"195.117188\" xlink:href=\"#DejaVuSans-50\"/>\r\n    </g>\r\n   </g>\r\n   <g id=\"text_52\">\r\n    <!-- 0.25 -->\r\n    <g style=\"fill:#ffffff;\" transform=\"translate(415.939286 72.001451)scale(0.1 -0.1)\">\r\n     <use xlink:href=\"#DejaVuSans-48\"/>\r\n     <use x=\"63.623047\" xlink:href=\"#DejaVuSans-46\"/>\r\n     <use x=\"95.410156\" xlink:href=\"#DejaVuSans-50\"/>\r\n     <use x=\"159.033203\" xlink:href=\"#DejaVuSans-53\"/>\r\n    </g>\r\n   </g>\r\n   <g id=\"text_53\">\r\n    <!-- -0.56 -->\r\n    <g style=\"fill:#ffffff;\" transform=\"translate(446.021094 72.001451)scale(0.1 -0.1)\">\r\n     <use xlink:href=\"#DejaVuSans-45\"/>\r\n     <use x=\"36.083984\" xlink:href=\"#DejaVuSans-48\"/>\r\n     <use x=\"99.707031\" xlink:href=\"#DejaVuSans-46\"/>\r\n     <use x=\"131.494141\" xlink:href=\"#DejaVuSans-53\"/>\r\n     <use x=\"195.117188\" xlink:href=\"#DejaVuSans-54\"/>\r\n    </g>\r\n   </g>\r\n   <g id=\"text_54\">\r\n    <!-- -0.37 -->\r\n    <g style=\"fill:#ffffff;\" transform=\"translate(477.906808 72.001451)scale(0.1 -0.1)\">\r\n     <use xlink:href=\"#DejaVuSans-45\"/>\r\n     <use x=\"36.083984\" xlink:href=\"#DejaVuSans-48\"/>\r\n     <use x=\"99.707031\" xlink:href=\"#DejaVuSans-46\"/>\r\n     <use x=\"131.494141\" xlink:href=\"#DejaVuSans-51\"/>\r\n     <use x=\"195.117188\" xlink:href=\"#DejaVuSans-55\"/>\r\n    </g>\r\n   </g>\r\n   <g id=\"text_55\">\r\n    <!-- -0.19 -->\r\n    <g style=\"fill:#ffffff;\" transform=\"translate(509.792522 72.001451)scale(0.1 -0.1)\">\r\n     <use xlink:href=\"#DejaVuSans-45\"/>\r\n     <use x=\"36.083984\" xlink:href=\"#DejaVuSans-48\"/>\r\n     <use x=\"99.707031\" xlink:href=\"#DejaVuSans-46\"/>\r\n     <use x=\"131.494141\" xlink:href=\"#DejaVuSans-49\"/>\r\n     <use x=\"195.117188\" xlink:href=\"#DejaVuSans-57\"/>\r\n    </g>\r\n   </g>\r\n   <g id=\"text_56\">\r\n    <!-- 0.44 -->\r\n    <g style=\"fill:#ffffff;\" transform=\"translate(543.482143 72.001451)scale(0.1 -0.1)\">\r\n     <use xlink:href=\"#DejaVuSans-48\"/>\r\n     <use x=\"63.623047\" xlink:href=\"#DejaVuSans-46\"/>\r\n     <use x=\"95.410156\" xlink:href=\"#DejaVuSans-52\"/>\r\n     <use x=\"159.033203\" xlink:href=\"#DejaVuSans-52\"/>\r\n    </g>\r\n   </g>\r\n   <g id=\"text_57\">\r\n    <!-- 0.21 -->\r\n    <g style=\"fill:#ffffff;\" transform=\"translate(128.967857 110.830022)scale(0.1 -0.1)\">\r\n     <use xlink:href=\"#DejaVuSans-48\"/>\r\n     <use x=\"63.623047\" xlink:href=\"#DejaVuSans-46\"/>\r\n     <use x=\"95.410156\" xlink:href=\"#DejaVuSans-50\"/>\r\n     <use x=\"159.033203\" xlink:href=\"#DejaVuSans-49\"/>\r\n    </g>\r\n   </g>\r\n   <g id=\"text_58\">\r\n    <!-- 0.16 -->\r\n    <g style=\"fill:#ffffff;\" transform=\"translate(160.853571 110.830022)scale(0.1 -0.1)\">\r\n     <use xlink:href=\"#DejaVuSans-48\"/>\r\n     <use x=\"63.623047\" xlink:href=\"#DejaVuSans-46\"/>\r\n     <use x=\"95.410156\" xlink:href=\"#DejaVuSans-49\"/>\r\n     <use x=\"159.033203\" xlink:href=\"#DejaVuSans-54\"/>\r\n    </g>\r\n   </g>\r\n   <g id=\"text_59\">\r\n    <!-- 1 -->\r\n    <g style=\"fill:#262626;\" transform=\"translate(200.690848 110.830022)scale(0.1 -0.1)\">\r\n     <use xlink:href=\"#DejaVuSans-49\"/>\r\n    </g>\r\n   </g>\r\n   <g id=\"text_60\">\r\n    <!-- 0.44 -->\r\n    <g style=\"fill:#ffffff;\" transform=\"translate(224.625 110.830022)scale(0.1 -0.1)\">\r\n     <use xlink:href=\"#DejaVuSans-48\"/>\r\n     <use x=\"63.623047\" xlink:href=\"#DejaVuSans-46\"/>\r\n     <use x=\"95.410156\" xlink:href=\"#DejaVuSans-52\"/>\r\n     <use x=\"159.033203\" xlink:href=\"#DejaVuSans-52\"/>\r\n    </g>\r\n   </g>\r\n   <g id=\"text_61\">\r\n    <!-- 0.29 -->\r\n    <g style=\"fill:#ffffff;\" transform=\"translate(256.510714 110.830022)scale(0.1 -0.1)\">\r\n     <use xlink:href=\"#DejaVuSans-48\"/>\r\n     <use x=\"63.623047\" xlink:href=\"#DejaVuSans-46\"/>\r\n     <use x=\"95.410156\" xlink:href=\"#DejaVuSans-50\"/>\r\n     <use x=\"159.033203\" xlink:href=\"#DejaVuSans-57\"/>\r\n    </g>\r\n   </g>\r\n   <g id=\"text_62\">\r\n    <!-- 0.13 -->\r\n    <g style=\"fill:#ffffff;\" transform=\"translate(288.396429 110.830022)scale(0.1 -0.1)\">\r\n     <use xlink:href=\"#DejaVuSans-48\"/>\r\n     <use x=\"63.623047\" xlink:href=\"#DejaVuSans-46\"/>\r\n     <use x=\"95.410156\" xlink:href=\"#DejaVuSans-49\"/>\r\n     <use x=\"159.033203\" xlink:href=\"#DejaVuSans-51\"/>\r\n    </g>\r\n   </g>\r\n   <g id=\"text_63\">\r\n    <!-- 0.12 -->\r\n    <g style=\"fill:#ffffff;\" transform=\"translate(320.282143 110.830022)scale(0.1 -0.1)\">\r\n     <use xlink:href=\"#DejaVuSans-48\"/>\r\n     <use x=\"63.623047\" xlink:href=\"#DejaVuSans-46\"/>\r\n     <use x=\"95.410156\" xlink:href=\"#DejaVuSans-49\"/>\r\n     <use x=\"159.033203\" xlink:href=\"#DejaVuSans-50\"/>\r\n    </g>\r\n   </g>\r\n   <g id=\"text_64\">\r\n    <!-- 0.19 -->\r\n    <g style=\"fill:#ffffff;\" transform=\"translate(352.167857 110.830022)scale(0.1 -0.1)\">\r\n     <use xlink:href=\"#DejaVuSans-48\"/>\r\n     <use x=\"63.623047\" xlink:href=\"#DejaVuSans-46\"/>\r\n     <use x=\"95.410156\" xlink:href=\"#DejaVuSans-49\"/>\r\n     <use x=\"159.033203\" xlink:href=\"#DejaVuSans-57\"/>\r\n    </g>\r\n   </g>\r\n   <g id=\"text_65\">\r\n    <!-- 0.0097 -->\r\n    <g style=\"fill:#ffffff;\" transform=\"translate(377.691071 110.830022)scale(0.1 -0.1)\">\r\n     <use xlink:href=\"#DejaVuSans-48\"/>\r\n     <use x=\"63.623047\" xlink:href=\"#DejaVuSans-46\"/>\r\n     <use x=\"95.410156\" xlink:href=\"#DejaVuSans-48\"/>\r\n     <use x=\"159.033203\" xlink:href=\"#DejaVuSans-48\"/>\r\n     <use x=\"222.65625\" xlink:href=\"#DejaVuSans-57\"/>\r\n     <use x=\"286.279297\" xlink:href=\"#DejaVuSans-55\"/>\r\n    </g>\r\n   </g>\r\n   <g id=\"text_66\">\r\n    <!-- 0.26 -->\r\n    <g style=\"fill:#ffffff;\" transform=\"translate(415.939286 110.830022)scale(0.1 -0.1)\">\r\n     <use xlink:href=\"#DejaVuSans-48\"/>\r\n     <use x=\"63.623047\" xlink:href=\"#DejaVuSans-46\"/>\r\n     <use x=\"95.410156\" xlink:href=\"#DejaVuSans-50\"/>\r\n     <use x=\"159.033203\" xlink:href=\"#DejaVuSans-54\"/>\r\n    </g>\r\n   </g>\r\n   <g id=\"text_67\">\r\n    <!-- -0.075 -->\r\n    <g style=\"fill:#ffffff;\" transform=\"translate(442.839844 110.830022)scale(0.1 -0.1)\">\r\n     <use xlink:href=\"#DejaVuSans-45\"/>\r\n     <use x=\"36.083984\" xlink:href=\"#DejaVuSans-48\"/>\r\n     <use x=\"99.707031\" xlink:href=\"#DejaVuSans-46\"/>\r\n     <use x=\"131.494141\" xlink:href=\"#DejaVuSans-48\"/>\r\n     <use x=\"195.117188\" xlink:href=\"#DejaVuSans-55\"/>\r\n     <use x=\"258.740234\" xlink:href=\"#DejaVuSans-53\"/>\r\n    </g>\r\n   </g>\r\n   <g id=\"text_68\">\r\n    <!-- 0.0039 -->\r\n    <g style=\"fill:#ffffff;\" transform=\"translate(473.348214 110.830022)scale(0.1 -0.1)\">\r\n     <use xlink:href=\"#DejaVuSans-48\"/>\r\n     <use x=\"63.623047\" xlink:href=\"#DejaVuSans-46\"/>\r\n     <use x=\"95.410156\" xlink:href=\"#DejaVuSans-48\"/>\r\n     <use x=\"159.033203\" xlink:href=\"#DejaVuSans-48\"/>\r\n     <use x=\"222.65625\" xlink:href=\"#DejaVuSans-51\"/>\r\n     <use x=\"286.279297\" xlink:href=\"#DejaVuSans-57\"/>\r\n    </g>\r\n   </g>\r\n   <g id=\"text_69\">\r\n    <!-- 0.22 -->\r\n    <g style=\"fill:#ffffff;\" transform=\"translate(511.596429 110.830022)scale(0.1 -0.1)\">\r\n     <use xlink:href=\"#DejaVuSans-48\"/>\r\n     <use x=\"63.623047\" xlink:href=\"#DejaVuSans-46\"/>\r\n     <use x=\"95.410156\" xlink:href=\"#DejaVuSans-50\"/>\r\n     <use x=\"159.033203\" xlink:href=\"#DejaVuSans-50\"/>\r\n    </g>\r\n   </g>\r\n   <g id=\"text_70\">\r\n    <!-- -0.05 -->\r\n    <g style=\"fill:#ffffff;\" transform=\"translate(541.678237 110.830022)scale(0.1 -0.1)\">\r\n     <use xlink:href=\"#DejaVuSans-45\"/>\r\n     <use x=\"36.083984\" xlink:href=\"#DejaVuSans-48\"/>\r\n     <use x=\"99.707031\" xlink:href=\"#DejaVuSans-46\"/>\r\n     <use x=\"131.494141\" xlink:href=\"#DejaVuSans-48\"/>\r\n     <use x=\"195.117188\" xlink:href=\"#DejaVuSans-53\"/>\r\n    </g>\r\n   </g>\r\n   <g id=\"text_71\">\r\n    <!-- -0.31 -->\r\n    <g style=\"fill:#ffffff;\" transform=\"translate(127.163951 149.658594)scale(0.1 -0.1)\">\r\n     <use xlink:href=\"#DejaVuSans-45\"/>\r\n     <use x=\"36.083984\" xlink:href=\"#DejaVuSans-48\"/>\r\n     <use x=\"99.707031\" xlink:href=\"#DejaVuSans-46\"/>\r\n     <use x=\"131.494141\" xlink:href=\"#DejaVuSans-51\"/>\r\n     <use x=\"195.117188\" xlink:href=\"#DejaVuSans-49\"/>\r\n    </g>\r\n   </g>\r\n   <g id=\"text_72\">\r\n    <!-- 0.29 -->\r\n    <g style=\"fill:#ffffff;\" transform=\"translate(160.853571 149.658594)scale(0.1 -0.1)\">\r\n     <use xlink:href=\"#DejaVuSans-48\"/>\r\n     <use x=\"63.623047\" xlink:href=\"#DejaVuSans-46\"/>\r\n     <use x=\"95.410156\" xlink:href=\"#DejaVuSans-50\"/>\r\n     <use x=\"159.033203\" xlink:href=\"#DejaVuSans-57\"/>\r\n    </g>\r\n   </g>\r\n   <g id=\"text_73\">\r\n    <!-- 0.44 -->\r\n    <g style=\"fill:#ffffff;\" transform=\"translate(192.739286 149.658594)scale(0.1 -0.1)\">\r\n     <use xlink:href=\"#DejaVuSans-48\"/>\r\n     <use x=\"63.623047\" xlink:href=\"#DejaVuSans-46\"/>\r\n     <use x=\"95.410156\" xlink:href=\"#DejaVuSans-52\"/>\r\n     <use x=\"159.033203\" xlink:href=\"#DejaVuSans-52\"/>\r\n    </g>\r\n   </g>\r\n   <g id=\"text_74\">\r\n    <!-- 1 -->\r\n    <g style=\"fill:#262626;\" transform=\"translate(232.576562 149.658594)scale(0.1 -0.1)\">\r\n     <use xlink:href=\"#DejaVuSans-49\"/>\r\n    </g>\r\n   </g>\r\n   <g id=\"text_75\">\r\n    <!-- -0.083 -->\r\n    <g style=\"fill:#ffffff;\" transform=\"translate(251.525558 149.658594)scale(0.1 -0.1)\">\r\n     <use xlink:href=\"#DejaVuSans-45\"/>\r\n     <use x=\"36.083984\" xlink:href=\"#DejaVuSans-48\"/>\r\n     <use x=\"99.707031\" xlink:href=\"#DejaVuSans-46\"/>\r\n     <use x=\"131.494141\" xlink:href=\"#DejaVuSans-48\"/>\r\n     <use x=\"195.117188\" xlink:href=\"#DejaVuSans-56\"/>\r\n     <use x=\"258.740234\" xlink:href=\"#DejaVuSans-51\"/>\r\n    </g>\r\n   </g>\r\n   <g id=\"text_76\">\r\n    <!-- -0.32 -->\r\n    <g style=\"fill:#ffffff;\" transform=\"translate(286.592522 149.658594)scale(0.1 -0.1)\">\r\n     <use xlink:href=\"#DejaVuSans-45\"/>\r\n     <use x=\"36.083984\" xlink:href=\"#DejaVuSans-48\"/>\r\n     <use x=\"99.707031\" xlink:href=\"#DejaVuSans-46\"/>\r\n     <use x=\"131.494141\" xlink:href=\"#DejaVuSans-51\"/>\r\n     <use x=\"195.117188\" xlink:href=\"#DejaVuSans-50\"/>\r\n    </g>\r\n   </g>\r\n   <g id=\"text_77\">\r\n    <!-- -0.35 -->\r\n    <g style=\"fill:#ffffff;\" transform=\"translate(318.478237 149.658594)scale(0.1 -0.1)\">\r\n     <use xlink:href=\"#DejaVuSans-45\"/>\r\n     <use x=\"36.083984\" xlink:href=\"#DejaVuSans-48\"/>\r\n     <use x=\"99.707031\" xlink:href=\"#DejaVuSans-46\"/>\r\n     <use x=\"131.494141\" xlink:href=\"#DejaVuSans-51\"/>\r\n     <use x=\"195.117188\" xlink:href=\"#DejaVuSans-53\"/>\r\n    </g>\r\n   </g>\r\n   <g id=\"text_78\">\r\n    <!-- 0.36 -->\r\n    <g style=\"fill:#ffffff;\" transform=\"translate(352.167857 149.658594)scale(0.1 -0.1)\">\r\n     <use xlink:href=\"#DejaVuSans-48\"/>\r\n     <use x=\"63.623047\" xlink:href=\"#DejaVuSans-46\"/>\r\n     <use x=\"95.410156\" xlink:href=\"#DejaVuSans-51\"/>\r\n     <use x=\"159.033203\" xlink:href=\"#DejaVuSans-54\"/>\r\n    </g>\r\n   </g>\r\n   <g id=\"text_79\">\r\n    <!-- -0.2 -->\r\n    <g style=\"fill:#ffffff;\" transform=\"translate(385.430915 149.658594)scale(0.1 -0.1)\">\r\n     <use xlink:href=\"#DejaVuSans-45\"/>\r\n     <use x=\"36.083984\" xlink:href=\"#DejaVuSans-48\"/>\r\n     <use x=\"99.707031\" xlink:href=\"#DejaVuSans-46\"/>\r\n     <use x=\"131.494141\" xlink:href=\"#DejaVuSans-50\"/>\r\n    </g>\r\n   </g>\r\n   <g id=\"text_80\">\r\n    <!-- 0.019 -->\r\n    <g style=\"fill:#ffffff;\" transform=\"translate(412.758036 149.658594)scale(0.1 -0.1)\">\r\n     <use xlink:href=\"#DejaVuSans-48\"/>\r\n     <use x=\"63.623047\" xlink:href=\"#DejaVuSans-46\"/>\r\n     <use x=\"95.410156\" xlink:href=\"#DejaVuSans-48\"/>\r\n     <use x=\"159.033203\" xlink:href=\"#DejaVuSans-49\"/>\r\n     <use x=\"222.65625\" xlink:href=\"#DejaVuSans-57\"/>\r\n    </g>\r\n   </g>\r\n   <g id=\"text_81\">\r\n    <!-- -0.27 -->\r\n    <g style=\"fill:#ffffff;\" transform=\"translate(446.021094 149.658594)scale(0.1 -0.1)\">\r\n     <use xlink:href=\"#DejaVuSans-45\"/>\r\n     <use x=\"36.083984\" xlink:href=\"#DejaVuSans-48\"/>\r\n     <use x=\"99.707031\" xlink:href=\"#DejaVuSans-46\"/>\r\n     <use x=\"131.494141\" xlink:href=\"#DejaVuSans-50\"/>\r\n     <use x=\"195.117188\" xlink:href=\"#DejaVuSans-55\"/>\r\n    </g>\r\n   </g>\r\n   <g id=\"text_82\">\r\n    <!-- -0.28 -->\r\n    <g style=\"fill:#ffffff;\" transform=\"translate(477.906808 149.658594)scale(0.1 -0.1)\">\r\n     <use xlink:href=\"#DejaVuSans-45\"/>\r\n     <use x=\"36.083984\" xlink:href=\"#DejaVuSans-48\"/>\r\n     <use x=\"99.707031\" xlink:href=\"#DejaVuSans-46\"/>\r\n     <use x=\"131.494141\" xlink:href=\"#DejaVuSans-50\"/>\r\n     <use x=\"195.117188\" xlink:href=\"#DejaVuSans-56\"/>\r\n    </g>\r\n   </g>\r\n   <g id=\"text_83\">\r\n    <!-- -0.44 -->\r\n    <g style=\"fill:#ffffff;\" transform=\"translate(509.792522 149.658594)scale(0.1 -0.1)\">\r\n     <use xlink:href=\"#DejaVuSans-45\"/>\r\n     <use x=\"36.083984\" xlink:href=\"#DejaVuSans-48\"/>\r\n     <use x=\"99.707031\" xlink:href=\"#DejaVuSans-46\"/>\r\n     <use x=\"131.494141\" xlink:href=\"#DejaVuSans-52\"/>\r\n     <use x=\"195.117188\" xlink:href=\"#DejaVuSans-52\"/>\r\n    </g>\r\n   </g>\r\n   <g id=\"text_84\">\r\n    <!-- 0.52 -->\r\n    <g style=\"fill:#ffffff;\" transform=\"translate(543.482143 149.658594)scale(0.1 -0.1)\">\r\n     <use xlink:href=\"#DejaVuSans-48\"/>\r\n     <use x=\"63.623047\" xlink:href=\"#DejaVuSans-46\"/>\r\n     <use x=\"95.410156\" xlink:href=\"#DejaVuSans-53\"/>\r\n     <use x=\"159.033203\" xlink:href=\"#DejaVuSans-50\"/>\r\n    </g>\r\n   </g>\r\n   <g id=\"text_85\">\r\n    <!-- 0.27 -->\r\n    <g style=\"fill:#ffffff;\" transform=\"translate(128.967857 188.487165)scale(0.1 -0.1)\">\r\n     <use xlink:href=\"#DejaVuSans-48\"/>\r\n     <use x=\"63.623047\" xlink:href=\"#DejaVuSans-46\"/>\r\n     <use x=\"95.410156\" xlink:href=\"#DejaVuSans-50\"/>\r\n     <use x=\"159.033203\" xlink:href=\"#DejaVuSans-55\"/>\r\n    </g>\r\n   </g>\r\n   <g id=\"text_86\">\r\n    <!-- -0.055 -->\r\n    <g style=\"fill:#ffffff;\" transform=\"translate(155.868415 188.487165)scale(0.1 -0.1)\">\r\n     <use xlink:href=\"#DejaVuSans-45\"/>\r\n     <use x=\"36.083984\" xlink:href=\"#DejaVuSans-48\"/>\r\n     <use x=\"99.707031\" xlink:href=\"#DejaVuSans-46\"/>\r\n     <use x=\"131.494141\" xlink:href=\"#DejaVuSans-48\"/>\r\n     <use x=\"195.117188\" xlink:href=\"#DejaVuSans-53\"/>\r\n     <use x=\"258.740234\" xlink:href=\"#DejaVuSans-53\"/>\r\n    </g>\r\n   </g>\r\n   <g id=\"text_87\">\r\n    <!-- 0.29 -->\r\n    <g style=\"fill:#ffffff;\" transform=\"translate(192.739286 188.487165)scale(0.1 -0.1)\">\r\n     <use xlink:href=\"#DejaVuSans-48\"/>\r\n     <use x=\"63.623047\" xlink:href=\"#DejaVuSans-46\"/>\r\n     <use x=\"95.410156\" xlink:href=\"#DejaVuSans-50\"/>\r\n     <use x=\"159.033203\" xlink:href=\"#DejaVuSans-57\"/>\r\n    </g>\r\n   </g>\r\n   <g id=\"text_88\">\r\n    <!-- -0.083 -->\r\n    <g style=\"fill:#ffffff;\" transform=\"translate(219.639844 188.487165)scale(0.1 -0.1)\">\r\n     <use xlink:href=\"#DejaVuSans-45\"/>\r\n     <use x=\"36.083984\" xlink:href=\"#DejaVuSans-48\"/>\r\n     <use x=\"99.707031\" xlink:href=\"#DejaVuSans-46\"/>\r\n     <use x=\"131.494141\" xlink:href=\"#DejaVuSans-48\"/>\r\n     <use x=\"195.117188\" xlink:href=\"#DejaVuSans-56\"/>\r\n     <use x=\"258.740234\" xlink:href=\"#DejaVuSans-51\"/>\r\n    </g>\r\n   </g>\r\n   <g id=\"text_89\">\r\n    <!-- 1 -->\r\n    <g style=\"fill:#262626;\" transform=\"translate(264.462277 188.487165)scale(0.1 -0.1)\">\r\n     <use xlink:href=\"#DejaVuSans-49\"/>\r\n    </g>\r\n   </g>\r\n   <g id=\"text_90\">\r\n    <!-- 0.21 -->\r\n    <g style=\"fill:#ffffff;\" transform=\"translate(288.396429 188.487165)scale(0.1 -0.1)\">\r\n     <use xlink:href=\"#DejaVuSans-48\"/>\r\n     <use x=\"63.623047\" xlink:href=\"#DejaVuSans-46\"/>\r\n     <use x=\"95.410156\" xlink:href=\"#DejaVuSans-50\"/>\r\n     <use x=\"159.033203\" xlink:href=\"#DejaVuSans-49\"/>\r\n    </g>\r\n   </g>\r\n   <g id=\"text_91\">\r\n    <!-- 0.2 -->\r\n    <g style=\"fill:#ffffff;\" transform=\"translate(323.463393 188.487165)scale(0.1 -0.1)\">\r\n     <use xlink:href=\"#DejaVuSans-48\"/>\r\n     <use x=\"63.623047\" xlink:href=\"#DejaVuSans-46\"/>\r\n     <use x=\"95.410156\" xlink:href=\"#DejaVuSans-50\"/>\r\n    </g>\r\n   </g>\r\n   <g id=\"text_92\">\r\n    <!-- -0.26 -->\r\n    <g style=\"fill:#ffffff;\" transform=\"translate(350.363951 188.487165)scale(0.1 -0.1)\">\r\n     <use xlink:href=\"#DejaVuSans-45\"/>\r\n     <use x=\"36.083984\" xlink:href=\"#DejaVuSans-48\"/>\r\n     <use x=\"99.707031\" xlink:href=\"#DejaVuSans-46\"/>\r\n     <use x=\"131.494141\" xlink:href=\"#DejaVuSans-50\"/>\r\n     <use x=\"195.117188\" xlink:href=\"#DejaVuSans-54\"/>\r\n    </g>\r\n   </g>\r\n   <g id=\"text_93\">\r\n    <!-- 0.24 -->\r\n    <g style=\"fill:#ffffff;\" transform=\"translate(384.053571 188.487165)scale(0.1 -0.1)\">\r\n     <use xlink:href=\"#DejaVuSans-48\"/>\r\n     <use x=\"63.623047\" xlink:href=\"#DejaVuSans-46\"/>\r\n     <use x=\"95.410156\" xlink:href=\"#DejaVuSans-50\"/>\r\n     <use x=\"159.033203\" xlink:href=\"#DejaVuSans-52\"/>\r\n    </g>\r\n   </g>\r\n   <g id=\"text_94\">\r\n    <!-- 0.2 -->\r\n    <g style=\"fill:#ffffff;\" transform=\"translate(419.120536 188.487165)scale(0.1 -0.1)\">\r\n     <use xlink:href=\"#DejaVuSans-48\"/>\r\n     <use x=\"63.623047\" xlink:href=\"#DejaVuSans-46\"/>\r\n     <use x=\"95.410156\" xlink:href=\"#DejaVuSans-50\"/>\r\n    </g>\r\n   </g>\r\n   <g id=\"text_95\">\r\n    <!-- 0.055 -->\r\n    <g style=\"fill:#ffffff;\" transform=\"translate(444.64375 188.487165)scale(0.1 -0.1)\">\r\n     <use xlink:href=\"#DejaVuSans-48\"/>\r\n     <use x=\"63.623047\" xlink:href=\"#DejaVuSans-46\"/>\r\n     <use x=\"95.410156\" xlink:href=\"#DejaVuSans-48\"/>\r\n     <use x=\"159.033203\" xlink:href=\"#DejaVuSans-53\"/>\r\n     <use x=\"222.65625\" xlink:href=\"#DejaVuSans-53\"/>\r\n    </g>\r\n   </g>\r\n   <g id=\"text_96\">\r\n    <!-- 0.066 -->\r\n    <g style=\"fill:#ffffff;\" transform=\"translate(476.529464 188.487165)scale(0.1 -0.1)\">\r\n     <use xlink:href=\"#DejaVuSans-48\"/>\r\n     <use x=\"63.623047\" xlink:href=\"#DejaVuSans-46\"/>\r\n     <use x=\"95.410156\" xlink:href=\"#DejaVuSans-48\"/>\r\n     <use x=\"159.033203\" xlink:href=\"#DejaVuSans-54\"/>\r\n     <use x=\"222.65625\" xlink:href=\"#DejaVuSans-54\"/>\r\n    </g>\r\n   </g>\r\n   <g id=\"text_97\">\r\n    <!-- 0.39 -->\r\n    <g style=\"fill:#ffffff;\" transform=\"translate(511.596429 188.487165)scale(0.1 -0.1)\">\r\n     <use xlink:href=\"#DejaVuSans-48\"/>\r\n     <use x=\"63.623047\" xlink:href=\"#DejaVuSans-46\"/>\r\n     <use x=\"95.410156\" xlink:href=\"#DejaVuSans-51\"/>\r\n     <use x=\"159.033203\" xlink:href=\"#DejaVuSans-57\"/>\r\n    </g>\r\n   </g>\r\n   <g id=\"text_98\">\r\n    <!-- -0.21 -->\r\n    <g style=\"fill:#ffffff;\" transform=\"translate(541.678237 188.487165)scale(0.1 -0.1)\">\r\n     <use xlink:href=\"#DejaVuSans-45\"/>\r\n     <use x=\"36.083984\" xlink:href=\"#DejaVuSans-48\"/>\r\n     <use x=\"99.707031\" xlink:href=\"#DejaVuSans-46\"/>\r\n     <use x=\"131.494141\" xlink:href=\"#DejaVuSans-50\"/>\r\n     <use x=\"195.117188\" xlink:href=\"#DejaVuSans-49\"/>\r\n    </g>\r\n   </g>\r\n   <g id=\"text_99\">\r\n    <!-- 0.29 -->\r\n    <g style=\"fill:#ffffff;\" transform=\"translate(128.967857 227.315737)scale(0.1 -0.1)\">\r\n     <use xlink:href=\"#DejaVuSans-48\"/>\r\n     <use x=\"63.623047\" xlink:href=\"#DejaVuSans-46\"/>\r\n     <use x=\"95.410156\" xlink:href=\"#DejaVuSans-50\"/>\r\n     <use x=\"159.033203\" xlink:href=\"#DejaVuSans-57\"/>\r\n    </g>\r\n   </g>\r\n   <g id=\"text_100\">\r\n    <!-- -0.34 -->\r\n    <g style=\"fill:#ffffff;\" transform=\"translate(159.049665 227.315737)scale(0.1 -0.1)\">\r\n     <use xlink:href=\"#DejaVuSans-45\"/>\r\n     <use x=\"36.083984\" xlink:href=\"#DejaVuSans-48\"/>\r\n     <use x=\"99.707031\" xlink:href=\"#DejaVuSans-46\"/>\r\n     <use x=\"131.494141\" xlink:href=\"#DejaVuSans-51\"/>\r\n     <use x=\"195.117188\" xlink:href=\"#DejaVuSans-52\"/>\r\n    </g>\r\n   </g>\r\n   <g id=\"text_101\">\r\n    <!-- 0.13 -->\r\n    <g style=\"fill:#ffffff;\" transform=\"translate(192.739286 227.315737)scale(0.1 -0.1)\">\r\n     <use xlink:href=\"#DejaVuSans-48\"/>\r\n     <use x=\"63.623047\" xlink:href=\"#DejaVuSans-46\"/>\r\n     <use x=\"95.410156\" xlink:href=\"#DejaVuSans-49\"/>\r\n     <use x=\"159.033203\" xlink:href=\"#DejaVuSans-51\"/>\r\n    </g>\r\n   </g>\r\n   <g id=\"text_102\">\r\n    <!-- -0.32 -->\r\n    <g style=\"fill:#ffffff;\" transform=\"translate(222.821094 227.315737)scale(0.1 -0.1)\">\r\n     <use xlink:href=\"#DejaVuSans-45\"/>\r\n     <use x=\"36.083984\" xlink:href=\"#DejaVuSans-48\"/>\r\n     <use x=\"99.707031\" xlink:href=\"#DejaVuSans-46\"/>\r\n     <use x=\"131.494141\" xlink:href=\"#DejaVuSans-51\"/>\r\n     <use x=\"195.117188\" xlink:href=\"#DejaVuSans-50\"/>\r\n    </g>\r\n   </g>\r\n   <g id=\"text_103\">\r\n    <!-- 0.21 -->\r\n    <g style=\"fill:#ffffff;\" transform=\"translate(256.510714 227.315737)scale(0.1 -0.1)\">\r\n     <use xlink:href=\"#DejaVuSans-48\"/>\r\n     <use x=\"63.623047\" xlink:href=\"#DejaVuSans-46\"/>\r\n     <use x=\"95.410156\" xlink:href=\"#DejaVuSans-50\"/>\r\n     <use x=\"159.033203\" xlink:href=\"#DejaVuSans-49\"/>\r\n    </g>\r\n   </g>\r\n   <g id=\"text_104\">\r\n    <!-- 1 -->\r\n    <g style=\"fill:#262626;\" transform=\"translate(296.347991 227.315737)scale(0.1 -0.1)\">\r\n     <use xlink:href=\"#DejaVuSans-49\"/>\r\n    </g>\r\n   </g>\r\n   <g id=\"text_105\">\r\n    <!-- 0.86 -->\r\n    <g style=\"fill:#262626;\" transform=\"translate(320.282143 227.315737)scale(0.1 -0.1)\">\r\n     <use xlink:href=\"#DejaVuSans-48\"/>\r\n     <use x=\"63.623047\" xlink:href=\"#DejaVuSans-46\"/>\r\n     <use x=\"95.410156\" xlink:href=\"#DejaVuSans-56\"/>\r\n     <use x=\"159.033203\" xlink:href=\"#DejaVuSans-54\"/>\r\n    </g>\r\n   </g>\r\n   <g id=\"text_106\">\r\n    <!-- -0.45 -->\r\n    <g style=\"fill:#ffffff;\" transform=\"translate(350.363951 227.315737)scale(0.1 -0.1)\">\r\n     <use xlink:href=\"#DejaVuSans-45\"/>\r\n     <use x=\"36.083984\" xlink:href=\"#DejaVuSans-48\"/>\r\n     <use x=\"99.707031\" xlink:href=\"#DejaVuSans-46\"/>\r\n     <use x=\"131.494141\" xlink:href=\"#DejaVuSans-52\"/>\r\n     <use x=\"195.117188\" xlink:href=\"#DejaVuSans-53\"/>\r\n    </g>\r\n   </g>\r\n   <g id=\"text_107\">\r\n    <!-- 0.61 -->\r\n    <g style=\"fill:#262626;\" transform=\"translate(384.053571 227.315737)scale(0.1 -0.1)\">\r\n     <use xlink:href=\"#DejaVuSans-48\"/>\r\n     <use x=\"63.623047\" xlink:href=\"#DejaVuSans-46\"/>\r\n     <use x=\"95.410156\" xlink:href=\"#DejaVuSans-54\"/>\r\n     <use x=\"159.033203\" xlink:href=\"#DejaVuSans-49\"/>\r\n    </g>\r\n   </g>\r\n   <g id=\"text_108\">\r\n    <!-- -0.055 -->\r\n    <g style=\"fill:#ffffff;\" transform=\"translate(410.954129 227.315737)scale(0.1 -0.1)\">\r\n     <use xlink:href=\"#DejaVuSans-45\"/>\r\n     <use x=\"36.083984\" xlink:href=\"#DejaVuSans-48\"/>\r\n     <use x=\"99.707031\" xlink:href=\"#DejaVuSans-46\"/>\r\n     <use x=\"131.494141\" xlink:href=\"#DejaVuSans-48\"/>\r\n     <use x=\"195.117188\" xlink:href=\"#DejaVuSans-53\"/>\r\n     <use x=\"258.740234\" xlink:href=\"#DejaVuSans-53\"/>\r\n    </g>\r\n   </g>\r\n   <g id=\"text_109\">\r\n    <!-- 0.43 -->\r\n    <g style=\"fill:#ffffff;\" transform=\"translate(447.825 227.315737)scale(0.1 -0.1)\">\r\n     <use xlink:href=\"#DejaVuSans-48\"/>\r\n     <use x=\"63.623047\" xlink:href=\"#DejaVuSans-46\"/>\r\n     <use x=\"95.410156\" xlink:href=\"#DejaVuSans-52\"/>\r\n     <use x=\"159.033203\" xlink:href=\"#DejaVuSans-51\"/>\r\n    </g>\r\n   </g>\r\n   <g id=\"text_110\">\r\n    <!-- 0.7 -->\r\n    <g style=\"fill:#262626;\" transform=\"translate(482.891964 227.315737)scale(0.1 -0.1)\">\r\n     <use xlink:href=\"#DejaVuSans-48\"/>\r\n     <use x=\"63.623047\" xlink:href=\"#DejaVuSans-46\"/>\r\n     <use x=\"95.410156\" xlink:href=\"#DejaVuSans-55\"/>\r\n    </g>\r\n   </g>\r\n   <g id=\"text_111\">\r\n    <!-- 0.5 -->\r\n    <g style=\"fill:#ffffff;\" transform=\"translate(514.777679 227.315737)scale(0.1 -0.1)\">\r\n     <use xlink:href=\"#DejaVuSans-48\"/>\r\n     <use x=\"63.623047\" xlink:href=\"#DejaVuSans-46\"/>\r\n     <use x=\"95.410156\" xlink:href=\"#DejaVuSans-53\"/>\r\n    </g>\r\n   </g>\r\n   <g id=\"text_112\">\r\n    <!-- -0.72 -->\r\n    <g style=\"fill:#ffffff;\" transform=\"translate(541.678237 227.315737)scale(0.1 -0.1)\">\r\n     <use xlink:href=\"#DejaVuSans-45\"/>\r\n     <use x=\"36.083984\" xlink:href=\"#DejaVuSans-48\"/>\r\n     <use x=\"99.707031\" xlink:href=\"#DejaVuSans-46\"/>\r\n     <use x=\"131.494141\" xlink:href=\"#DejaVuSans-55\"/>\r\n     <use x=\"195.117188\" xlink:href=\"#DejaVuSans-50\"/>\r\n    </g>\r\n   </g>\r\n   <g id=\"text_113\">\r\n    <!-- 0.24 -->\r\n    <g style=\"fill:#ffffff;\" transform=\"translate(128.967857 266.144308)scale(0.1 -0.1)\">\r\n     <use xlink:href=\"#DejaVuSans-48\"/>\r\n     <use x=\"63.623047\" xlink:href=\"#DejaVuSans-46\"/>\r\n     <use x=\"95.410156\" xlink:href=\"#DejaVuSans-50\"/>\r\n     <use x=\"159.033203\" xlink:href=\"#DejaVuSans-52\"/>\r\n    </g>\r\n   </g>\r\n   <g id=\"text_114\">\r\n    <!-- -0.41 -->\r\n    <g style=\"fill:#ffffff;\" transform=\"translate(159.049665 266.144308)scale(0.1 -0.1)\">\r\n     <use xlink:href=\"#DejaVuSans-45\"/>\r\n     <use x=\"36.083984\" xlink:href=\"#DejaVuSans-48\"/>\r\n     <use x=\"99.707031\" xlink:href=\"#DejaVuSans-46\"/>\r\n     <use x=\"131.494141\" xlink:href=\"#DejaVuSans-52\"/>\r\n     <use x=\"195.117188\" xlink:href=\"#DejaVuSans-49\"/>\r\n    </g>\r\n   </g>\r\n   <g id=\"text_115\">\r\n    <!-- 0.12 -->\r\n    <g style=\"fill:#ffffff;\" transform=\"translate(192.739286 266.144308)scale(0.1 -0.1)\">\r\n     <use xlink:href=\"#DejaVuSans-48\"/>\r\n     <use x=\"63.623047\" xlink:href=\"#DejaVuSans-46\"/>\r\n     <use x=\"95.410156\" xlink:href=\"#DejaVuSans-49\"/>\r\n     <use x=\"159.033203\" xlink:href=\"#DejaVuSans-50\"/>\r\n    </g>\r\n   </g>\r\n   <g id=\"text_116\">\r\n    <!-- -0.35 -->\r\n    <g style=\"fill:#ffffff;\" transform=\"translate(222.821094 266.144308)scale(0.1 -0.1)\">\r\n     <use xlink:href=\"#DejaVuSans-45\"/>\r\n     <use x=\"36.083984\" xlink:href=\"#DejaVuSans-48\"/>\r\n     <use x=\"99.707031\" xlink:href=\"#DejaVuSans-46\"/>\r\n     <use x=\"131.494141\" xlink:href=\"#DejaVuSans-51\"/>\r\n     <use x=\"195.117188\" xlink:href=\"#DejaVuSans-53\"/>\r\n    </g>\r\n   </g>\r\n   <g id=\"text_117\">\r\n    <!-- 0.2 -->\r\n    <g style=\"fill:#ffffff;\" transform=\"translate(259.691964 266.144308)scale(0.1 -0.1)\">\r\n     <use xlink:href=\"#DejaVuSans-48\"/>\r\n     <use x=\"63.623047\" xlink:href=\"#DejaVuSans-46\"/>\r\n     <use x=\"95.410156\" xlink:href=\"#DejaVuSans-50\"/>\r\n    </g>\r\n   </g>\r\n   <g id=\"text_118\">\r\n    <!-- 0.86 -->\r\n    <g style=\"fill:#262626;\" transform=\"translate(288.396429 266.144308)scale(0.1 -0.1)\">\r\n     <use xlink:href=\"#DejaVuSans-48\"/>\r\n     <use x=\"63.623047\" xlink:href=\"#DejaVuSans-46\"/>\r\n     <use x=\"95.410156\" xlink:href=\"#DejaVuSans-56\"/>\r\n     <use x=\"159.033203\" xlink:href=\"#DejaVuSans-54\"/>\r\n    </g>\r\n   </g>\r\n   <g id=\"text_119\">\r\n    <!-- 1 -->\r\n    <g style=\"fill:#262626;\" transform=\"translate(328.233705 266.144308)scale(0.1 -0.1)\">\r\n     <use xlink:href=\"#DejaVuSans-49\"/>\r\n    </g>\r\n   </g>\r\n   <g id=\"text_120\">\r\n    <!-- -0.54 -->\r\n    <g style=\"fill:#ffffff;\" transform=\"translate(350.363951 266.144308)scale(0.1 -0.1)\">\r\n     <use xlink:href=\"#DejaVuSans-45\"/>\r\n     <use x=\"36.083984\" xlink:href=\"#DejaVuSans-48\"/>\r\n     <use x=\"99.707031\" xlink:href=\"#DejaVuSans-46\"/>\r\n     <use x=\"131.494141\" xlink:href=\"#DejaVuSans-53\"/>\r\n     <use x=\"195.117188\" xlink:href=\"#DejaVuSans-52\"/>\r\n    </g>\r\n   </g>\r\n   <g id=\"text_121\">\r\n    <!-- 0.65 -->\r\n    <g style=\"fill:#262626;\" transform=\"translate(384.053571 266.144308)scale(0.1 -0.1)\">\r\n     <use xlink:href=\"#DejaVuSans-48\"/>\r\n     <use x=\"63.623047\" xlink:href=\"#DejaVuSans-46\"/>\r\n     <use x=\"95.410156\" xlink:href=\"#DejaVuSans-54\"/>\r\n     <use x=\"159.033203\" xlink:href=\"#DejaVuSans-53\"/>\r\n    </g>\r\n   </g>\r\n   <g id=\"text_122\">\r\n    <!-- -0.17 -->\r\n    <g style=\"fill:#ffffff;\" transform=\"translate(414.135379 266.144308)scale(0.1 -0.1)\">\r\n     <use xlink:href=\"#DejaVuSans-45\"/>\r\n     <use x=\"36.083984\" xlink:href=\"#DejaVuSans-48\"/>\r\n     <use x=\"99.707031\" xlink:href=\"#DejaVuSans-46\"/>\r\n     <use x=\"131.494141\" xlink:href=\"#DejaVuSans-49\"/>\r\n     <use x=\"195.117188\" xlink:href=\"#DejaVuSans-55\"/>\r\n    </g>\r\n   </g>\r\n   <g id=\"text_123\">\r\n    <!-- 0.54 -->\r\n    <g style=\"fill:#ffffff;\" transform=\"translate(447.825 266.144308)scale(0.1 -0.1)\">\r\n     <use xlink:href=\"#DejaVuSans-48\"/>\r\n     <use x=\"63.623047\" xlink:href=\"#DejaVuSans-46\"/>\r\n     <use x=\"95.410156\" xlink:href=\"#DejaVuSans-53\"/>\r\n     <use x=\"159.033203\" xlink:href=\"#DejaVuSans-52\"/>\r\n    </g>\r\n   </g>\r\n   <g id=\"text_124\">\r\n    <!-- 0.79 -->\r\n    <g style=\"fill:#262626;\" transform=\"translate(479.710714 266.144308)scale(0.1 -0.1)\">\r\n     <use xlink:href=\"#DejaVuSans-48\"/>\r\n     <use x=\"63.623047\" xlink:href=\"#DejaVuSans-46\"/>\r\n     <use x=\"95.410156\" xlink:href=\"#DejaVuSans-55\"/>\r\n     <use x=\"159.033203\" xlink:href=\"#DejaVuSans-57\"/>\r\n    </g>\r\n   </g>\r\n   <g id=\"text_125\">\r\n    <!-- 0.49 -->\r\n    <g style=\"fill:#ffffff;\" transform=\"translate(511.596429 266.144308)scale(0.1 -0.1)\">\r\n     <use xlink:href=\"#DejaVuSans-48\"/>\r\n     <use x=\"63.623047\" xlink:href=\"#DejaVuSans-46\"/>\r\n     <use x=\"95.410156\" xlink:href=\"#DejaVuSans-52\"/>\r\n     <use x=\"159.033203\" xlink:href=\"#DejaVuSans-57\"/>\r\n    </g>\r\n   </g>\r\n   <g id=\"text_126\">\r\n    <!-- -0.85 -->\r\n    <g style=\"fill:#ffffff;\" transform=\"translate(541.678237 266.144308)scale(0.1 -0.1)\">\r\n     <use xlink:href=\"#DejaVuSans-45\"/>\r\n     <use x=\"36.083984\" xlink:href=\"#DejaVuSans-48\"/>\r\n     <use x=\"99.707031\" xlink:href=\"#DejaVuSans-46\"/>\r\n     <use x=\"131.494141\" xlink:href=\"#DejaVuSans-56\"/>\r\n     <use x=\"195.117188\" xlink:href=\"#DejaVuSans-53\"/>\r\n    </g>\r\n   </g>\r\n   <g id=\"text_127\">\r\n    <!-- -0.16 -->\r\n    <g style=\"fill:#ffffff;\" transform=\"translate(127.163951 304.972879)scale(0.1 -0.1)\">\r\n     <use xlink:href=\"#DejaVuSans-45\"/>\r\n     <use x=\"36.083984\" xlink:href=\"#DejaVuSans-48\"/>\r\n     <use x=\"99.707031\" xlink:href=\"#DejaVuSans-46\"/>\r\n     <use x=\"131.494141\" xlink:href=\"#DejaVuSans-49\"/>\r\n     <use x=\"195.117188\" xlink:href=\"#DejaVuSans-54\"/>\r\n    </g>\r\n   </g>\r\n   <g id=\"text_128\">\r\n    <!-- 0.29 -->\r\n    <g style=\"fill:#ffffff;\" transform=\"translate(160.853571 304.972879)scale(0.1 -0.1)\">\r\n     <use xlink:href=\"#DejaVuSans-48\"/>\r\n     <use x=\"63.623047\" xlink:href=\"#DejaVuSans-46\"/>\r\n     <use x=\"95.410156\" xlink:href=\"#DejaVuSans-50\"/>\r\n     <use x=\"159.033203\" xlink:href=\"#DejaVuSans-57\"/>\r\n    </g>\r\n   </g>\r\n   <g id=\"text_129\">\r\n    <!-- 0.19 -->\r\n    <g style=\"fill:#ffffff;\" transform=\"translate(192.739286 304.972879)scale(0.1 -0.1)\">\r\n     <use xlink:href=\"#DejaVuSans-48\"/>\r\n     <use x=\"63.623047\" xlink:href=\"#DejaVuSans-46\"/>\r\n     <use x=\"95.410156\" xlink:href=\"#DejaVuSans-49\"/>\r\n     <use x=\"159.033203\" xlink:href=\"#DejaVuSans-57\"/>\r\n    </g>\r\n   </g>\r\n   <g id=\"text_130\">\r\n    <!-- 0.36 -->\r\n    <g style=\"fill:#ffffff;\" transform=\"translate(224.625 304.972879)scale(0.1 -0.1)\">\r\n     <use xlink:href=\"#DejaVuSans-48\"/>\r\n     <use x=\"63.623047\" xlink:href=\"#DejaVuSans-46\"/>\r\n     <use x=\"95.410156\" xlink:href=\"#DejaVuSans-51\"/>\r\n     <use x=\"159.033203\" xlink:href=\"#DejaVuSans-54\"/>\r\n    </g>\r\n   </g>\r\n   <g id=\"text_131\">\r\n    <!-- -0.26 -->\r\n    <g style=\"fill:#ffffff;\" transform=\"translate(254.706808 304.972879)scale(0.1 -0.1)\">\r\n     <use xlink:href=\"#DejaVuSans-45\"/>\r\n     <use x=\"36.083984\" xlink:href=\"#DejaVuSans-48\"/>\r\n     <use x=\"99.707031\" xlink:href=\"#DejaVuSans-46\"/>\r\n     <use x=\"131.494141\" xlink:href=\"#DejaVuSans-50\"/>\r\n     <use x=\"195.117188\" xlink:href=\"#DejaVuSans-54\"/>\r\n    </g>\r\n   </g>\r\n   <g id=\"text_132\">\r\n    <!-- -0.45 -->\r\n    <g style=\"fill:#ffffff;\" transform=\"translate(286.592522 304.972879)scale(0.1 -0.1)\">\r\n     <use xlink:href=\"#DejaVuSans-45\"/>\r\n     <use x=\"36.083984\" xlink:href=\"#DejaVuSans-48\"/>\r\n     <use x=\"99.707031\" xlink:href=\"#DejaVuSans-46\"/>\r\n     <use x=\"131.494141\" xlink:href=\"#DejaVuSans-52\"/>\r\n     <use x=\"195.117188\" xlink:href=\"#DejaVuSans-53\"/>\r\n    </g>\r\n   </g>\r\n   <g id=\"text_133\">\r\n    <!-- -0.54 -->\r\n    <g style=\"fill:#ffffff;\" transform=\"translate(318.478237 304.972879)scale(0.1 -0.1)\">\r\n     <use xlink:href=\"#DejaVuSans-45\"/>\r\n     <use x=\"36.083984\" xlink:href=\"#DejaVuSans-48\"/>\r\n     <use x=\"99.707031\" xlink:href=\"#DejaVuSans-46\"/>\r\n     <use x=\"131.494141\" xlink:href=\"#DejaVuSans-53\"/>\r\n     <use x=\"195.117188\" xlink:href=\"#DejaVuSans-52\"/>\r\n    </g>\r\n   </g>\r\n   <g id=\"text_134\">\r\n    <!-- 1 -->\r\n    <g style=\"fill:#262626;\" transform=\"translate(360.11942 304.972879)scale(0.1 -0.1)\">\r\n     <use xlink:href=\"#DejaVuSans-49\"/>\r\n    </g>\r\n   </g>\r\n   <g id=\"text_135\">\r\n    <!-- -0.37 -->\r\n    <g style=\"fill:#ffffff;\" transform=\"translate(382.249665 304.972879)scale(0.1 -0.1)\">\r\n     <use xlink:href=\"#DejaVuSans-45\"/>\r\n     <use x=\"36.083984\" xlink:href=\"#DejaVuSans-48\"/>\r\n     <use x=\"99.707031\" xlink:href=\"#DejaVuSans-46\"/>\r\n     <use x=\"131.494141\" xlink:href=\"#DejaVuSans-51\"/>\r\n     <use x=\"195.117188\" xlink:href=\"#DejaVuSans-55\"/>\r\n    </g>\r\n   </g>\r\n   <g id=\"text_136\">\r\n    <!-- 0.14 -->\r\n    <g style=\"fill:#ffffff;\" transform=\"translate(415.939286 304.972879)scale(0.1 -0.1)\">\r\n     <use xlink:href=\"#DejaVuSans-48\"/>\r\n     <use x=\"63.623047\" xlink:href=\"#DejaVuSans-46\"/>\r\n     <use x=\"95.410156\" xlink:href=\"#DejaVuSans-49\"/>\r\n     <use x=\"159.033203\" xlink:href=\"#DejaVuSans-52\"/>\r\n    </g>\r\n   </g>\r\n   <g id=\"text_137\">\r\n    <!-- -0.26 -->\r\n    <g style=\"fill:#ffffff;\" transform=\"translate(446.021094 304.972879)scale(0.1 -0.1)\">\r\n     <use xlink:href=\"#DejaVuSans-45\"/>\r\n     <use x=\"36.083984\" xlink:href=\"#DejaVuSans-48\"/>\r\n     <use x=\"99.707031\" xlink:href=\"#DejaVuSans-46\"/>\r\n     <use x=\"131.494141\" xlink:href=\"#DejaVuSans-50\"/>\r\n     <use x=\"195.117188\" xlink:href=\"#DejaVuSans-54\"/>\r\n    </g>\r\n   </g>\r\n   <g id=\"text_138\">\r\n    <!-- -0.5 -->\r\n    <g style=\"fill:#ffffff;\" transform=\"translate(481.088058 304.972879)scale(0.1 -0.1)\">\r\n     <use xlink:href=\"#DejaVuSans-45\"/>\r\n     <use x=\"36.083984\" xlink:href=\"#DejaVuSans-48\"/>\r\n     <use x=\"99.707031\" xlink:href=\"#DejaVuSans-46\"/>\r\n     <use x=\"131.494141\" xlink:href=\"#DejaVuSans-53\"/>\r\n    </g>\r\n   </g>\r\n   <g id=\"text_139\">\r\n    <!-- -0.31 -->\r\n    <g style=\"fill:#ffffff;\" transform=\"translate(509.792522 304.972879)scale(0.1 -0.1)\">\r\n     <use xlink:href=\"#DejaVuSans-45\"/>\r\n     <use x=\"36.083984\" xlink:href=\"#DejaVuSans-48\"/>\r\n     <use x=\"99.707031\" xlink:href=\"#DejaVuSans-46\"/>\r\n     <use x=\"131.494141\" xlink:href=\"#DejaVuSans-51\"/>\r\n     <use x=\"195.117188\" xlink:href=\"#DejaVuSans-49\"/>\r\n    </g>\r\n   </g>\r\n   <g id=\"text_140\">\r\n    <!-- 0.49 -->\r\n    <g style=\"fill:#ffffff;\" transform=\"translate(543.482143 304.972879)scale(0.1 -0.1)\">\r\n     <use xlink:href=\"#DejaVuSans-48\"/>\r\n     <use x=\"63.623047\" xlink:href=\"#DejaVuSans-46\"/>\r\n     <use x=\"95.410156\" xlink:href=\"#DejaVuSans-52\"/>\r\n     <use x=\"159.033203\" xlink:href=\"#DejaVuSans-57\"/>\r\n    </g>\r\n   </g>\r\n   <g id=\"text_141\">\r\n    <!-- 0.14 -->\r\n    <g style=\"fill:#ffffff;\" transform=\"translate(128.967857 343.801451)scale(0.1 -0.1)\">\r\n     <use xlink:href=\"#DejaVuSans-48\"/>\r\n     <use x=\"63.623047\" xlink:href=\"#DejaVuSans-46\"/>\r\n     <use x=\"95.410156\" xlink:href=\"#DejaVuSans-49\"/>\r\n     <use x=\"159.033203\" xlink:href=\"#DejaVuSans-52\"/>\r\n    </g>\r\n   </g>\r\n   <g id=\"text_142\">\r\n    <!-- -0.22 -->\r\n    <g style=\"fill:#ffffff;\" transform=\"translate(159.049665 343.801451)scale(0.1 -0.1)\">\r\n     <use xlink:href=\"#DejaVuSans-45\"/>\r\n     <use x=\"36.083984\" xlink:href=\"#DejaVuSans-48\"/>\r\n     <use x=\"99.707031\" xlink:href=\"#DejaVuSans-46\"/>\r\n     <use x=\"131.494141\" xlink:href=\"#DejaVuSans-50\"/>\r\n     <use x=\"195.117188\" xlink:href=\"#DejaVuSans-50\"/>\r\n    </g>\r\n   </g>\r\n   <g id=\"text_143\">\r\n    <!-- 0.0097 -->\r\n    <g style=\"fill:#ffffff;\" transform=\"translate(186.376786 343.801451)scale(0.1 -0.1)\">\r\n     <use xlink:href=\"#DejaVuSans-48\"/>\r\n     <use x=\"63.623047\" xlink:href=\"#DejaVuSans-46\"/>\r\n     <use x=\"95.410156\" xlink:href=\"#DejaVuSans-48\"/>\r\n     <use x=\"159.033203\" xlink:href=\"#DejaVuSans-48\"/>\r\n     <use x=\"222.65625\" xlink:href=\"#DejaVuSans-57\"/>\r\n     <use x=\"286.279297\" xlink:href=\"#DejaVuSans-55\"/>\r\n    </g>\r\n   </g>\r\n   <g id=\"text_144\">\r\n    <!-- -0.2 -->\r\n    <g style=\"fill:#ffffff;\" transform=\"translate(226.002344 343.801451)scale(0.1 -0.1)\">\r\n     <use xlink:href=\"#DejaVuSans-45\"/>\r\n     <use x=\"36.083984\" xlink:href=\"#DejaVuSans-48\"/>\r\n     <use x=\"99.707031\" xlink:href=\"#DejaVuSans-46\"/>\r\n     <use x=\"131.494141\" xlink:href=\"#DejaVuSans-50\"/>\r\n    </g>\r\n   </g>\r\n   <g id=\"text_145\">\r\n    <!-- 0.24 -->\r\n    <g style=\"fill:#ffffff;\" transform=\"translate(256.510714 343.801451)scale(0.1 -0.1)\">\r\n     <use xlink:href=\"#DejaVuSans-48\"/>\r\n     <use x=\"63.623047\" xlink:href=\"#DejaVuSans-46\"/>\r\n     <use x=\"95.410156\" xlink:href=\"#DejaVuSans-50\"/>\r\n     <use x=\"159.033203\" xlink:href=\"#DejaVuSans-52\"/>\r\n    </g>\r\n   </g>\r\n   <g id=\"text_146\">\r\n    <!-- 0.61 -->\r\n    <g style=\"fill:#262626;\" transform=\"translate(288.396429 343.801451)scale(0.1 -0.1)\">\r\n     <use xlink:href=\"#DejaVuSans-48\"/>\r\n     <use x=\"63.623047\" xlink:href=\"#DejaVuSans-46\"/>\r\n     <use x=\"95.410156\" xlink:href=\"#DejaVuSans-54\"/>\r\n     <use x=\"159.033203\" xlink:href=\"#DejaVuSans-49\"/>\r\n    </g>\r\n   </g>\r\n   <g id=\"text_147\">\r\n    <!-- 0.65 -->\r\n    <g style=\"fill:#262626;\" transform=\"translate(320.282143 343.801451)scale(0.1 -0.1)\">\r\n     <use xlink:href=\"#DejaVuSans-48\"/>\r\n     <use x=\"63.623047\" xlink:href=\"#DejaVuSans-46\"/>\r\n     <use x=\"95.410156\" xlink:href=\"#DejaVuSans-54\"/>\r\n     <use x=\"159.033203\" xlink:href=\"#DejaVuSans-53\"/>\r\n    </g>\r\n   </g>\r\n   <g id=\"text_148\">\r\n    <!-- -0.37 -->\r\n    <g style=\"fill:#ffffff;\" transform=\"translate(350.363951 343.801451)scale(0.1 -0.1)\">\r\n     <use xlink:href=\"#DejaVuSans-45\"/>\r\n     <use x=\"36.083984\" xlink:href=\"#DejaVuSans-48\"/>\r\n     <use x=\"99.707031\" xlink:href=\"#DejaVuSans-46\"/>\r\n     <use x=\"131.494141\" xlink:href=\"#DejaVuSans-51\"/>\r\n     <use x=\"195.117188\" xlink:href=\"#DejaVuSans-55\"/>\r\n    </g>\r\n   </g>\r\n   <g id=\"text_149\">\r\n    <!-- 1 -->\r\n    <g style=\"fill:#262626;\" transform=\"translate(392.005134 343.801451)scale(0.1 -0.1)\">\r\n     <use xlink:href=\"#DejaVuSans-49\"/>\r\n    </g>\r\n   </g>\r\n   <g id=\"text_150\">\r\n    <!-- -0.025 -->\r\n    <g style=\"fill:#ffffff;\" transform=\"translate(410.954129 343.801451)scale(0.1 -0.1)\">\r\n     <use xlink:href=\"#DejaVuSans-45\"/>\r\n     <use x=\"36.083984\" xlink:href=\"#DejaVuSans-48\"/>\r\n     <use x=\"99.707031\" xlink:href=\"#DejaVuSans-46\"/>\r\n     <use x=\"131.494141\" xlink:href=\"#DejaVuSans-48\"/>\r\n     <use x=\"195.117188\" xlink:href=\"#DejaVuSans-50\"/>\r\n     <use x=\"258.740234\" xlink:href=\"#DejaVuSans-53\"/>\r\n    </g>\r\n   </g>\r\n   <g id=\"text_151\">\r\n    <!-- 0.3 -->\r\n    <g style=\"fill:#ffffff;\" transform=\"translate(451.00625 343.801451)scale(0.1 -0.1)\">\r\n     <use xlink:href=\"#DejaVuSans-48\"/>\r\n     <use x=\"63.623047\" xlink:href=\"#DejaVuSans-46\"/>\r\n     <use x=\"95.410156\" xlink:href=\"#DejaVuSans-51\"/>\r\n    </g>\r\n   </g>\r\n   <g id=\"text_152\">\r\n    <!-- 0.52 -->\r\n    <g style=\"fill:#ffffff;\" transform=\"translate(479.710714 343.801451)scale(0.1 -0.1)\">\r\n     <use xlink:href=\"#DejaVuSans-48\"/>\r\n     <use x=\"63.623047\" xlink:href=\"#DejaVuSans-46\"/>\r\n     <use x=\"95.410156\" xlink:href=\"#DejaVuSans-53\"/>\r\n     <use x=\"159.033203\" xlink:href=\"#DejaVuSans-50\"/>\r\n    </g>\r\n   </g>\r\n   <g id=\"text_153\">\r\n    <!-- 0.33 -->\r\n    <g style=\"fill:#ffffff;\" transform=\"translate(511.596429 343.801451)scale(0.1 -0.1)\">\r\n     <use xlink:href=\"#DejaVuSans-48\"/>\r\n     <use x=\"63.623047\" xlink:href=\"#DejaVuSans-46\"/>\r\n     <use x=\"95.410156\" xlink:href=\"#DejaVuSans-51\"/>\r\n     <use x=\"159.033203\" xlink:href=\"#DejaVuSans-51\"/>\r\n    </g>\r\n   </g>\r\n   <g id=\"text_154\">\r\n    <!-- -0.5 -->\r\n    <g style=\"fill:#ffffff;\" transform=\"translate(544.859487 343.801451)scale(0.1 -0.1)\">\r\n     <use xlink:href=\"#DejaVuSans-45\"/>\r\n     <use x=\"36.083984\" xlink:href=\"#DejaVuSans-48\"/>\r\n     <use x=\"99.707031\" xlink:href=\"#DejaVuSans-46\"/>\r\n     <use x=\"131.494141\" xlink:href=\"#DejaVuSans-53\"/>\r\n    </g>\r\n   </g>\r\n   <g id=\"text_155\">\r\n    <!-- 0.55 -->\r\n    <g style=\"fill:#ffffff;\" transform=\"translate(128.967857 382.630022)scale(0.1 -0.1)\">\r\n     <use xlink:href=\"#DejaVuSans-48\"/>\r\n     <use x=\"63.623047\" xlink:href=\"#DejaVuSans-46\"/>\r\n     <use x=\"95.410156\" xlink:href=\"#DejaVuSans-53\"/>\r\n     <use x=\"159.033203\" xlink:href=\"#DejaVuSans-53\"/>\r\n    </g>\r\n   </g>\r\n   <g id=\"text_156\">\r\n    <!-- 0.25 -->\r\n    <g style=\"fill:#ffffff;\" transform=\"translate(160.853571 382.630022)scale(0.1 -0.1)\">\r\n     <use xlink:href=\"#DejaVuSans-48\"/>\r\n     <use x=\"63.623047\" xlink:href=\"#DejaVuSans-46\"/>\r\n     <use x=\"95.410156\" xlink:href=\"#DejaVuSans-50\"/>\r\n     <use x=\"159.033203\" xlink:href=\"#DejaVuSans-53\"/>\r\n    </g>\r\n   </g>\r\n   <g id=\"text_157\">\r\n    <!-- 0.26 -->\r\n    <g style=\"fill:#ffffff;\" transform=\"translate(192.739286 382.630022)scale(0.1 -0.1)\">\r\n     <use xlink:href=\"#DejaVuSans-48\"/>\r\n     <use x=\"63.623047\" xlink:href=\"#DejaVuSans-46\"/>\r\n     <use x=\"95.410156\" xlink:href=\"#DejaVuSans-50\"/>\r\n     <use x=\"159.033203\" xlink:href=\"#DejaVuSans-54\"/>\r\n    </g>\r\n   </g>\r\n   <g id=\"text_158\">\r\n    <!-- 0.019 -->\r\n    <g style=\"fill:#ffffff;\" transform=\"translate(221.44375 382.630022)scale(0.1 -0.1)\">\r\n     <use xlink:href=\"#DejaVuSans-48\"/>\r\n     <use x=\"63.623047\" xlink:href=\"#DejaVuSans-46\"/>\r\n     <use x=\"95.410156\" xlink:href=\"#DejaVuSans-48\"/>\r\n     <use x=\"159.033203\" xlink:href=\"#DejaVuSans-49\"/>\r\n     <use x=\"222.65625\" xlink:href=\"#DejaVuSans-57\"/>\r\n    </g>\r\n   </g>\r\n   <g id=\"text_159\">\r\n    <!-- 0.2 -->\r\n    <g style=\"fill:#ffffff;\" transform=\"translate(259.691964 382.630022)scale(0.1 -0.1)\">\r\n     <use xlink:href=\"#DejaVuSans-48\"/>\r\n     <use x=\"63.623047\" xlink:href=\"#DejaVuSans-46\"/>\r\n     <use x=\"95.410156\" xlink:href=\"#DejaVuSans-50\"/>\r\n    </g>\r\n   </g>\r\n   <g id=\"text_160\">\r\n    <!-- -0.055 -->\r\n    <g style=\"fill:#ffffff;\" transform=\"translate(283.411272 382.630022)scale(0.1 -0.1)\">\r\n     <use xlink:href=\"#DejaVuSans-45\"/>\r\n     <use x=\"36.083984\" xlink:href=\"#DejaVuSans-48\"/>\r\n     <use x=\"99.707031\" xlink:href=\"#DejaVuSans-46\"/>\r\n     <use x=\"131.494141\" xlink:href=\"#DejaVuSans-48\"/>\r\n     <use x=\"195.117188\" xlink:href=\"#DejaVuSans-53\"/>\r\n     <use x=\"258.740234\" xlink:href=\"#DejaVuSans-53\"/>\r\n    </g>\r\n   </g>\r\n   <g id=\"text_161\">\r\n    <!-- -0.17 -->\r\n    <g style=\"fill:#ffffff;\" transform=\"translate(318.478237 382.630022)scale(0.1 -0.1)\">\r\n     <use xlink:href=\"#DejaVuSans-45\"/>\r\n     <use x=\"36.083984\" xlink:href=\"#DejaVuSans-48\"/>\r\n     <use x=\"99.707031\" xlink:href=\"#DejaVuSans-46\"/>\r\n     <use x=\"131.494141\" xlink:href=\"#DejaVuSans-49\"/>\r\n     <use x=\"195.117188\" xlink:href=\"#DejaVuSans-55\"/>\r\n    </g>\r\n   </g>\r\n   <g id=\"text_162\">\r\n    <!-- 0.14 -->\r\n    <g style=\"fill:#ffffff;\" transform=\"translate(352.167857 382.630022)scale(0.1 -0.1)\">\r\n     <use xlink:href=\"#DejaVuSans-48\"/>\r\n     <use x=\"63.623047\" xlink:href=\"#DejaVuSans-46\"/>\r\n     <use x=\"95.410156\" xlink:href=\"#DejaVuSans-49\"/>\r\n     <use x=\"159.033203\" xlink:href=\"#DejaVuSans-52\"/>\r\n    </g>\r\n   </g>\r\n   <g id=\"text_163\">\r\n    <!-- -0.025 -->\r\n    <g style=\"fill:#ffffff;\" transform=\"translate(379.068415 382.630022)scale(0.1 -0.1)\">\r\n     <use xlink:href=\"#DejaVuSans-45\"/>\r\n     <use x=\"36.083984\" xlink:href=\"#DejaVuSans-48\"/>\r\n     <use x=\"99.707031\" xlink:href=\"#DejaVuSans-46\"/>\r\n     <use x=\"131.494141\" xlink:href=\"#DejaVuSans-48\"/>\r\n     <use x=\"195.117188\" xlink:href=\"#DejaVuSans-50\"/>\r\n     <use x=\"258.740234\" xlink:href=\"#DejaVuSans-53\"/>\r\n    </g>\r\n   </g>\r\n   <g id=\"text_164\">\r\n    <!-- 1 -->\r\n    <g style=\"fill:#262626;\" transform=\"translate(423.890848 382.630022)scale(0.1 -0.1)\">\r\n     <use xlink:href=\"#DejaVuSans-49\"/>\r\n    </g>\r\n   </g>\r\n   <g id=\"text_165\">\r\n    <!-- -0.52 -->\r\n    <g style=\"fill:#ffffff;\" transform=\"translate(446.021094 382.630022)scale(0.1 -0.1)\">\r\n     <use xlink:href=\"#DejaVuSans-45\"/>\r\n     <use x=\"36.083984\" xlink:href=\"#DejaVuSans-48\"/>\r\n     <use x=\"99.707031\" xlink:href=\"#DejaVuSans-46\"/>\r\n     <use x=\"131.494141\" xlink:href=\"#DejaVuSans-53\"/>\r\n     <use x=\"195.117188\" xlink:href=\"#DejaVuSans-50\"/>\r\n    </g>\r\n   </g>\r\n   <g id=\"text_166\">\r\n    <!-- -0.43 -->\r\n    <g style=\"fill:#ffffff;\" transform=\"translate(477.906808 382.630022)scale(0.1 -0.1)\">\r\n     <use xlink:href=\"#DejaVuSans-45\"/>\r\n     <use x=\"36.083984\" xlink:href=\"#DejaVuSans-48\"/>\r\n     <use x=\"99.707031\" xlink:href=\"#DejaVuSans-46\"/>\r\n     <use x=\"131.494141\" xlink:href=\"#DejaVuSans-52\"/>\r\n     <use x=\"195.117188\" xlink:href=\"#DejaVuSans-51\"/>\r\n    </g>\r\n   </g>\r\n   <g id=\"text_167\">\r\n    <!-- 0.32 -->\r\n    <g style=\"fill:#ffffff;\" transform=\"translate(511.596429 382.630022)scale(0.1 -0.1)\">\r\n     <use xlink:href=\"#DejaVuSans-48\"/>\r\n     <use x=\"63.623047\" xlink:href=\"#DejaVuSans-46\"/>\r\n     <use x=\"95.410156\" xlink:href=\"#DejaVuSans-51\"/>\r\n     <use x=\"159.033203\" xlink:href=\"#DejaVuSans-50\"/>\r\n    </g>\r\n   </g>\r\n   <g id=\"text_168\">\r\n    <!-- 0.27 -->\r\n    <g style=\"fill:#ffffff;\" transform=\"translate(543.482143 382.630022)scale(0.1 -0.1)\">\r\n     <use xlink:href=\"#DejaVuSans-48\"/>\r\n     <use x=\"63.623047\" xlink:href=\"#DejaVuSans-46\"/>\r\n     <use x=\"95.410156\" xlink:href=\"#DejaVuSans-50\"/>\r\n     <use x=\"159.033203\" xlink:href=\"#DejaVuSans-55\"/>\r\n    </g>\r\n   </g>\r\n   <g id=\"text_169\">\r\n    <!-- -0.072 -->\r\n    <g style=\"fill:#ffffff;\" transform=\"translate(123.982701 421.458594)scale(0.1 -0.1)\">\r\n     <use xlink:href=\"#DejaVuSans-45\"/>\r\n     <use x=\"36.083984\" xlink:href=\"#DejaVuSans-48\"/>\r\n     <use x=\"99.707031\" xlink:href=\"#DejaVuSans-46\"/>\r\n     <use x=\"131.494141\" xlink:href=\"#DejaVuSans-48\"/>\r\n     <use x=\"195.117188\" xlink:href=\"#DejaVuSans-55\"/>\r\n     <use x=\"258.740234\" xlink:href=\"#DejaVuSans-50\"/>\r\n    </g>\r\n   </g>\r\n   <g id=\"text_170\">\r\n    <!-- -0.56 -->\r\n    <g style=\"fill:#ffffff;\" transform=\"translate(159.049665 421.458594)scale(0.1 -0.1)\">\r\n     <use xlink:href=\"#DejaVuSans-45\"/>\r\n     <use x=\"36.083984\" xlink:href=\"#DejaVuSans-48\"/>\r\n     <use x=\"99.707031\" xlink:href=\"#DejaVuSans-46\"/>\r\n     <use x=\"131.494141\" xlink:href=\"#DejaVuSans-53\"/>\r\n     <use x=\"195.117188\" xlink:href=\"#DejaVuSans-54\"/>\r\n    </g>\r\n   </g>\r\n   <g id=\"text_171\">\r\n    <!-- -0.075 -->\r\n    <g style=\"fill:#ffffff;\" transform=\"translate(187.754129 421.458594)scale(0.1 -0.1)\">\r\n     <use xlink:href=\"#DejaVuSans-45\"/>\r\n     <use x=\"36.083984\" xlink:href=\"#DejaVuSans-48\"/>\r\n     <use x=\"99.707031\" xlink:href=\"#DejaVuSans-46\"/>\r\n     <use x=\"131.494141\" xlink:href=\"#DejaVuSans-48\"/>\r\n     <use x=\"195.117188\" xlink:href=\"#DejaVuSans-55\"/>\r\n     <use x=\"258.740234\" xlink:href=\"#DejaVuSans-53\"/>\r\n    </g>\r\n   </g>\r\n   <g id=\"text_172\">\r\n    <!-- -0.27 -->\r\n    <g style=\"fill:#ffffff;\" transform=\"translate(222.821094 421.458594)scale(0.1 -0.1)\">\r\n     <use xlink:href=\"#DejaVuSans-45\"/>\r\n     <use x=\"36.083984\" xlink:href=\"#DejaVuSans-48\"/>\r\n     <use x=\"99.707031\" xlink:href=\"#DejaVuSans-46\"/>\r\n     <use x=\"131.494141\" xlink:href=\"#DejaVuSans-50\"/>\r\n     <use x=\"195.117188\" xlink:href=\"#DejaVuSans-55\"/>\r\n    </g>\r\n   </g>\r\n   <g id=\"text_173\">\r\n    <!-- 0.055 -->\r\n    <g style=\"fill:#ffffff;\" transform=\"translate(253.329464 421.458594)scale(0.1 -0.1)\">\r\n     <use xlink:href=\"#DejaVuSans-48\"/>\r\n     <use x=\"63.623047\" xlink:href=\"#DejaVuSans-46\"/>\r\n     <use x=\"95.410156\" xlink:href=\"#DejaVuSans-48\"/>\r\n     <use x=\"159.033203\" xlink:href=\"#DejaVuSans-53\"/>\r\n     <use x=\"222.65625\" xlink:href=\"#DejaVuSans-53\"/>\r\n    </g>\r\n   </g>\r\n   <g id=\"text_174\">\r\n    <!-- 0.43 -->\r\n    <g style=\"fill:#ffffff;\" transform=\"translate(288.396429 421.458594)scale(0.1 -0.1)\">\r\n     <use xlink:href=\"#DejaVuSans-48\"/>\r\n     <use x=\"63.623047\" xlink:href=\"#DejaVuSans-46\"/>\r\n     <use x=\"95.410156\" xlink:href=\"#DejaVuSans-52\"/>\r\n     <use x=\"159.033203\" xlink:href=\"#DejaVuSans-51\"/>\r\n    </g>\r\n   </g>\r\n   <g id=\"text_175\">\r\n    <!-- 0.54 -->\r\n    <g style=\"fill:#ffffff;\" transform=\"translate(320.282143 421.458594)scale(0.1 -0.1)\">\r\n     <use xlink:href=\"#DejaVuSans-48\"/>\r\n     <use x=\"63.623047\" xlink:href=\"#DejaVuSans-46\"/>\r\n     <use x=\"95.410156\" xlink:href=\"#DejaVuSans-53\"/>\r\n     <use x=\"159.033203\" xlink:href=\"#DejaVuSans-52\"/>\r\n    </g>\r\n   </g>\r\n   <g id=\"text_176\">\r\n    <!-- -0.26 -->\r\n    <g style=\"fill:#ffffff;\" transform=\"translate(350.363951 421.458594)scale(0.1 -0.1)\">\r\n     <use xlink:href=\"#DejaVuSans-45\"/>\r\n     <use x=\"36.083984\" xlink:href=\"#DejaVuSans-48\"/>\r\n     <use x=\"99.707031\" xlink:href=\"#DejaVuSans-46\"/>\r\n     <use x=\"131.494141\" xlink:href=\"#DejaVuSans-50\"/>\r\n     <use x=\"195.117188\" xlink:href=\"#DejaVuSans-54\"/>\r\n    </g>\r\n   </g>\r\n   <g id=\"text_177\">\r\n    <!-- 0.3 -->\r\n    <g style=\"fill:#ffffff;\" transform=\"translate(387.234821 421.458594)scale(0.1 -0.1)\">\r\n     <use xlink:href=\"#DejaVuSans-48\"/>\r\n     <use x=\"63.623047\" xlink:href=\"#DejaVuSans-46\"/>\r\n     <use x=\"95.410156\" xlink:href=\"#DejaVuSans-51\"/>\r\n    </g>\r\n   </g>\r\n   <g id=\"text_178\">\r\n    <!-- -0.52 -->\r\n    <g style=\"fill:#ffffff;\" transform=\"translate(414.135379 421.458594)scale(0.1 -0.1)\">\r\n     <use xlink:href=\"#DejaVuSans-45\"/>\r\n     <use x=\"36.083984\" xlink:href=\"#DejaVuSans-48\"/>\r\n     <use x=\"99.707031\" xlink:href=\"#DejaVuSans-46\"/>\r\n     <use x=\"131.494141\" xlink:href=\"#DejaVuSans-53\"/>\r\n     <use x=\"195.117188\" xlink:href=\"#DejaVuSans-50\"/>\r\n    </g>\r\n   </g>\r\n   <g id=\"text_179\">\r\n    <!-- 1 -->\r\n    <g style=\"fill:#262626;\" transform=\"translate(455.776563 421.458594)scale(0.1 -0.1)\">\r\n     <use xlink:href=\"#DejaVuSans-49\"/>\r\n    </g>\r\n   </g>\r\n   <g id=\"text_180\">\r\n    <!-- 0.57 -->\r\n    <g style=\"fill:#ffffff;\" transform=\"translate(479.710714 421.458594)scale(0.1 -0.1)\">\r\n     <use xlink:href=\"#DejaVuSans-48\"/>\r\n     <use x=\"63.623047\" xlink:href=\"#DejaVuSans-46\"/>\r\n     <use x=\"95.410156\" xlink:href=\"#DejaVuSans-53\"/>\r\n     <use x=\"159.033203\" xlink:href=\"#DejaVuSans-55\"/>\r\n    </g>\r\n   </g>\r\n   <g id=\"text_181\">\r\n    <!-- 0.24 -->\r\n    <g style=\"fill:#ffffff;\" transform=\"translate(511.596429 421.458594)scale(0.1 -0.1)\">\r\n     <use xlink:href=\"#DejaVuSans-48\"/>\r\n     <use x=\"63.623047\" xlink:href=\"#DejaVuSans-46\"/>\r\n     <use x=\"95.410156\" xlink:href=\"#DejaVuSans-50\"/>\r\n     <use x=\"159.033203\" xlink:href=\"#DejaVuSans-52\"/>\r\n    </g>\r\n   </g>\r\n   <g id=\"text_182\">\r\n    <!-- -0.62 -->\r\n    <g style=\"fill:#ffffff;\" transform=\"translate(541.678237 421.458594)scale(0.1 -0.1)\">\r\n     <use xlink:href=\"#DejaVuSans-45\"/>\r\n     <use x=\"36.083984\" xlink:href=\"#DejaVuSans-48\"/>\r\n     <use x=\"99.707031\" xlink:href=\"#DejaVuSans-46\"/>\r\n     <use x=\"131.494141\" xlink:href=\"#DejaVuSans-54\"/>\r\n     <use x=\"195.117188\" xlink:href=\"#DejaVuSans-50\"/>\r\n    </g>\r\n   </g>\r\n   <g id=\"text_183\">\r\n    <!-- 0.072 -->\r\n    <g style=\"fill:#ffffff;\" transform=\"translate(125.786607 460.287165)scale(0.1 -0.1)\">\r\n     <use xlink:href=\"#DejaVuSans-48\"/>\r\n     <use x=\"63.623047\" xlink:href=\"#DejaVuSans-46\"/>\r\n     <use x=\"95.410156\" xlink:href=\"#DejaVuSans-48\"/>\r\n     <use x=\"159.033203\" xlink:href=\"#DejaVuSans-55\"/>\r\n     <use x=\"222.65625\" xlink:href=\"#DejaVuSans-50\"/>\r\n    </g>\r\n   </g>\r\n   <g id=\"text_184\">\r\n    <!-- -0.37 -->\r\n    <g style=\"fill:#ffffff;\" transform=\"translate(159.049665 460.287165)scale(0.1 -0.1)\">\r\n     <use xlink:href=\"#DejaVuSans-45\"/>\r\n     <use x=\"36.083984\" xlink:href=\"#DejaVuSans-48\"/>\r\n     <use x=\"99.707031\" xlink:href=\"#DejaVuSans-46\"/>\r\n     <use x=\"131.494141\" xlink:href=\"#DejaVuSans-51\"/>\r\n     <use x=\"195.117188\" xlink:href=\"#DejaVuSans-55\"/>\r\n    </g>\r\n   </g>\r\n   <g id=\"text_185\">\r\n    <!-- 0.0039 -->\r\n    <g style=\"fill:#ffffff;\" transform=\"translate(186.376786 460.287165)scale(0.1 -0.1)\">\r\n     <use xlink:href=\"#DejaVuSans-48\"/>\r\n     <use x=\"63.623047\" xlink:href=\"#DejaVuSans-46\"/>\r\n     <use x=\"95.410156\" xlink:href=\"#DejaVuSans-48\"/>\r\n     <use x=\"159.033203\" xlink:href=\"#DejaVuSans-48\"/>\r\n     <use x=\"222.65625\" xlink:href=\"#DejaVuSans-51\"/>\r\n     <use x=\"286.279297\" xlink:href=\"#DejaVuSans-57\"/>\r\n    </g>\r\n   </g>\r\n   <g id=\"text_186\">\r\n    <!-- -0.28 -->\r\n    <g style=\"fill:#ffffff;\" transform=\"translate(222.821094 460.287165)scale(0.1 -0.1)\">\r\n     <use xlink:href=\"#DejaVuSans-45\"/>\r\n     <use x=\"36.083984\" xlink:href=\"#DejaVuSans-48\"/>\r\n     <use x=\"99.707031\" xlink:href=\"#DejaVuSans-46\"/>\r\n     <use x=\"131.494141\" xlink:href=\"#DejaVuSans-50\"/>\r\n     <use x=\"195.117188\" xlink:href=\"#DejaVuSans-56\"/>\r\n    </g>\r\n   </g>\r\n   <g id=\"text_187\">\r\n    <!-- 0.066 -->\r\n    <g style=\"fill:#ffffff;\" transform=\"translate(253.329464 460.287165)scale(0.1 -0.1)\">\r\n     <use xlink:href=\"#DejaVuSans-48\"/>\r\n     <use x=\"63.623047\" xlink:href=\"#DejaVuSans-46\"/>\r\n     <use x=\"95.410156\" xlink:href=\"#DejaVuSans-48\"/>\r\n     <use x=\"159.033203\" xlink:href=\"#DejaVuSans-54\"/>\r\n     <use x=\"222.65625\" xlink:href=\"#DejaVuSans-54\"/>\r\n    </g>\r\n   </g>\r\n   <g id=\"text_188\">\r\n    <!-- 0.7 -->\r\n    <g style=\"fill:#262626;\" transform=\"translate(291.577679 460.287165)scale(0.1 -0.1)\">\r\n     <use xlink:href=\"#DejaVuSans-48\"/>\r\n     <use x=\"63.623047\" xlink:href=\"#DejaVuSans-46\"/>\r\n     <use x=\"95.410156\" xlink:href=\"#DejaVuSans-55\"/>\r\n    </g>\r\n   </g>\r\n   <g id=\"text_189\">\r\n    <!-- 0.79 -->\r\n    <g style=\"fill:#262626;\" transform=\"translate(320.282143 460.287165)scale(0.1 -0.1)\">\r\n     <use xlink:href=\"#DejaVuSans-48\"/>\r\n     <use x=\"63.623047\" xlink:href=\"#DejaVuSans-46\"/>\r\n     <use x=\"95.410156\" xlink:href=\"#DejaVuSans-55\"/>\r\n     <use x=\"159.033203\" xlink:href=\"#DejaVuSans-57\"/>\r\n    </g>\r\n   </g>\r\n   <g id=\"text_190\">\r\n    <!-- -0.5 -->\r\n    <g style=\"fill:#ffffff;\" transform=\"translate(353.545201 460.287165)scale(0.1 -0.1)\">\r\n     <use xlink:href=\"#DejaVuSans-45\"/>\r\n     <use x=\"36.083984\" xlink:href=\"#DejaVuSans-48\"/>\r\n     <use x=\"99.707031\" xlink:href=\"#DejaVuSans-46\"/>\r\n     <use x=\"131.494141\" xlink:href=\"#DejaVuSans-53\"/>\r\n    </g>\r\n   </g>\r\n   <g id=\"text_191\">\r\n    <!-- 0.52 -->\r\n    <g style=\"fill:#ffffff;\" transform=\"translate(384.053571 460.287165)scale(0.1 -0.1)\">\r\n     <use xlink:href=\"#DejaVuSans-48\"/>\r\n     <use x=\"63.623047\" xlink:href=\"#DejaVuSans-46\"/>\r\n     <use x=\"95.410156\" xlink:href=\"#DejaVuSans-53\"/>\r\n     <use x=\"159.033203\" xlink:href=\"#DejaVuSans-50\"/>\r\n    </g>\r\n   </g>\r\n   <g id=\"text_192\">\r\n    <!-- -0.43 -->\r\n    <g style=\"fill:#ffffff;\" transform=\"translate(414.135379 460.287165)scale(0.1 -0.1)\">\r\n     <use xlink:href=\"#DejaVuSans-45\"/>\r\n     <use x=\"36.083984\" xlink:href=\"#DejaVuSans-48\"/>\r\n     <use x=\"99.707031\" xlink:href=\"#DejaVuSans-46\"/>\r\n     <use x=\"131.494141\" xlink:href=\"#DejaVuSans-52\"/>\r\n     <use x=\"195.117188\" xlink:href=\"#DejaVuSans-51\"/>\r\n    </g>\r\n   </g>\r\n   <g id=\"text_193\">\r\n    <!-- 0.57 -->\r\n    <g style=\"fill:#ffffff;\" transform=\"translate(447.825 460.287165)scale(0.1 -0.1)\">\r\n     <use xlink:href=\"#DejaVuSans-48\"/>\r\n     <use x=\"63.623047\" xlink:href=\"#DejaVuSans-46\"/>\r\n     <use x=\"95.410156\" xlink:href=\"#DejaVuSans-53\"/>\r\n     <use x=\"159.033203\" xlink:href=\"#DejaVuSans-55\"/>\r\n    </g>\r\n   </g>\r\n   <g id=\"text_194\">\r\n    <!-- 1 -->\r\n    <g style=\"fill:#262626;\" transform=\"translate(487.662277 460.287165)scale(0.1 -0.1)\">\r\n     <use xlink:href=\"#DejaVuSans-49\"/>\r\n    </g>\r\n   </g>\r\n   <g id=\"text_195\">\r\n    <!-- 0.31 -->\r\n    <g style=\"fill:#ffffff;\" transform=\"translate(511.596429 460.287165)scale(0.1 -0.1)\">\r\n     <use xlink:href=\"#DejaVuSans-48\"/>\r\n     <use x=\"63.623047\" xlink:href=\"#DejaVuSans-46\"/>\r\n     <use x=\"95.410156\" xlink:href=\"#DejaVuSans-51\"/>\r\n     <use x=\"159.033203\" xlink:href=\"#DejaVuSans-49\"/>\r\n    </g>\r\n   </g>\r\n   <g id=\"text_196\">\r\n    <!-- -0.79 -->\r\n    <g style=\"fill:#ffffff;\" transform=\"translate(541.678237 460.287165)scale(0.1 -0.1)\">\r\n     <use xlink:href=\"#DejaVuSans-45\"/>\r\n     <use x=\"36.083984\" xlink:href=\"#DejaVuSans-48\"/>\r\n     <use x=\"99.707031\" xlink:href=\"#DejaVuSans-46\"/>\r\n     <use x=\"131.494141\" xlink:href=\"#DejaVuSans-55\"/>\r\n     <use x=\"195.117188\" xlink:href=\"#DejaVuSans-57\"/>\r\n    </g>\r\n   </g>\r\n   <g id=\"text_197\">\r\n    <!-- 0.64 -->\r\n    <g style=\"fill:#262626;\" transform=\"translate(128.967857 499.115737)scale(0.1 -0.1)\">\r\n     <use xlink:href=\"#DejaVuSans-48\"/>\r\n     <use x=\"63.623047\" xlink:href=\"#DejaVuSans-46\"/>\r\n     <use x=\"95.410156\" xlink:href=\"#DejaVuSans-54\"/>\r\n     <use x=\"159.033203\" xlink:href=\"#DejaVuSans-52\"/>\r\n    </g>\r\n   </g>\r\n   <g id=\"text_198\">\r\n    <!-- -0.19 -->\r\n    <g style=\"fill:#ffffff;\" transform=\"translate(159.049665 499.115737)scale(0.1 -0.1)\">\r\n     <use xlink:href=\"#DejaVuSans-45\"/>\r\n     <use x=\"36.083984\" xlink:href=\"#DejaVuSans-48\"/>\r\n     <use x=\"99.707031\" xlink:href=\"#DejaVuSans-46\"/>\r\n     <use x=\"131.494141\" xlink:href=\"#DejaVuSans-49\"/>\r\n     <use x=\"195.117188\" xlink:href=\"#DejaVuSans-57\"/>\r\n    </g>\r\n   </g>\r\n   <g id=\"text_199\">\r\n    <!-- 0.22 -->\r\n    <g style=\"fill:#ffffff;\" transform=\"translate(192.739286 499.115737)scale(0.1 -0.1)\">\r\n     <use xlink:href=\"#DejaVuSans-48\"/>\r\n     <use x=\"63.623047\" xlink:href=\"#DejaVuSans-46\"/>\r\n     <use x=\"95.410156\" xlink:href=\"#DejaVuSans-50\"/>\r\n     <use x=\"159.033203\" xlink:href=\"#DejaVuSans-50\"/>\r\n    </g>\r\n   </g>\r\n   <g id=\"text_200\">\r\n    <!-- -0.44 -->\r\n    <g style=\"fill:#ffffff;\" transform=\"translate(222.821094 499.115737)scale(0.1 -0.1)\">\r\n     <use xlink:href=\"#DejaVuSans-45\"/>\r\n     <use x=\"36.083984\" xlink:href=\"#DejaVuSans-48\"/>\r\n     <use x=\"99.707031\" xlink:href=\"#DejaVuSans-46\"/>\r\n     <use x=\"131.494141\" xlink:href=\"#DejaVuSans-52\"/>\r\n     <use x=\"195.117188\" xlink:href=\"#DejaVuSans-52\"/>\r\n    </g>\r\n   </g>\r\n   <g id=\"text_201\">\r\n    <!-- 0.39 -->\r\n    <g style=\"fill:#ffffff;\" transform=\"translate(256.510714 499.115737)scale(0.1 -0.1)\">\r\n     <use xlink:href=\"#DejaVuSans-48\"/>\r\n     <use x=\"63.623047\" xlink:href=\"#DejaVuSans-46\"/>\r\n     <use x=\"95.410156\" xlink:href=\"#DejaVuSans-51\"/>\r\n     <use x=\"159.033203\" xlink:href=\"#DejaVuSans-57\"/>\r\n    </g>\r\n   </g>\r\n   <g id=\"text_202\">\r\n    <!-- 0.5 -->\r\n    <g style=\"fill:#ffffff;\" transform=\"translate(291.577679 499.115737)scale(0.1 -0.1)\">\r\n     <use xlink:href=\"#DejaVuSans-48\"/>\r\n     <use x=\"63.623047\" xlink:href=\"#DejaVuSans-46\"/>\r\n     <use x=\"95.410156\" xlink:href=\"#DejaVuSans-53\"/>\r\n    </g>\r\n   </g>\r\n   <g id=\"text_203\">\r\n    <!-- 0.49 -->\r\n    <g style=\"fill:#ffffff;\" transform=\"translate(320.282143 499.115737)scale(0.1 -0.1)\">\r\n     <use xlink:href=\"#DejaVuSans-48\"/>\r\n     <use x=\"63.623047\" xlink:href=\"#DejaVuSans-46\"/>\r\n     <use x=\"95.410156\" xlink:href=\"#DejaVuSans-52\"/>\r\n     <use x=\"159.033203\" xlink:href=\"#DejaVuSans-57\"/>\r\n    </g>\r\n   </g>\r\n   <g id=\"text_204\">\r\n    <!-- -0.31 -->\r\n    <g style=\"fill:#ffffff;\" transform=\"translate(350.363951 499.115737)scale(0.1 -0.1)\">\r\n     <use xlink:href=\"#DejaVuSans-45\"/>\r\n     <use x=\"36.083984\" xlink:href=\"#DejaVuSans-48\"/>\r\n     <use x=\"99.707031\" xlink:href=\"#DejaVuSans-46\"/>\r\n     <use x=\"131.494141\" xlink:href=\"#DejaVuSans-51\"/>\r\n     <use x=\"195.117188\" xlink:href=\"#DejaVuSans-49\"/>\r\n    </g>\r\n   </g>\r\n   <g id=\"text_205\">\r\n    <!-- 0.33 -->\r\n    <g style=\"fill:#ffffff;\" transform=\"translate(384.053571 499.115737)scale(0.1 -0.1)\">\r\n     <use xlink:href=\"#DejaVuSans-48\"/>\r\n     <use x=\"63.623047\" xlink:href=\"#DejaVuSans-46\"/>\r\n     <use x=\"95.410156\" xlink:href=\"#DejaVuSans-51\"/>\r\n     <use x=\"159.033203\" xlink:href=\"#DejaVuSans-51\"/>\r\n    </g>\r\n   </g>\r\n   <g id=\"text_206\">\r\n    <!-- 0.32 -->\r\n    <g style=\"fill:#ffffff;\" transform=\"translate(415.939286 499.115737)scale(0.1 -0.1)\">\r\n     <use xlink:href=\"#DejaVuSans-48\"/>\r\n     <use x=\"63.623047\" xlink:href=\"#DejaVuSans-46\"/>\r\n     <use x=\"95.410156\" xlink:href=\"#DejaVuSans-51\"/>\r\n     <use x=\"159.033203\" xlink:href=\"#DejaVuSans-50\"/>\r\n    </g>\r\n   </g>\r\n   <g id=\"text_207\">\r\n    <!-- 0.24 -->\r\n    <g style=\"fill:#ffffff;\" transform=\"translate(447.825 499.115737)scale(0.1 -0.1)\">\r\n     <use xlink:href=\"#DejaVuSans-48\"/>\r\n     <use x=\"63.623047\" xlink:href=\"#DejaVuSans-46\"/>\r\n     <use x=\"95.410156\" xlink:href=\"#DejaVuSans-50\"/>\r\n     <use x=\"159.033203\" xlink:href=\"#DejaVuSans-52\"/>\r\n    </g>\r\n   </g>\r\n   <g id=\"text_208\">\r\n    <!-- 0.31 -->\r\n    <g style=\"fill:#ffffff;\" transform=\"translate(479.710714 499.115737)scale(0.1 -0.1)\">\r\n     <use xlink:href=\"#DejaVuSans-48\"/>\r\n     <use x=\"63.623047\" xlink:href=\"#DejaVuSans-46\"/>\r\n     <use x=\"95.410156\" xlink:href=\"#DejaVuSans-51\"/>\r\n     <use x=\"159.033203\" xlink:href=\"#DejaVuSans-49\"/>\r\n    </g>\r\n   </g>\r\n   <g id=\"text_209\">\r\n    <!-- 1 -->\r\n    <g style=\"fill:#262626;\" transform=\"translate(519.547991 499.115737)scale(0.1 -0.1)\">\r\n     <use xlink:href=\"#DejaVuSans-49\"/>\r\n    </g>\r\n   </g>\r\n   <g id=\"text_210\">\r\n    <!-- -0.63 -->\r\n    <g style=\"fill:#ffffff;\" transform=\"translate(541.678237 499.115737)scale(0.1 -0.1)\">\r\n     <use xlink:href=\"#DejaVuSans-45\"/>\r\n     <use x=\"36.083984\" xlink:href=\"#DejaVuSans-48\"/>\r\n     <use x=\"99.707031\" xlink:href=\"#DejaVuSans-46\"/>\r\n     <use x=\"131.494141\" xlink:href=\"#DejaVuSans-54\"/>\r\n     <use x=\"195.117188\" xlink:href=\"#DejaVuSans-51\"/>\r\n    </g>\r\n   </g>\r\n   <g id=\"text_211\">\r\n    <!-- -0.33 -->\r\n    <g style=\"fill:#ffffff;\" transform=\"translate(127.163951 537.944308)scale(0.1 -0.1)\">\r\n     <use xlink:href=\"#DejaVuSans-45\"/>\r\n     <use x=\"36.083984\" xlink:href=\"#DejaVuSans-48\"/>\r\n     <use x=\"99.707031\" xlink:href=\"#DejaVuSans-46\"/>\r\n     <use x=\"131.494141\" xlink:href=\"#DejaVuSans-51\"/>\r\n     <use x=\"195.117188\" xlink:href=\"#DejaVuSans-51\"/>\r\n    </g>\r\n   </g>\r\n   <g id=\"text_212\">\r\n    <!-- 0.44 -->\r\n    <g style=\"fill:#ffffff;\" transform=\"translate(160.853571 537.944308)scale(0.1 -0.1)\">\r\n     <use xlink:href=\"#DejaVuSans-48\"/>\r\n     <use x=\"63.623047\" xlink:href=\"#DejaVuSans-46\"/>\r\n     <use x=\"95.410156\" xlink:href=\"#DejaVuSans-52\"/>\r\n     <use x=\"159.033203\" xlink:href=\"#DejaVuSans-52\"/>\r\n    </g>\r\n   </g>\r\n   <g id=\"text_213\">\r\n    <!-- -0.05 -->\r\n    <g style=\"fill:#ffffff;\" transform=\"translate(190.935379 537.944308)scale(0.1 -0.1)\">\r\n     <use xlink:href=\"#DejaVuSans-45\"/>\r\n     <use x=\"36.083984\" xlink:href=\"#DejaVuSans-48\"/>\r\n     <use x=\"99.707031\" xlink:href=\"#DejaVuSans-46\"/>\r\n     <use x=\"131.494141\" xlink:href=\"#DejaVuSans-48\"/>\r\n     <use x=\"195.117188\" xlink:href=\"#DejaVuSans-53\"/>\r\n    </g>\r\n   </g>\r\n   <g id=\"text_214\">\r\n    <!-- 0.52 -->\r\n    <g style=\"fill:#ffffff;\" transform=\"translate(224.625 537.944308)scale(0.1 -0.1)\">\r\n     <use xlink:href=\"#DejaVuSans-48\"/>\r\n     <use x=\"63.623047\" xlink:href=\"#DejaVuSans-46\"/>\r\n     <use x=\"95.410156\" xlink:href=\"#DejaVuSans-53\"/>\r\n     <use x=\"159.033203\" xlink:href=\"#DejaVuSans-50\"/>\r\n    </g>\r\n   </g>\r\n   <g id=\"text_215\">\r\n    <!-- -0.21 -->\r\n    <g style=\"fill:#ffffff;\" transform=\"translate(254.706808 537.944308)scale(0.1 -0.1)\">\r\n     <use xlink:href=\"#DejaVuSans-45\"/>\r\n     <use x=\"36.083984\" xlink:href=\"#DejaVuSans-48\"/>\r\n     <use x=\"99.707031\" xlink:href=\"#DejaVuSans-46\"/>\r\n     <use x=\"131.494141\" xlink:href=\"#DejaVuSans-50\"/>\r\n     <use x=\"195.117188\" xlink:href=\"#DejaVuSans-49\"/>\r\n    </g>\r\n   </g>\r\n   <g id=\"text_216\">\r\n    <!-- -0.72 -->\r\n    <g style=\"fill:#ffffff;\" transform=\"translate(286.592522 537.944308)scale(0.1 -0.1)\">\r\n     <use xlink:href=\"#DejaVuSans-45\"/>\r\n     <use x=\"36.083984\" xlink:href=\"#DejaVuSans-48\"/>\r\n     <use x=\"99.707031\" xlink:href=\"#DejaVuSans-46\"/>\r\n     <use x=\"131.494141\" xlink:href=\"#DejaVuSans-55\"/>\r\n     <use x=\"195.117188\" xlink:href=\"#DejaVuSans-50\"/>\r\n    </g>\r\n   </g>\r\n   <g id=\"text_217\">\r\n    <!-- -0.85 -->\r\n    <g style=\"fill:#ffffff;\" transform=\"translate(318.478237 537.944308)scale(0.1 -0.1)\">\r\n     <use xlink:href=\"#DejaVuSans-45\"/>\r\n     <use x=\"36.083984\" xlink:href=\"#DejaVuSans-48\"/>\r\n     <use x=\"99.707031\" xlink:href=\"#DejaVuSans-46\"/>\r\n     <use x=\"131.494141\" xlink:href=\"#DejaVuSans-56\"/>\r\n     <use x=\"195.117188\" xlink:href=\"#DejaVuSans-53\"/>\r\n    </g>\r\n   </g>\r\n   <g id=\"text_218\">\r\n    <!-- 0.49 -->\r\n    <g style=\"fill:#ffffff;\" transform=\"translate(352.167857 537.944308)scale(0.1 -0.1)\">\r\n     <use xlink:href=\"#DejaVuSans-48\"/>\r\n     <use x=\"63.623047\" xlink:href=\"#DejaVuSans-46\"/>\r\n     <use x=\"95.410156\" xlink:href=\"#DejaVuSans-52\"/>\r\n     <use x=\"159.033203\" xlink:href=\"#DejaVuSans-57\"/>\r\n    </g>\r\n   </g>\r\n   <g id=\"text_219\">\r\n    <!-- -0.5 -->\r\n    <g style=\"fill:#ffffff;\" transform=\"translate(385.430915 537.944308)scale(0.1 -0.1)\">\r\n     <use xlink:href=\"#DejaVuSans-45\"/>\r\n     <use x=\"36.083984\" xlink:href=\"#DejaVuSans-48\"/>\r\n     <use x=\"99.707031\" xlink:href=\"#DejaVuSans-46\"/>\r\n     <use x=\"131.494141\" xlink:href=\"#DejaVuSans-53\"/>\r\n    </g>\r\n   </g>\r\n   <g id=\"text_220\">\r\n    <!-- 0.27 -->\r\n    <g style=\"fill:#ffffff;\" transform=\"translate(415.939286 537.944308)scale(0.1 -0.1)\">\r\n     <use xlink:href=\"#DejaVuSans-48\"/>\r\n     <use x=\"63.623047\" xlink:href=\"#DejaVuSans-46\"/>\r\n     <use x=\"95.410156\" xlink:href=\"#DejaVuSans-50\"/>\r\n     <use x=\"159.033203\" xlink:href=\"#DejaVuSans-55\"/>\r\n    </g>\r\n   </g>\r\n   <g id=\"text_221\">\r\n    <!-- -0.62 -->\r\n    <g style=\"fill:#ffffff;\" transform=\"translate(446.021094 537.944308)scale(0.1 -0.1)\">\r\n     <use xlink:href=\"#DejaVuSans-45\"/>\r\n     <use x=\"36.083984\" xlink:href=\"#DejaVuSans-48\"/>\r\n     <use x=\"99.707031\" xlink:href=\"#DejaVuSans-46\"/>\r\n     <use x=\"131.494141\" xlink:href=\"#DejaVuSans-54\"/>\r\n     <use x=\"195.117188\" xlink:href=\"#DejaVuSans-50\"/>\r\n    </g>\r\n   </g>\r\n   <g id=\"text_222\">\r\n    <!-- -0.79 -->\r\n    <g style=\"fill:#ffffff;\" transform=\"translate(477.906808 537.944308)scale(0.1 -0.1)\">\r\n     <use xlink:href=\"#DejaVuSans-45\"/>\r\n     <use x=\"36.083984\" xlink:href=\"#DejaVuSans-48\"/>\r\n     <use x=\"99.707031\" xlink:href=\"#DejaVuSans-46\"/>\r\n     <use x=\"131.494141\" xlink:href=\"#DejaVuSans-55\"/>\r\n     <use x=\"195.117188\" xlink:href=\"#DejaVuSans-57\"/>\r\n    </g>\r\n   </g>\r\n   <g id=\"text_223\">\r\n    <!-- -0.63 -->\r\n    <g style=\"fill:#ffffff;\" transform=\"translate(509.792522 537.944308)scale(0.1 -0.1)\">\r\n     <use xlink:href=\"#DejaVuSans-45\"/>\r\n     <use x=\"36.083984\" xlink:href=\"#DejaVuSans-48\"/>\r\n     <use x=\"99.707031\" xlink:href=\"#DejaVuSans-46\"/>\r\n     <use x=\"131.494141\" xlink:href=\"#DejaVuSans-54\"/>\r\n     <use x=\"195.117188\" xlink:href=\"#DejaVuSans-51\"/>\r\n    </g>\r\n   </g>\r\n   <g id=\"text_224\">\r\n    <!-- 1 -->\r\n    <g style=\"fill:#262626;\" transform=\"translate(551.433705 537.944308)scale(0.1 -0.1)\">\r\n     <use xlink:href=\"#DejaVuSans-49\"/>\r\n    </g>\r\n   </g>\r\n  </g>\r\n  <g id=\"axes_2\">\r\n   <g id=\"patch_3\">\r\n    <path clip-path=\"url(#pb9a520bb5d)\" d=\"M 598.457813 554.599219 \r\nL 598.457813 552.475781 \r\nL 598.457813 13.122656 \r\nL 598.457813 10.999219 \r\nL 625.637813 10.999219 \r\nL 625.637813 13.122656 \r\nL 625.637813 552.475781 \r\nL 625.637813 554.599219 \r\nz\r\n\" style=\"fill:#ffffff;stroke:#ffffff;stroke-linejoin:miter;stroke-width:0.01;\"/>\r\n   </g>\r\n   <image height=\"544\" id=\"image03562a627e\" transform=\"scale(1 -1)translate(0 -544)\" width=\"28\" x=\"598\" xlink:href=\"data:image/png;base64,\r\niVBORw0KGgoAAAANSUhEUgAAABwAAAIgCAYAAACWKglrAAACnUlEQVR4nO2dgVEDQQwD/z5HE/TfZ2hi8c1Juw14FEn2kwRYn5/f7zPIOznseZ5nr+GBBxSuWY0qxNnriVcY7+GbrtBa4OSHpqH48Skt8DBeYYGH6T00NDg+YuCYUpz81aaHOCc8nJ3ptbh/YMN5Sg+NHuLoIY4e4ujh/QMrnkvTFeohjasNx5Ti6OH9A/Nf0oIvYfnkTWMPcTxPOPbw/oF7eqLFx7H4OPYQpyGlBZtmloID3LDa8hXOYkpxClLqO1E0bpr7B1astln0EKfAQw8wjR7i5PfQ5Y2THxpXG44pxTGlOKb0/oHWAueAwtG/ZWbx/4GKHs7ipsHJT6m1wCk4T/G1aEjp8EB7iGMPcTzAOAdqEV/8fA8LFMan1PNEY0px8lN6ohazqbEWOAWrLb74+/3G93B4oCnFyb8WniecvdJDU7Da8hWaUho9xPEA4+x3+LHNWuA0rLbhT0pO9DBdYcHPh/kepis0NDh7+Pf/rQWPKcUxpTgNKR1+w7TgABcUPz00rjacEymdHWhKcSo2zezAhgOcH5p8hem1aPDQAwyjhzj5PTQ0OPux+DAqxClQOD1SD3HyPTQ0OPmh2Wv4m3R6iKOHOCcUpnsYn1JrgWMtcPQQp0Bh/r8jzPcwXuGJl3R2pqHB8QDjnPigxB6yqBBnL68FTMMjhqsNxsdEnAYP7SGMBxgn30OLj5MfmoYDXPAGbbyHBQrjU5p+LawFTsNb0Om1KEhpgUIfomDcNPcPbAhNvkJXG4wKcfKXtx7ieIBxDA1Og4f5Ck0pjB7i5HtoaHDyQ7PX+owO1EOcBoVuGhg9vH/gft745Z0eGouP40MUjinF0cP7B1aEJn61FXiYrnDpIYw9xMnfpYYGp6D4Lm8ae4jj8sb5A7mAL/9jJUYVAAAAAElFTkSuQmCC\" y=\"-10\"/>\r\n   <g id=\"matplotlib.axis_3\"/>\r\n   <g id=\"matplotlib.axis_4\">\r\n    <g id=\"ytick_15\">\r\n     <g id=\"line2d_29\">\r\n      <defs>\r\n       <path d=\"M 0 0 \r\nL 3.5 0 \r\n\" id=\"m00ac226af6\" style=\"stroke:#000000;stroke-width:0.8;\"/>\r\n      </defs>\r\n      <g>\r\n       <use style=\"stroke:#000000;stroke-width:0.8;\" x=\"625.637813\" xlink:href=\"#m00ac226af6\" y=\"525.911948\"/>\r\n      </g>\r\n     </g>\r\n     <g id=\"text_225\">\r\n      <!-- −0.75 -->\r\n      <g transform=\"translate(632.637813 529.711166)scale(0.1 -0.1)\">\r\n       <defs>\r\n        <path d=\"M 10.59375 35.5 \r\nL 73.1875 35.5 \r\nL 73.1875 27.203125 \r\nL 10.59375 27.203125 \r\nz\r\n\" id=\"DejaVuSans-8722\"/>\r\n       </defs>\r\n       <use xlink:href=\"#DejaVuSans-8722\"/>\r\n       <use x=\"83.789062\" xlink:href=\"#DejaVuSans-48\"/>\r\n       <use x=\"147.412109\" xlink:href=\"#DejaVuSans-46\"/>\r\n       <use x=\"179.199219\" xlink:href=\"#DejaVuSans-55\"/>\r\n       <use x=\"242.822266\" xlink:href=\"#DejaVuSans-53\"/>\r\n      </g>\r\n     </g>\r\n    </g>\r\n    <g id=\"ytick_16\">\r\n     <g id=\"line2d_30\">\r\n      <g>\r\n       <use style=\"stroke:#000000;stroke-width:0.8;\" x=\"625.637813\" xlink:href=\"#m00ac226af6\" y=\"452.352986\"/>\r\n      </g>\r\n     </g>\r\n     <g id=\"text_226\">\r\n      <!-- −0.50 -->\r\n      <g transform=\"translate(632.637813 456.152205)scale(0.1 -0.1)\">\r\n       <use xlink:href=\"#DejaVuSans-8722\"/>\r\n       <use x=\"83.789062\" xlink:href=\"#DejaVuSans-48\"/>\r\n       <use x=\"147.412109\" xlink:href=\"#DejaVuSans-46\"/>\r\n       <use x=\"179.199219\" xlink:href=\"#DejaVuSans-53\"/>\r\n       <use x=\"242.822266\" xlink:href=\"#DejaVuSans-48\"/>\r\n      </g>\r\n     </g>\r\n    </g>\r\n    <g id=\"ytick_17\">\r\n     <g id=\"line2d_31\">\r\n      <g>\r\n       <use style=\"stroke:#000000;stroke-width:0.8;\" x=\"625.637813\" xlink:href=\"#m00ac226af6\" y=\"378.794025\"/>\r\n      </g>\r\n     </g>\r\n     <g id=\"text_227\">\r\n      <!-- −0.25 -->\r\n      <g transform=\"translate(632.637813 382.593244)scale(0.1 -0.1)\">\r\n       <use xlink:href=\"#DejaVuSans-8722\"/>\r\n       <use x=\"83.789062\" xlink:href=\"#DejaVuSans-48\"/>\r\n       <use x=\"147.412109\" xlink:href=\"#DejaVuSans-46\"/>\r\n       <use x=\"179.199219\" xlink:href=\"#DejaVuSans-50\"/>\r\n       <use x=\"242.822266\" xlink:href=\"#DejaVuSans-53\"/>\r\n      </g>\r\n     </g>\r\n    </g>\r\n    <g id=\"ytick_18\">\r\n     <g id=\"line2d_32\">\r\n      <g>\r\n       <use style=\"stroke:#000000;stroke-width:0.8;\" x=\"625.637813\" xlink:href=\"#m00ac226af6\" y=\"305.235064\"/>\r\n      </g>\r\n     </g>\r\n     <g id=\"text_228\">\r\n      <!-- 0.00 -->\r\n      <g transform=\"translate(632.637813 309.034283)scale(0.1 -0.1)\">\r\n       <use xlink:href=\"#DejaVuSans-48\"/>\r\n       <use x=\"63.623047\" xlink:href=\"#DejaVuSans-46\"/>\r\n       <use x=\"95.410156\" xlink:href=\"#DejaVuSans-48\"/>\r\n       <use x=\"159.033203\" xlink:href=\"#DejaVuSans-48\"/>\r\n      </g>\r\n     </g>\r\n    </g>\r\n    <g id=\"ytick_19\">\r\n     <g id=\"line2d_33\">\r\n      <g>\r\n       <use style=\"stroke:#000000;stroke-width:0.8;\" x=\"625.637813\" xlink:href=\"#m00ac226af6\" y=\"231.676103\"/>\r\n      </g>\r\n     </g>\r\n     <g id=\"text_229\">\r\n      <!-- 0.25 -->\r\n      <g transform=\"translate(632.637813 235.475321)scale(0.1 -0.1)\">\r\n       <use xlink:href=\"#DejaVuSans-48\"/>\r\n       <use x=\"63.623047\" xlink:href=\"#DejaVuSans-46\"/>\r\n       <use x=\"95.410156\" xlink:href=\"#DejaVuSans-50\"/>\r\n       <use x=\"159.033203\" xlink:href=\"#DejaVuSans-53\"/>\r\n      </g>\r\n     </g>\r\n    </g>\r\n    <g id=\"ytick_20\">\r\n     <g id=\"line2d_34\">\r\n      <g>\r\n       <use style=\"stroke:#000000;stroke-width:0.8;\" x=\"625.637813\" xlink:href=\"#m00ac226af6\" y=\"158.117141\"/>\r\n      </g>\r\n     </g>\r\n     <g id=\"text_230\">\r\n      <!-- 0.50 -->\r\n      <g transform=\"translate(632.637813 161.91636)scale(0.1 -0.1)\">\r\n       <use xlink:href=\"#DejaVuSans-48\"/>\r\n       <use x=\"63.623047\" xlink:href=\"#DejaVuSans-46\"/>\r\n       <use x=\"95.410156\" xlink:href=\"#DejaVuSans-53\"/>\r\n       <use x=\"159.033203\" xlink:href=\"#DejaVuSans-48\"/>\r\n      </g>\r\n     </g>\r\n    </g>\r\n    <g id=\"ytick_21\">\r\n     <g id=\"line2d_35\">\r\n      <g>\r\n       <use style=\"stroke:#000000;stroke-width:0.8;\" x=\"625.637813\" xlink:href=\"#m00ac226af6\" y=\"84.55818\"/>\r\n      </g>\r\n     </g>\r\n     <g id=\"text_231\">\r\n      <!-- 0.75 -->\r\n      <g transform=\"translate(632.637813 88.357399)scale(0.1 -0.1)\">\r\n       <use xlink:href=\"#DejaVuSans-48\"/>\r\n       <use x=\"63.623047\" xlink:href=\"#DejaVuSans-46\"/>\r\n       <use x=\"95.410156\" xlink:href=\"#DejaVuSans-55\"/>\r\n       <use x=\"159.033203\" xlink:href=\"#DejaVuSans-53\"/>\r\n      </g>\r\n     </g>\r\n    </g>\r\n    <g id=\"ytick_22\">\r\n     <g id=\"line2d_36\">\r\n      <g>\r\n       <use style=\"stroke:#000000;stroke-width:0.8;\" x=\"625.637813\" xlink:href=\"#m00ac226af6\" y=\"10.999219\"/>\r\n      </g>\r\n     </g>\r\n     <g id=\"text_232\">\r\n      <!-- 1.00 -->\r\n      <g transform=\"translate(632.637813 14.798437)scale(0.1 -0.1)\">\r\n       <use xlink:href=\"#DejaVuSans-49\"/>\r\n       <use x=\"63.623047\" xlink:href=\"#DejaVuSans-46\"/>\r\n       <use x=\"95.410156\" xlink:href=\"#DejaVuSans-48\"/>\r\n       <use x=\"159.033203\" xlink:href=\"#DejaVuSans-48\"/>\r\n      </g>\r\n     </g>\r\n    </g>\r\n   </g>\r\n   <g id=\"patch_4\">\r\n    <path d=\"M 598.457813 554.599219 \r\nL 598.457813 552.475781 \r\nL 598.457813 13.122656 \r\nL 598.457813 10.999219 \r\nL 625.637813 10.999219 \r\nL 625.637813 13.122656 \r\nL 625.637813 552.475781 \r\nL 625.637813 554.599219 \r\nz\r\n\" style=\"fill:none;\"/>\r\n   </g>\r\n  </g>\r\n </g>\r\n <defs>\r\n  <clipPath id=\"p8ad2712132\">\r\n   <rect height=\"543.6\" width=\"446.4\" x=\"124.157813\" y=\"10.999219\"/>\r\n  </clipPath>\r\n  <clipPath id=\"pb9a520bb5d\">\r\n   <rect height=\"543.6\" width=\"27.18\" x=\"598.457813\" y=\"10.999219\"/>\r\n  </clipPath>\r\n </defs>\r\n</svg>\r\n",
      "image/png": "[encoded data removed]"
     },
     "metadata": {
      "needs_background": "light"
     }
    }
   ],
   "source": [
    "matriz_corr=df.corr()\n",
    "plt.figure(figsize=(10,10))\n",
    "sns.heatmap(matriz_corr,annot=True)"
   ]
  },
  {
   "cell_type": "code",
   "execution_count": 6,
   "metadata": {},
   "outputs": [],
   "source": [
    "min_max_scaler=preprocessing.MinMaxScaler()\n",
    "np_df=min_max_scaler.fit_transform(df)"
   ]
  },
  {
   "cell_type": "code",
   "execution_count": 7,
   "metadata": {},
   "outputs": [
    {
     "output_type": "execute_result",
     "data": {
      "text/plain": [
       "     Alcool  Malic_Acid        Po  Alcalinidade_po  Magnesio  Total_Phenols  \\\n",
       "0  0.842105    0.191700  0.572193         0.257732  0.619565       0.627586   \n",
       "1  0.571053    0.205534  0.417112         0.030928  0.326087       0.575862   \n",
       "2  0.560526    0.320158  0.700535         0.412371  0.336957       0.627586   \n",
       "3  0.878947    0.239130  0.609626         0.319588  0.467391       0.989655   \n",
       "4  0.581579    0.365613  0.807487         0.536082  0.521739       0.627586   \n",
       "\n",
       "   Flavanoids  Nonflavanoid_Phenols  Proanthocyanins  Intensidade_de_cor  \\\n",
       "0    0.573840              0.283019         0.593060            0.372014   \n",
       "1    0.510549              0.245283         0.274448            0.264505   \n",
       "2    0.611814              0.320755         0.757098            0.375427   \n",
       "3    0.664557              0.207547         0.558360            0.556314   \n",
       "4    0.495781              0.490566         0.444795            0.259386   \n",
       "\n",
       "        Hue     OD280   Proline  Customer_Segment  \n",
       "0  0.455285  0.970696  0.561341               0.0  \n",
       "1  0.463415  0.780220  0.550642               0.0  \n",
       "2  0.447154  0.695971  0.646933               0.0  \n",
       "3  0.308943  0.798535  0.857347               0.0  \n",
       "4  0.455285  0.608059  0.325963               0.0  "
      ],
      "text/html": "<div>\n<style scoped>\n    .dataframe tbody tr th:only-of-type {\n        vertical-align: middle;\n    }\n\n    .dataframe tbody tr th {\n        vertical-align: top;\n    }\n\n    .dataframe thead th {\n        text-align: right;\n    }\n</style>\n<table border=\"1\" class=\"dataframe\">\n  <thead>\n    <tr style=\"text-align: right;\">\n      <th></th>\n      <th>Alcool</th>\n      <th>Malic_Acid</th>\n      <th>Po</th>\n      <th>Alcalinidade_po</th>\n      <th>Magnesio</th>\n      <th>Total_Phenols</th>\n      <th>Flavanoids</th>\n      <th>Nonflavanoid_Phenols</th>\n      <th>Proanthocyanins</th>\n      <th>Intensidade_de_cor</th>\n      <th>Hue</th>\n      <th>OD280</th>\n      <th>Proline</th>\n      <th>Customer_Segment</th>\n    </tr>\n  </thead>\n  <tbody>\n    <tr>\n      <th>0</th>\n      <td>0.842105</td>\n      <td>0.191700</td>\n      <td>0.572193</td>\n      <td>0.257732</td>\n      <td>0.619565</td>\n      <td>0.627586</td>\n      <td>0.573840</td>\n      <td>0.283019</td>\n      <td>0.593060</td>\n      <td>0.372014</td>\n      <td>0.455285</td>\n      <td>0.970696</td>\n      <td>0.561341</td>\n      <td>0.0</td>\n    </tr>\n    <tr>\n      <th>1</th>\n      <td>0.571053</td>\n      <td>0.205534</td>\n      <td>0.417112</td>\n      <td>0.030928</td>\n      <td>0.326087</td>\n      <td>0.575862</td>\n      <td>0.510549</td>\n      <td>0.245283</td>\n      <td>0.274448</td>\n      <td>0.264505</td>\n      <td>0.463415</td>\n      <td>0.780220</td>\n      <td>0.550642</td>\n      <td>0.0</td>\n    </tr>\n    <tr>\n      <th>2</th>\n      <td>0.560526</td>\n      <td>0.320158</td>\n      <td>0.700535</td>\n      <td>0.412371</td>\n      <td>0.336957</td>\n      <td>0.627586</td>\n      <td>0.611814</td>\n      <td>0.320755</td>\n      <td>0.757098</td>\n      <td>0.375427</td>\n      <td>0.447154</td>\n      <td>0.695971</td>\n      <td>0.646933</td>\n      <td>0.0</td>\n    </tr>\n    <tr>\n      <th>3</th>\n      <td>0.878947</td>\n      <td>0.239130</td>\n      <td>0.609626</td>\n      <td>0.319588</td>\n      <td>0.467391</td>\n      <td>0.989655</td>\n      <td>0.664557</td>\n      <td>0.207547</td>\n      <td>0.558360</td>\n      <td>0.556314</td>\n      <td>0.308943</td>\n      <td>0.798535</td>\n      <td>0.857347</td>\n      <td>0.0</td>\n    </tr>\n    <tr>\n      <th>4</th>\n      <td>0.581579</td>\n      <td>0.365613</td>\n      <td>0.807487</td>\n      <td>0.536082</td>\n      <td>0.521739</td>\n      <td>0.627586</td>\n      <td>0.495781</td>\n      <td>0.490566</td>\n      <td>0.444795</td>\n      <td>0.259386</td>\n      <td>0.455285</td>\n      <td>0.608059</td>\n      <td>0.325963</td>\n      <td>0.0</td>\n    </tr>\n  </tbody>\n</table>\n</div>"
     },
     "metadata": {},
     "execution_count": 7
    }
   ],
   "source": [
    "df=pd.DataFrame(np_df,columns=df.columns)\n",
    "df.head()"
   ]
  },
  {
   "cell_type": "code",
   "execution_count": 8,
   "metadata": {},
   "outputs": [
    {
     "output_type": "execute_result",
     "data": {
      "text/plain": [
       "           Alcool  Malic_Acid          Po  Alcalinidade_po    Magnesio  \\\n",
       "count  178.000000  178.000000  178.000000       178.000000  178.000000   \n",
       "mean     0.518584    0.315484    0.538244         0.458502    0.323278   \n",
       "std      0.213639    0.220780    0.146708         0.172142    0.155244   \n",
       "min      0.000000    0.000000    0.000000         0.000000    0.000000   \n",
       "25%      0.350658    0.170455    0.454545         0.340206    0.195652   \n",
       "50%      0.531579    0.222332    0.534759         0.458763    0.304348   \n",
       "75%      0.696711    0.462945    0.640374         0.561856    0.402174   \n",
       "max      1.000000    1.000000    1.000000         1.000000    1.000000   \n",
       "\n",
       "       Total_Phenols  Flavanoids  Nonflavanoid_Phenols  Proanthocyanins  \\\n",
       "count     178.000000  178.000000            178.000000       178.000000   \n",
       "mean        0.453487    0.356386              0.437460         0.372523   \n",
       "std         0.215811    0.210730              0.234818         0.180555   \n",
       "min         0.000000    0.000000              0.000000         0.000000   \n",
       "25%         0.262931    0.182489              0.264151         0.264984   \n",
       "50%         0.474138    0.378692              0.396226         0.361199   \n",
       "75%         0.627586    0.534810              0.580189         0.485804   \n",
       "max         1.000000    1.000000              1.000000         1.000000   \n",
       "\n",
       "       Intensidade_de_cor         Hue       OD280     Proline  \\\n",
       "count          178.000000  178.000000  178.000000  178.000000   \n",
       "mean             0.322363    0.388170    0.491460    0.334446   \n",
       "std              0.197806    0.185831    0.260070    0.224613   \n",
       "min              0.000000    0.000000    0.000000    0.000000   \n",
       "25%              0.165529    0.245935    0.244505    0.158702   \n",
       "50%              0.290956    0.394309    0.553114    0.282097   \n",
       "75%              0.419795    0.520325    0.695971    0.504280   \n",
       "max              1.000000    1.000000    1.000000    1.000000   \n",
       "\n",
       "       Customer_Segment  \n",
       "count        178.000000  \n",
       "mean           0.469101  \n",
       "std            0.387517  \n",
       "min            0.000000  \n",
       "25%            0.000000  \n",
       "50%            0.500000  \n",
       "75%            1.000000  \n",
       "max            1.000000  "
      ],
      "text/html": "<div>\n<style scoped>\n    .dataframe tbody tr th:only-of-type {\n        vertical-align: middle;\n    }\n\n    .dataframe tbody tr th {\n        vertical-align: top;\n    }\n\n    .dataframe thead th {\n        text-align: right;\n    }\n</style>\n<table border=\"1\" class=\"dataframe\">\n  <thead>\n    <tr style=\"text-align: right;\">\n      <th></th>\n      <th>Alcool</th>\n      <th>Malic_Acid</th>\n      <th>Po</th>\n      <th>Alcalinidade_po</th>\n      <th>Magnesio</th>\n      <th>Total_Phenols</th>\n      <th>Flavanoids</th>\n      <th>Nonflavanoid_Phenols</th>\n      <th>Proanthocyanins</th>\n      <th>Intensidade_de_cor</th>\n      <th>Hue</th>\n      <th>OD280</th>\n      <th>Proline</th>\n      <th>Customer_Segment</th>\n    </tr>\n  </thead>\n  <tbody>\n    <tr>\n      <th>count</th>\n      <td>178.000000</td>\n      <td>178.000000</td>\n      <td>178.000000</td>\n      <td>178.000000</td>\n      <td>178.000000</td>\n      <td>178.000000</td>\n      <td>178.000000</td>\n      <td>178.000000</td>\n      <td>178.000000</td>\n      <td>178.000000</td>\n      <td>178.000000</td>\n      <td>178.000000</td>\n      <td>178.000000</td>\n      <td>178.000000</td>\n    </tr>\n    <tr>\n      <th>mean</th>\n      <td>0.518584</td>\n      <td>0.315484</td>\n      <td>0.538244</td>\n      <td>0.458502</td>\n      <td>0.323278</td>\n      <td>0.453487</td>\n      <td>0.356386</td>\n      <td>0.437460</td>\n      <td>0.372523</td>\n      <td>0.322363</td>\n      <td>0.388170</td>\n      <td>0.491460</td>\n      <td>0.334446</td>\n      <td>0.469101</td>\n    </tr>\n    <tr>\n      <th>std</th>\n      <td>0.213639</td>\n      <td>0.220780</td>\n      <td>0.146708</td>\n      <td>0.172142</td>\n      <td>0.155244</td>\n      <td>0.215811</td>\n      <td>0.210730</td>\n      <td>0.234818</td>\n      <td>0.180555</td>\n      <td>0.197806</td>\n      <td>0.185831</td>\n      <td>0.260070</td>\n      <td>0.224613</td>\n      <td>0.387517</td>\n    </tr>\n    <tr>\n      <th>min</th>\n      <td>0.000000</td>\n      <td>0.000000</td>\n      <td>0.000000</td>\n      <td>0.000000</td>\n      <td>0.000000</td>\n      <td>0.000000</td>\n      <td>0.000000</td>\n      <td>0.000000</td>\n      <td>0.000000</td>\n      <td>0.000000</td>\n      <td>0.000000</td>\n      <td>0.000000</td>\n      <td>0.000000</td>\n      <td>0.000000</td>\n    </tr>\n    <tr>\n      <th>25%</th>\n      <td>0.350658</td>\n      <td>0.170455</td>\n      <td>0.454545</td>\n      <td>0.340206</td>\n      <td>0.195652</td>\n      <td>0.262931</td>\n      <td>0.182489</td>\n      <td>0.264151</td>\n      <td>0.264984</td>\n      <td>0.165529</td>\n      <td>0.245935</td>\n      <td>0.244505</td>\n      <td>0.158702</td>\n      <td>0.000000</td>\n    </tr>\n    <tr>\n      <th>50%</th>\n      <td>0.531579</td>\n      <td>0.222332</td>\n      <td>0.534759</td>\n      <td>0.458763</td>\n      <td>0.304348</td>\n      <td>0.474138</td>\n      <td>0.378692</td>\n      <td>0.396226</td>\n      <td>0.361199</td>\n      <td>0.290956</td>\n      <td>0.394309</td>\n      <td>0.553114</td>\n      <td>0.282097</td>\n      <td>0.500000</td>\n    </tr>\n    <tr>\n      <th>75%</th>\n      <td>0.696711</td>\n      <td>0.462945</td>\n      <td>0.640374</td>\n      <td>0.561856</td>\n      <td>0.402174</td>\n      <td>0.627586</td>\n      <td>0.534810</td>\n      <td>0.580189</td>\n      <td>0.485804</td>\n      <td>0.419795</td>\n      <td>0.520325</td>\n      <td>0.695971</td>\n      <td>0.504280</td>\n      <td>1.000000</td>\n    </tr>\n    <tr>\n      <th>max</th>\n      <td>1.000000</td>\n      <td>1.000000</td>\n      <td>1.000000</td>\n      <td>1.000000</td>\n      <td>1.000000</td>\n      <td>1.000000</td>\n      <td>1.000000</td>\n      <td>1.000000</td>\n      <td>1.000000</td>\n      <td>1.000000</td>\n      <td>1.000000</td>\n      <td>1.000000</td>\n      <td>1.000000</td>\n      <td>1.000000</td>\n    </tr>\n  </tbody>\n</table>\n</div>"
     },
     "metadata": {},
     "execution_count": 8
    }
   ],
   "source": [
    "df.describe()"
   ]
  },
  {
   "cell_type": "code",
   "execution_count": 9,
   "metadata": {},
   "outputs": [],
   "source": [
    "np_df=min_max_scaler.inverse_transform(df)"
   ]
  },
  {
   "cell_type": "code",
   "execution_count": 10,
   "metadata": {},
   "outputs": [
    {
     "output_type": "execute_result",
     "data": {
      "text/plain": [
       "   Alcool  Malic_Acid    Po  Alcalinidade_po  Magnesio  Total_Phenols  \\\n",
       "0   14.23        1.71  2.43             15.6     127.0           2.80   \n",
       "1   13.20        1.78  2.14             11.2     100.0           2.65   \n",
       "2   13.16        2.36  2.67             18.6     101.0           2.80   \n",
       "3   14.37        1.95  2.50             16.8     113.0           3.85   \n",
       "4   13.24        2.59  2.87             21.0     118.0           2.80   \n",
       "\n",
       "   Flavanoids  Nonflavanoid_Phenols  Proanthocyanins  Intensidade_de_cor  \\\n",
       "0        3.06                  0.28             2.29                5.64   \n",
       "1        2.76                  0.26             1.28                4.38   \n",
       "2        3.24                  0.30             2.81                5.68   \n",
       "3        3.49                  0.24             2.18                7.80   \n",
       "4        2.69                  0.39             1.82                4.32   \n",
       "\n",
       "    Hue  OD280  Proline  Customer_Segment  \n",
       "0  1.04   3.92   1065.0               1.0  \n",
       "1  1.05   3.40   1050.0               1.0  \n",
       "2  1.03   3.17   1185.0               1.0  \n",
       "3  0.86   3.45   1480.0               1.0  \n",
       "4  1.04   2.93    735.0               1.0  "
      ],
      "text/html": "<div>\n<style scoped>\n    .dataframe tbody tr th:only-of-type {\n        vertical-align: middle;\n    }\n\n    .dataframe tbody tr th {\n        vertical-align: top;\n    }\n\n    .dataframe thead th {\n        text-align: right;\n    }\n</style>\n<table border=\"1\" class=\"dataframe\">\n  <thead>\n    <tr style=\"text-align: right;\">\n      <th></th>\n      <th>Alcool</th>\n      <th>Malic_Acid</th>\n      <th>Po</th>\n      <th>Alcalinidade_po</th>\n      <th>Magnesio</th>\n      <th>Total_Phenols</th>\n      <th>Flavanoids</th>\n      <th>Nonflavanoid_Phenols</th>\n      <th>Proanthocyanins</th>\n      <th>Intensidade_de_cor</th>\n      <th>Hue</th>\n      <th>OD280</th>\n      <th>Proline</th>\n      <th>Customer_Segment</th>\n    </tr>\n  </thead>\n  <tbody>\n    <tr>\n      <th>0</th>\n      <td>14.23</td>\n      <td>1.71</td>\n      <td>2.43</td>\n      <td>15.6</td>\n      <td>127.0</td>\n      <td>2.80</td>\n      <td>3.06</td>\n      <td>0.28</td>\n      <td>2.29</td>\n      <td>5.64</td>\n      <td>1.04</td>\n      <td>3.92</td>\n      <td>1065.0</td>\n      <td>1.0</td>\n    </tr>\n    <tr>\n      <th>1</th>\n      <td>13.20</td>\n      <td>1.78</td>\n      <td>2.14</td>\n      <td>11.2</td>\n      <td>100.0</td>\n      <td>2.65</td>\n      <td>2.76</td>\n      <td>0.26</td>\n      <td>1.28</td>\n      <td>4.38</td>\n      <td>1.05</td>\n      <td>3.40</td>\n      <td>1050.0</td>\n      <td>1.0</td>\n    </tr>\n    <tr>\n      <th>2</th>\n      <td>13.16</td>\n      <td>2.36</td>\n      <td>2.67</td>\n      <td>18.6</td>\n      <td>101.0</td>\n      <td>2.80</td>\n      <td>3.24</td>\n      <td>0.30</td>\n      <td>2.81</td>\n      <td>5.68</td>\n      <td>1.03</td>\n      <td>3.17</td>\n      <td>1185.0</td>\n      <td>1.0</td>\n    </tr>\n    <tr>\n      <th>3</th>\n      <td>14.37</td>\n      <td>1.95</td>\n      <td>2.50</td>\n      <td>16.8</td>\n      <td>113.0</td>\n      <td>3.85</td>\n      <td>3.49</td>\n      <td>0.24</td>\n      <td>2.18</td>\n      <td>7.80</td>\n      <td>0.86</td>\n      <td>3.45</td>\n      <td>1480.0</td>\n      <td>1.0</td>\n    </tr>\n    <tr>\n      <th>4</th>\n      <td>13.24</td>\n      <td>2.59</td>\n      <td>2.87</td>\n      <td>21.0</td>\n      <td>118.0</td>\n      <td>2.80</td>\n      <td>2.69</td>\n      <td>0.39</td>\n      <td>1.82</td>\n      <td>4.32</td>\n      <td>1.04</td>\n      <td>2.93</td>\n      <td>735.0</td>\n      <td>1.0</td>\n    </tr>\n  </tbody>\n</table>\n</div>"
     },
     "metadata": {},
     "execution_count": 10
    }
   ],
   "source": [
    "df=pd.DataFrame(np_df,columns=df.columns)\n",
    "df.head()"
   ]
  },
  {
   "cell_type": "code",
   "execution_count": 11,
   "metadata": {},
   "outputs": [
    {
     "output_type": "execute_result",
     "data": {
      "text/plain": [
       "KMeans(n_clusters=4)"
      ]
     },
     "metadata": {},
     "execution_count": 11
    }
   ],
   "source": [
    "clusters=KMeans(n_clusters=4)\n",
    "clusters.fit(df)"
   ]
  },
  {
   "cell_type": "code",
   "execution_count": 12,
   "metadata": {},
   "outputs": [
    {
     "output_type": "stream",
     "name": "stdout",
     "text": [
      "[0 0 2 2 3 2 2 2 0 0 2 2 2 0 2 2 2 0 2 3 3 3 0 0 3 3 2 2 0 0 2 2 0 2 0 0 0\n 0 0 3 3 0 0 3 0 0 0 0 0 2 0 2 2 2 0 0 0 2 2 1 3 1 3 1 1 3 1 1 3 3 0 1 1 0\n 0 1 1 1 3 1 1 3 3 1 1 1 1 1 3 3 1 1 1 1 1 0 3 1 3 1 3 1 1 1 3 1 1 1 1 3 1\n 1 3 1 1 1 1 1 1 1 3 1 1 1 1 1 1 1 1 3 3 1 1 3 3 3 3 1 3 3 3 3 1 1 3 3 1 3\n 3 1 1 1 1 3 3 3 1 0 3 3 1 3 1 3 3 1 3 3 3 3 1 1 3 3 3 3 3 1]\n"
     ]
    }
   ],
   "source": [
    "labels=clusters.labels_\n",
    "print(labels)"
   ]
  },
  {
   "cell_type": "code",
   "execution_count": 13,
   "metadata": {},
   "outputs": [
    {
     "output_type": "display_data",
     "data": {
      "application/vnd.plotly.v1+json": {
       "config": {
        "plotlyServerURL": "https://plot.ly"
       },
       "data": [
        {
         "marker": {
          "color": [
           0,
           0,
           2,
           2,
           3,
           2,
           2,
           2,
           0,
           0,
           2,
           2,
           2,
           0,
           2,
           2,
           2,
           0,
           2,
           3,
           3,
           3,
           0,
           0,
           3,
           3,
           2,
           2,
           0,
           0,
           2,
           2,
           0,
           2,
           0,
           0,
           0,
           0,
           0,
           3,
           3,
           0,
           0,
           3,
           0,
           0,
           0,
           0,
           0,
           2,
           0,
           2,
           2,
           2,
           0,
           0,
           0,
           2,
           2,
           1,
           3,
           1,
           3,
           1,
           1,
           3,
           1,
           1,
           3,
           3,
           0,
           1,
           1,
           0,
           0,
           1,
           1,
           1,
           3,
           1,
           1,
           3,
           3,
           1,
           1,
           1,
           1,
           1,
           3,
           3,
           1,
           1,
           1,
           1,
           1,
           0,
           3,
           1,
           3,
           1,
           3,
           1,
           1,
           1,
           3,
           1,
           1,
           1,
           1,
           3,
           1,
           1,
           3,
           1,
           1,
           1,
           1,
           1,
           1,
           1,
           3,
           1,
           1,
           1,
           1,
           1,
           1,
           1,
           1,
           3,
           3,
           1,
           1,
           3,
           3,
           3,
           3,
           1,
           3,
           3,
           3,
           3,
           1,
           1,
           3,
           3,
           1,
           3,
           3,
           1,
           1,
           1,
           1,
           3,
           3,
           3,
           1,
           0,
           3,
           3,
           1,
           3,
           1,
           3,
           3,
           1,
           3,
           3,
           3,
           3,
           1,
           1,
           3,
           3,
           3,
           3,
           3,
           1
          ]
         },
         "mode": "markers",
         "text": [
          0,
          0,
          2,
          2,
          3,
          2,
          2,
          2,
          0,
          0,
          2,
          2,
          2,
          0,
          2,
          2,
          2,
          0,
          2,
          3,
          3,
          3,
          0,
          0,
          3,
          3,
          2,
          2,
          0,
          0,
          2,
          2,
          0,
          2,
          0,
          0,
          0,
          0,
          0,
          3,
          3,
          0,
          0,
          3,
          0,
          0,
          0,
          0,
          0,
          2,
          0,
          2,
          2,
          2,
          0,
          0,
          0,
          2,
          2,
          1,
          3,
          1,
          3,
          1,
          1,
          3,
          1,
          1,
          3,
          3,
          0,
          1,
          1,
          0,
          0,
          1,
          1,
          1,
          3,
          1,
          1,
          3,
          3,
          1,
          1,
          1,
          1,
          1,
          3,
          3,
          1,
          1,
          1,
          1,
          1,
          0,
          3,
          1,
          3,
          1,
          3,
          1,
          1,
          1,
          3,
          1,
          1,
          1,
          1,
          3,
          1,
          1,
          3,
          1,
          1,
          1,
          1,
          1,
          1,
          1,
          3,
          1,
          1,
          1,
          1,
          1,
          1,
          1,
          1,
          3,
          3,
          1,
          1,
          3,
          3,
          3,
          3,
          1,
          3,
          3,
          3,
          3,
          1,
          1,
          3,
          3,
          1,
          3,
          3,
          1,
          1,
          1,
          1,
          3,
          3,
          3,
          1,
          0,
          3,
          3,
          1,
          3,
          1,
          3,
          3,
          1,
          3,
          3,
          3,
          3,
          1,
          1,
          3,
          3,
          3,
          3,
          3,
          1
         ],
         "type": "scatter",
         "x": [
          5.64,
          4.379999999999999,
          5.679999999999999,
          7.8,
          4.319999999999999,
          6.75,
          5.25,
          5.05,
          5.2,
          7.22,
          5.749999999999999,
          4.999999999999999,
          5.6,
          5.4,
          7.5,
          7.3,
          6.2,
          6.6,
          8.7,
          5.1,
          5.65,
          4.5,
          3.8,
          3.93,
          3.52,
          3.58,
          4.799999999999999,
          3.9499999999999997,
          4.5,
          4.7,
          5.699999999999999,
          6.9,
          3.8399999999999994,
          5.4,
          4.2,
          5.1,
          4.6,
          4.249999999999999,
          3.7,
          5.1,
          6.13,
          4.28,
          5.43,
          4.36,
          5.04,
          5.24,
          4.9,
          6.1000000000000005,
          6.2,
          8.9,
          7.2,
          5.6,
          7.05,
          6.299999999999999,
          5.85,
          6.250000000000001,
          6.380000000000001,
          6,
          6.8,
          1.95,
          3.27,
          5.749999999999999,
          3.8,
          4.449999999999999,
          2.9499999999999997,
          4.6,
          5.3,
          4.68,
          3.17,
          2.85,
          3.0500000000000003,
          3.38,
          3.74,
          3.35,
          3.21,
          3.8,
          4.6,
          2.65,
          3.4,
          2.57,
          2.5,
          3.9,
          2.2,
          4.799999999999999,
          3.0500000000000003,
          2.62,
          2.45,
          2.6,
          2.8,
          1.74,
          2.4,
          3.6,
          3.0500000000000003,
          2.15,
          3.25,
          2.6,
          2.5,
          2.9,
          4.5,
          2.3,
          3.3,
          2.45,
          2.8,
          2.06,
          2.94,
          2.7,
          3.4,
          3.3,
          2.7,
          2.65,
          2.9,
          2,
          3.8,
          3.08,
          2.9,
          1.9,
          1.95,
          2.06,
          3.4,
          1.28,
          3.25,
          6,
          2.08,
          2.6,
          2.8,
          2.76,
          3.94,
          3,
          2.12,
          2.6,
          4.1,
          5.4,
          5.699999999999999,
          4.999999999999999,
          5.45,
          7.1,
          3.8500000000000005,
          4.999999999999999,
          5.699999999999999,
          4.919999999999999,
          4.6,
          5.6,
          4.35,
          4.3999999999999995,
          8.21,
          4,
          4.9,
          7.65,
          8.42,
          9.4,
          8.6,
          10.8,
          7.1,
          10.52,
          7.6,
          7.8999999999999995,
          9.01,
          7.5,
          13,
          11.75,
          7.65,
          5.88,
          5.58,
          5.279999999999999,
          9.58,
          6.62,
          10.68,
          10.26,
          8.66,
          8.5,
          5.5,
          9.899999000000001,
          9.7,
          7.700000000000001,
          7.3,
          10.2,
          9.3,
          9.2
         ],
         "y": [
          14.23,
          13.2,
          13.16,
          14.37,
          13.24,
          14.2,
          14.39,
          14.06,
          14.83,
          13.86,
          14.1,
          14.12,
          13.75,
          14.75,
          14.38,
          13.63,
          14.3,
          13.83,
          14.19,
          13.64,
          14.06,
          12.93,
          13.71,
          12.85,
          13.5,
          13.05,
          13.39,
          13.3,
          13.87,
          14.02,
          13.73,
          13.58,
          13.68,
          13.76,
          13.51,
          13.48,
          13.28,
          13.05,
          13.07,
          14.22,
          13.56,
          13.41,
          13.88,
          13.24,
          13.05,
          14.21,
          14.38,
          13.9,
          14.1,
          13.94,
          13.05,
          13.83,
          13.82,
          13.77,
          13.74,
          13.56,
          14.22,
          13.29,
          13.72,
          12.37,
          12.33,
          12.64,
          13.67,
          12.37,
          12.17,
          12.37,
          13.11,
          12.37,
          13.34,
          12.21,
          12.29,
          13.86,
          13.49,
          12.99,
          11.96,
          11.66,
          13.03,
          11.84,
          12.33,
          12.7,
          12,
          12.72,
          12.08,
          13.05,
          11.84,
          12.67,
          12.16,
          11.65,
          11.64,
          12.08,
          12.08,
          12,
          12.69,
          12.29,
          11.62,
          12.47,
          11.81,
          12.29,
          12.37,
          12.29,
          12.08,
          12.6,
          12.34,
          11.82,
          12.51,
          12.42,
          12.25,
          12.72,
          12.22,
          11.61,
          11.46,
          12.52,
          11.76,
          11.41,
          12.08,
          11.03,
          11.82,
          12.42,
          12.77,
          12,
          11.45,
          11.56,
          12.42,
          13.05,
          11.87,
          12.07,
          12.43,
          11.79,
          12.37,
          12.04,
          12.86,
          12.88,
          12.81,
          12.7,
          12.51,
          12.6,
          12.25,
          12.53,
          13.49,
          12.84,
          12.93,
          13.36,
          13.52,
          13.62,
          12.25,
          13.16,
          13.88,
          12.87,
          13.32,
          13.08,
          13.5,
          12.79,
          13.11,
          13.23,
          12.58,
          13.17,
          13.84,
          12.45,
          14.34,
          13.48,
          12.36,
          13.69,
          12.85,
          12.96,
          13.78,
          13.73,
          13.45,
          12.82,
          13.58,
          13.4,
          12.2,
          12.77,
          14.16,
          13.71,
          13.4,
          13.27,
          13.17,
          14.13
         ]
        }
       ],
       "layout": {
        "template": {
         "data": {
          "bar": [
           {
            "error_x": {
             "color": "#2a3f5f"
            },
            "error_y": {
             "color": "#2a3f5f"
            },
            "marker": {
             "line": {
              "color": "#E5ECF6",
              "width": 0.5
             }
            },
            "type": "bar"
           }
          ],
          "barpolar": [
           {
            "marker": {
             "line": {
              "color": "#E5ECF6",
              "width": 0.5
             }
            },
            "type": "barpolar"
           }
          ],
          "carpet": [
           {
            "aaxis": {
             "endlinecolor": "#2a3f5f",
             "gridcolor": "white",
             "linecolor": "white",
             "minorgridcolor": "white",
             "startlinecolor": "#2a3f5f"
            },
            "baxis": {
             "endlinecolor": "#2a3f5f",
             "gridcolor": "white",
             "linecolor": "white",
             "minorgridcolor": "white",
             "startlinecolor": "#2a3f5f"
            },
            "type": "carpet"
           }
          ],
          "choropleth": [
           {
            "colorbar": {
             "outlinewidth": 0,
             "ticks": ""
            },
            "type": "choropleth"
           }
          ],
          "contour": [
           {
            "colorbar": {
             "outlinewidth": 0,
             "ticks": ""
            },
            "colorscale": [
             [
              0,
              "#0d0887"
             ],
             [
              0.1111111111111111,
              "#46039f"
             ],
             [
              0.2222222222222222,
              "#7201a8"
             ],
             [
              0.3333333333333333,
              "#9c179e"
             ],
             [
              0.4444444444444444,
              "#bd3786"
             ],
             [
              0.5555555555555556,
              "#d8576b"
             ],
             [
              0.6666666666666666,
              "#ed7953"
             ],
             [
              0.7777777777777778,
              "#fb9f3a"
             ],
             [
              0.8888888888888888,
              "#fdca26"
             ],
             [
              1,
              "#f0f921"
             ]
            ],
            "type": "contour"
           }
          ],
          "contourcarpet": [
           {
            "colorbar": {
             "outlinewidth": 0,
             "ticks": ""
            },
            "type": "contourcarpet"
           }
          ],
          "heatmap": [
           {
            "colorbar": {
             "outlinewidth": 0,
             "ticks": ""
            },
            "colorscale": [
             [
              0,
              "#0d0887"
             ],
             [
              0.1111111111111111,
              "#46039f"
             ],
             [
              0.2222222222222222,
              "#7201a8"
             ],
             [
              0.3333333333333333,
              "#9c179e"
             ],
             [
              0.4444444444444444,
              "#bd3786"
             ],
             [
              0.5555555555555556,
              "#d8576b"
             ],
             [
              0.6666666666666666,
              "#ed7953"
             ],
             [
              0.7777777777777778,
              "#fb9f3a"
             ],
             [
              0.8888888888888888,
              "#fdca26"
             ],
             [
              1,
              "#f0f921"
             ]
            ],
            "type": "heatmap"
           }
          ],
          "heatmapgl": [
           {
            "colorbar": {
             "outlinewidth": 0,
             "ticks": ""
            },
            "colorscale": [
             [
              0,
              "#0d0887"
             ],
             [
              0.1111111111111111,
              "#46039f"
             ],
             [
              0.2222222222222222,
              "#7201a8"
             ],
             [
              0.3333333333333333,
              "#9c179e"
             ],
             [
              0.4444444444444444,
              "#bd3786"
             ],
             [
              0.5555555555555556,
              "#d8576b"
             ],
             [
              0.6666666666666666,
              "#ed7953"
             ],
             [
              0.7777777777777778,
              "#fb9f3a"
             ],
             [
              0.8888888888888888,
              "#fdca26"
             ],
             [
              1,
              "#f0f921"
             ]
            ],
            "type": "heatmapgl"
           }
          ],
          "histogram": [
           {
            "marker": {
             "colorbar": {
              "outlinewidth": 0,
              "ticks": ""
             }
            },
            "type": "histogram"
           }
          ],
          "histogram2d": [
           {
            "colorbar": {
             "outlinewidth": 0,
             "ticks": ""
            },
            "colorscale": [
             [
              0,
              "#0d0887"
             ],
             [
              0.1111111111111111,
              "#46039f"
             ],
             [
              0.2222222222222222,
              "#7201a8"
             ],
             [
              0.3333333333333333,
              "#9c179e"
             ],
             [
              0.4444444444444444,
              "#bd3786"
             ],
             [
              0.5555555555555556,
              "#d8576b"
             ],
             [
              0.6666666666666666,
              "#ed7953"
             ],
             [
              0.7777777777777778,
              "#fb9f3a"
             ],
             [
              0.8888888888888888,
              "#fdca26"
             ],
             [
              1,
              "#f0f921"
             ]
            ],
            "type": "histogram2d"
           }
          ],
          "histogram2dcontour": [
           {
            "colorbar": {
             "outlinewidth": 0,
             "ticks": ""
            },
            "colorscale": [
             [
              0,
              "#0d0887"
             ],
             [
              0.1111111111111111,
              "#46039f"
             ],
             [
              0.2222222222222222,
              "#7201a8"
             ],
             [
              0.3333333333333333,
              "#9c179e"
             ],
             [
              0.4444444444444444,
              "#bd3786"
             ],
             [
              0.5555555555555556,
              "#d8576b"
             ],
             [
              0.6666666666666666,
              "#ed7953"
             ],
             [
              0.7777777777777778,
              "#fb9f3a"
             ],
             [
              0.8888888888888888,
              "#fdca26"
             ],
             [
              1,
              "#f0f921"
             ]
            ],
            "type": "histogram2dcontour"
           }
          ],
          "mesh3d": [
           {
            "colorbar": {
             "outlinewidth": 0,
             "ticks": ""
            },
            "type": "mesh3d"
           }
          ],
          "parcoords": [
           {
            "line": {
             "colorbar": {
              "outlinewidth": 0,
              "ticks": ""
             }
            },
            "type": "parcoords"
           }
          ],
          "scatter": [
           {
            "marker": {
             "colorbar": {
              "outlinewidth": 0,
              "ticks": ""
             }
            },
            "type": "scatter"
           }
          ],
          "scatter3d": [
           {
            "line": {
             "colorbar": {
              "outlinewidth": 0,
              "ticks": ""
             }
            },
            "marker": {
             "colorbar": {
              "outlinewidth": 0,
              "ticks": ""
             }
            },
            "type": "scatter3d"
           }
          ],
          "scattercarpet": [
           {
            "marker": {
             "colorbar": {
              "outlinewidth": 0,
              "ticks": ""
             }
            },
            "type": "scattercarpet"
           }
          ],
          "scattergeo": [
           {
            "marker": {
             "colorbar": {
              "outlinewidth": 0,
              "ticks": ""
             }
            },
            "type": "scattergeo"
           }
          ],
          "scattergl": [
           {
            "marker": {
             "colorbar": {
              "outlinewidth": 0,
              "ticks": ""
             }
            },
            "type": "scattergl"
           }
          ],
          "scattermapbox": [
           {
            "marker": {
             "colorbar": {
              "outlinewidth": 0,
              "ticks": ""
             }
            },
            "type": "scattermapbox"
           }
          ],
          "scatterpolar": [
           {
            "marker": {
             "colorbar": {
              "outlinewidth": 0,
              "ticks": ""
             }
            },
            "type": "scatterpolar"
           }
          ],
          "scatterpolargl": [
           {
            "marker": {
             "colorbar": {
              "outlinewidth": 0,
              "ticks": ""
             }
            },
            "type": "scatterpolargl"
           }
          ],
          "scatterternary": [
           {
            "marker": {
             "colorbar": {
              "outlinewidth": 0,
              "ticks": ""
             }
            },
            "type": "scatterternary"
           }
          ],
          "surface": [
           {
            "colorbar": {
             "outlinewidth": 0,
             "ticks": ""
            },
            "colorscale": [
             [
              0,
              "#0d0887"
             ],
             [
              0.1111111111111111,
              "#46039f"
             ],
             [
              0.2222222222222222,
              "#7201a8"
             ],
             [
              0.3333333333333333,
              "#9c179e"
             ],
             [
              0.4444444444444444,
              "#bd3786"
             ],
             [
              0.5555555555555556,
              "#d8576b"
             ],
             [
              0.6666666666666666,
              "#ed7953"
             ],
             [
              0.7777777777777778,
              "#fb9f3a"
             ],
             [
              0.8888888888888888,
              "#fdca26"
             ],
             [
              1,
              "#f0f921"
             ]
            ],
            "type": "surface"
           }
          ],
          "table": [
           {
            "cells": {
             "fill": {
              "color": "#EBF0F8"
             },
             "line": {
              "color": "white"
             }
            },
            "header": {
             "fill": {
              "color": "#C8D4E3"
             },
             "line": {
              "color": "white"
             }
            },
            "type": "table"
           }
          ]
         },
         "layout": {
          "annotationdefaults": {
           "arrowcolor": "#2a3f5f",
           "arrowhead": 0,
           "arrowwidth": 1
          },
          "colorscale": {
           "diverging": [
            [
             0,
             "#8e0152"
            ],
            [
             0.1,
             "#c51b7d"
            ],
            [
             0.2,
             "#de77ae"
            ],
            [
             0.3,
             "#f1b6da"
            ],
            [
             0.4,
             "#fde0ef"
            ],
            [
             0.5,
             "#f7f7f7"
            ],
            [
             0.6,
             "#e6f5d0"
            ],
            [
             0.7,
             "#b8e186"
            ],
            [
             0.8,
             "#7fbc41"
            ],
            [
             0.9,
             "#4d9221"
            ],
            [
             1,
             "#276419"
            ]
           ],
           "sequential": [
            [
             0,
             "#0d0887"
            ],
            [
             0.1111111111111111,
             "#46039f"
            ],
            [
             0.2222222222222222,
             "#7201a8"
            ],
            [
             0.3333333333333333,
             "#9c179e"
            ],
            [
             0.4444444444444444,
             "#bd3786"
            ],
            [
             0.5555555555555556,
             "#d8576b"
            ],
            [
             0.6666666666666666,
             "#ed7953"
            ],
            [
             0.7777777777777778,
             "#fb9f3a"
            ],
            [
             0.8888888888888888,
             "#fdca26"
            ],
            [
             1,
             "#f0f921"
            ]
           ],
           "sequentialminus": [
            [
             0,
             "#0d0887"
            ],
            [
             0.1111111111111111,
             "#46039f"
            ],
            [
             0.2222222222222222,
             "#7201a8"
            ],
            [
             0.3333333333333333,
             "#9c179e"
            ],
            [
             0.4444444444444444,
             "#bd3786"
            ],
            [
             0.5555555555555556,
             "#d8576b"
            ],
            [
             0.6666666666666666,
             "#ed7953"
            ],
            [
             0.7777777777777778,
             "#fb9f3a"
            ],
            [
             0.8888888888888888,
             "#fdca26"
            ],
            [
             1,
             "#f0f921"
            ]
           ]
          },
          "colorway": [
           "#636efa",
           "#EF553B",
           "#00cc96",
           "#ab63fa",
           "#FFA15A",
           "#19d3f3",
           "#FF6692",
           "#B6E880",
           "#FF97FF",
           "#FECB52"
          ],
          "font": {
           "color": "#2a3f5f"
          },
          "geo": {
           "bgcolor": "white",
           "lakecolor": "white",
           "landcolor": "#E5ECF6",
           "showlakes": true,
           "showland": true,
           "subunitcolor": "white"
          },
          "hoverlabel": {
           "align": "left"
          },
          "hovermode": "closest",
          "mapbox": {
           "style": "light"
          },
          "paper_bgcolor": "white",
          "plot_bgcolor": "#E5ECF6",
          "polar": {
           "angularaxis": {
            "gridcolor": "white",
            "linecolor": "white",
            "ticks": ""
           },
           "bgcolor": "#E5ECF6",
           "radialaxis": {
            "gridcolor": "white",
            "linecolor": "white",
            "ticks": ""
           }
          },
          "scene": {
           "xaxis": {
            "backgroundcolor": "#E5ECF6",
            "gridcolor": "white",
            "gridwidth": 2,
            "linecolor": "white",
            "showbackground": true,
            "ticks": "",
            "zerolinecolor": "white"
           },
           "yaxis": {
            "backgroundcolor": "#E5ECF6",
            "gridcolor": "white",
            "gridwidth": 2,
            "linecolor": "white",
            "showbackground": true,
            "ticks": "",
            "zerolinecolor": "white"
           },
           "zaxis": {
            "backgroundcolor": "#E5ECF6",
            "gridcolor": "white",
            "gridwidth": 2,
            "linecolor": "white",
            "showbackground": true,
            "ticks": "",
            "zerolinecolor": "white"
           }
          },
          "shapedefaults": {
           "line": {
            "color": "#2a3f5f"
           }
          },
          "ternary": {
           "aaxis": {
            "gridcolor": "white",
            "linecolor": "white",
            "ticks": ""
           },
           "baxis": {
            "gridcolor": "white",
            "linecolor": "white",
            "ticks": ""
           },
           "bgcolor": "#E5ECF6",
           "caxis": {
            "gridcolor": "white",
            "linecolor": "white",
            "ticks": ""
           }
          },
          "title": {
           "x": 0.05
          },
          "xaxis": {
           "automargin": true,
           "gridcolor": "white",
           "linecolor": "white",
           "ticks": "",
           "zerolinecolor": "white",
           "zerolinewidth": 2
          },
          "yaxis": {
           "automargin": true,
           "gridcolor": "white",
           "linecolor": "white",
           "ticks": "",
           "zerolinecolor": "white",
           "zerolinewidth": 2
          }
         }
        }
       }
      }
     },
     "metadata": {}
    }
   ],
   "source": [
    "fig=go.Figure()\n",
    "fig.add_trace(go.Scatter(x=df['Intensidade_de_cor'],y=df['Alcool'],\n",
    "                        mode='markers',\n",
    "                        marker=dict(color=clusters.labels_.astype(np.float)),\n",
    "                        text=labels))\n",
    "fig.show()"
   ]
  },
  {
   "cell_type": "code",
   "execution_count": 14,
   "metadata": {},
   "outputs": [
    {
     "output_type": "display_data",
     "data": {
      "application/vnd.plotly.v1+json": {
       "config": {
        "plotlyServerURL": "https://plot.ly"
       },
       "data": [
        {
         "marker": {
          "color": [
           1,
           1,
           1,
           1,
           2,
           1,
           1,
           1,
           1,
           1,
           1,
           1,
           1,
           1,
           1,
           1,
           1,
           1,
           1,
           2,
           2,
           2,
           1,
           1,
           2,
           2,
           1,
           1,
           2,
           1,
           1,
           1,
           1,
           1,
           1,
           2,
           2,
           1,
           1,
           2,
           2,
           1,
           1,
           2,
           2,
           1,
           1,
           1,
           1,
           1,
           1,
           1,
           1,
           1,
           1,
           1,
           1,
           1,
           1,
           0,
           2,
           0,
           2,
           0,
           0,
           2,
           0,
           0,
           2,
           2,
           2,
           0,
           0,
           1,
           2,
           0,
           0,
           0,
           2,
           0,
           0,
           2,
           2,
           0,
           0,
           0,
           0,
           0,
           2,
           2,
           0,
           0,
           0,
           0,
           0,
           2,
           2,
           0,
           2,
           0,
           2,
           0,
           0,
           0,
           2,
           0,
           0,
           0,
           0,
           2,
           0,
           0,
           2,
           0,
           0,
           0,
           0,
           0,
           0,
           0,
           2,
           0,
           0,
           0,
           0,
           0,
           0,
           0,
           0,
           0,
           2,
           0,
           0,
           2,
           2,
           2,
           2,
           0,
           0,
           0,
           2,
           2,
           0,
           0,
           2,
           2,
           0,
           2,
           2,
           0,
           0,
           0,
           0,
           2,
           2,
           2,
           0,
           2,
           2,
           2,
           0,
           2,
           0,
           2,
           2,
           0,
           2,
           2,
           2,
           2,
           0,
           0,
           2,
           2,
           2,
           2,
           2,
           0
          ]
         },
         "mode": "markers",
         "text": [
          1,
          1,
          1,
          1,
          2,
          1,
          1,
          1,
          1,
          1,
          1,
          1,
          1,
          1,
          1,
          1,
          1,
          1,
          1,
          2,
          2,
          2,
          1,
          1,
          2,
          2,
          1,
          1,
          2,
          1,
          1,
          1,
          1,
          1,
          1,
          2,
          2,
          1,
          1,
          2,
          2,
          1,
          1,
          2,
          2,
          1,
          1,
          1,
          1,
          1,
          1,
          1,
          1,
          1,
          1,
          1,
          1,
          1,
          1,
          0,
          2,
          0,
          2,
          0,
          0,
          2,
          0,
          0,
          2,
          2,
          2,
          0,
          0,
          1,
          2,
          0,
          0,
          0,
          2,
          0,
          0,
          2,
          2,
          0,
          0,
          0,
          0,
          0,
          2,
          2,
          0,
          0,
          0,
          0,
          0,
          2,
          2,
          0,
          2,
          0,
          2,
          0,
          0,
          0,
          2,
          0,
          0,
          0,
          0,
          2,
          0,
          0,
          2,
          0,
          0,
          0,
          0,
          0,
          0,
          0,
          2,
          0,
          0,
          0,
          0,
          0,
          0,
          0,
          0,
          0,
          2,
          0,
          0,
          2,
          2,
          2,
          2,
          0,
          0,
          0,
          2,
          2,
          0,
          0,
          2,
          2,
          0,
          2,
          2,
          0,
          0,
          0,
          0,
          2,
          2,
          2,
          0,
          2,
          2,
          2,
          0,
          2,
          0,
          2,
          2,
          0,
          2,
          2,
          2,
          2,
          0,
          0,
          2,
          2,
          2,
          2,
          2,
          0
         ],
         "type": "scatter",
         "x": [
          5.64,
          4.379999999999999,
          5.679999999999999,
          7.8,
          4.319999999999999,
          6.75,
          5.25,
          5.05,
          5.2,
          7.22,
          5.749999999999999,
          4.999999999999999,
          5.6,
          5.4,
          7.5,
          7.3,
          6.2,
          6.6,
          8.7,
          5.1,
          5.65,
          4.5,
          3.8,
          3.93,
          3.52,
          3.58,
          4.799999999999999,
          3.9499999999999997,
          4.5,
          4.7,
          5.699999999999999,
          6.9,
          3.8399999999999994,
          5.4,
          4.2,
          5.1,
          4.6,
          4.249999999999999,
          3.7,
          5.1,
          6.13,
          4.28,
          5.43,
          4.36,
          5.04,
          5.24,
          4.9,
          6.1000000000000005,
          6.2,
          8.9,
          7.2,
          5.6,
          7.05,
          6.299999999999999,
          5.85,
          6.250000000000001,
          6.380000000000001,
          6,
          6.8,
          1.95,
          3.27,
          5.749999999999999,
          3.8,
          4.449999999999999,
          2.9499999999999997,
          4.6,
          5.3,
          4.68,
          3.17,
          2.85,
          3.0500000000000003,
          3.38,
          3.74,
          3.35,
          3.21,
          3.8,
          4.6,
          2.65,
          3.4,
          2.57,
          2.5,
          3.9,
          2.2,
          4.799999999999999,
          3.0500000000000003,
          2.62,
          2.45,
          2.6,
          2.8,
          1.74,
          2.4,
          3.6,
          3.0500000000000003,
          2.15,
          3.25,
          2.6,
          2.5,
          2.9,
          4.5,
          2.3,
          3.3,
          2.45,
          2.8,
          2.06,
          2.94,
          2.7,
          3.4,
          3.3,
          2.7,
          2.65,
          2.9,
          2,
          3.8,
          3.08,
          2.9,
          1.9,
          1.95,
          2.06,
          3.4,
          1.28,
          3.25,
          6,
          2.08,
          2.6,
          2.8,
          2.76,
          3.94,
          3,
          2.12,
          2.6,
          4.1,
          5.4,
          5.699999999999999,
          4.999999999999999,
          5.45,
          7.1,
          3.8500000000000005,
          4.999999999999999,
          5.699999999999999,
          4.919999999999999,
          4.6,
          5.6,
          4.35,
          4.3999999999999995,
          8.21,
          4,
          4.9,
          7.65,
          8.42,
          9.4,
          8.6,
          10.8,
          7.1,
          10.52,
          7.6,
          7.8999999999999995,
          9.01,
          7.5,
          13,
          11.75,
          7.65,
          5.88,
          5.58,
          5.279999999999999,
          9.58,
          6.62,
          10.68,
          10.26,
          8.66,
          8.5,
          5.5,
          9.899999000000001,
          9.7,
          7.700000000000001,
          7.3,
          10.2,
          9.3,
          9.2
         ],
         "y": [
          14.23,
          13.2,
          13.16,
          14.37,
          13.24,
          14.2,
          14.39,
          14.06,
          14.83,
          13.86,
          14.1,
          14.12,
          13.75,
          14.75,
          14.38,
          13.63,
          14.3,
          13.83,
          14.19,
          13.64,
          14.06,
          12.93,
          13.71,
          12.85,
          13.5,
          13.05,
          13.39,
          13.3,
          13.87,
          14.02,
          13.73,
          13.58,
          13.68,
          13.76,
          13.51,
          13.48,
          13.28,
          13.05,
          13.07,
          14.22,
          13.56,
          13.41,
          13.88,
          13.24,
          13.05,
          14.21,
          14.38,
          13.9,
          14.1,
          13.94,
          13.05,
          13.83,
          13.82,
          13.77,
          13.74,
          13.56,
          14.22,
          13.29,
          13.72,
          12.37,
          12.33,
          12.64,
          13.67,
          12.37,
          12.17,
          12.37,
          13.11,
          12.37,
          13.34,
          12.21,
          12.29,
          13.86,
          13.49,
          12.99,
          11.96,
          11.66,
          13.03,
          11.84,
          12.33,
          12.7,
          12,
          12.72,
          12.08,
          13.05,
          11.84,
          12.67,
          12.16,
          11.65,
          11.64,
          12.08,
          12.08,
          12,
          12.69,
          12.29,
          11.62,
          12.47,
          11.81,
          12.29,
          12.37,
          12.29,
          12.08,
          12.6,
          12.34,
          11.82,
          12.51,
          12.42,
          12.25,
          12.72,
          12.22,
          11.61,
          11.46,
          12.52,
          11.76,
          11.41,
          12.08,
          11.03,
          11.82,
          12.42,
          12.77,
          12,
          11.45,
          11.56,
          12.42,
          13.05,
          11.87,
          12.07,
          12.43,
          11.79,
          12.37,
          12.04,
          12.86,
          12.88,
          12.81,
          12.7,
          12.51,
          12.6,
          12.25,
          12.53,
          13.49,
          12.84,
          12.93,
          13.36,
          13.52,
          13.62,
          12.25,
          13.16,
          13.88,
          12.87,
          13.32,
          13.08,
          13.5,
          12.79,
          13.11,
          13.23,
          12.58,
          13.17,
          13.84,
          12.45,
          14.34,
          13.48,
          12.36,
          13.69,
          12.85,
          12.96,
          13.78,
          13.73,
          13.45,
          12.82,
          13.58,
          13.4,
          12.2,
          12.77,
          14.16,
          13.71,
          13.4,
          13.27,
          13.17,
          14.13
         ]
        }
       ],
       "layout": {
        "template": {
         "data": {
          "bar": [
           {
            "error_x": {
             "color": "#2a3f5f"
            },
            "error_y": {
             "color": "#2a3f5f"
            },
            "marker": {
             "line": {
              "color": "#E5ECF6",
              "width": 0.5
             }
            },
            "type": "bar"
           }
          ],
          "barpolar": [
           {
            "marker": {
             "line": {
              "color": "#E5ECF6",
              "width": 0.5
             }
            },
            "type": "barpolar"
           }
          ],
          "carpet": [
           {
            "aaxis": {
             "endlinecolor": "#2a3f5f",
             "gridcolor": "white",
             "linecolor": "white",
             "minorgridcolor": "white",
             "startlinecolor": "#2a3f5f"
            },
            "baxis": {
             "endlinecolor": "#2a3f5f",
             "gridcolor": "white",
             "linecolor": "white",
             "minorgridcolor": "white",
             "startlinecolor": "#2a3f5f"
            },
            "type": "carpet"
           }
          ],
          "choropleth": [
           {
            "colorbar": {
             "outlinewidth": 0,
             "ticks": ""
            },
            "type": "choropleth"
           }
          ],
          "contour": [
           {
            "colorbar": {
             "outlinewidth": 0,
             "ticks": ""
            },
            "colorscale": [
             [
              0,
              "#0d0887"
             ],
             [
              0.1111111111111111,
              "#46039f"
             ],
             [
              0.2222222222222222,
              "#7201a8"
             ],
             [
              0.3333333333333333,
              "#9c179e"
             ],
             [
              0.4444444444444444,
              "#bd3786"
             ],
             [
              0.5555555555555556,
              "#d8576b"
             ],
             [
              0.6666666666666666,
              "#ed7953"
             ],
             [
              0.7777777777777778,
              "#fb9f3a"
             ],
             [
              0.8888888888888888,
              "#fdca26"
             ],
             [
              1,
              "#f0f921"
             ]
            ],
            "type": "contour"
           }
          ],
          "contourcarpet": [
           {
            "colorbar": {
             "outlinewidth": 0,
             "ticks": ""
            },
            "type": "contourcarpet"
           }
          ],
          "heatmap": [
           {
            "colorbar": {
             "outlinewidth": 0,
             "ticks": ""
            },
            "colorscale": [
             [
              0,
              "#0d0887"
             ],
             [
              0.1111111111111111,
              "#46039f"
             ],
             [
              0.2222222222222222,
              "#7201a8"
             ],
             [
              0.3333333333333333,
              "#9c179e"
             ],
             [
              0.4444444444444444,
              "#bd3786"
             ],
             [
              0.5555555555555556,
              "#d8576b"
             ],
             [
              0.6666666666666666,
              "#ed7953"
             ],
             [
              0.7777777777777778,
              "#fb9f3a"
             ],
             [
              0.8888888888888888,
              "#fdca26"
             ],
             [
              1,
              "#f0f921"
             ]
            ],
            "type": "heatmap"
           }
          ],
          "heatmapgl": [
           {
            "colorbar": {
             "outlinewidth": 0,
             "ticks": ""
            },
            "colorscale": [
             [
              0,
              "#0d0887"
             ],
             [
              0.1111111111111111,
              "#46039f"
             ],
             [
              0.2222222222222222,
              "#7201a8"
             ],
             [
              0.3333333333333333,
              "#9c179e"
             ],
             [
              0.4444444444444444,
              "#bd3786"
             ],
             [
              0.5555555555555556,
              "#d8576b"
             ],
             [
              0.6666666666666666,
              "#ed7953"
             ],
             [
              0.7777777777777778,
              "#fb9f3a"
             ],
             [
              0.8888888888888888,
              "#fdca26"
             ],
             [
              1,
              "#f0f921"
             ]
            ],
            "type": "heatmapgl"
           }
          ],
          "histogram": [
           {
            "marker": {
             "colorbar": {
              "outlinewidth": 0,
              "ticks": ""
             }
            },
            "type": "histogram"
           }
          ],
          "histogram2d": [
           {
            "colorbar": {
             "outlinewidth": 0,
             "ticks": ""
            },
            "colorscale": [
             [
              0,
              "#0d0887"
             ],
             [
              0.1111111111111111,
              "#46039f"
             ],
             [
              0.2222222222222222,
              "#7201a8"
             ],
             [
              0.3333333333333333,
              "#9c179e"
             ],
             [
              0.4444444444444444,
              "#bd3786"
             ],
             [
              0.5555555555555556,
              "#d8576b"
             ],
             [
              0.6666666666666666,
              "#ed7953"
             ],
             [
              0.7777777777777778,
              "#fb9f3a"
             ],
             [
              0.8888888888888888,
              "#fdca26"
             ],
             [
              1,
              "#f0f921"
             ]
            ],
            "type": "histogram2d"
           }
          ],
          "histogram2dcontour": [
           {
            "colorbar": {
             "outlinewidth": 0,
             "ticks": ""
            },
            "colorscale": [
             [
              0,
              "#0d0887"
             ],
             [
              0.1111111111111111,
              "#46039f"
             ],
             [
              0.2222222222222222,
              "#7201a8"
             ],
             [
              0.3333333333333333,
              "#9c179e"
             ],
             [
              0.4444444444444444,
              "#bd3786"
             ],
             [
              0.5555555555555556,
              "#d8576b"
             ],
             [
              0.6666666666666666,
              "#ed7953"
             ],
             [
              0.7777777777777778,
              "#fb9f3a"
             ],
             [
              0.8888888888888888,
              "#fdca26"
             ],
             [
              1,
              "#f0f921"
             ]
            ],
            "type": "histogram2dcontour"
           }
          ],
          "mesh3d": [
           {
            "colorbar": {
             "outlinewidth": 0,
             "ticks": ""
            },
            "type": "mesh3d"
           }
          ],
          "parcoords": [
           {
            "line": {
             "colorbar": {
              "outlinewidth": 0,
              "ticks": ""
             }
            },
            "type": "parcoords"
           }
          ],
          "scatter": [
           {
            "marker": {
             "colorbar": {
              "outlinewidth": 0,
              "ticks": ""
             }
            },
            "type": "scatter"
           }
          ],
          "scatter3d": [
           {
            "line": {
             "colorbar": {
              "outlinewidth": 0,
              "ticks": ""
             }
            },
            "marker": {
             "colorbar": {
              "outlinewidth": 0,
              "ticks": ""
             }
            },
            "type": "scatter3d"
           }
          ],
          "scattercarpet": [
           {
            "marker": {
             "colorbar": {
              "outlinewidth": 0,
              "ticks": ""
             }
            },
            "type": "scattercarpet"
           }
          ],
          "scattergeo": [
           {
            "marker": {
             "colorbar": {
              "outlinewidth": 0,
              "ticks": ""
             }
            },
            "type": "scattergeo"
           }
          ],
          "scattergl": [
           {
            "marker": {
             "colorbar": {
              "outlinewidth": 0,
              "ticks": ""
             }
            },
            "type": "scattergl"
           }
          ],
          "scattermapbox": [
           {
            "marker": {
             "colorbar": {
              "outlinewidth": 0,
              "ticks": ""
             }
            },
            "type": "scattermapbox"
           }
          ],
          "scatterpolar": [
           {
            "marker": {
             "colorbar": {
              "outlinewidth": 0,
              "ticks": ""
             }
            },
            "type": "scatterpolar"
           }
          ],
          "scatterpolargl": [
           {
            "marker": {
             "colorbar": {
              "outlinewidth": 0,
              "ticks": ""
             }
            },
            "type": "scatterpolargl"
           }
          ],
          "scatterternary": [
           {
            "marker": {
             "colorbar": {
              "outlinewidth": 0,
              "ticks": ""
             }
            },
            "type": "scatterternary"
           }
          ],
          "surface": [
           {
            "colorbar": {
             "outlinewidth": 0,
             "ticks": ""
            },
            "colorscale": [
             [
              0,
              "#0d0887"
             ],
             [
              0.1111111111111111,
              "#46039f"
             ],
             [
              0.2222222222222222,
              "#7201a8"
             ],
             [
              0.3333333333333333,
              "#9c179e"
             ],
             [
              0.4444444444444444,
              "#bd3786"
             ],
             [
              0.5555555555555556,
              "#d8576b"
             ],
             [
              0.6666666666666666,
              "#ed7953"
             ],
             [
              0.7777777777777778,
              "#fb9f3a"
             ],
             [
              0.8888888888888888,
              "#fdca26"
             ],
             [
              1,
              "#f0f921"
             ]
            ],
            "type": "surface"
           }
          ],
          "table": [
           {
            "cells": {
             "fill": {
              "color": "#EBF0F8"
             },
             "line": {
              "color": "white"
             }
            },
            "header": {
             "fill": {
              "color": "#C8D4E3"
             },
             "line": {
              "color": "white"
             }
            },
            "type": "table"
           }
          ]
         },
         "layout": {
          "annotationdefaults": {
           "arrowcolor": "#2a3f5f",
           "arrowhead": 0,
           "arrowwidth": 1
          },
          "colorscale": {
           "diverging": [
            [
             0,
             "#8e0152"
            ],
            [
             0.1,
             "#c51b7d"
            ],
            [
             0.2,
             "#de77ae"
            ],
            [
             0.3,
             "#f1b6da"
            ],
            [
             0.4,
             "#fde0ef"
            ],
            [
             0.5,
             "#f7f7f7"
            ],
            [
             0.6,
             "#e6f5d0"
            ],
            [
             0.7,
             "#b8e186"
            ],
            [
             0.8,
             "#7fbc41"
            ],
            [
             0.9,
             "#4d9221"
            ],
            [
             1,
             "#276419"
            ]
           ],
           "sequential": [
            [
             0,
             "#0d0887"
            ],
            [
             0.1111111111111111,
             "#46039f"
            ],
            [
             0.2222222222222222,
             "#7201a8"
            ],
            [
             0.3333333333333333,
             "#9c179e"
            ],
            [
             0.4444444444444444,
             "#bd3786"
            ],
            [
             0.5555555555555556,
             "#d8576b"
            ],
            [
             0.6666666666666666,
             "#ed7953"
            ],
            [
             0.7777777777777778,
             "#fb9f3a"
            ],
            [
             0.8888888888888888,
             "#fdca26"
            ],
            [
             1,
             "#f0f921"
            ]
           ],
           "sequentialminus": [
            [
             0,
             "#0d0887"
            ],
            [
             0.1111111111111111,
             "#46039f"
            ],
            [
             0.2222222222222222,
             "#7201a8"
            ],
            [
             0.3333333333333333,
             "#9c179e"
            ],
            [
             0.4444444444444444,
             "#bd3786"
            ],
            [
             0.5555555555555556,
             "#d8576b"
            ],
            [
             0.6666666666666666,
             "#ed7953"
            ],
            [
             0.7777777777777778,
             "#fb9f3a"
            ],
            [
             0.8888888888888888,
             "#fdca26"
            ],
            [
             1,
             "#f0f921"
            ]
           ]
          },
          "colorway": [
           "#636efa",
           "#EF553B",
           "#00cc96",
           "#ab63fa",
           "#FFA15A",
           "#19d3f3",
           "#FF6692",
           "#B6E880",
           "#FF97FF",
           "#FECB52"
          ],
          "font": {
           "color": "#2a3f5f"
          },
          "geo": {
           "bgcolor": "white",
           "lakecolor": "white",
           "landcolor": "#E5ECF6",
           "showlakes": true,
           "showland": true,
           "subunitcolor": "white"
          },
          "hoverlabel": {
           "align": "left"
          },
          "hovermode": "closest",
          "mapbox": {
           "style": "light"
          },
          "paper_bgcolor": "white",
          "plot_bgcolor": "#E5ECF6",
          "polar": {
           "angularaxis": {
            "gridcolor": "white",
            "linecolor": "white",
            "ticks": ""
           },
           "bgcolor": "#E5ECF6",
           "radialaxis": {
            "gridcolor": "white",
            "linecolor": "white",
            "ticks": ""
           }
          },
          "scene": {
           "xaxis": {
            "backgroundcolor": "#E5ECF6",
            "gridcolor": "white",
            "gridwidth": 2,
            "linecolor": "white",
            "showbackground": true,
            "ticks": "",
            "zerolinecolor": "white"
           },
           "yaxis": {
            "backgroundcolor": "#E5ECF6",
            "gridcolor": "white",
            "gridwidth": 2,
            "linecolor": "white",
            "showbackground": true,
            "ticks": "",
            "zerolinecolor": "white"
           },
           "zaxis": {
            "backgroundcolor": "#E5ECF6",
            "gridcolor": "white",
            "gridwidth": 2,
            "linecolor": "white",
            "showbackground": true,
            "ticks": "",
            "zerolinecolor": "white"
           }
          },
          "shapedefaults": {
           "line": {
            "color": "#2a3f5f"
           }
          },
          "ternary": {
           "aaxis": {
            "gridcolor": "white",
            "linecolor": "white",
            "ticks": ""
           },
           "baxis": {
            "gridcolor": "white",
            "linecolor": "white",
            "ticks": ""
           },
           "bgcolor": "#E5ECF6",
           "caxis": {
            "gridcolor": "white",
            "linecolor": "white",
            "ticks": ""
           }
          },
          "title": {
           "x": 0.05
          },
          "xaxis": {
           "automargin": true,
           "gridcolor": "white",
           "linecolor": "white",
           "ticks": "",
           "zerolinecolor": "white",
           "zerolinewidth": 2
          },
          "yaxis": {
           "automargin": true,
           "gridcolor": "white",
           "linecolor": "white",
           "ticks": "",
           "zerolinecolor": "white",
           "zerolinewidth": 2
          }
         }
        }
       }
      }
     },
     "metadata": {}
    }
   ],
   "source": [
    "clusters=KMeans(n_clusters=3)\n",
    "clusters.fit(df)\n",
    "labels=clusters.labels_\n",
    "\n",
    "\n",
    "fig=go.Figure()\n",
    "fig.add_trace(go.Scatter(x=df['Intensidade_de_cor'],y=df['Alcool'],\n",
    "                        mode='markers',\n",
    "                        marker=dict(color=clusters.labels_.astype(np.float)),\n",
    "                        text=labels))\n",
    "fig.show()"
   ]
  },
  {
   "cell_type": "code",
   "execution_count": 15,
   "metadata": {},
   "outputs": [
    {
     "output_type": "display_data",
     "data": {
      "application/vnd.plotly.v1+json": {
       "config": {
        "plotlyServerURL": "https://plot.ly"
       },
       "data": [
        {
         "marker": {
          "color": [
           1,
           1,
           1,
           1,
           2,
           1,
           1,
           1,
           1,
           1,
           1,
           1,
           1,
           1,
           1,
           1,
           1,
           1,
           1,
           2,
           2,
           2,
           1,
           1,
           2,
           2,
           1,
           1,
           2,
           1,
           1,
           1,
           1,
           1,
           1,
           2,
           2,
           1,
           1,
           2,
           2,
           1,
           1,
           2,
           2,
           1,
           1,
           1,
           1,
           1,
           1,
           1,
           1,
           1,
           1,
           1,
           1,
           1,
           1,
           0,
           2,
           0,
           2,
           0,
           0,
           2,
           0,
           0,
           2,
           2,
           2,
           0,
           0,
           1,
           2,
           0,
           0,
           0,
           2,
           0,
           0,
           2,
           2,
           0,
           0,
           0,
           0,
           0,
           2,
           2,
           0,
           0,
           0,
           0,
           0,
           2,
           2,
           0,
           2,
           0,
           2,
           0,
           0,
           0,
           2,
           0,
           0,
           0,
           0,
           2,
           0,
           0,
           2,
           0,
           0,
           0,
           0,
           0,
           0,
           0,
           2,
           0,
           0,
           0,
           0,
           0,
           0,
           0,
           0,
           0,
           2,
           0,
           0,
           2,
           2,
           2,
           2,
           0,
           0,
           0,
           2,
           2,
           0,
           0,
           2,
           2,
           0,
           2,
           2,
           0,
           0,
           0,
           0,
           2,
           2,
           2,
           0,
           2,
           2,
           2,
           0,
           2,
           0,
           2,
           2,
           0,
           2,
           2,
           2,
           2,
           0,
           0,
           2,
           2,
           2,
           2,
           2,
           0
          ]
         },
         "mode": "markers",
         "text": [
          1,
          1,
          1,
          1,
          2,
          1,
          1,
          1,
          1,
          1,
          1,
          1,
          1,
          1,
          1,
          1,
          1,
          1,
          1,
          2,
          2,
          2,
          1,
          1,
          2,
          2,
          1,
          1,
          2,
          1,
          1,
          1,
          1,
          1,
          1,
          2,
          2,
          1,
          1,
          2,
          2,
          1,
          1,
          2,
          2,
          1,
          1,
          1,
          1,
          1,
          1,
          1,
          1,
          1,
          1,
          1,
          1,
          1,
          1,
          0,
          2,
          0,
          2,
          0,
          0,
          2,
          0,
          0,
          2,
          2,
          2,
          0,
          0,
          1,
          2,
          0,
          0,
          0,
          2,
          0,
          0,
          2,
          2,
          0,
          0,
          0,
          0,
          0,
          2,
          2,
          0,
          0,
          0,
          0,
          0,
          2,
          2,
          0,
          2,
          0,
          2,
          0,
          0,
          0,
          2,
          0,
          0,
          0,
          0,
          2,
          0,
          0,
          2,
          0,
          0,
          0,
          0,
          0,
          0,
          0,
          2,
          0,
          0,
          0,
          0,
          0,
          0,
          0,
          0,
          0,
          2,
          0,
          0,
          2,
          2,
          2,
          2,
          0,
          0,
          0,
          2,
          2,
          0,
          0,
          2,
          2,
          0,
          2,
          2,
          0,
          0,
          0,
          0,
          2,
          2,
          2,
          0,
          2,
          2,
          2,
          0,
          2,
          0,
          2,
          2,
          0,
          2,
          2,
          2,
          2,
          0,
          0,
          2,
          2,
          2,
          2,
          2,
          0
         ],
         "type": "scatter3d",
         "x": [
          5.64,
          4.379999999999999,
          5.679999999999999,
          7.8,
          4.319999999999999,
          6.75,
          5.25,
          5.05,
          5.2,
          7.22,
          5.749999999999999,
          4.999999999999999,
          5.6,
          5.4,
          7.5,
          7.3,
          6.2,
          6.6,
          8.7,
          5.1,
          5.65,
          4.5,
          3.8,
          3.93,
          3.52,
          3.58,
          4.799999999999999,
          3.9499999999999997,
          4.5,
          4.7,
          5.699999999999999,
          6.9,
          3.8399999999999994,
          5.4,
          4.2,
          5.1,
          4.6,
          4.249999999999999,
          3.7,
          5.1,
          6.13,
          4.28,
          5.43,
          4.36,
          5.04,
          5.24,
          4.9,
          6.1000000000000005,
          6.2,
          8.9,
          7.2,
          5.6,
          7.05,
          6.299999999999999,
          5.85,
          6.250000000000001,
          6.380000000000001,
          6,
          6.8,
          1.95,
          3.27,
          5.749999999999999,
          3.8,
          4.449999999999999,
          2.9499999999999997,
          4.6,
          5.3,
          4.68,
          3.17,
          2.85,
          3.0500000000000003,
          3.38,
          3.74,
          3.35,
          3.21,
          3.8,
          4.6,
          2.65,
          3.4,
          2.57,
          2.5,
          3.9,
          2.2,
          4.799999999999999,
          3.0500000000000003,
          2.62,
          2.45,
          2.6,
          2.8,
          1.74,
          2.4,
          3.6,
          3.0500000000000003,
          2.15,
          3.25,
          2.6,
          2.5,
          2.9,
          4.5,
          2.3,
          3.3,
          2.45,
          2.8,
          2.06,
          2.94,
          2.7,
          3.4,
          3.3,
          2.7,
          2.65,
          2.9,
          2,
          3.8,
          3.08,
          2.9,
          1.9,
          1.95,
          2.06,
          3.4,
          1.28,
          3.25,
          6,
          2.08,
          2.6,
          2.8,
          2.76,
          3.94,
          3,
          2.12,
          2.6,
          4.1,
          5.4,
          5.699999999999999,
          4.999999999999999,
          5.45,
          7.1,
          3.8500000000000005,
          4.999999999999999,
          5.699999999999999,
          4.919999999999999,
          4.6,
          5.6,
          4.35,
          4.3999999999999995,
          8.21,
          4,
          4.9,
          7.65,
          8.42,
          9.4,
          8.6,
          10.8,
          7.1,
          10.52,
          7.6,
          7.8999999999999995,
          9.01,
          7.5,
          13,
          11.75,
          7.65,
          5.88,
          5.58,
          5.279999999999999,
          9.58,
          6.62,
          10.68,
          10.26,
          8.66,
          8.5,
          5.5,
          9.899999000000001,
          9.7,
          7.700000000000001,
          7.3,
          10.2,
          9.3,
          9.2
         ],
         "y": [
          14.23,
          13.2,
          13.16,
          14.37,
          13.24,
          14.2,
          14.39,
          14.06,
          14.83,
          13.86,
          14.1,
          14.12,
          13.75,
          14.75,
          14.38,
          13.63,
          14.3,
          13.83,
          14.19,
          13.64,
          14.06,
          12.93,
          13.71,
          12.85,
          13.5,
          13.05,
          13.39,
          13.3,
          13.87,
          14.02,
          13.73,
          13.58,
          13.68,
          13.76,
          13.51,
          13.48,
          13.28,
          13.05,
          13.07,
          14.22,
          13.56,
          13.41,
          13.88,
          13.24,
          13.05,
          14.21,
          14.38,
          13.9,
          14.1,
          13.94,
          13.05,
          13.83,
          13.82,
          13.77,
          13.74,
          13.56,
          14.22,
          13.29,
          13.72,
          12.37,
          12.33,
          12.64,
          13.67,
          12.37,
          12.17,
          12.37,
          13.11,
          12.37,
          13.34,
          12.21,
          12.29,
          13.86,
          13.49,
          12.99,
          11.96,
          11.66,
          13.03,
          11.84,
          12.33,
          12.7,
          12,
          12.72,
          12.08,
          13.05,
          11.84,
          12.67,
          12.16,
          11.65,
          11.64,
          12.08,
          12.08,
          12,
          12.69,
          12.29,
          11.62,
          12.47,
          11.81,
          12.29,
          12.37,
          12.29,
          12.08,
          12.6,
          12.34,
          11.82,
          12.51,
          12.42,
          12.25,
          12.72,
          12.22,
          11.61,
          11.46,
          12.52,
          11.76,
          11.41,
          12.08,
          11.03,
          11.82,
          12.42,
          12.77,
          12,
          11.45,
          11.56,
          12.42,
          13.05,
          11.87,
          12.07,
          12.43,
          11.79,
          12.37,
          12.04,
          12.86,
          12.88,
          12.81,
          12.7,
          12.51,
          12.6,
          12.25,
          12.53,
          13.49,
          12.84,
          12.93,
          13.36,
          13.52,
          13.62,
          12.25,
          13.16,
          13.88,
          12.87,
          13.32,
          13.08,
          13.5,
          12.79,
          13.11,
          13.23,
          12.58,
          13.17,
          13.84,
          12.45,
          14.34,
          13.48,
          12.36,
          13.69,
          12.85,
          12.96,
          13.78,
          13.73,
          13.45,
          12.82,
          13.58,
          13.4,
          12.2,
          12.77,
          14.16,
          13.71,
          13.4,
          13.27,
          13.17,
          14.13
         ],
         "z": [
          1065,
          1050,
          1185,
          1480.0000000000002,
          735,
          1450,
          1290,
          1295,
          1045,
          1045,
          1510,
          1280,
          1320,
          1150,
          1547,
          1310,
          1280,
          1130,
          1680,
          845.0000000000001,
          779.9999999999999,
          770,
          1035,
          1015,
          845.0000000000001,
          830,
          1195,
          1285,
          915.0000000000001,
          1035,
          1285,
          1515,
          989.9999999999999,
          1235,
          1095,
          919.9999999999999,
          880.0000000000001,
          1105,
          1020.0000000000001,
          760,
          795,
          1035,
          1095,
          680,
          884.9999999999999,
          1080,
          1065,
          985.0000000000001,
          1060,
          1260,
          1150,
          1265,
          1190,
          1375,
          1060,
          1120,
          970,
          1270,
          1285,
          520,
          680,
          450,
          630,
          420,
          354.99999999999994,
          677.9999999999999,
          502.00000000000006,
          510.00000000000006,
          750,
          717.9999999999999,
          870,
          410,
          472,
          985.0000000000001,
          886,
          428,
          392,
          500,
          750,
          463.00000000000006,
          278,
          714,
          630,
          515,
          520,
          450,
          494.99999999999994,
          562,
          680,
          625,
          480,
          450,
          494.99999999999994,
          290,
          345,
          937,
          625,
          428,
          660,
          406,
          709.9999999999999,
          562,
          438,
          415,
          671.9999999999999,
          315,
          510.00000000000006,
          488,
          312,
          680,
          562,
          325,
          607,
          434,
          385,
          407,
          494.99999999999994,
          345,
          372,
          564,
          625,
          465,
          365,
          380,
          380,
          378.00000000000006,
          352,
          466,
          342,
          580,
          630,
          530,
          560,
          600,
          650,
          695,
          720,
          515,
          580,
          590,
          600,
          779.9999999999999,
          520,
          550,
          855,
          830,
          415,
          625,
          650,
          550,
          500,
          480,
          424.99999999999994,
          674.9999999999999,
          639.9999999999999,
          725,
          480,
          880.0000000000001,
          660,
          620,
          520,
          680,
          570,
          674.9999999999999,
          615,
          520,
          695,
          685,
          750,
          630,
          510.00000000000006,
          470,
          660,
          740.0000000000001,
          750,
          835,
          840,
          560
         ]
        }
       ],
       "layout": {
        "template": {
         "data": {
          "bar": [
           {
            "error_x": {
             "color": "#2a3f5f"
            },
            "error_y": {
             "color": "#2a3f5f"
            },
            "marker": {
             "line": {
              "color": "#E5ECF6",
              "width": 0.5
             }
            },
            "type": "bar"
           }
          ],
          "barpolar": [
           {
            "marker": {
             "line": {
              "color": "#E5ECF6",
              "width": 0.5
             }
            },
            "type": "barpolar"
           }
          ],
          "carpet": [
           {
            "aaxis": {
             "endlinecolor": "#2a3f5f",
             "gridcolor": "white",
             "linecolor": "white",
             "minorgridcolor": "white",
             "startlinecolor": "#2a3f5f"
            },
            "baxis": {
             "endlinecolor": "#2a3f5f",
             "gridcolor": "white",
             "linecolor": "white",
             "minorgridcolor": "white",
             "startlinecolor": "#2a3f5f"
            },
            "type": "carpet"
           }
          ],
          "choropleth": [
           {
            "colorbar": {
             "outlinewidth": 0,
             "ticks": ""
            },
            "type": "choropleth"
           }
          ],
          "contour": [
           {
            "colorbar": {
             "outlinewidth": 0,
             "ticks": ""
            },
            "colorscale": [
             [
              0,
              "#0d0887"
             ],
             [
              0.1111111111111111,
              "#46039f"
             ],
             [
              0.2222222222222222,
              "#7201a8"
             ],
             [
              0.3333333333333333,
              "#9c179e"
             ],
             [
              0.4444444444444444,
              "#bd3786"
             ],
             [
              0.5555555555555556,
              "#d8576b"
             ],
             [
              0.6666666666666666,
              "#ed7953"
             ],
             [
              0.7777777777777778,
              "#fb9f3a"
             ],
             [
              0.8888888888888888,
              "#fdca26"
             ],
             [
              1,
              "#f0f921"
             ]
            ],
            "type": "contour"
           }
          ],
          "contourcarpet": [
           {
            "colorbar": {
             "outlinewidth": 0,
             "ticks": ""
            },
            "type": "contourcarpet"
           }
          ],
          "heatmap": [
           {
            "colorbar": {
             "outlinewidth": 0,
             "ticks": ""
            },
            "colorscale": [
             [
              0,
              "#0d0887"
             ],
             [
              0.1111111111111111,
              "#46039f"
             ],
             [
              0.2222222222222222,
              "#7201a8"
             ],
             [
              0.3333333333333333,
              "#9c179e"
             ],
             [
              0.4444444444444444,
              "#bd3786"
             ],
             [
              0.5555555555555556,
              "#d8576b"
             ],
             [
              0.6666666666666666,
              "#ed7953"
             ],
             [
              0.7777777777777778,
              "#fb9f3a"
             ],
             [
              0.8888888888888888,
              "#fdca26"
             ],
             [
              1,
              "#f0f921"
             ]
            ],
            "type": "heatmap"
           }
          ],
          "heatmapgl": [
           {
            "colorbar": {
             "outlinewidth": 0,
             "ticks": ""
            },
            "colorscale": [
             [
              0,
              "#0d0887"
             ],
             [
              0.1111111111111111,
              "#46039f"
             ],
             [
              0.2222222222222222,
              "#7201a8"
             ],
             [
              0.3333333333333333,
              "#9c179e"
             ],
             [
              0.4444444444444444,
              "#bd3786"
             ],
             [
              0.5555555555555556,
              "#d8576b"
             ],
             [
              0.6666666666666666,
              "#ed7953"
             ],
             [
              0.7777777777777778,
              "#fb9f3a"
             ],
             [
              0.8888888888888888,
              "#fdca26"
             ],
             [
              1,
              "#f0f921"
             ]
            ],
            "type": "heatmapgl"
           }
          ],
          "histogram": [
           {
            "marker": {
             "colorbar": {
              "outlinewidth": 0,
              "ticks": ""
             }
            },
            "type": "histogram"
           }
          ],
          "histogram2d": [
           {
            "colorbar": {
             "outlinewidth": 0,
             "ticks": ""
            },
            "colorscale": [
             [
              0,
              "#0d0887"
             ],
             [
              0.1111111111111111,
              "#46039f"
             ],
             [
              0.2222222222222222,
              "#7201a8"
             ],
             [
              0.3333333333333333,
              "#9c179e"
             ],
             [
              0.4444444444444444,
              "#bd3786"
             ],
             [
              0.5555555555555556,
              "#d8576b"
             ],
             [
              0.6666666666666666,
              "#ed7953"
             ],
             [
              0.7777777777777778,
              "#fb9f3a"
             ],
             [
              0.8888888888888888,
              "#fdca26"
             ],
             [
              1,
              "#f0f921"
             ]
            ],
            "type": "histogram2d"
           }
          ],
          "histogram2dcontour": [
           {
            "colorbar": {
             "outlinewidth": 0,
             "ticks": ""
            },
            "colorscale": [
             [
              0,
              "#0d0887"
             ],
             [
              0.1111111111111111,
              "#46039f"
             ],
             [
              0.2222222222222222,
              "#7201a8"
             ],
             [
              0.3333333333333333,
              "#9c179e"
             ],
             [
              0.4444444444444444,
              "#bd3786"
             ],
             [
              0.5555555555555556,
              "#d8576b"
             ],
             [
              0.6666666666666666,
              "#ed7953"
             ],
             [
              0.7777777777777778,
              "#fb9f3a"
             ],
             [
              0.8888888888888888,
              "#fdca26"
             ],
             [
              1,
              "#f0f921"
             ]
            ],
            "type": "histogram2dcontour"
           }
          ],
          "mesh3d": [
           {
            "colorbar": {
             "outlinewidth": 0,
             "ticks": ""
            },
            "type": "mesh3d"
           }
          ],
          "parcoords": [
           {
            "line": {
             "colorbar": {
              "outlinewidth": 0,
              "ticks": ""
             }
            },
            "type": "parcoords"
           }
          ],
          "scatter": [
           {
            "marker": {
             "colorbar": {
              "outlinewidth": 0,
              "ticks": ""
             }
            },
            "type": "scatter"
           }
          ],
          "scatter3d": [
           {
            "line": {
             "colorbar": {
              "outlinewidth": 0,
              "ticks": ""
             }
            },
            "marker": {
             "colorbar": {
              "outlinewidth": 0,
              "ticks": ""
             }
            },
            "type": "scatter3d"
           }
          ],
          "scattercarpet": [
           {
            "marker": {
             "colorbar": {
              "outlinewidth": 0,
              "ticks": ""
             }
            },
            "type": "scattercarpet"
           }
          ],
          "scattergeo": [
           {
            "marker": {
             "colorbar": {
              "outlinewidth": 0,
              "ticks": ""
             }
            },
            "type": "scattergeo"
           }
          ],
          "scattergl": [
           {
            "marker": {
             "colorbar": {
              "outlinewidth": 0,
              "ticks": ""
             }
            },
            "type": "scattergl"
           }
          ],
          "scattermapbox": [
           {
            "marker": {
             "colorbar": {
              "outlinewidth": 0,
              "ticks": ""
             }
            },
            "type": "scattermapbox"
           }
          ],
          "scatterpolar": [
           {
            "marker": {
             "colorbar": {
              "outlinewidth": 0,
              "ticks": ""
             }
            },
            "type": "scatterpolar"
           }
          ],
          "scatterpolargl": [
           {
            "marker": {
             "colorbar": {
              "outlinewidth": 0,
              "ticks": ""
             }
            },
            "type": "scatterpolargl"
           }
          ],
          "scatterternary": [
           {
            "marker": {
             "colorbar": {
              "outlinewidth": 0,
              "ticks": ""
             }
            },
            "type": "scatterternary"
           }
          ],
          "surface": [
           {
            "colorbar": {
             "outlinewidth": 0,
             "ticks": ""
            },
            "colorscale": [
             [
              0,
              "#0d0887"
             ],
             [
              0.1111111111111111,
              "#46039f"
             ],
             [
              0.2222222222222222,
              "#7201a8"
             ],
             [
              0.3333333333333333,
              "#9c179e"
             ],
             [
              0.4444444444444444,
              "#bd3786"
             ],
             [
              0.5555555555555556,
              "#d8576b"
             ],
             [
              0.6666666666666666,
              "#ed7953"
             ],
             [
              0.7777777777777778,
              "#fb9f3a"
             ],
             [
              0.8888888888888888,
              "#fdca26"
             ],
             [
              1,
              "#f0f921"
             ]
            ],
            "type": "surface"
           }
          ],
          "table": [
           {
            "cells": {
             "fill": {
              "color": "#EBF0F8"
             },
             "line": {
              "color": "white"
             }
            },
            "header": {
             "fill": {
              "color": "#C8D4E3"
             },
             "line": {
              "color": "white"
             }
            },
            "type": "table"
           }
          ]
         },
         "layout": {
          "annotationdefaults": {
           "arrowcolor": "#2a3f5f",
           "arrowhead": 0,
           "arrowwidth": 1
          },
          "colorscale": {
           "diverging": [
            [
             0,
             "#8e0152"
            ],
            [
             0.1,
             "#c51b7d"
            ],
            [
             0.2,
             "#de77ae"
            ],
            [
             0.3,
             "#f1b6da"
            ],
            [
             0.4,
             "#fde0ef"
            ],
            [
             0.5,
             "#f7f7f7"
            ],
            [
             0.6,
             "#e6f5d0"
            ],
            [
             0.7,
             "#b8e186"
            ],
            [
             0.8,
             "#7fbc41"
            ],
            [
             0.9,
             "#4d9221"
            ],
            [
             1,
             "#276419"
            ]
           ],
           "sequential": [
            [
             0,
             "#0d0887"
            ],
            [
             0.1111111111111111,
             "#46039f"
            ],
            [
             0.2222222222222222,
             "#7201a8"
            ],
            [
             0.3333333333333333,
             "#9c179e"
            ],
            [
             0.4444444444444444,
             "#bd3786"
            ],
            [
             0.5555555555555556,
             "#d8576b"
            ],
            [
             0.6666666666666666,
             "#ed7953"
            ],
            [
             0.7777777777777778,
             "#fb9f3a"
            ],
            [
             0.8888888888888888,
             "#fdca26"
            ],
            [
             1,
             "#f0f921"
            ]
           ],
           "sequentialminus": [
            [
             0,
             "#0d0887"
            ],
            [
             0.1111111111111111,
             "#46039f"
            ],
            [
             0.2222222222222222,
             "#7201a8"
            ],
            [
             0.3333333333333333,
             "#9c179e"
            ],
            [
             0.4444444444444444,
             "#bd3786"
            ],
            [
             0.5555555555555556,
             "#d8576b"
            ],
            [
             0.6666666666666666,
             "#ed7953"
            ],
            [
             0.7777777777777778,
             "#fb9f3a"
            ],
            [
             0.8888888888888888,
             "#fdca26"
            ],
            [
             1,
             "#f0f921"
            ]
           ]
          },
          "colorway": [
           "#636efa",
           "#EF553B",
           "#00cc96",
           "#ab63fa",
           "#FFA15A",
           "#19d3f3",
           "#FF6692",
           "#B6E880",
           "#FF97FF",
           "#FECB52"
          ],
          "font": {
           "color": "#2a3f5f"
          },
          "geo": {
           "bgcolor": "white",
           "lakecolor": "white",
           "landcolor": "#E5ECF6",
           "showlakes": true,
           "showland": true,
           "subunitcolor": "white"
          },
          "hoverlabel": {
           "align": "left"
          },
          "hovermode": "closest",
          "mapbox": {
           "style": "light"
          },
          "paper_bgcolor": "white",
          "plot_bgcolor": "#E5ECF6",
          "polar": {
           "angularaxis": {
            "gridcolor": "white",
            "linecolor": "white",
            "ticks": ""
           },
           "bgcolor": "#E5ECF6",
           "radialaxis": {
            "gridcolor": "white",
            "linecolor": "white",
            "ticks": ""
           }
          },
          "scene": {
           "xaxis": {
            "backgroundcolor": "#E5ECF6",
            "gridcolor": "white",
            "gridwidth": 2,
            "linecolor": "white",
            "showbackground": true,
            "ticks": "",
            "zerolinecolor": "white"
           },
           "yaxis": {
            "backgroundcolor": "#E5ECF6",
            "gridcolor": "white",
            "gridwidth": 2,
            "linecolor": "white",
            "showbackground": true,
            "ticks": "",
            "zerolinecolor": "white"
           },
           "zaxis": {
            "backgroundcolor": "#E5ECF6",
            "gridcolor": "white",
            "gridwidth": 2,
            "linecolor": "white",
            "showbackground": true,
            "ticks": "",
            "zerolinecolor": "white"
           }
          },
          "shapedefaults": {
           "line": {
            "color": "#2a3f5f"
           }
          },
          "ternary": {
           "aaxis": {
            "gridcolor": "white",
            "linecolor": "white",
            "ticks": ""
           },
           "baxis": {
            "gridcolor": "white",
            "linecolor": "white",
            "ticks": ""
           },
           "bgcolor": "#E5ECF6",
           "caxis": {
            "gridcolor": "white",
            "linecolor": "white",
            "ticks": ""
           }
          },
          "title": {
           "x": 0.05
          },
          "xaxis": {
           "automargin": true,
           "gridcolor": "white",
           "linecolor": "white",
           "ticks": "",
           "zerolinecolor": "white",
           "zerolinewidth": 2
          },
          "yaxis": {
           "automargin": true,
           "gridcolor": "white",
           "linecolor": "white",
           "ticks": "",
           "zerolinecolor": "white",
           "zerolinewidth": 2
          }
         }
        }
       }
      }
     },
     "metadata": {}
    }
   ],
   "source": [
    "\n",
    "fig=go.Figure()\n",
    "fig.add_trace(go.Scatter3d(x=df['Intensidade_de_cor'],y=df['Alcool'],z=df['Proline'],\n",
    "                        mode='markers',\n",
    "                        marker=dict(color=clusters.labels_.astype(np.float)),\n",
    "                        text=labels))\n",
    "fig.show()"
   ]
  },
  {
   "cell_type": "code",
   "execution_count": 16,
   "metadata": {},
   "outputs": [
    {
     "output_type": "display_data",
     "data": {
      "application/vnd.plotly.v1+json": {
       "config": {
        "plotlyServerURL": "https://plot.ly"
       },
       "data": [
        {
         "marker": {
          "color": [
           1,
           1,
           1,
           1,
           2,
           1,
           1,
           1,
           1,
           1,
           1,
           1,
           1,
           1,
           1,
           1,
           1,
           1,
           1,
           2,
           2,
           2,
           1,
           1,
           2,
           2,
           1,
           1,
           2,
           1,
           1,
           1,
           1,
           1,
           1,
           2,
           2,
           1,
           1,
           2,
           2,
           1,
           1,
           2,
           2,
           1,
           1,
           1,
           1,
           1,
           1,
           1,
           1,
           1,
           1,
           1,
           1,
           1,
           1,
           0,
           2,
           0,
           2,
           0,
           0,
           2,
           0,
           0,
           2,
           2,
           2,
           0,
           0,
           1,
           2,
           0,
           0,
           0,
           2,
           0,
           0,
           2,
           2,
           0,
           0,
           0,
           0,
           0,
           2,
           2,
           0,
           0,
           0,
           0,
           0,
           2,
           2,
           0,
           2,
           0,
           2,
           0,
           0,
           0,
           2,
           0,
           0,
           0,
           0,
           2,
           0,
           0,
           2,
           0,
           0,
           0,
           0,
           0,
           0,
           0,
           2,
           0,
           0,
           0,
           0,
           0,
           0,
           0,
           0,
           0,
           2,
           0,
           0,
           2,
           2,
           2,
           2,
           0,
           0,
           0,
           2,
           2,
           0,
           0,
           2,
           2,
           0,
           2,
           2,
           0,
           0,
           0,
           0,
           2,
           2,
           2,
           0,
           2,
           2,
           2,
           0,
           2,
           0,
           2,
           2,
           0,
           2,
           2,
           2,
           2,
           0,
           0,
           2,
           2,
           2,
           2,
           2,
           0
          ]
         },
         "mode": "markers",
         "text": [
          1,
          1,
          1,
          1,
          2,
          1,
          1,
          1,
          1,
          1,
          1,
          1,
          1,
          1,
          1,
          1,
          1,
          1,
          1,
          2,
          2,
          2,
          1,
          1,
          2,
          2,
          1,
          1,
          2,
          1,
          1,
          1,
          1,
          1,
          1,
          2,
          2,
          1,
          1,
          2,
          2,
          1,
          1,
          2,
          2,
          1,
          1,
          1,
          1,
          1,
          1,
          1,
          1,
          1,
          1,
          1,
          1,
          1,
          1,
          0,
          2,
          0,
          2,
          0,
          0,
          2,
          0,
          0,
          2,
          2,
          2,
          0,
          0,
          1,
          2,
          0,
          0,
          0,
          2,
          0,
          0,
          2,
          2,
          0,
          0,
          0,
          0,
          0,
          2,
          2,
          0,
          0,
          0,
          0,
          0,
          2,
          2,
          0,
          2,
          0,
          2,
          0,
          0,
          0,
          2,
          0,
          0,
          0,
          0,
          2,
          0,
          0,
          2,
          0,
          0,
          0,
          0,
          0,
          0,
          0,
          2,
          0,
          0,
          0,
          0,
          0,
          0,
          0,
          0,
          0,
          2,
          0,
          0,
          2,
          2,
          2,
          2,
          0,
          0,
          0,
          2,
          2,
          0,
          0,
          2,
          2,
          0,
          2,
          2,
          0,
          0,
          0,
          0,
          2,
          2,
          2,
          0,
          2,
          2,
          2,
          0,
          2,
          0,
          2,
          2,
          0,
          2,
          2,
          2,
          2,
          0,
          0,
          2,
          2,
          2,
          2,
          2,
          0
         ],
         "type": "scatter3d",
         "x": [
          5.64,
          4.379999999999999,
          5.679999999999999,
          7.8,
          4.319999999999999,
          6.75,
          5.25,
          5.05,
          5.2,
          7.22,
          5.749999999999999,
          4.999999999999999,
          5.6,
          5.4,
          7.5,
          7.3,
          6.2,
          6.6,
          8.7,
          5.1,
          5.65,
          4.5,
          3.8,
          3.93,
          3.52,
          3.58,
          4.799999999999999,
          3.9499999999999997,
          4.5,
          4.7,
          5.699999999999999,
          6.9,
          3.8399999999999994,
          5.4,
          4.2,
          5.1,
          4.6,
          4.249999999999999,
          3.7,
          5.1,
          6.13,
          4.28,
          5.43,
          4.36,
          5.04,
          5.24,
          4.9,
          6.1000000000000005,
          6.2,
          8.9,
          7.2,
          5.6,
          7.05,
          6.299999999999999,
          5.85,
          6.250000000000001,
          6.380000000000001,
          6,
          6.8,
          1.95,
          3.27,
          5.749999999999999,
          3.8,
          4.449999999999999,
          2.9499999999999997,
          4.6,
          5.3,
          4.68,
          3.17,
          2.85,
          3.0500000000000003,
          3.38,
          3.74,
          3.35,
          3.21,
          3.8,
          4.6,
          2.65,
          3.4,
          2.57,
          2.5,
          3.9,
          2.2,
          4.799999999999999,
          3.0500000000000003,
          2.62,
          2.45,
          2.6,
          2.8,
          1.74,
          2.4,
          3.6,
          3.0500000000000003,
          2.15,
          3.25,
          2.6,
          2.5,
          2.9,
          4.5,
          2.3,
          3.3,
          2.45,
          2.8,
          2.06,
          2.94,
          2.7,
          3.4,
          3.3,
          2.7,
          2.65,
          2.9,
          2,
          3.8,
          3.08,
          2.9,
          1.9,
          1.95,
          2.06,
          3.4,
          1.28,
          3.25,
          6,
          2.08,
          2.6,
          2.8,
          2.76,
          3.94,
          3,
          2.12,
          2.6,
          4.1,
          5.4,
          5.699999999999999,
          4.999999999999999,
          5.45,
          7.1,
          3.8500000000000005,
          4.999999999999999,
          5.699999999999999,
          4.919999999999999,
          4.6,
          5.6,
          4.35,
          4.3999999999999995,
          8.21,
          4,
          4.9,
          7.65,
          8.42,
          9.4,
          8.6,
          10.8,
          7.1,
          10.52,
          7.6,
          7.8999999999999995,
          9.01,
          7.5,
          13,
          11.75,
          7.65,
          5.88,
          5.58,
          5.279999999999999,
          9.58,
          6.62,
          10.68,
          10.26,
          8.66,
          8.5,
          5.5,
          9.899999000000001,
          9.7,
          7.700000000000001,
          7.3,
          10.2,
          9.3,
          9.2
         ],
         "y": [
          14.23,
          13.2,
          13.16,
          14.37,
          13.24,
          14.2,
          14.39,
          14.06,
          14.83,
          13.86,
          14.1,
          14.12,
          13.75,
          14.75,
          14.38,
          13.63,
          14.3,
          13.83,
          14.19,
          13.64,
          14.06,
          12.93,
          13.71,
          12.85,
          13.5,
          13.05,
          13.39,
          13.3,
          13.87,
          14.02,
          13.73,
          13.58,
          13.68,
          13.76,
          13.51,
          13.48,
          13.28,
          13.05,
          13.07,
          14.22,
          13.56,
          13.41,
          13.88,
          13.24,
          13.05,
          14.21,
          14.38,
          13.9,
          14.1,
          13.94,
          13.05,
          13.83,
          13.82,
          13.77,
          13.74,
          13.56,
          14.22,
          13.29,
          13.72,
          12.37,
          12.33,
          12.64,
          13.67,
          12.37,
          12.17,
          12.37,
          13.11,
          12.37,
          13.34,
          12.21,
          12.29,
          13.86,
          13.49,
          12.99,
          11.96,
          11.66,
          13.03,
          11.84,
          12.33,
          12.7,
          12,
          12.72,
          12.08,
          13.05,
          11.84,
          12.67,
          12.16,
          11.65,
          11.64,
          12.08,
          12.08,
          12,
          12.69,
          12.29,
          11.62,
          12.47,
          11.81,
          12.29,
          12.37,
          12.29,
          12.08,
          12.6,
          12.34,
          11.82,
          12.51,
          12.42,
          12.25,
          12.72,
          12.22,
          11.61,
          11.46,
          12.52,
          11.76,
          11.41,
          12.08,
          11.03,
          11.82,
          12.42,
          12.77,
          12,
          11.45,
          11.56,
          12.42,
          13.05,
          11.87,
          12.07,
          12.43,
          11.79,
          12.37,
          12.04,
          12.86,
          12.88,
          12.81,
          12.7,
          12.51,
          12.6,
          12.25,
          12.53,
          13.49,
          12.84,
          12.93,
          13.36,
          13.52,
          13.62,
          12.25,
          13.16,
          13.88,
          12.87,
          13.32,
          13.08,
          13.5,
          12.79,
          13.11,
          13.23,
          12.58,
          13.17,
          13.84,
          12.45,
          14.34,
          13.48,
          12.36,
          13.69,
          12.85,
          12.96,
          13.78,
          13.73,
          13.45,
          12.82,
          13.58,
          13.4,
          12.2,
          12.77,
          14.16,
          13.71,
          13.4,
          13.27,
          13.17,
          14.13
         ],
         "z": [
          1065,
          1050,
          1185,
          1480.0000000000002,
          735,
          1450,
          1290,
          1295,
          1045,
          1045,
          1510,
          1280,
          1320,
          1150,
          1547,
          1310,
          1280,
          1130,
          1680,
          845.0000000000001,
          779.9999999999999,
          770,
          1035,
          1015,
          845.0000000000001,
          830,
          1195,
          1285,
          915.0000000000001,
          1035,
          1285,
          1515,
          989.9999999999999,
          1235,
          1095,
          919.9999999999999,
          880.0000000000001,
          1105,
          1020.0000000000001,
          760,
          795,
          1035,
          1095,
          680,
          884.9999999999999,
          1080,
          1065,
          985.0000000000001,
          1060,
          1260,
          1150,
          1265,
          1190,
          1375,
          1060,
          1120,
          970,
          1270,
          1285,
          520,
          680,
          450,
          630,
          420,
          354.99999999999994,
          677.9999999999999,
          502.00000000000006,
          510.00000000000006,
          750,
          717.9999999999999,
          870,
          410,
          472,
          985.0000000000001,
          886,
          428,
          392,
          500,
          750,
          463.00000000000006,
          278,
          714,
          630,
          515,
          520,
          450,
          494.99999999999994,
          562,
          680,
          625,
          480,
          450,
          494.99999999999994,
          290,
          345,
          937,
          625,
          428,
          660,
          406,
          709.9999999999999,
          562,
          438,
          415,
          671.9999999999999,
          315,
          510.00000000000006,
          488,
          312,
          680,
          562,
          325,
          607,
          434,
          385,
          407,
          494.99999999999994,
          345,
          372,
          564,
          625,
          465,
          365,
          380,
          380,
          378.00000000000006,
          352,
          466,
          342,
          580,
          630,
          530,
          560,
          600,
          650,
          695,
          720,
          515,
          580,
          590,
          600,
          779.9999999999999,
          520,
          550,
          855,
          830,
          415,
          625,
          650,
          550,
          500,
          480,
          424.99999999999994,
          674.9999999999999,
          639.9999999999999,
          725,
          480,
          880.0000000000001,
          660,
          620,
          520,
          680,
          570,
          674.9999999999999,
          615,
          520,
          695,
          685,
          750,
          630,
          510.00000000000006,
          470,
          660,
          740.0000000000001,
          750,
          835,
          840,
          560
         ]
        }
       ],
       "layout": {
        "scene": {
         "xaxis": {
          "title": {
           "text": "Intesidade de cor"
          }
         },
         "yaxis": {
          "title": {
           "text": "Alcool"
          }
         },
         "zaxis": {
          "title": {
           "text": "Proline"
          }
         }
        },
        "template": {
         "data": {
          "bar": [
           {
            "error_x": {
             "color": "#2a3f5f"
            },
            "error_y": {
             "color": "#2a3f5f"
            },
            "marker": {
             "line": {
              "color": "#E5ECF6",
              "width": 0.5
             }
            },
            "type": "bar"
           }
          ],
          "barpolar": [
           {
            "marker": {
             "line": {
              "color": "#E5ECF6",
              "width": 0.5
             }
            },
            "type": "barpolar"
           }
          ],
          "carpet": [
           {
            "aaxis": {
             "endlinecolor": "#2a3f5f",
             "gridcolor": "white",
             "linecolor": "white",
             "minorgridcolor": "white",
             "startlinecolor": "#2a3f5f"
            },
            "baxis": {
             "endlinecolor": "#2a3f5f",
             "gridcolor": "white",
             "linecolor": "white",
             "minorgridcolor": "white",
             "startlinecolor": "#2a3f5f"
            },
            "type": "carpet"
           }
          ],
          "choropleth": [
           {
            "colorbar": {
             "outlinewidth": 0,
             "ticks": ""
            },
            "type": "choropleth"
           }
          ],
          "contour": [
           {
            "colorbar": {
             "outlinewidth": 0,
             "ticks": ""
            },
            "colorscale": [
             [
              0,
              "#0d0887"
             ],
             [
              0.1111111111111111,
              "#46039f"
             ],
             [
              0.2222222222222222,
              "#7201a8"
             ],
             [
              0.3333333333333333,
              "#9c179e"
             ],
             [
              0.4444444444444444,
              "#bd3786"
             ],
             [
              0.5555555555555556,
              "#d8576b"
             ],
             [
              0.6666666666666666,
              "#ed7953"
             ],
             [
              0.7777777777777778,
              "#fb9f3a"
             ],
             [
              0.8888888888888888,
              "#fdca26"
             ],
             [
              1,
              "#f0f921"
             ]
            ],
            "type": "contour"
           }
          ],
          "contourcarpet": [
           {
            "colorbar": {
             "outlinewidth": 0,
             "ticks": ""
            },
            "type": "contourcarpet"
           }
          ],
          "heatmap": [
           {
            "colorbar": {
             "outlinewidth": 0,
             "ticks": ""
            },
            "colorscale": [
             [
              0,
              "#0d0887"
             ],
             [
              0.1111111111111111,
              "#46039f"
             ],
             [
              0.2222222222222222,
              "#7201a8"
             ],
             [
              0.3333333333333333,
              "#9c179e"
             ],
             [
              0.4444444444444444,
              "#bd3786"
             ],
             [
              0.5555555555555556,
              "#d8576b"
             ],
             [
              0.6666666666666666,
              "#ed7953"
             ],
             [
              0.7777777777777778,
              "#fb9f3a"
             ],
             [
              0.8888888888888888,
              "#fdca26"
             ],
             [
              1,
              "#f0f921"
             ]
            ],
            "type": "heatmap"
           }
          ],
          "heatmapgl": [
           {
            "colorbar": {
             "outlinewidth": 0,
             "ticks": ""
            },
            "colorscale": [
             [
              0,
              "#0d0887"
             ],
             [
              0.1111111111111111,
              "#46039f"
             ],
             [
              0.2222222222222222,
              "#7201a8"
             ],
             [
              0.3333333333333333,
              "#9c179e"
             ],
             [
              0.4444444444444444,
              "#bd3786"
             ],
             [
              0.5555555555555556,
              "#d8576b"
             ],
             [
              0.6666666666666666,
              "#ed7953"
             ],
             [
              0.7777777777777778,
              "#fb9f3a"
             ],
             [
              0.8888888888888888,
              "#fdca26"
             ],
             [
              1,
              "#f0f921"
             ]
            ],
            "type": "heatmapgl"
           }
          ],
          "histogram": [
           {
            "marker": {
             "colorbar": {
              "outlinewidth": 0,
              "ticks": ""
             }
            },
            "type": "histogram"
           }
          ],
          "histogram2d": [
           {
            "colorbar": {
             "outlinewidth": 0,
             "ticks": ""
            },
            "colorscale": [
             [
              0,
              "#0d0887"
             ],
             [
              0.1111111111111111,
              "#46039f"
             ],
             [
              0.2222222222222222,
              "#7201a8"
             ],
             [
              0.3333333333333333,
              "#9c179e"
             ],
             [
              0.4444444444444444,
              "#bd3786"
             ],
             [
              0.5555555555555556,
              "#d8576b"
             ],
             [
              0.6666666666666666,
              "#ed7953"
             ],
             [
              0.7777777777777778,
              "#fb9f3a"
             ],
             [
              0.8888888888888888,
              "#fdca26"
             ],
             [
              1,
              "#f0f921"
             ]
            ],
            "type": "histogram2d"
           }
          ],
          "histogram2dcontour": [
           {
            "colorbar": {
             "outlinewidth": 0,
             "ticks": ""
            },
            "colorscale": [
             [
              0,
              "#0d0887"
             ],
             [
              0.1111111111111111,
              "#46039f"
             ],
             [
              0.2222222222222222,
              "#7201a8"
             ],
             [
              0.3333333333333333,
              "#9c179e"
             ],
             [
              0.4444444444444444,
              "#bd3786"
             ],
             [
              0.5555555555555556,
              "#d8576b"
             ],
             [
              0.6666666666666666,
              "#ed7953"
             ],
             [
              0.7777777777777778,
              "#fb9f3a"
             ],
             [
              0.8888888888888888,
              "#fdca26"
             ],
             [
              1,
              "#f0f921"
             ]
            ],
            "type": "histogram2dcontour"
           }
          ],
          "mesh3d": [
           {
            "colorbar": {
             "outlinewidth": 0,
             "ticks": ""
            },
            "type": "mesh3d"
           }
          ],
          "parcoords": [
           {
            "line": {
             "colorbar": {
              "outlinewidth": 0,
              "ticks": ""
             }
            },
            "type": "parcoords"
           }
          ],
          "scatter": [
           {
            "marker": {
             "colorbar": {
              "outlinewidth": 0,
              "ticks": ""
             }
            },
            "type": "scatter"
           }
          ],
          "scatter3d": [
           {
            "line": {
             "colorbar": {
              "outlinewidth": 0,
              "ticks": ""
             }
            },
            "marker": {
             "colorbar": {
              "outlinewidth": 0,
              "ticks": ""
             }
            },
            "type": "scatter3d"
           }
          ],
          "scattercarpet": [
           {
            "marker": {
             "colorbar": {
              "outlinewidth": 0,
              "ticks": ""
             }
            },
            "type": "scattercarpet"
           }
          ],
          "scattergeo": [
           {
            "marker": {
             "colorbar": {
              "outlinewidth": 0,
              "ticks": ""
             }
            },
            "type": "scattergeo"
           }
          ],
          "scattergl": [
           {
            "marker": {
             "colorbar": {
              "outlinewidth": 0,
              "ticks": ""
             }
            },
            "type": "scattergl"
           }
          ],
          "scattermapbox": [
           {
            "marker": {
             "colorbar": {
              "outlinewidth": 0,
              "ticks": ""
             }
            },
            "type": "scattermapbox"
           }
          ],
          "scatterpolar": [
           {
            "marker": {
             "colorbar": {
              "outlinewidth": 0,
              "ticks": ""
             }
            },
            "type": "scatterpolar"
           }
          ],
          "scatterpolargl": [
           {
            "marker": {
             "colorbar": {
              "outlinewidth": 0,
              "ticks": ""
             }
            },
            "type": "scatterpolargl"
           }
          ],
          "scatterternary": [
           {
            "marker": {
             "colorbar": {
              "outlinewidth": 0,
              "ticks": ""
             }
            },
            "type": "scatterternary"
           }
          ],
          "surface": [
           {
            "colorbar": {
             "outlinewidth": 0,
             "ticks": ""
            },
            "colorscale": [
             [
              0,
              "#0d0887"
             ],
             [
              0.1111111111111111,
              "#46039f"
             ],
             [
              0.2222222222222222,
              "#7201a8"
             ],
             [
              0.3333333333333333,
              "#9c179e"
             ],
             [
              0.4444444444444444,
              "#bd3786"
             ],
             [
              0.5555555555555556,
              "#d8576b"
             ],
             [
              0.6666666666666666,
              "#ed7953"
             ],
             [
              0.7777777777777778,
              "#fb9f3a"
             ],
             [
              0.8888888888888888,
              "#fdca26"
             ],
             [
              1,
              "#f0f921"
             ]
            ],
            "type": "surface"
           }
          ],
          "table": [
           {
            "cells": {
             "fill": {
              "color": "#EBF0F8"
             },
             "line": {
              "color": "white"
             }
            },
            "header": {
             "fill": {
              "color": "#C8D4E3"
             },
             "line": {
              "color": "white"
             }
            },
            "type": "table"
           }
          ]
         },
         "layout": {
          "annotationdefaults": {
           "arrowcolor": "#2a3f5f",
           "arrowhead": 0,
           "arrowwidth": 1
          },
          "colorscale": {
           "diverging": [
            [
             0,
             "#8e0152"
            ],
            [
             0.1,
             "#c51b7d"
            ],
            [
             0.2,
             "#de77ae"
            ],
            [
             0.3,
             "#f1b6da"
            ],
            [
             0.4,
             "#fde0ef"
            ],
            [
             0.5,
             "#f7f7f7"
            ],
            [
             0.6,
             "#e6f5d0"
            ],
            [
             0.7,
             "#b8e186"
            ],
            [
             0.8,
             "#7fbc41"
            ],
            [
             0.9,
             "#4d9221"
            ],
            [
             1,
             "#276419"
            ]
           ],
           "sequential": [
            [
             0,
             "#0d0887"
            ],
            [
             0.1111111111111111,
             "#46039f"
            ],
            [
             0.2222222222222222,
             "#7201a8"
            ],
            [
             0.3333333333333333,
             "#9c179e"
            ],
            [
             0.4444444444444444,
             "#bd3786"
            ],
            [
             0.5555555555555556,
             "#d8576b"
            ],
            [
             0.6666666666666666,
             "#ed7953"
            ],
            [
             0.7777777777777778,
             "#fb9f3a"
            ],
            [
             0.8888888888888888,
             "#fdca26"
            ],
            [
             1,
             "#f0f921"
            ]
           ],
           "sequentialminus": [
            [
             0,
             "#0d0887"
            ],
            [
             0.1111111111111111,
             "#46039f"
            ],
            [
             0.2222222222222222,
             "#7201a8"
            ],
            [
             0.3333333333333333,
             "#9c179e"
            ],
            [
             0.4444444444444444,
             "#bd3786"
            ],
            [
             0.5555555555555556,
             "#d8576b"
            ],
            [
             0.6666666666666666,
             "#ed7953"
            ],
            [
             0.7777777777777778,
             "#fb9f3a"
            ],
            [
             0.8888888888888888,
             "#fdca26"
            ],
            [
             1,
             "#f0f921"
            ]
           ]
          },
          "colorway": [
           "#636efa",
           "#EF553B",
           "#00cc96",
           "#ab63fa",
           "#FFA15A",
           "#19d3f3",
           "#FF6692",
           "#B6E880",
           "#FF97FF",
           "#FECB52"
          ],
          "font": {
           "color": "#2a3f5f"
          },
          "geo": {
           "bgcolor": "white",
           "lakecolor": "white",
           "landcolor": "#E5ECF6",
           "showlakes": true,
           "showland": true,
           "subunitcolor": "white"
          },
          "hoverlabel": {
           "align": "left"
          },
          "hovermode": "closest",
          "mapbox": {
           "style": "light"
          },
          "paper_bgcolor": "white",
          "plot_bgcolor": "#E5ECF6",
          "polar": {
           "angularaxis": {
            "gridcolor": "white",
            "linecolor": "white",
            "ticks": ""
           },
           "bgcolor": "#E5ECF6",
           "radialaxis": {
            "gridcolor": "white",
            "linecolor": "white",
            "ticks": ""
           }
          },
          "scene": {
           "xaxis": {
            "backgroundcolor": "#E5ECF6",
            "gridcolor": "white",
            "gridwidth": 2,
            "linecolor": "white",
            "showbackground": true,
            "ticks": "",
            "zerolinecolor": "white"
           },
           "yaxis": {
            "backgroundcolor": "#E5ECF6",
            "gridcolor": "white",
            "gridwidth": 2,
            "linecolor": "white",
            "showbackground": true,
            "ticks": "",
            "zerolinecolor": "white"
           },
           "zaxis": {
            "backgroundcolor": "#E5ECF6",
            "gridcolor": "white",
            "gridwidth": 2,
            "linecolor": "white",
            "showbackground": true,
            "ticks": "",
            "zerolinecolor": "white"
           }
          },
          "shapedefaults": {
           "line": {
            "color": "#2a3f5f"
           }
          },
          "ternary": {
           "aaxis": {
            "gridcolor": "white",
            "linecolor": "white",
            "ticks": ""
           },
           "baxis": {
            "gridcolor": "white",
            "linecolor": "white",
            "ticks": ""
           },
           "bgcolor": "#E5ECF6",
           "caxis": {
            "gridcolor": "white",
            "linecolor": "white",
            "ticks": ""
           }
          },
          "title": {
           "x": 0.05
          },
          "xaxis": {
           "automargin": true,
           "gridcolor": "white",
           "linecolor": "white",
           "ticks": "",
           "zerolinecolor": "white",
           "zerolinewidth": 2
          },
          "yaxis": {
           "automargin": true,
           "gridcolor": "white",
           "linecolor": "white",
           "ticks": "",
           "zerolinecolor": "white",
           "zerolinewidth": 2
          }
         }
        }
       }
      }
     },
     "metadata": {}
    }
   ],
   "source": [
    "fig.update_layout(scene=dict(xaxis_title='Intesidade de cor',\n",
    "                             yaxis_title='Alcool',\n",
    "                             zaxis_title='Proline'   ))"
   ]
  },
  {
   "cell_type": "code",
   "execution_count": 17,
   "metadata": {},
   "outputs": [
    {
     "output_type": "execute_result",
     "data": {
      "text/plain": [
       "      Alcool  Malic_Acid        Po  Alcalinidade_po    Magnesio  \\\n",
       "0  12.516667    2.494203  2.288551        20.823188   92.347826   \n",
       "1  13.804468    1.883404  2.426170        17.023404  105.510638   \n",
       "2  12.929839    2.504032  2.408065        19.890323  103.596774   \n",
       "\n",
       "   Total_Phenols  Flavanoids  Nonflavanoid_Phenols  Proanthocyanins  \\\n",
       "0       2.070725    1.758406              0.390145         1.451884   \n",
       "1       2.867234    3.014255              0.285319         1.910426   \n",
       "2       2.111129    1.584032              0.388387         1.503387   \n",
       "\n",
       "   Intensidade_de_cor       Hue     OD280      Proline  Customer_Segment  \n",
       "0            4.086957  0.941159  2.490725   458.231884          2.275362  \n",
       "1            5.702553  1.078298  3.114043  1195.148936          1.021277  \n",
       "2            5.650323  0.883968  2.365484   728.338710          2.258065  "
      ],
      "text/html": "<div>\n<style scoped>\n    .dataframe tbody tr th:only-of-type {\n        vertical-align: middle;\n    }\n\n    .dataframe tbody tr th {\n        vertical-align: top;\n    }\n\n    .dataframe thead th {\n        text-align: right;\n    }\n</style>\n<table border=\"1\" class=\"dataframe\">\n  <thead>\n    <tr style=\"text-align: right;\">\n      <th></th>\n      <th>Alcool</th>\n      <th>Malic_Acid</th>\n      <th>Po</th>\n      <th>Alcalinidade_po</th>\n      <th>Magnesio</th>\n      <th>Total_Phenols</th>\n      <th>Flavanoids</th>\n      <th>Nonflavanoid_Phenols</th>\n      <th>Proanthocyanins</th>\n      <th>Intensidade_de_cor</th>\n      <th>Hue</th>\n      <th>OD280</th>\n      <th>Proline</th>\n      <th>Customer_Segment</th>\n    </tr>\n  </thead>\n  <tbody>\n    <tr>\n      <th>0</th>\n      <td>12.516667</td>\n      <td>2.494203</td>\n      <td>2.288551</td>\n      <td>20.823188</td>\n      <td>92.347826</td>\n      <td>2.070725</td>\n      <td>1.758406</td>\n      <td>0.390145</td>\n      <td>1.451884</td>\n      <td>4.086957</td>\n      <td>0.941159</td>\n      <td>2.490725</td>\n      <td>458.231884</td>\n      <td>2.275362</td>\n    </tr>\n    <tr>\n      <th>1</th>\n      <td>13.804468</td>\n      <td>1.883404</td>\n      <td>2.426170</td>\n      <td>17.023404</td>\n      <td>105.510638</td>\n      <td>2.867234</td>\n      <td>3.014255</td>\n      <td>0.285319</td>\n      <td>1.910426</td>\n      <td>5.702553</td>\n      <td>1.078298</td>\n      <td>3.114043</td>\n      <td>1195.148936</td>\n      <td>1.021277</td>\n    </tr>\n    <tr>\n      <th>2</th>\n      <td>12.929839</td>\n      <td>2.504032</td>\n      <td>2.408065</td>\n      <td>19.890323</td>\n      <td>103.596774</td>\n      <td>2.111129</td>\n      <td>1.584032</td>\n      <td>0.388387</td>\n      <td>1.503387</td>\n      <td>5.650323</td>\n      <td>0.883968</td>\n      <td>2.365484</td>\n      <td>728.338710</td>\n      <td>2.258065</td>\n    </tr>\n  </tbody>\n</table>\n</div>"
     },
     "metadata": {},
     "execution_count": 17
    }
   ],
   "source": [
    "centros=pd.DataFrame(clusters.cluster_centers_)\n",
    "centros.columns=df.columns\n",
    "centros.head()"
   ]
  },
  {
   "cell_type": "code",
   "execution_count": 18,
   "metadata": {},
   "outputs": [
    {
     "output_type": "display_data",
     "data": {
      "application/vnd.plotly.v1+json": {
       "config": {
        "plotlyServerURL": "https://plot.ly"
       },
       "data": [
        {
         "marker": {
          "color": [
           1,
           1,
           1,
           1,
           2,
           1,
           1,
           1,
           1,
           1,
           1,
           1,
           1,
           1,
           1,
           1,
           1,
           1,
           1,
           2,
           2,
           2,
           1,
           1,
           2,
           2,
           1,
           1,
           2,
           1,
           1,
           1,
           1,
           1,
           1,
           2,
           2,
           1,
           1,
           2,
           2,
           1,
           1,
           2,
           2,
           1,
           1,
           1,
           1,
           1,
           1,
           1,
           1,
           1,
           1,
           1,
           1,
           1,
           1,
           0,
           2,
           0,
           2,
           0,
           0,
           2,
           0,
           0,
           2,
           2,
           2,
           0,
           0,
           1,
           2,
           0,
           0,
           0,
           2,
           0,
           0,
           2,
           2,
           0,
           0,
           0,
           0,
           0,
           2,
           2,
           0,
           0,
           0,
           0,
           0,
           2,
           2,
           0,
           2,
           0,
           2,
           0,
           0,
           0,
           2,
           0,
           0,
           0,
           0,
           2,
           0,
           0,
           2,
           0,
           0,
           0,
           0,
           0,
           0,
           0,
           2,
           0,
           0,
           0,
           0,
           0,
           0,
           0,
           0,
           0,
           2,
           0,
           0,
           2,
           2,
           2,
           2,
           0,
           0,
           0,
           2,
           2,
           0,
           0,
           2,
           2,
           0,
           2,
           2,
           0,
           0,
           0,
           0,
           2,
           2,
           2,
           0,
           2,
           2,
           2,
           0,
           2,
           0,
           2,
           2,
           0,
           2,
           2,
           2,
           2,
           0,
           0,
           2,
           2,
           2,
           2,
           2,
           0
          ]
         },
         "mode": "markers",
         "text": [
          1,
          1,
          1,
          1,
          2,
          1,
          1,
          1,
          1,
          1,
          1,
          1,
          1,
          1,
          1,
          1,
          1,
          1,
          1,
          2,
          2,
          2,
          1,
          1,
          2,
          2,
          1,
          1,
          2,
          1,
          1,
          1,
          1,
          1,
          1,
          2,
          2,
          1,
          1,
          2,
          2,
          1,
          1,
          2,
          2,
          1,
          1,
          1,
          1,
          1,
          1,
          1,
          1,
          1,
          1,
          1,
          1,
          1,
          1,
          0,
          2,
          0,
          2,
          0,
          0,
          2,
          0,
          0,
          2,
          2,
          2,
          0,
          0,
          1,
          2,
          0,
          0,
          0,
          2,
          0,
          0,
          2,
          2,
          0,
          0,
          0,
          0,
          0,
          2,
          2,
          0,
          0,
          0,
          0,
          0,
          2,
          2,
          0,
          2,
          0,
          2,
          0,
          0,
          0,
          2,
          0,
          0,
          0,
          0,
          2,
          0,
          0,
          2,
          0,
          0,
          0,
          0,
          0,
          0,
          0,
          2,
          0,
          0,
          0,
          0,
          0,
          0,
          0,
          0,
          0,
          2,
          0,
          0,
          2,
          2,
          2,
          2,
          0,
          0,
          0,
          2,
          2,
          0,
          0,
          2,
          2,
          0,
          2,
          2,
          0,
          0,
          0,
          0,
          2,
          2,
          2,
          0,
          2,
          2,
          2,
          0,
          2,
          0,
          2,
          2,
          0,
          2,
          2,
          2,
          2,
          0,
          0,
          2,
          2,
          2,
          2,
          2,
          0
         ],
         "type": "scatter3d",
         "x": [
          5.64,
          4.379999999999999,
          5.679999999999999,
          7.8,
          4.319999999999999,
          6.75,
          5.25,
          5.05,
          5.2,
          7.22,
          5.749999999999999,
          4.999999999999999,
          5.6,
          5.4,
          7.5,
          7.3,
          6.2,
          6.6,
          8.7,
          5.1,
          5.65,
          4.5,
          3.8,
          3.93,
          3.52,
          3.58,
          4.799999999999999,
          3.9499999999999997,
          4.5,
          4.7,
          5.699999999999999,
          6.9,
          3.8399999999999994,
          5.4,
          4.2,
          5.1,
          4.6,
          4.249999999999999,
          3.7,
          5.1,
          6.13,
          4.28,
          5.43,
          4.36,
          5.04,
          5.24,
          4.9,
          6.1000000000000005,
          6.2,
          8.9,
          7.2,
          5.6,
          7.05,
          6.299999999999999,
          5.85,
          6.250000000000001,
          6.380000000000001,
          6,
          6.8,
          1.95,
          3.27,
          5.749999999999999,
          3.8,
          4.449999999999999,
          2.9499999999999997,
          4.6,
          5.3,
          4.68,
          3.17,
          2.85,
          3.0500000000000003,
          3.38,
          3.74,
          3.35,
          3.21,
          3.8,
          4.6,
          2.65,
          3.4,
          2.57,
          2.5,
          3.9,
          2.2,
          4.799999999999999,
          3.0500000000000003,
          2.62,
          2.45,
          2.6,
          2.8,
          1.74,
          2.4,
          3.6,
          3.0500000000000003,
          2.15,
          3.25,
          2.6,
          2.5,
          2.9,
          4.5,
          2.3,
          3.3,
          2.45,
          2.8,
          2.06,
          2.94,
          2.7,
          3.4,
          3.3,
          2.7,
          2.65,
          2.9,
          2,
          3.8,
          3.08,
          2.9,
          1.9,
          1.95,
          2.06,
          3.4,
          1.28,
          3.25,
          6,
          2.08,
          2.6,
          2.8,
          2.76,
          3.94,
          3,
          2.12,
          2.6,
          4.1,
          5.4,
          5.699999999999999,
          4.999999999999999,
          5.45,
          7.1,
          3.8500000000000005,
          4.999999999999999,
          5.699999999999999,
          4.919999999999999,
          4.6,
          5.6,
          4.35,
          4.3999999999999995,
          8.21,
          4,
          4.9,
          7.65,
          8.42,
          9.4,
          8.6,
          10.8,
          7.1,
          10.52,
          7.6,
          7.8999999999999995,
          9.01,
          7.5,
          13,
          11.75,
          7.65,
          5.88,
          5.58,
          5.279999999999999,
          9.58,
          6.62,
          10.68,
          10.26,
          8.66,
          8.5,
          5.5,
          9.899999000000001,
          9.7,
          7.700000000000001,
          7.3,
          10.2,
          9.3,
          9.2
         ],
         "y": [
          14.23,
          13.2,
          13.16,
          14.37,
          13.24,
          14.2,
          14.39,
          14.06,
          14.83,
          13.86,
          14.1,
          14.12,
          13.75,
          14.75,
          14.38,
          13.63,
          14.3,
          13.83,
          14.19,
          13.64,
          14.06,
          12.93,
          13.71,
          12.85,
          13.5,
          13.05,
          13.39,
          13.3,
          13.87,
          14.02,
          13.73,
          13.58,
          13.68,
          13.76,
          13.51,
          13.48,
          13.28,
          13.05,
          13.07,
          14.22,
          13.56,
          13.41,
          13.88,
          13.24,
          13.05,
          14.21,
          14.38,
          13.9,
          14.1,
          13.94,
          13.05,
          13.83,
          13.82,
          13.77,
          13.74,
          13.56,
          14.22,
          13.29,
          13.72,
          12.37,
          12.33,
          12.64,
          13.67,
          12.37,
          12.17,
          12.37,
          13.11,
          12.37,
          13.34,
          12.21,
          12.29,
          13.86,
          13.49,
          12.99,
          11.96,
          11.66,
          13.03,
          11.84,
          12.33,
          12.7,
          12,
          12.72,
          12.08,
          13.05,
          11.84,
          12.67,
          12.16,
          11.65,
          11.64,
          12.08,
          12.08,
          12,
          12.69,
          12.29,
          11.62,
          12.47,
          11.81,
          12.29,
          12.37,
          12.29,
          12.08,
          12.6,
          12.34,
          11.82,
          12.51,
          12.42,
          12.25,
          12.72,
          12.22,
          11.61,
          11.46,
          12.52,
          11.76,
          11.41,
          12.08,
          11.03,
          11.82,
          12.42,
          12.77,
          12,
          11.45,
          11.56,
          12.42,
          13.05,
          11.87,
          12.07,
          12.43,
          11.79,
          12.37,
          12.04,
          12.86,
          12.88,
          12.81,
          12.7,
          12.51,
          12.6,
          12.25,
          12.53,
          13.49,
          12.84,
          12.93,
          13.36,
          13.52,
          13.62,
          12.25,
          13.16,
          13.88,
          12.87,
          13.32,
          13.08,
          13.5,
          12.79,
          13.11,
          13.23,
          12.58,
          13.17,
          13.84,
          12.45,
          14.34,
          13.48,
          12.36,
          13.69,
          12.85,
          12.96,
          13.78,
          13.73,
          13.45,
          12.82,
          13.58,
          13.4,
          12.2,
          12.77,
          14.16,
          13.71,
          13.4,
          13.27,
          13.17,
          14.13
         ],
         "z": [
          1065,
          1050,
          1185,
          1480.0000000000002,
          735,
          1450,
          1290,
          1295,
          1045,
          1045,
          1510,
          1280,
          1320,
          1150,
          1547,
          1310,
          1280,
          1130,
          1680,
          845.0000000000001,
          779.9999999999999,
          770,
          1035,
          1015,
          845.0000000000001,
          830,
          1195,
          1285,
          915.0000000000001,
          1035,
          1285,
          1515,
          989.9999999999999,
          1235,
          1095,
          919.9999999999999,
          880.0000000000001,
          1105,
          1020.0000000000001,
          760,
          795,
          1035,
          1095,
          680,
          884.9999999999999,
          1080,
          1065,
          985.0000000000001,
          1060,
          1260,
          1150,
          1265,
          1190,
          1375,
          1060,
          1120,
          970,
          1270,
          1285,
          520,
          680,
          450,
          630,
          420,
          354.99999999999994,
          677.9999999999999,
          502.00000000000006,
          510.00000000000006,
          750,
          717.9999999999999,
          870,
          410,
          472,
          985.0000000000001,
          886,
          428,
          392,
          500,
          750,
          463.00000000000006,
          278,
          714,
          630,
          515,
          520,
          450,
          494.99999999999994,
          562,
          680,
          625,
          480,
          450,
          494.99999999999994,
          290,
          345,
          937,
          625,
          428,
          660,
          406,
          709.9999999999999,
          562,
          438,
          415,
          671.9999999999999,
          315,
          510.00000000000006,
          488,
          312,
          680,
          562,
          325,
          607,
          434,
          385,
          407,
          494.99999999999994,
          345,
          372,
          564,
          625,
          465,
          365,
          380,
          380,
          378.00000000000006,
          352,
          466,
          342,
          580,
          630,
          530,
          560,
          600,
          650,
          695,
          720,
          515,
          580,
          590,
          600,
          779.9999999999999,
          520,
          550,
          855,
          830,
          415,
          625,
          650,
          550,
          500,
          480,
          424.99999999999994,
          674.9999999999999,
          639.9999999999999,
          725,
          480,
          880.0000000000001,
          660,
          620,
          520,
          680,
          570,
          674.9999999999999,
          615,
          520,
          695,
          685,
          750,
          630,
          510.00000000000006,
          470,
          660,
          740.0000000000001,
          750,
          835,
          840,
          560
         ]
        },
        {
         "marker": {
          "color": "red"
         },
         "mode": "markers",
         "text": [
          "0",
          "1",
          "2"
         ],
         "type": "scatter3d",
         "x": [
          4.086956507246377,
          5.702553191489361,
          5.650322580645161
         ],
         "y": [
          12.516666666666666,
          13.804468085106382,
          12.92983870967742
         ],
         "z": [
          458.2318840579709,
          1195.1489361702127,
          728.3387096774194
         ]
        }
       ],
       "layout": {
        "scene": {
         "xaxis": {
          "title": {
           "text": "Intesidade de cor"
          }
         },
         "yaxis": {
          "title": {
           "text": "Alcool"
          }
         },
         "zaxis": {
          "title": {
           "text": "Proline"
          }
         }
        },
        "template": {
         "data": {
          "bar": [
           {
            "error_x": {
             "color": "#2a3f5f"
            },
            "error_y": {
             "color": "#2a3f5f"
            },
            "marker": {
             "line": {
              "color": "#E5ECF6",
              "width": 0.5
             }
            },
            "type": "bar"
           }
          ],
          "barpolar": [
           {
            "marker": {
             "line": {
              "color": "#E5ECF6",
              "width": 0.5
             }
            },
            "type": "barpolar"
           }
          ],
          "carpet": [
           {
            "aaxis": {
             "endlinecolor": "#2a3f5f",
             "gridcolor": "white",
             "linecolor": "white",
             "minorgridcolor": "white",
             "startlinecolor": "#2a3f5f"
            },
            "baxis": {
             "endlinecolor": "#2a3f5f",
             "gridcolor": "white",
             "linecolor": "white",
             "minorgridcolor": "white",
             "startlinecolor": "#2a3f5f"
            },
            "type": "carpet"
           }
          ],
          "choropleth": [
           {
            "colorbar": {
             "outlinewidth": 0,
             "ticks": ""
            },
            "type": "choropleth"
           }
          ],
          "contour": [
           {
            "colorbar": {
             "outlinewidth": 0,
             "ticks": ""
            },
            "colorscale": [
             [
              0,
              "#0d0887"
             ],
             [
              0.1111111111111111,
              "#46039f"
             ],
             [
              0.2222222222222222,
              "#7201a8"
             ],
             [
              0.3333333333333333,
              "#9c179e"
             ],
             [
              0.4444444444444444,
              "#bd3786"
             ],
             [
              0.5555555555555556,
              "#d8576b"
             ],
             [
              0.6666666666666666,
              "#ed7953"
             ],
             [
              0.7777777777777778,
              "#fb9f3a"
             ],
             [
              0.8888888888888888,
              "#fdca26"
             ],
             [
              1,
              "#f0f921"
             ]
            ],
            "type": "contour"
           }
          ],
          "contourcarpet": [
           {
            "colorbar": {
             "outlinewidth": 0,
             "ticks": ""
            },
            "type": "contourcarpet"
           }
          ],
          "heatmap": [
           {
            "colorbar": {
             "outlinewidth": 0,
             "ticks": ""
            },
            "colorscale": [
             [
              0,
              "#0d0887"
             ],
             [
              0.1111111111111111,
              "#46039f"
             ],
             [
              0.2222222222222222,
              "#7201a8"
             ],
             [
              0.3333333333333333,
              "#9c179e"
             ],
             [
              0.4444444444444444,
              "#bd3786"
             ],
             [
              0.5555555555555556,
              "#d8576b"
             ],
             [
              0.6666666666666666,
              "#ed7953"
             ],
             [
              0.7777777777777778,
              "#fb9f3a"
             ],
             [
              0.8888888888888888,
              "#fdca26"
             ],
             [
              1,
              "#f0f921"
             ]
            ],
            "type": "heatmap"
           }
          ],
          "heatmapgl": [
           {
            "colorbar": {
             "outlinewidth": 0,
             "ticks": ""
            },
            "colorscale": [
             [
              0,
              "#0d0887"
             ],
             [
              0.1111111111111111,
              "#46039f"
             ],
             [
              0.2222222222222222,
              "#7201a8"
             ],
             [
              0.3333333333333333,
              "#9c179e"
             ],
             [
              0.4444444444444444,
              "#bd3786"
             ],
             [
              0.5555555555555556,
              "#d8576b"
             ],
             [
              0.6666666666666666,
              "#ed7953"
             ],
             [
              0.7777777777777778,
              "#fb9f3a"
             ],
             [
              0.8888888888888888,
              "#fdca26"
             ],
             [
              1,
              "#f0f921"
             ]
            ],
            "type": "heatmapgl"
           }
          ],
          "histogram": [
           {
            "marker": {
             "colorbar": {
              "outlinewidth": 0,
              "ticks": ""
             }
            },
            "type": "histogram"
           }
          ],
          "histogram2d": [
           {
            "colorbar": {
             "outlinewidth": 0,
             "ticks": ""
            },
            "colorscale": [
             [
              0,
              "#0d0887"
             ],
             [
              0.1111111111111111,
              "#46039f"
             ],
             [
              0.2222222222222222,
              "#7201a8"
             ],
             [
              0.3333333333333333,
              "#9c179e"
             ],
             [
              0.4444444444444444,
              "#bd3786"
             ],
             [
              0.5555555555555556,
              "#d8576b"
             ],
             [
              0.6666666666666666,
              "#ed7953"
             ],
             [
              0.7777777777777778,
              "#fb9f3a"
             ],
             [
              0.8888888888888888,
              "#fdca26"
             ],
             [
              1,
              "#f0f921"
             ]
            ],
            "type": "histogram2d"
           }
          ],
          "histogram2dcontour": [
           {
            "colorbar": {
             "outlinewidth": 0,
             "ticks": ""
            },
            "colorscale": [
             [
              0,
              "#0d0887"
             ],
             [
              0.1111111111111111,
              "#46039f"
             ],
             [
              0.2222222222222222,
              "#7201a8"
             ],
             [
              0.3333333333333333,
              "#9c179e"
             ],
             [
              0.4444444444444444,
              "#bd3786"
             ],
             [
              0.5555555555555556,
              "#d8576b"
             ],
             [
              0.6666666666666666,
              "#ed7953"
             ],
             [
              0.7777777777777778,
              "#fb9f3a"
             ],
             [
              0.8888888888888888,
              "#fdca26"
             ],
             [
              1,
              "#f0f921"
             ]
            ],
            "type": "histogram2dcontour"
           }
          ],
          "mesh3d": [
           {
            "colorbar": {
             "outlinewidth": 0,
             "ticks": ""
            },
            "type": "mesh3d"
           }
          ],
          "parcoords": [
           {
            "line": {
             "colorbar": {
              "outlinewidth": 0,
              "ticks": ""
             }
            },
            "type": "parcoords"
           }
          ],
          "scatter": [
           {
            "marker": {
             "colorbar": {
              "outlinewidth": 0,
              "ticks": ""
             }
            },
            "type": "scatter"
           }
          ],
          "scatter3d": [
           {
            "line": {
             "colorbar": {
              "outlinewidth": 0,
              "ticks": ""
             }
            },
            "marker": {
             "colorbar": {
              "outlinewidth": 0,
              "ticks": ""
             }
            },
            "type": "scatter3d"
           }
          ],
          "scattercarpet": [
           {
            "marker": {
             "colorbar": {
              "outlinewidth": 0,
              "ticks": ""
             }
            },
            "type": "scattercarpet"
           }
          ],
          "scattergeo": [
           {
            "marker": {
             "colorbar": {
              "outlinewidth": 0,
              "ticks": ""
             }
            },
            "type": "scattergeo"
           }
          ],
          "scattergl": [
           {
            "marker": {
             "colorbar": {
              "outlinewidth": 0,
              "ticks": ""
             }
            },
            "type": "scattergl"
           }
          ],
          "scattermapbox": [
           {
            "marker": {
             "colorbar": {
              "outlinewidth": 0,
              "ticks": ""
             }
            },
            "type": "scattermapbox"
           }
          ],
          "scatterpolar": [
           {
            "marker": {
             "colorbar": {
              "outlinewidth": 0,
              "ticks": ""
             }
            },
            "type": "scatterpolar"
           }
          ],
          "scatterpolargl": [
           {
            "marker": {
             "colorbar": {
              "outlinewidth": 0,
              "ticks": ""
             }
            },
            "type": "scatterpolargl"
           }
          ],
          "scatterternary": [
           {
            "marker": {
             "colorbar": {
              "outlinewidth": 0,
              "ticks": ""
             }
            },
            "type": "scatterternary"
           }
          ],
          "surface": [
           {
            "colorbar": {
             "outlinewidth": 0,
             "ticks": ""
            },
            "colorscale": [
             [
              0,
              "#0d0887"
             ],
             [
              0.1111111111111111,
              "#46039f"
             ],
             [
              0.2222222222222222,
              "#7201a8"
             ],
             [
              0.3333333333333333,
              "#9c179e"
             ],
             [
              0.4444444444444444,
              "#bd3786"
             ],
             [
              0.5555555555555556,
              "#d8576b"
             ],
             [
              0.6666666666666666,
              "#ed7953"
             ],
             [
              0.7777777777777778,
              "#fb9f3a"
             ],
             [
              0.8888888888888888,
              "#fdca26"
             ],
             [
              1,
              "#f0f921"
             ]
            ],
            "type": "surface"
           }
          ],
          "table": [
           {
            "cells": {
             "fill": {
              "color": "#EBF0F8"
             },
             "line": {
              "color": "white"
             }
            },
            "header": {
             "fill": {
              "color": "#C8D4E3"
             },
             "line": {
              "color": "white"
             }
            },
            "type": "table"
           }
          ]
         },
         "layout": {
          "annotationdefaults": {
           "arrowcolor": "#2a3f5f",
           "arrowhead": 0,
           "arrowwidth": 1
          },
          "colorscale": {
           "diverging": [
            [
             0,
             "#8e0152"
            ],
            [
             0.1,
             "#c51b7d"
            ],
            [
             0.2,
             "#de77ae"
            ],
            [
             0.3,
             "#f1b6da"
            ],
            [
             0.4,
             "#fde0ef"
            ],
            [
             0.5,
             "#f7f7f7"
            ],
            [
             0.6,
             "#e6f5d0"
            ],
            [
             0.7,
             "#b8e186"
            ],
            [
             0.8,
             "#7fbc41"
            ],
            [
             0.9,
             "#4d9221"
            ],
            [
             1,
             "#276419"
            ]
           ],
           "sequential": [
            [
             0,
             "#0d0887"
            ],
            [
             0.1111111111111111,
             "#46039f"
            ],
            [
             0.2222222222222222,
             "#7201a8"
            ],
            [
             0.3333333333333333,
             "#9c179e"
            ],
            [
             0.4444444444444444,
             "#bd3786"
            ],
            [
             0.5555555555555556,
             "#d8576b"
            ],
            [
             0.6666666666666666,
             "#ed7953"
            ],
            [
             0.7777777777777778,
             "#fb9f3a"
            ],
            [
             0.8888888888888888,
             "#fdca26"
            ],
            [
             1,
             "#f0f921"
            ]
           ],
           "sequentialminus": [
            [
             0,
             "#0d0887"
            ],
            [
             0.1111111111111111,
             "#46039f"
            ],
            [
             0.2222222222222222,
             "#7201a8"
            ],
            [
             0.3333333333333333,
             "#9c179e"
            ],
            [
             0.4444444444444444,
             "#bd3786"
            ],
            [
             0.5555555555555556,
             "#d8576b"
            ],
            [
             0.6666666666666666,
             "#ed7953"
            ],
            [
             0.7777777777777778,
             "#fb9f3a"
            ],
            [
             0.8888888888888888,
             "#fdca26"
            ],
            [
             1,
             "#f0f921"
            ]
           ]
          },
          "colorway": [
           "#636efa",
           "#EF553B",
           "#00cc96",
           "#ab63fa",
           "#FFA15A",
           "#19d3f3",
           "#FF6692",
           "#B6E880",
           "#FF97FF",
           "#FECB52"
          ],
          "font": {
           "color": "#2a3f5f"
          },
          "geo": {
           "bgcolor": "white",
           "lakecolor": "white",
           "landcolor": "#E5ECF6",
           "showlakes": true,
           "showland": true,
           "subunitcolor": "white"
          },
          "hoverlabel": {
           "align": "left"
          },
          "hovermode": "closest",
          "mapbox": {
           "style": "light"
          },
          "paper_bgcolor": "white",
          "plot_bgcolor": "#E5ECF6",
          "polar": {
           "angularaxis": {
            "gridcolor": "white",
            "linecolor": "white",
            "ticks": ""
           },
           "bgcolor": "#E5ECF6",
           "radialaxis": {
            "gridcolor": "white",
            "linecolor": "white",
            "ticks": ""
           }
          },
          "scene": {
           "xaxis": {
            "backgroundcolor": "#E5ECF6",
            "gridcolor": "white",
            "gridwidth": 2,
            "linecolor": "white",
            "showbackground": true,
            "ticks": "",
            "zerolinecolor": "white"
           },
           "yaxis": {
            "backgroundcolor": "#E5ECF6",
            "gridcolor": "white",
            "gridwidth": 2,
            "linecolor": "white",
            "showbackground": true,
            "ticks": "",
            "zerolinecolor": "white"
           },
           "zaxis": {
            "backgroundcolor": "#E5ECF6",
            "gridcolor": "white",
            "gridwidth": 2,
            "linecolor": "white",
            "showbackground": true,
            "ticks": "",
            "zerolinecolor": "white"
           }
          },
          "shapedefaults": {
           "line": {
            "color": "#2a3f5f"
           }
          },
          "ternary": {
           "aaxis": {
            "gridcolor": "white",
            "linecolor": "white",
            "ticks": ""
           },
           "baxis": {
            "gridcolor": "white",
            "linecolor": "white",
            "ticks": ""
           },
           "bgcolor": "#E5ECF6",
           "caxis": {
            "gridcolor": "white",
            "linecolor": "white",
            "ticks": ""
           }
          },
          "title": {
           "x": 0.05
          },
          "xaxis": {
           "automargin": true,
           "gridcolor": "white",
           "linecolor": "white",
           "ticks": "",
           "zerolinecolor": "white",
           "zerolinewidth": 2
          },
          "yaxis": {
           "automargin": true,
           "gridcolor": "white",
           "linecolor": "white",
           "ticks": "",
           "zerolinecolor": "white",
           "zerolinewidth": 2
          }
         }
        }
       }
      }
     },
     "metadata": {}
    }
   ],
   "source": [
    "\n",
    "fig.add_trace(go.Scatter3d(x=centros['Intensidade_de_cor'],y=centros['Alcool'],z=centros['Proline'],\n",
    "                        mode='markers',\n",
    "                        marker=dict(color='red'),\n",
    "                        text=[0,1,2]))\n",
    "fig.show()"
   ]
  },
  {
   "cell_type": "code",
   "execution_count": 19,
   "metadata": {},
   "outputs": [
    {
     "output_type": "execute_result",
     "data": {
      "text/plain": [
       "     Alcool  Malic_Acid        Po  Alcalinidade_po  Magnesio  Total_Phenols  \\\n",
       "0  0.842105    0.191700  0.572193         0.257732  0.619565       0.627586   \n",
       "1  0.571053    0.205534  0.417112         0.030928  0.326087       0.575862   \n",
       "2  0.560526    0.320158  0.700535         0.412371  0.336957       0.627586   \n",
       "3  0.878947    0.239130  0.609626         0.319588  0.467391       0.989655   \n",
       "4  0.581579    0.365613  0.807487         0.536082  0.521739       0.627586   \n",
       "\n",
       "   Flavanoids  Nonflavanoid_Phenols  Proanthocyanins  Intensidade_de_cor  \\\n",
       "0    0.573840              0.283019         0.593060            0.372014   \n",
       "1    0.510549              0.245283         0.274448            0.264505   \n",
       "2    0.611814              0.320755         0.757098            0.375427   \n",
       "3    0.664557              0.207547         0.558360            0.556314   \n",
       "4    0.495781              0.490566         0.444795            0.259386   \n",
       "\n",
       "        Hue     OD280   Proline  Customer_Segment  \n",
       "0  0.455285  0.970696  0.561341               0.0  \n",
       "1  0.463415  0.780220  0.550642               0.0  \n",
       "2  0.447154  0.695971  0.646933               0.0  \n",
       "3  0.308943  0.798535  0.857347               0.0  \n",
       "4  0.455285  0.608059  0.325963               0.0  "
      ],
      "text/html": "<div>\n<style scoped>\n    .dataframe tbody tr th:only-of-type {\n        vertical-align: middle;\n    }\n\n    .dataframe tbody tr th {\n        vertical-align: top;\n    }\n\n    .dataframe thead th {\n        text-align: right;\n    }\n</style>\n<table border=\"1\" class=\"dataframe\">\n  <thead>\n    <tr style=\"text-align: right;\">\n      <th></th>\n      <th>Alcool</th>\n      <th>Malic_Acid</th>\n      <th>Po</th>\n      <th>Alcalinidade_po</th>\n      <th>Magnesio</th>\n      <th>Total_Phenols</th>\n      <th>Flavanoids</th>\n      <th>Nonflavanoid_Phenols</th>\n      <th>Proanthocyanins</th>\n      <th>Intensidade_de_cor</th>\n      <th>Hue</th>\n      <th>OD280</th>\n      <th>Proline</th>\n      <th>Customer_Segment</th>\n    </tr>\n  </thead>\n  <tbody>\n    <tr>\n      <th>0</th>\n      <td>0.842105</td>\n      <td>0.191700</td>\n      <td>0.572193</td>\n      <td>0.257732</td>\n      <td>0.619565</td>\n      <td>0.627586</td>\n      <td>0.573840</td>\n      <td>0.283019</td>\n      <td>0.593060</td>\n      <td>0.372014</td>\n      <td>0.455285</td>\n      <td>0.970696</td>\n      <td>0.561341</td>\n      <td>0.0</td>\n    </tr>\n    <tr>\n      <th>1</th>\n      <td>0.571053</td>\n      <td>0.205534</td>\n      <td>0.417112</td>\n      <td>0.030928</td>\n      <td>0.326087</td>\n      <td>0.575862</td>\n      <td>0.510549</td>\n      <td>0.245283</td>\n      <td>0.274448</td>\n      <td>0.264505</td>\n      <td>0.463415</td>\n      <td>0.780220</td>\n      <td>0.550642</td>\n      <td>0.0</td>\n    </tr>\n    <tr>\n      <th>2</th>\n      <td>0.560526</td>\n      <td>0.320158</td>\n      <td>0.700535</td>\n      <td>0.412371</td>\n      <td>0.336957</td>\n      <td>0.627586</td>\n      <td>0.611814</td>\n      <td>0.320755</td>\n      <td>0.757098</td>\n      <td>0.375427</td>\n      <td>0.447154</td>\n      <td>0.695971</td>\n      <td>0.646933</td>\n      <td>0.0</td>\n    </tr>\n    <tr>\n      <th>3</th>\n      <td>0.878947</td>\n      <td>0.239130</td>\n      <td>0.609626</td>\n      <td>0.319588</td>\n      <td>0.467391</td>\n      <td>0.989655</td>\n      <td>0.664557</td>\n      <td>0.207547</td>\n      <td>0.558360</td>\n      <td>0.556314</td>\n      <td>0.308943</td>\n      <td>0.798535</td>\n      <td>0.857347</td>\n      <td>0.0</td>\n    </tr>\n    <tr>\n      <th>4</th>\n      <td>0.581579</td>\n      <td>0.365613</td>\n      <td>0.807487</td>\n      <td>0.536082</td>\n      <td>0.521739</td>\n      <td>0.627586</td>\n      <td>0.495781</td>\n      <td>0.490566</td>\n      <td>0.444795</td>\n      <td>0.259386</td>\n      <td>0.455285</td>\n      <td>0.608059</td>\n      <td>0.325963</td>\n      <td>0.0</td>\n    </tr>\n  </tbody>\n</table>\n</div>"
     },
     "metadata": {},
     "execution_count": 19
    }
   ],
   "source": [
    "min_max_scaler=preprocessing.MinMaxScaler()\n",
    "np_df=min_max_scaler.fit_transform(df)\n",
    "df_scaled=pd.DataFrame(np_df,columns=df.columns)\n",
    "df_scaled.head()"
   ]
  },
  {
   "cell_type": "code",
   "execution_count": 20,
   "metadata": {},
   "outputs": [
    {
     "output_type": "execute_result",
     "data": {
      "text/plain": [
       "DBSCAN(eps=1.31, metric='manhattan', min_samples=15)"
      ]
     },
     "metadata": {},
     "execution_count": 20
    }
   ],
   "source": [
    " dbscan=DBSCAN(eps=1.31,min_samples=15,metric='manhattan')\n",
    " dbscan.fit(df_scaled)"
   ]
  },
  {
   "cell_type": "code",
   "execution_count": 21,
   "metadata": {},
   "outputs": [
    {
     "output_type": "execute_result",
     "data": {
      "text/plain": [
       "array([ 0,  0,  0,  0, -1,  0,  0,  0,  0,  0,  0,  0,  0, -1,  0,  0,  0,\n",
       "        0,  0,  0,  0,  0,  0,  0,  0, -1,  0,  0,  0,  0,  0,  0,  0,  0,\n",
       "        0,  0,  0,  0,  0, -1,  0, -1,  0, -1,  0, -1,  0,  0,  0,  0, -1,\n",
       "        0,  0,  0,  0,  0,  0,  0,  0, -1, -1, -1, -1, -1, -1, -1, -1,  1,\n",
       "       -1, -1, -1, -1, -1, -1, -1, -1, -1, -1, -1, -1, -1,  1, -1, -1, -1,\n",
       "        1, -1, -1, -1, -1,  1,  1, -1, -1, -1, -1, -1, -1, -1, -1, -1,  1,\n",
       "       -1,  1,  1, -1,  1,  1,  1, -1, -1, -1, -1, -1, -1, -1,  1,  1, -1,\n",
       "        1, -1, -1, -1, -1, -1,  1, -1, -1, -1, -1, -1,  2, -1,  2, -1,  2,\n",
       "       -1, -1,  2, -1, -1,  2, -1, -1,  2,  2, -1,  2,  2,  2, -1, -1, -1,\n",
       "        2, -1,  2,  2, -1, -1, -1,  2,  2,  2,  2,  2, -1,  2,  2,  2, -1,\n",
       "        2,  2,  2,  2,  2,  2,  2,  2], dtype=int64)"
      ]
     },
     "metadata": {},
     "execution_count": 21
    }
   ],
   "source": [
    "dbscan.labels_"
   ]
  },
  {
   "cell_type": "code",
   "execution_count": 22,
   "metadata": {},
   "outputs": [
    {
     "output_type": "execute_result",
     "data": {
      "text/plain": [
       "array([-1,  0,  1,  2], dtype=int64)"
      ]
     },
     "metadata": {},
     "execution_count": 22
    }
   ],
   "source": [
    "np.unique(dbscan.labels_)"
   ]
  },
  {
   "cell_type": "code",
   "execution_count": 23,
   "metadata": {},
   "outputs": [
    {
     "output_type": "execute_result",
     "data": {
      "text/plain": [
       "array([ 0,  0,  0,  0,  0,  0,  0,  0,  0,  0,  0,  0,  0,  0,  0,  0,  0,\n",
       "        0,  0,  0,  0,  0,  0,  0,  0, -1,  0,  0,  0,  0,  0,  0,  0,  0,\n",
       "        0,  0,  0,  0,  0,  0,  0,  0,  0,  0,  0,  0,  0,  0,  0,  0, -1,\n",
       "        0,  0,  0,  0,  0,  0,  0,  0, -1, -1, -1,  1,  1,  1,  1, -1,  1,\n",
       "       -1, -1, -1, -1,  1, -1, -1,  1,  1,  1, -1, -1,  1,  1,  1, -1,  1,\n",
       "        1,  1,  1,  1,  1,  1,  1,  1,  1,  1, -1, -1,  1,  1, -1,  1,  1,\n",
       "        1,  1,  1,  1,  1,  1,  1, -1, -1,  1, -1,  1,  1, -1,  1,  1, -1,\n",
       "        1,  1, -1,  1, -1, -1,  1,  1,  1,  1,  1, -1,  2,  2,  2,  2,  2,\n",
       "        2,  2,  2, -1,  2,  2,  2,  2,  2,  2,  2,  2,  2,  2,  2,  2, -1,\n",
       "        2,  2,  2,  2,  2, -1, -1,  2,  2,  2,  2,  2,  2,  2,  2,  2,  2,\n",
       "        2,  2,  2,  2,  2,  2,  2,  2], dtype=int64)"
      ]
     },
     "metadata": {},
     "execution_count": 23
    }
   ],
   "source": [
    " dbscan=DBSCAN(eps=1.5,min_samples=15,metric='manhattan')\n",
    " dbscan.fit(df_scaled)\n",
    " dbscan.labels_"
   ]
  },
  {
   "cell_type": "code",
   "execution_count": 24,
   "metadata": {},
   "outputs": [
    {
     "output_type": "execute_result",
     "data": {
      "text/plain": [
       "array([2, 2, 2, 2, 0, 2, 2, 2, 2, 2, 2, 2, 2, 2, 2, 2, 2, 2, 2, 1, 1, 1,\n",
       "       2, 1, 1, 1, 2, 2, 1, 2, 2, 2, 1, 2, 2, 1, 1, 2, 1, 1, 1, 2, 2, 0,\n",
       "       1, 2, 2, 1, 2, 2, 2, 2, 2, 2, 2, 2, 1, 2, 2, 0, 0, 0, 0, 0, 0, 0,\n",
       "       0, 0, 1, 0, 1, 0, 0, 1, 1, 0, 0, 0, 1, 0, 0, 0, 0, 0, 0, 0, 0, 0,\n",
       "       0, 0, 0, 0, 0, 0, 0, 1, 0, 0, 0, 0, 0, 0, 0, 0, 0, 0, 0, 0, 0, 0,\n",
       "       0, 0, 0, 0, 0, 0, 0, 0, 0, 0, 0, 0, 0, 0, 0, 0, 0, 0, 0, 0, 0, 0,\n",
       "       0, 0, 0, 0, 0, 0, 0, 0, 0, 1, 0, 0, 1, 1, 0, 0, 0, 0, 0, 0, 0, 0,\n",
       "       0, 0, 0, 1, 0, 0, 0, 0, 0, 0, 0, 0, 0, 0, 1, 0, 0, 0, 0, 0, 1, 1,\n",
       "       1, 0], dtype=int64)"
      ]
     },
     "metadata": {},
     "execution_count": 24
    }
   ],
   "source": [
    "mean_sht=MeanShift()\n",
    "mean_sht.fit(df)\n",
    "mean_sht.labels_"
   ]
  },
  {
   "cell_type": "code",
   "execution_count": 29,
   "metadata": {},
   "outputs": [
    {
     "output_type": "execute_result",
     "data": {
      "text/plain": [
       "63.180850991985075"
      ]
     },
     "metadata": {},
     "execution_count": 29
    }
   ],
   "source": [
    "BW=estimate_bandwidth(df,quantile=0.1)\n",
    "BW"
   ]
  },
  {
   "cell_type": "code",
   "execution_count": 30,
   "metadata": {},
   "outputs": [
    {
     "output_type": "execute_result",
     "data": {
      "text/plain": [
       "array([ 4,  4,  8,  9,  5,  9,  7,  7,  4,  4,  9,  7,  7,  8,  9,  7,  7,\n",
       "        8, 10,  6,  5,  5,  4,  4,  6,  6,  8,  7,  6,  4,  7,  9,  4,  7,\n",
       "        8,  6,  6,  8,  4,  5,  5,  4,  8,  1,  6,  4,  4,  4,  4,  7,  8,\n",
       "        7,  8,  7,  4,  8,  4,  7,  7,  0,  1,  3,  1,  3,  3,  1,  0,  0,\n",
       "        5,  5,  6,  3,  3,  4,  6,  3,  3,  0,  5,  3,  3,  1,  1,  0,  0,\n",
       "        3,  0,  2,  1,  1,  0,  3,  0,  3,  3,  6,  1,  3,  1,  3,  1,  2,\n",
       "        3,  3,  1,  3,  0,  0,  3,  1,  2,  3,  2,  3,  3,  3,  0,  3,  3,\n",
       "        2,  1,  3,  3,  3,  3,  3,  3,  3,  3,  2,  1,  0,  2,  2,  1,  1,\n",
       "        1,  0,  2,  2,  2,  5,  0,  2,  6,  6,  3,  1,  1,  2,  0,  0,  3,\n",
       "        1,  1,  5,  0,  6,  1,  1,  0,  1,  2,  1,  1,  0,  1,  1,  5,  1,\n",
       "        0,  3,  1,  5,  5,  6,  6,  2], dtype=int64)"
      ]
     },
     "metadata": {},
     "execution_count": 30
    }
   ],
   "source": [
    "mean_sht=MeanShift(bandwidth=BW)\n",
    "mean_sht.fit(df)\n",
    "mean_sht.labels_"
   ]
  },
  {
   "cell_type": "code",
   "execution_count": 31,
   "metadata": {},
   "outputs": [
    {
     "output_type": "execute_result",
     "data": {
      "text/plain": [
       "array([4, 4, 4, 2, 0, 2, 2, 2, 4, 4, 2, 2, 2, 4, 2, 2, 2, 4, 2, 0, 0, 0,\n",
       "       4, 4, 0, 0, 4, 2, 0, 4, 2, 2, 4, 2, 4, 0, 0, 4, 4, 0, 0, 4, 4, 3,\n",
       "       0, 4, 4, 4, 4, 2, 4, 2, 4, 2, 4, 4, 4, 2, 2, 1, 3, 1, 3, 1, 1, 3,\n",
       "       1, 1, 0, 3, 0, 1, 1, 4, 0, 1, 1, 1, 0, 1, 1, 3, 3, 1, 1, 1, 1, 3,\n",
       "       3, 3, 1, 1, 1, 1, 1, 0, 3, 1, 3, 1, 3, 3, 1, 1, 3, 1, 1, 1, 1, 3,\n",
       "       3, 1, 3, 1, 1, 1, 1, 1, 1, 3, 3, 1, 1, 1, 1, 1, 1, 1, 1, 3, 3, 1,\n",
       "       3, 3, 3, 3, 3, 1, 3, 3, 3, 0, 1, 3, 0, 0, 1, 3, 3, 3, 1, 1, 1, 3,\n",
       "       3, 3, 1, 0, 3, 3, 1, 3, 3, 3, 3, 1, 3, 3, 0, 3, 1, 1, 3, 0, 0, 0,\n",
       "       0, 3])"
      ]
     },
     "metadata": {},
     "execution_count": 31
    }
   ],
   "source": [
    "clusters=KMeans(n_clusters=5)\n",
    "clusters.fit(df)\n",
    "clusters.labels_"
   ]
  },
  {
   "cell_type": "code",
   "execution_count": 36,
   "metadata": {},
   "outputs": [
    {
     "output_type": "display_data",
     "data": {
      "application/vnd.plotly.v1+json": {
       "config": {
        "plotlyServerURL": "https://plot.ly"
       },
       "data": [
        {
         "marker": {
          "color": [
           4,
           4,
           4,
           2,
           0,
           2,
           2,
           2,
           4,
           4,
           2,
           2,
           2,
           4,
           2,
           2,
           2,
           4,
           2,
           0,
           0,
           0,
           4,
           4,
           0,
           0,
           4,
           2,
           0,
           4,
           2,
           2,
           4,
           2,
           4,
           0,
           0,
           4,
           4,
           0,
           0,
           4,
           4,
           3,
           0,
           4,
           4,
           4,
           4,
           2,
           4,
           2,
           4,
           2,
           4,
           4,
           4,
           2,
           2,
           1,
           3,
           1,
           3,
           1,
           1,
           3,
           1,
           1,
           0,
           3,
           0,
           1,
           1,
           4,
           0,
           1,
           1,
           1,
           0,
           1,
           1,
           3,
           3,
           1,
           1,
           1,
           1,
           3,
           3,
           3,
           1,
           1,
           1,
           1,
           1,
           0,
           3,
           1,
           3,
           1,
           3,
           3,
           1,
           1,
           3,
           1,
           1,
           1,
           1,
           3,
           3,
           1,
           3,
           1,
           1,
           1,
           1,
           1,
           1,
           3,
           3,
           1,
           1,
           1,
           1,
           1,
           1,
           1,
           1,
           3,
           3,
           1,
           3,
           3,
           3,
           3,
           3,
           1,
           3,
           3,
           3,
           0,
           1,
           3,
           0,
           0,
           1,
           3,
           3,
           3,
           1,
           1,
           1,
           3,
           3,
           3,
           1,
           0,
           3,
           3,
           1,
           3,
           3,
           3,
           3,
           1,
           3,
           3,
           0,
           3,
           1,
           1,
           3,
           0,
           0,
           0,
           0,
           3
          ]
         },
         "mode": "markers",
         "text": [
          4,
          4,
          4,
          2,
          0,
          2,
          2,
          2,
          4,
          4,
          2,
          2,
          2,
          4,
          2,
          2,
          2,
          4,
          2,
          0,
          0,
          0,
          4,
          4,
          0,
          0,
          4,
          2,
          0,
          4,
          2,
          2,
          4,
          2,
          4,
          0,
          0,
          4,
          4,
          0,
          0,
          4,
          4,
          3,
          0,
          4,
          4,
          4,
          4,
          2,
          4,
          2,
          4,
          2,
          4,
          4,
          4,
          2,
          2,
          1,
          3,
          1,
          3,
          1,
          1,
          3,
          1,
          1,
          0,
          3,
          0,
          1,
          1,
          4,
          0,
          1,
          1,
          1,
          0,
          1,
          1,
          3,
          3,
          1,
          1,
          1,
          1,
          3,
          3,
          3,
          1,
          1,
          1,
          1,
          1,
          0,
          3,
          1,
          3,
          1,
          3,
          3,
          1,
          1,
          3,
          1,
          1,
          1,
          1,
          3,
          3,
          1,
          3,
          1,
          1,
          1,
          1,
          1,
          1,
          3,
          3,
          1,
          1,
          1,
          1,
          1,
          1,
          1,
          1,
          3,
          3,
          1,
          3,
          3,
          3,
          3,
          3,
          1,
          3,
          3,
          3,
          0,
          1,
          3,
          0,
          0,
          1,
          3,
          3,
          3,
          1,
          1,
          1,
          3,
          3,
          3,
          1,
          0,
          3,
          3,
          1,
          3,
          3,
          3,
          3,
          1,
          3,
          3,
          0,
          3,
          1,
          1,
          3,
          0,
          0,
          0,
          0,
          3
         ],
         "type": "scatter3d",
         "x": [
          5.64,
          4.379999999999999,
          5.679999999999999,
          7.8,
          4.319999999999999,
          6.75,
          5.25,
          5.05,
          5.2,
          7.22,
          5.749999999999999,
          4.999999999999999,
          5.6,
          5.4,
          7.5,
          7.3,
          6.2,
          6.6,
          8.7,
          5.1,
          5.65,
          4.5,
          3.8,
          3.93,
          3.52,
          3.58,
          4.799999999999999,
          3.9499999999999997,
          4.5,
          4.7,
          5.699999999999999,
          6.9,
          3.8399999999999994,
          5.4,
          4.2,
          5.1,
          4.6,
          4.249999999999999,
          3.7,
          5.1,
          6.13,
          4.28,
          5.43,
          4.36,
          5.04,
          5.24,
          4.9,
          6.1000000000000005,
          6.2,
          8.9,
          7.2,
          5.6,
          7.05,
          6.299999999999999,
          5.85,
          6.250000000000001,
          6.380000000000001,
          6,
          6.8,
          1.95,
          3.27,
          5.749999999999999,
          3.8,
          4.449999999999999,
          2.9499999999999997,
          4.6,
          5.3,
          4.68,
          3.17,
          2.85,
          3.0500000000000003,
          3.38,
          3.74,
          3.35,
          3.21,
          3.8,
          4.6,
          2.65,
          3.4,
          2.57,
          2.5,
          3.9,
          2.2,
          4.799999999999999,
          3.0500000000000003,
          2.62,
          2.45,
          2.6,
          2.8,
          1.74,
          2.4,
          3.6,
          3.0500000000000003,
          2.15,
          3.25,
          2.6,
          2.5,
          2.9,
          4.5,
          2.3,
          3.3,
          2.45,
          2.8,
          2.06,
          2.94,
          2.7,
          3.4,
          3.3,
          2.7,
          2.65,
          2.9,
          2,
          3.8,
          3.08,
          2.9,
          1.9,
          1.95,
          2.06,
          3.4,
          1.28,
          3.25,
          6,
          2.08,
          2.6,
          2.8,
          2.76,
          3.94,
          3,
          2.12,
          2.6,
          4.1,
          5.4,
          5.699999999999999,
          4.999999999999999,
          5.45,
          7.1,
          3.8500000000000005,
          4.999999999999999,
          5.699999999999999,
          4.919999999999999,
          4.6,
          5.6,
          4.35,
          4.3999999999999995,
          8.21,
          4,
          4.9,
          7.65,
          8.42,
          9.4,
          8.6,
          10.8,
          7.1,
          10.52,
          7.6,
          7.8999999999999995,
          9.01,
          7.5,
          13,
          11.75,
          7.65,
          5.88,
          5.58,
          5.279999999999999,
          9.58,
          6.62,
          10.68,
          10.26,
          8.66,
          8.5,
          5.5,
          9.899999000000001,
          9.7,
          7.700000000000001,
          7.3,
          10.2,
          9.3,
          9.2
         ],
         "y": [
          14.23,
          13.2,
          13.16,
          14.37,
          13.24,
          14.2,
          14.39,
          14.06,
          14.83,
          13.86,
          14.1,
          14.12,
          13.75,
          14.75,
          14.38,
          13.63,
          14.3,
          13.83,
          14.19,
          13.64,
          14.06,
          12.93,
          13.71,
          12.85,
          13.5,
          13.05,
          13.39,
          13.3,
          13.87,
          14.02,
          13.73,
          13.58,
          13.68,
          13.76,
          13.51,
          13.48,
          13.28,
          13.05,
          13.07,
          14.22,
          13.56,
          13.41,
          13.88,
          13.24,
          13.05,
          14.21,
          14.38,
          13.9,
          14.1,
          13.94,
          13.05,
          13.83,
          13.82,
          13.77,
          13.74,
          13.56,
          14.22,
          13.29,
          13.72,
          12.37,
          12.33,
          12.64,
          13.67,
          12.37,
          12.17,
          12.37,
          13.11,
          12.37,
          13.34,
          12.21,
          12.29,
          13.86,
          13.49,
          12.99,
          11.96,
          11.66,
          13.03,
          11.84,
          12.33,
          12.7,
          12,
          12.72,
          12.08,
          13.05,
          11.84,
          12.67,
          12.16,
          11.65,
          11.64,
          12.08,
          12.08,
          12,
          12.69,
          12.29,
          11.62,
          12.47,
          11.81,
          12.29,
          12.37,
          12.29,
          12.08,
          12.6,
          12.34,
          11.82,
          12.51,
          12.42,
          12.25,
          12.72,
          12.22,
          11.61,
          11.46,
          12.52,
          11.76,
          11.41,
          12.08,
          11.03,
          11.82,
          12.42,
          12.77,
          12,
          11.45,
          11.56,
          12.42,
          13.05,
          11.87,
          12.07,
          12.43,
          11.79,
          12.37,
          12.04,
          12.86,
          12.88,
          12.81,
          12.7,
          12.51,
          12.6,
          12.25,
          12.53,
          13.49,
          12.84,
          12.93,
          13.36,
          13.52,
          13.62,
          12.25,
          13.16,
          13.88,
          12.87,
          13.32,
          13.08,
          13.5,
          12.79,
          13.11,
          13.23,
          12.58,
          13.17,
          13.84,
          12.45,
          14.34,
          13.48,
          12.36,
          13.69,
          12.85,
          12.96,
          13.78,
          13.73,
          13.45,
          12.82,
          13.58,
          13.4,
          12.2,
          12.77,
          14.16,
          13.71,
          13.4,
          13.27,
          13.17,
          14.13
         ],
         "z": [
          1065,
          1050,
          1185,
          1480.0000000000002,
          735,
          1450,
          1290,
          1295,
          1045,
          1045,
          1510,
          1280,
          1320,
          1150,
          1547,
          1310,
          1280,
          1130,
          1680,
          845.0000000000001,
          779.9999999999999,
          770,
          1035,
          1015,
          845.0000000000001,
          830,
          1195,
          1285,
          915.0000000000001,
          1035,
          1285,
          1515,
          989.9999999999999,
          1235,
          1095,
          919.9999999999999,
          880.0000000000001,
          1105,
          1020.0000000000001,
          760,
          795,
          1035,
          1095,
          680,
          884.9999999999999,
          1080,
          1065,
          985.0000000000001,
          1060,
          1260,
          1150,
          1265,
          1190,
          1375,
          1060,
          1120,
          970,
          1270,
          1285,
          520,
          680,
          450,
          630,
          420,
          354.99999999999994,
          677.9999999999999,
          502.00000000000006,
          510.00000000000006,
          750,
          717.9999999999999,
          870,
          410,
          472,
          985.0000000000001,
          886,
          428,
          392,
          500,
          750,
          463.00000000000006,
          278,
          714,
          630,
          515,
          520,
          450,
          494.99999999999994,
          562,
          680,
          625,
          480,
          450,
          494.99999999999994,
          290,
          345,
          937,
          625,
          428,
          660,
          406,
          709.9999999999999,
          562,
          438,
          415,
          671.9999999999999,
          315,
          510.00000000000006,
          488,
          312,
          680,
          562,
          325,
          607,
          434,
          385,
          407,
          494.99999999999994,
          345,
          372,
          564,
          625,
          465,
          365,
          380,
          380,
          378.00000000000006,
          352,
          466,
          342,
          580,
          630,
          530,
          560,
          600,
          650,
          695,
          720,
          515,
          580,
          590,
          600,
          779.9999999999999,
          520,
          550,
          855,
          830,
          415,
          625,
          650,
          550,
          500,
          480,
          424.99999999999994,
          674.9999999999999,
          639.9999999999999,
          725,
          480,
          880.0000000000001,
          660,
          620,
          520,
          680,
          570,
          674.9999999999999,
          615,
          520,
          695,
          685,
          750,
          630,
          510.00000000000006,
          470,
          660,
          740.0000000000001,
          750,
          835,
          840,
          560
         ]
        }
       ],
       "layout": {
        "template": {
         "data": {
          "bar": [
           {
            "error_x": {
             "color": "#2a3f5f"
            },
            "error_y": {
             "color": "#2a3f5f"
            },
            "marker": {
             "line": {
              "color": "#E5ECF6",
              "width": 0.5
             }
            },
            "type": "bar"
           }
          ],
          "barpolar": [
           {
            "marker": {
             "line": {
              "color": "#E5ECF6",
              "width": 0.5
             }
            },
            "type": "barpolar"
           }
          ],
          "carpet": [
           {
            "aaxis": {
             "endlinecolor": "#2a3f5f",
             "gridcolor": "white",
             "linecolor": "white",
             "minorgridcolor": "white",
             "startlinecolor": "#2a3f5f"
            },
            "baxis": {
             "endlinecolor": "#2a3f5f",
             "gridcolor": "white",
             "linecolor": "white",
             "minorgridcolor": "white",
             "startlinecolor": "#2a3f5f"
            },
            "type": "carpet"
           }
          ],
          "choropleth": [
           {
            "colorbar": {
             "outlinewidth": 0,
             "ticks": ""
            },
            "type": "choropleth"
           }
          ],
          "contour": [
           {
            "colorbar": {
             "outlinewidth": 0,
             "ticks": ""
            },
            "colorscale": [
             [
              0,
              "#0d0887"
             ],
             [
              0.1111111111111111,
              "#46039f"
             ],
             [
              0.2222222222222222,
              "#7201a8"
             ],
             [
              0.3333333333333333,
              "#9c179e"
             ],
             [
              0.4444444444444444,
              "#bd3786"
             ],
             [
              0.5555555555555556,
              "#d8576b"
             ],
             [
              0.6666666666666666,
              "#ed7953"
             ],
             [
              0.7777777777777778,
              "#fb9f3a"
             ],
             [
              0.8888888888888888,
              "#fdca26"
             ],
             [
              1,
              "#f0f921"
             ]
            ],
            "type": "contour"
           }
          ],
          "contourcarpet": [
           {
            "colorbar": {
             "outlinewidth": 0,
             "ticks": ""
            },
            "type": "contourcarpet"
           }
          ],
          "heatmap": [
           {
            "colorbar": {
             "outlinewidth": 0,
             "ticks": ""
            },
            "colorscale": [
             [
              0,
              "#0d0887"
             ],
             [
              0.1111111111111111,
              "#46039f"
             ],
             [
              0.2222222222222222,
              "#7201a8"
             ],
             [
              0.3333333333333333,
              "#9c179e"
             ],
             [
              0.4444444444444444,
              "#bd3786"
             ],
             [
              0.5555555555555556,
              "#d8576b"
             ],
             [
              0.6666666666666666,
              "#ed7953"
             ],
             [
              0.7777777777777778,
              "#fb9f3a"
             ],
             [
              0.8888888888888888,
              "#fdca26"
             ],
             [
              1,
              "#f0f921"
             ]
            ],
            "type": "heatmap"
           }
          ],
          "heatmapgl": [
           {
            "colorbar": {
             "outlinewidth": 0,
             "ticks": ""
            },
            "colorscale": [
             [
              0,
              "#0d0887"
             ],
             [
              0.1111111111111111,
              "#46039f"
             ],
             [
              0.2222222222222222,
              "#7201a8"
             ],
             [
              0.3333333333333333,
              "#9c179e"
             ],
             [
              0.4444444444444444,
              "#bd3786"
             ],
             [
              0.5555555555555556,
              "#d8576b"
             ],
             [
              0.6666666666666666,
              "#ed7953"
             ],
             [
              0.7777777777777778,
              "#fb9f3a"
             ],
             [
              0.8888888888888888,
              "#fdca26"
             ],
             [
              1,
              "#f0f921"
             ]
            ],
            "type": "heatmapgl"
           }
          ],
          "histogram": [
           {
            "marker": {
             "colorbar": {
              "outlinewidth": 0,
              "ticks": ""
             }
            },
            "type": "histogram"
           }
          ],
          "histogram2d": [
           {
            "colorbar": {
             "outlinewidth": 0,
             "ticks": ""
            },
            "colorscale": [
             [
              0,
              "#0d0887"
             ],
             [
              0.1111111111111111,
              "#46039f"
             ],
             [
              0.2222222222222222,
              "#7201a8"
             ],
             [
              0.3333333333333333,
              "#9c179e"
             ],
             [
              0.4444444444444444,
              "#bd3786"
             ],
             [
              0.5555555555555556,
              "#d8576b"
             ],
             [
              0.6666666666666666,
              "#ed7953"
             ],
             [
              0.7777777777777778,
              "#fb9f3a"
             ],
             [
              0.8888888888888888,
              "#fdca26"
             ],
             [
              1,
              "#f0f921"
             ]
            ],
            "type": "histogram2d"
           }
          ],
          "histogram2dcontour": [
           {
            "colorbar": {
             "outlinewidth": 0,
             "ticks": ""
            },
            "colorscale": [
             [
              0,
              "#0d0887"
             ],
             [
              0.1111111111111111,
              "#46039f"
             ],
             [
              0.2222222222222222,
              "#7201a8"
             ],
             [
              0.3333333333333333,
              "#9c179e"
             ],
             [
              0.4444444444444444,
              "#bd3786"
             ],
             [
              0.5555555555555556,
              "#d8576b"
             ],
             [
              0.6666666666666666,
              "#ed7953"
             ],
             [
              0.7777777777777778,
              "#fb9f3a"
             ],
             [
              0.8888888888888888,
              "#fdca26"
             ],
             [
              1,
              "#f0f921"
             ]
            ],
            "type": "histogram2dcontour"
           }
          ],
          "mesh3d": [
           {
            "colorbar": {
             "outlinewidth": 0,
             "ticks": ""
            },
            "type": "mesh3d"
           }
          ],
          "parcoords": [
           {
            "line": {
             "colorbar": {
              "outlinewidth": 0,
              "ticks": ""
             }
            },
            "type": "parcoords"
           }
          ],
          "scatter": [
           {
            "marker": {
             "colorbar": {
              "outlinewidth": 0,
              "ticks": ""
             }
            },
            "type": "scatter"
           }
          ],
          "scatter3d": [
           {
            "line": {
             "colorbar": {
              "outlinewidth": 0,
              "ticks": ""
             }
            },
            "marker": {
             "colorbar": {
              "outlinewidth": 0,
              "ticks": ""
             }
            },
            "type": "scatter3d"
           }
          ],
          "scattercarpet": [
           {
            "marker": {
             "colorbar": {
              "outlinewidth": 0,
              "ticks": ""
             }
            },
            "type": "scattercarpet"
           }
          ],
          "scattergeo": [
           {
            "marker": {
             "colorbar": {
              "outlinewidth": 0,
              "ticks": ""
             }
            },
            "type": "scattergeo"
           }
          ],
          "scattergl": [
           {
            "marker": {
             "colorbar": {
              "outlinewidth": 0,
              "ticks": ""
             }
            },
            "type": "scattergl"
           }
          ],
          "scattermapbox": [
           {
            "marker": {
             "colorbar": {
              "outlinewidth": 0,
              "ticks": ""
             }
            },
            "type": "scattermapbox"
           }
          ],
          "scatterpolar": [
           {
            "marker": {
             "colorbar": {
              "outlinewidth": 0,
              "ticks": ""
             }
            },
            "type": "scatterpolar"
           }
          ],
          "scatterpolargl": [
           {
            "marker": {
             "colorbar": {
              "outlinewidth": 0,
              "ticks": ""
             }
            },
            "type": "scatterpolargl"
           }
          ],
          "scatterternary": [
           {
            "marker": {
             "colorbar": {
              "outlinewidth": 0,
              "ticks": ""
             }
            },
            "type": "scatterternary"
           }
          ],
          "surface": [
           {
            "colorbar": {
             "outlinewidth": 0,
             "ticks": ""
            },
            "colorscale": [
             [
              0,
              "#0d0887"
             ],
             [
              0.1111111111111111,
              "#46039f"
             ],
             [
              0.2222222222222222,
              "#7201a8"
             ],
             [
              0.3333333333333333,
              "#9c179e"
             ],
             [
              0.4444444444444444,
              "#bd3786"
             ],
             [
              0.5555555555555556,
              "#d8576b"
             ],
             [
              0.6666666666666666,
              "#ed7953"
             ],
             [
              0.7777777777777778,
              "#fb9f3a"
             ],
             [
              0.8888888888888888,
              "#fdca26"
             ],
             [
              1,
              "#f0f921"
             ]
            ],
            "type": "surface"
           }
          ],
          "table": [
           {
            "cells": {
             "fill": {
              "color": "#EBF0F8"
             },
             "line": {
              "color": "white"
             }
            },
            "header": {
             "fill": {
              "color": "#C8D4E3"
             },
             "line": {
              "color": "white"
             }
            },
            "type": "table"
           }
          ]
         },
         "layout": {
          "annotationdefaults": {
           "arrowcolor": "#2a3f5f",
           "arrowhead": 0,
           "arrowwidth": 1
          },
          "colorscale": {
           "diverging": [
            [
             0,
             "#8e0152"
            ],
            [
             0.1,
             "#c51b7d"
            ],
            [
             0.2,
             "#de77ae"
            ],
            [
             0.3,
             "#f1b6da"
            ],
            [
             0.4,
             "#fde0ef"
            ],
            [
             0.5,
             "#f7f7f7"
            ],
            [
             0.6,
             "#e6f5d0"
            ],
            [
             0.7,
             "#b8e186"
            ],
            [
             0.8,
             "#7fbc41"
            ],
            [
             0.9,
             "#4d9221"
            ],
            [
             1,
             "#276419"
            ]
           ],
           "sequential": [
            [
             0,
             "#0d0887"
            ],
            [
             0.1111111111111111,
             "#46039f"
            ],
            [
             0.2222222222222222,
             "#7201a8"
            ],
            [
             0.3333333333333333,
             "#9c179e"
            ],
            [
             0.4444444444444444,
             "#bd3786"
            ],
            [
             0.5555555555555556,
             "#d8576b"
            ],
            [
             0.6666666666666666,
             "#ed7953"
            ],
            [
             0.7777777777777778,
             "#fb9f3a"
            ],
            [
             0.8888888888888888,
             "#fdca26"
            ],
            [
             1,
             "#f0f921"
            ]
           ],
           "sequentialminus": [
            [
             0,
             "#0d0887"
            ],
            [
             0.1111111111111111,
             "#46039f"
            ],
            [
             0.2222222222222222,
             "#7201a8"
            ],
            [
             0.3333333333333333,
             "#9c179e"
            ],
            [
             0.4444444444444444,
             "#bd3786"
            ],
            [
             0.5555555555555556,
             "#d8576b"
            ],
            [
             0.6666666666666666,
             "#ed7953"
            ],
            [
             0.7777777777777778,
             "#fb9f3a"
            ],
            [
             0.8888888888888888,
             "#fdca26"
            ],
            [
             1,
             "#f0f921"
            ]
           ]
          },
          "colorway": [
           "#636efa",
           "#EF553B",
           "#00cc96",
           "#ab63fa",
           "#FFA15A",
           "#19d3f3",
           "#FF6692",
           "#B6E880",
           "#FF97FF",
           "#FECB52"
          ],
          "font": {
           "color": "#2a3f5f"
          },
          "geo": {
           "bgcolor": "white",
           "lakecolor": "white",
           "landcolor": "#E5ECF6",
           "showlakes": true,
           "showland": true,
           "subunitcolor": "white"
          },
          "hoverlabel": {
           "align": "left"
          },
          "hovermode": "closest",
          "mapbox": {
           "style": "light"
          },
          "paper_bgcolor": "white",
          "plot_bgcolor": "#E5ECF6",
          "polar": {
           "angularaxis": {
            "gridcolor": "white",
            "linecolor": "white",
            "ticks": ""
           },
           "bgcolor": "#E5ECF6",
           "radialaxis": {
            "gridcolor": "white",
            "linecolor": "white",
            "ticks": ""
           }
          },
          "scene": {
           "xaxis": {
            "backgroundcolor": "#E5ECF6",
            "gridcolor": "white",
            "gridwidth": 2,
            "linecolor": "white",
            "showbackground": true,
            "ticks": "",
            "zerolinecolor": "white"
           },
           "yaxis": {
            "backgroundcolor": "#E5ECF6",
            "gridcolor": "white",
            "gridwidth": 2,
            "linecolor": "white",
            "showbackground": true,
            "ticks": "",
            "zerolinecolor": "white"
           },
           "zaxis": {
            "backgroundcolor": "#E5ECF6",
            "gridcolor": "white",
            "gridwidth": 2,
            "linecolor": "white",
            "showbackground": true,
            "ticks": "",
            "zerolinecolor": "white"
           }
          },
          "shapedefaults": {
           "line": {
            "color": "#2a3f5f"
           }
          },
          "ternary": {
           "aaxis": {
            "gridcolor": "white",
            "linecolor": "white",
            "ticks": ""
           },
           "baxis": {
            "gridcolor": "white",
            "linecolor": "white",
            "ticks": ""
           },
           "bgcolor": "#E5ECF6",
           "caxis": {
            "gridcolor": "white",
            "linecolor": "white",
            "ticks": ""
           }
          },
          "title": {
           "x": 0.05
          },
          "xaxis": {
           "automargin": true,
           "gridcolor": "white",
           "linecolor": "white",
           "ticks": "",
           "zerolinecolor": "white",
           "zerolinewidth": 2
          },
          "yaxis": {
           "automargin": true,
           "gridcolor": "white",
           "linecolor": "white",
           "ticks": "",
           "zerolinecolor": "white",
           "zerolinewidth": 2
          }
         }
        }
       }
      }
     },
     "metadata": {}
    }
   ],
   "source": [
    "labels=clusters.labels_\n",
    "fig=go.Figure()\n",
    "fig.add_trace(go.Scatter3d(x=df['Intensidade_de_cor'],y=df['Alcool'],z=df['Proline'],\n",
    "                            mode='markers',\n",
    "                            marker=dict(color=clusters.labels_.astype(float)),\n",
    "                            text=labels))"
   ]
  },
  {
   "cell_type": "code",
   "execution_count": null,
   "metadata": {},
   "outputs": [],
   "source": [
    "#coeficiente de silhueta\n",
    "# coesão - grupo\n",
    "# dessimilaridade em relação aos outros grups"
   ]
  },
  {
   "cell_type": "code",
   "execution_count": 41,
   "metadata": {},
   "outputs": [
    {
     "output_type": "execute_result",
     "data": {
      "text/plain": [
       "array([2, 3, 4, 5, 6, 7, 8, 9])"
      ]
     },
     "metadata": {},
     "execution_count": 41
    }
   ],
   "source": [
    "faixa_n_cluster=np.arange(2,10)\n",
    "faixa_n_cluster"
   ]
  },
  {
   "cell_type": "code",
   "execution_count": 52,
   "metadata": {},
   "outputs": [],
   "source": [
    "valores_silhueta=[]\n",
    "dataframe=df\n",
    "for i in faixa_n_cluster:\n",
    "    agrupador=KMeans(n_clusters=i)\n",
    "    labels=agrupador.fit_predict(dataframe)\n",
    "    media_silhueta=silhouette_score(dataframe,labels)\n",
    "    valores_silhueta.append(media_silhueta)\n"
   ]
  },
  {
   "cell_type": "code",
   "execution_count": 53,
   "metadata": {},
   "outputs": [
    {
     "output_type": "display_data",
     "data": {
      "application/vnd.plotly.v1+json": {
       "config": {
        "plotlyServerURL": "https://plot.ly"
       },
       "data": [
        {
         "type": "scatter",
         "x": [
          2,
          3,
          4,
          5,
          6,
          7,
          8,
          9
         ],
         "y": [
          0.3430805812949669,
          0.3695061849273629,
          0.30437369492176863,
          0.29556118031647205,
          0.20363602918398016,
          0.23948991715358203,
          0.1353819269400848,
          0.13453096109063067
         ]
        }
       ],
       "layout": {
        "template": {
         "data": {
          "bar": [
           {
            "error_x": {
             "color": "#2a3f5f"
            },
            "error_y": {
             "color": "#2a3f5f"
            },
            "marker": {
             "line": {
              "color": "#E5ECF6",
              "width": 0.5
             }
            },
            "type": "bar"
           }
          ],
          "barpolar": [
           {
            "marker": {
             "line": {
              "color": "#E5ECF6",
              "width": 0.5
             }
            },
            "type": "barpolar"
           }
          ],
          "carpet": [
           {
            "aaxis": {
             "endlinecolor": "#2a3f5f",
             "gridcolor": "white",
             "linecolor": "white",
             "minorgridcolor": "white",
             "startlinecolor": "#2a3f5f"
            },
            "baxis": {
             "endlinecolor": "#2a3f5f",
             "gridcolor": "white",
             "linecolor": "white",
             "minorgridcolor": "white",
             "startlinecolor": "#2a3f5f"
            },
            "type": "carpet"
           }
          ],
          "choropleth": [
           {
            "colorbar": {
             "outlinewidth": 0,
             "ticks": ""
            },
            "type": "choropleth"
           }
          ],
          "contour": [
           {
            "colorbar": {
             "outlinewidth": 0,
             "ticks": ""
            },
            "colorscale": [
             [
              0,
              "#0d0887"
             ],
             [
              0.1111111111111111,
              "#46039f"
             ],
             [
              0.2222222222222222,
              "#7201a8"
             ],
             [
              0.3333333333333333,
              "#9c179e"
             ],
             [
              0.4444444444444444,
              "#bd3786"
             ],
             [
              0.5555555555555556,
              "#d8576b"
             ],
             [
              0.6666666666666666,
              "#ed7953"
             ],
             [
              0.7777777777777778,
              "#fb9f3a"
             ],
             [
              0.8888888888888888,
              "#fdca26"
             ],
             [
              1,
              "#f0f921"
             ]
            ],
            "type": "contour"
           }
          ],
          "contourcarpet": [
           {
            "colorbar": {
             "outlinewidth": 0,
             "ticks": ""
            },
            "type": "contourcarpet"
           }
          ],
          "heatmap": [
           {
            "colorbar": {
             "outlinewidth": 0,
             "ticks": ""
            },
            "colorscale": [
             [
              0,
              "#0d0887"
             ],
             [
              0.1111111111111111,
              "#46039f"
             ],
             [
              0.2222222222222222,
              "#7201a8"
             ],
             [
              0.3333333333333333,
              "#9c179e"
             ],
             [
              0.4444444444444444,
              "#bd3786"
             ],
             [
              0.5555555555555556,
              "#d8576b"
             ],
             [
              0.6666666666666666,
              "#ed7953"
             ],
             [
              0.7777777777777778,
              "#fb9f3a"
             ],
             [
              0.8888888888888888,
              "#fdca26"
             ],
             [
              1,
              "#f0f921"
             ]
            ],
            "type": "heatmap"
           }
          ],
          "heatmapgl": [
           {
            "colorbar": {
             "outlinewidth": 0,
             "ticks": ""
            },
            "colorscale": [
             [
              0,
              "#0d0887"
             ],
             [
              0.1111111111111111,
              "#46039f"
             ],
             [
              0.2222222222222222,
              "#7201a8"
             ],
             [
              0.3333333333333333,
              "#9c179e"
             ],
             [
              0.4444444444444444,
              "#bd3786"
             ],
             [
              0.5555555555555556,
              "#d8576b"
             ],
             [
              0.6666666666666666,
              "#ed7953"
             ],
             [
              0.7777777777777778,
              "#fb9f3a"
             ],
             [
              0.8888888888888888,
              "#fdca26"
             ],
             [
              1,
              "#f0f921"
             ]
            ],
            "type": "heatmapgl"
           }
          ],
          "histogram": [
           {
            "marker": {
             "colorbar": {
              "outlinewidth": 0,
              "ticks": ""
             }
            },
            "type": "histogram"
           }
          ],
          "histogram2d": [
           {
            "colorbar": {
             "outlinewidth": 0,
             "ticks": ""
            },
            "colorscale": [
             [
              0,
              "#0d0887"
             ],
             [
              0.1111111111111111,
              "#46039f"
             ],
             [
              0.2222222222222222,
              "#7201a8"
             ],
             [
              0.3333333333333333,
              "#9c179e"
             ],
             [
              0.4444444444444444,
              "#bd3786"
             ],
             [
              0.5555555555555556,
              "#d8576b"
             ],
             [
              0.6666666666666666,
              "#ed7953"
             ],
             [
              0.7777777777777778,
              "#fb9f3a"
             ],
             [
              0.8888888888888888,
              "#fdca26"
             ],
             [
              1,
              "#f0f921"
             ]
            ],
            "type": "histogram2d"
           }
          ],
          "histogram2dcontour": [
           {
            "colorbar": {
             "outlinewidth": 0,
             "ticks": ""
            },
            "colorscale": [
             [
              0,
              "#0d0887"
             ],
             [
              0.1111111111111111,
              "#46039f"
             ],
             [
              0.2222222222222222,
              "#7201a8"
             ],
             [
              0.3333333333333333,
              "#9c179e"
             ],
             [
              0.4444444444444444,
              "#bd3786"
             ],
             [
              0.5555555555555556,
              "#d8576b"
             ],
             [
              0.6666666666666666,
              "#ed7953"
             ],
             [
              0.7777777777777778,
              "#fb9f3a"
             ],
             [
              0.8888888888888888,
              "#fdca26"
             ],
             [
              1,
              "#f0f921"
             ]
            ],
            "type": "histogram2dcontour"
           }
          ],
          "mesh3d": [
           {
            "colorbar": {
             "outlinewidth": 0,
             "ticks": ""
            },
            "type": "mesh3d"
           }
          ],
          "parcoords": [
           {
            "line": {
             "colorbar": {
              "outlinewidth": 0,
              "ticks": ""
             }
            },
            "type": "parcoords"
           }
          ],
          "scatter": [
           {
            "marker": {
             "colorbar": {
              "outlinewidth": 0,
              "ticks": ""
             }
            },
            "type": "scatter"
           }
          ],
          "scatter3d": [
           {
            "line": {
             "colorbar": {
              "outlinewidth": 0,
              "ticks": ""
             }
            },
            "marker": {
             "colorbar": {
              "outlinewidth": 0,
              "ticks": ""
             }
            },
            "type": "scatter3d"
           }
          ],
          "scattercarpet": [
           {
            "marker": {
             "colorbar": {
              "outlinewidth": 0,
              "ticks": ""
             }
            },
            "type": "scattercarpet"
           }
          ],
          "scattergeo": [
           {
            "marker": {
             "colorbar": {
              "outlinewidth": 0,
              "ticks": ""
             }
            },
            "type": "scattergeo"
           }
          ],
          "scattergl": [
           {
            "marker": {
             "colorbar": {
              "outlinewidth": 0,
              "ticks": ""
             }
            },
            "type": "scattergl"
           }
          ],
          "scattermapbox": [
           {
            "marker": {
             "colorbar": {
              "outlinewidth": 0,
              "ticks": ""
             }
            },
            "type": "scattermapbox"
           }
          ],
          "scatterpolar": [
           {
            "marker": {
             "colorbar": {
              "outlinewidth": 0,
              "ticks": ""
             }
            },
            "type": "scatterpolar"
           }
          ],
          "scatterpolargl": [
           {
            "marker": {
             "colorbar": {
              "outlinewidth": 0,
              "ticks": ""
             }
            },
            "type": "scatterpolargl"
           }
          ],
          "scatterternary": [
           {
            "marker": {
             "colorbar": {
              "outlinewidth": 0,
              "ticks": ""
             }
            },
            "type": "scatterternary"
           }
          ],
          "surface": [
           {
            "colorbar": {
             "outlinewidth": 0,
             "ticks": ""
            },
            "colorscale": [
             [
              0,
              "#0d0887"
             ],
             [
              0.1111111111111111,
              "#46039f"
             ],
             [
              0.2222222222222222,
              "#7201a8"
             ],
             [
              0.3333333333333333,
              "#9c179e"
             ],
             [
              0.4444444444444444,
              "#bd3786"
             ],
             [
              0.5555555555555556,
              "#d8576b"
             ],
             [
              0.6666666666666666,
              "#ed7953"
             ],
             [
              0.7777777777777778,
              "#fb9f3a"
             ],
             [
              0.8888888888888888,
              "#fdca26"
             ],
             [
              1,
              "#f0f921"
             ]
            ],
            "type": "surface"
           }
          ],
          "table": [
           {
            "cells": {
             "fill": {
              "color": "#EBF0F8"
             },
             "line": {
              "color": "white"
             }
            },
            "header": {
             "fill": {
              "color": "#C8D4E3"
             },
             "line": {
              "color": "white"
             }
            },
            "type": "table"
           }
          ]
         },
         "layout": {
          "annotationdefaults": {
           "arrowcolor": "#2a3f5f",
           "arrowhead": 0,
           "arrowwidth": 1
          },
          "colorscale": {
           "diverging": [
            [
             0,
             "#8e0152"
            ],
            [
             0.1,
             "#c51b7d"
            ],
            [
             0.2,
             "#de77ae"
            ],
            [
             0.3,
             "#f1b6da"
            ],
            [
             0.4,
             "#fde0ef"
            ],
            [
             0.5,
             "#f7f7f7"
            ],
            [
             0.6,
             "#e6f5d0"
            ],
            [
             0.7,
             "#b8e186"
            ],
            [
             0.8,
             "#7fbc41"
            ],
            [
             0.9,
             "#4d9221"
            ],
            [
             1,
             "#276419"
            ]
           ],
           "sequential": [
            [
             0,
             "#0d0887"
            ],
            [
             0.1111111111111111,
             "#46039f"
            ],
            [
             0.2222222222222222,
             "#7201a8"
            ],
            [
             0.3333333333333333,
             "#9c179e"
            ],
            [
             0.4444444444444444,
             "#bd3786"
            ],
            [
             0.5555555555555556,
             "#d8576b"
            ],
            [
             0.6666666666666666,
             "#ed7953"
            ],
            [
             0.7777777777777778,
             "#fb9f3a"
            ],
            [
             0.8888888888888888,
             "#fdca26"
            ],
            [
             1,
             "#f0f921"
            ]
           ],
           "sequentialminus": [
            [
             0,
             "#0d0887"
            ],
            [
             0.1111111111111111,
             "#46039f"
            ],
            [
             0.2222222222222222,
             "#7201a8"
            ],
            [
             0.3333333333333333,
             "#9c179e"
            ],
            [
             0.4444444444444444,
             "#bd3786"
            ],
            [
             0.5555555555555556,
             "#d8576b"
            ],
            [
             0.6666666666666666,
             "#ed7953"
            ],
            [
             0.7777777777777778,
             "#fb9f3a"
            ],
            [
             0.8888888888888888,
             "#fdca26"
            ],
            [
             1,
             "#f0f921"
            ]
           ]
          },
          "colorway": [
           "#636efa",
           "#EF553B",
           "#00cc96",
           "#ab63fa",
           "#FFA15A",
           "#19d3f3",
           "#FF6692",
           "#B6E880",
           "#FF97FF",
           "#FECB52"
          ],
          "font": {
           "color": "#2a3f5f"
          },
          "geo": {
           "bgcolor": "white",
           "lakecolor": "white",
           "landcolor": "#E5ECF6",
           "showlakes": true,
           "showland": true,
           "subunitcolor": "white"
          },
          "hoverlabel": {
           "align": "left"
          },
          "hovermode": "closest",
          "mapbox": {
           "style": "light"
          },
          "paper_bgcolor": "white",
          "plot_bgcolor": "#E5ECF6",
          "polar": {
           "angularaxis": {
            "gridcolor": "white",
            "linecolor": "white",
            "ticks": ""
           },
           "bgcolor": "#E5ECF6",
           "radialaxis": {
            "gridcolor": "white",
            "linecolor": "white",
            "ticks": ""
           }
          },
          "scene": {
           "xaxis": {
            "backgroundcolor": "#E5ECF6",
            "gridcolor": "white",
            "gridwidth": 2,
            "linecolor": "white",
            "showbackground": true,
            "ticks": "",
            "zerolinecolor": "white"
           },
           "yaxis": {
            "backgroundcolor": "#E5ECF6",
            "gridcolor": "white",
            "gridwidth": 2,
            "linecolor": "white",
            "showbackground": true,
            "ticks": "",
            "zerolinecolor": "white"
           },
           "zaxis": {
            "backgroundcolor": "#E5ECF6",
            "gridcolor": "white",
            "gridwidth": 2,
            "linecolor": "white",
            "showbackground": true,
            "ticks": "",
            "zerolinecolor": "white"
           }
          },
          "shapedefaults": {
           "line": {
            "color": "#2a3f5f"
           }
          },
          "ternary": {
           "aaxis": {
            "gridcolor": "white",
            "linecolor": "white",
            "ticks": ""
           },
           "baxis": {
            "gridcolor": "white",
            "linecolor": "white",
            "ticks": ""
           },
           "bgcolor": "#E5ECF6",
           "caxis": {
            "gridcolor": "white",
            "linecolor": "white",
            "ticks": ""
           }
          },
          "title": {
           "x": 0.05
          },
          "xaxis": {
           "automargin": true,
           "gridcolor": "white",
           "linecolor": "white",
           "ticks": "",
           "zerolinecolor": "white",
           "zerolinewidth": 2
          },
          "yaxis": {
           "automargin": true,
           "gridcolor": "white",
           "linecolor": "white",
           "ticks": "",
           "zerolinecolor": "white",
           "zerolinewidth": 2
          }
         }
        },
        "title": {
         "text": "Valores de silhueta médio"
        }
       }
      }
     },
     "metadata": {}
    }
   ],
   "source": [
    "fig=go.Figure()\n",
    "fig.add_trace(go.Scatter(x=faixa_n_cluster,y=valores_silhueta))\n",
    "fig.update_layout(title='Valores de silhueta médio')"
   ]
  },
  {
   "cell_type": "code",
   "execution_count": 84,
   "metadata": {},
   "outputs": [
    {
     "output_type": "display_data",
     "data": {
      "application/vnd.plotly.v1+json": {
       "config": {
        "plotlyServerURL": "https://plot.ly"
       },
       "data": [
        {
         "type": "scatter",
         "x": [
          2,
          3,
          4,
          5,
          6,
          7,
          8,
          9
         ],
         "y": [
          0.6568490946514269,
          0.5711220218931754,
          0.562073062222387,
          0.5489691240440042,
          0.5656105961617426,
          0.5615815711618605,
          0.5369338502341924,
          0.5278770615127655
         ]
        }
       ],
       "layout": {
        "template": {
         "data": {
          "bar": [
           {
            "error_x": {
             "color": "#2a3f5f"
            },
            "error_y": {
             "color": "#2a3f5f"
            },
            "marker": {
             "line": {
              "color": "#E5ECF6",
              "width": 0.5
             }
            },
            "type": "bar"
           }
          ],
          "barpolar": [
           {
            "marker": {
             "line": {
              "color": "#E5ECF6",
              "width": 0.5
             }
            },
            "type": "barpolar"
           }
          ],
          "carpet": [
           {
            "aaxis": {
             "endlinecolor": "#2a3f5f",
             "gridcolor": "white",
             "linecolor": "white",
             "minorgridcolor": "white",
             "startlinecolor": "#2a3f5f"
            },
            "baxis": {
             "endlinecolor": "#2a3f5f",
             "gridcolor": "white",
             "linecolor": "white",
             "minorgridcolor": "white",
             "startlinecolor": "#2a3f5f"
            },
            "type": "carpet"
           }
          ],
          "choropleth": [
           {
            "colorbar": {
             "outlinewidth": 0,
             "ticks": ""
            },
            "type": "choropleth"
           }
          ],
          "contour": [
           {
            "colorbar": {
             "outlinewidth": 0,
             "ticks": ""
            },
            "colorscale": [
             [
              0,
              "#0d0887"
             ],
             [
              0.1111111111111111,
              "#46039f"
             ],
             [
              0.2222222222222222,
              "#7201a8"
             ],
             [
              0.3333333333333333,
              "#9c179e"
             ],
             [
              0.4444444444444444,
              "#bd3786"
             ],
             [
              0.5555555555555556,
              "#d8576b"
             ],
             [
              0.6666666666666666,
              "#ed7953"
             ],
             [
              0.7777777777777778,
              "#fb9f3a"
             ],
             [
              0.8888888888888888,
              "#fdca26"
             ],
             [
              1,
              "#f0f921"
             ]
            ],
            "type": "contour"
           }
          ],
          "contourcarpet": [
           {
            "colorbar": {
             "outlinewidth": 0,
             "ticks": ""
            },
            "type": "contourcarpet"
           }
          ],
          "heatmap": [
           {
            "colorbar": {
             "outlinewidth": 0,
             "ticks": ""
            },
            "colorscale": [
             [
              0,
              "#0d0887"
             ],
             [
              0.1111111111111111,
              "#46039f"
             ],
             [
              0.2222222222222222,
              "#7201a8"
             ],
             [
              0.3333333333333333,
              "#9c179e"
             ],
             [
              0.4444444444444444,
              "#bd3786"
             ],
             [
              0.5555555555555556,
              "#d8576b"
             ],
             [
              0.6666666666666666,
              "#ed7953"
             ],
             [
              0.7777777777777778,
              "#fb9f3a"
             ],
             [
              0.8888888888888888,
              "#fdca26"
             ],
             [
              1,
              "#f0f921"
             ]
            ],
            "type": "heatmap"
           }
          ],
          "heatmapgl": [
           {
            "colorbar": {
             "outlinewidth": 0,
             "ticks": ""
            },
            "colorscale": [
             [
              0,
              "#0d0887"
             ],
             [
              0.1111111111111111,
              "#46039f"
             ],
             [
              0.2222222222222222,
              "#7201a8"
             ],
             [
              0.3333333333333333,
              "#9c179e"
             ],
             [
              0.4444444444444444,
              "#bd3786"
             ],
             [
              0.5555555555555556,
              "#d8576b"
             ],
             [
              0.6666666666666666,
              "#ed7953"
             ],
             [
              0.7777777777777778,
              "#fb9f3a"
             ],
             [
              0.8888888888888888,
              "#fdca26"
             ],
             [
              1,
              "#f0f921"
             ]
            ],
            "type": "heatmapgl"
           }
          ],
          "histogram": [
           {
            "marker": {
             "colorbar": {
              "outlinewidth": 0,
              "ticks": ""
             }
            },
            "type": "histogram"
           }
          ],
          "histogram2d": [
           {
            "colorbar": {
             "outlinewidth": 0,
             "ticks": ""
            },
            "colorscale": [
             [
              0,
              "#0d0887"
             ],
             [
              0.1111111111111111,
              "#46039f"
             ],
             [
              0.2222222222222222,
              "#7201a8"
             ],
             [
              0.3333333333333333,
              "#9c179e"
             ],
             [
              0.4444444444444444,
              "#bd3786"
             ],
             [
              0.5555555555555556,
              "#d8576b"
             ],
             [
              0.6666666666666666,
              "#ed7953"
             ],
             [
              0.7777777777777778,
              "#fb9f3a"
             ],
             [
              0.8888888888888888,
              "#fdca26"
             ],
             [
              1,
              "#f0f921"
             ]
            ],
            "type": "histogram2d"
           }
          ],
          "histogram2dcontour": [
           {
            "colorbar": {
             "outlinewidth": 0,
             "ticks": ""
            },
            "colorscale": [
             [
              0,
              "#0d0887"
             ],
             [
              0.1111111111111111,
              "#46039f"
             ],
             [
              0.2222222222222222,
              "#7201a8"
             ],
             [
              0.3333333333333333,
              "#9c179e"
             ],
             [
              0.4444444444444444,
              "#bd3786"
             ],
             [
              0.5555555555555556,
              "#d8576b"
             ],
             [
              0.6666666666666666,
              "#ed7953"
             ],
             [
              0.7777777777777778,
              "#fb9f3a"
             ],
             [
              0.8888888888888888,
              "#fdca26"
             ],
             [
              1,
              "#f0f921"
             ]
            ],
            "type": "histogram2dcontour"
           }
          ],
          "mesh3d": [
           {
            "colorbar": {
             "outlinewidth": 0,
             "ticks": ""
            },
            "type": "mesh3d"
           }
          ],
          "parcoords": [
           {
            "line": {
             "colorbar": {
              "outlinewidth": 0,
              "ticks": ""
             }
            },
            "type": "parcoords"
           }
          ],
          "scatter": [
           {
            "marker": {
             "colorbar": {
              "outlinewidth": 0,
              "ticks": ""
             }
            },
            "type": "scatter"
           }
          ],
          "scatter3d": [
           {
            "line": {
             "colorbar": {
              "outlinewidth": 0,
              "ticks": ""
             }
            },
            "marker": {
             "colorbar": {
              "outlinewidth": 0,
              "ticks": ""
             }
            },
            "type": "scatter3d"
           }
          ],
          "scattercarpet": [
           {
            "marker": {
             "colorbar": {
              "outlinewidth": 0,
              "ticks": ""
             }
            },
            "type": "scattercarpet"
           }
          ],
          "scattergeo": [
           {
            "marker": {
             "colorbar": {
              "outlinewidth": 0,
              "ticks": ""
             }
            },
            "type": "scattergeo"
           }
          ],
          "scattergl": [
           {
            "marker": {
             "colorbar": {
              "outlinewidth": 0,
              "ticks": ""
             }
            },
            "type": "scattergl"
           }
          ],
          "scattermapbox": [
           {
            "marker": {
             "colorbar": {
              "outlinewidth": 0,
              "ticks": ""
             }
            },
            "type": "scattermapbox"
           }
          ],
          "scatterpolar": [
           {
            "marker": {
             "colorbar": {
              "outlinewidth": 0,
              "ticks": ""
             }
            },
            "type": "scatterpolar"
           }
          ],
          "scatterpolargl": [
           {
            "marker": {
             "colorbar": {
              "outlinewidth": 0,
              "ticks": ""
             }
            },
            "type": "scatterpolargl"
           }
          ],
          "scatterternary": [
           {
            "marker": {
             "colorbar": {
              "outlinewidth": 0,
              "ticks": ""
             }
            },
            "type": "scatterternary"
           }
          ],
          "surface": [
           {
            "colorbar": {
             "outlinewidth": 0,
             "ticks": ""
            },
            "colorscale": [
             [
              0,
              "#0d0887"
             ],
             [
              0.1111111111111111,
              "#46039f"
             ],
             [
              0.2222222222222222,
              "#7201a8"
             ],
             [
              0.3333333333333333,
              "#9c179e"
             ],
             [
              0.4444444444444444,
              "#bd3786"
             ],
             [
              0.5555555555555556,
              "#d8576b"
             ],
             [
              0.6666666666666666,
              "#ed7953"
             ],
             [
              0.7777777777777778,
              "#fb9f3a"
             ],
             [
              0.8888888888888888,
              "#fdca26"
             ],
             [
              1,
              "#f0f921"
             ]
            ],
            "type": "surface"
           }
          ],
          "table": [
           {
            "cells": {
             "fill": {
              "color": "#EBF0F8"
             },
             "line": {
              "color": "white"
             }
            },
            "header": {
             "fill": {
              "color": "#C8D4E3"
             },
             "line": {
              "color": "white"
             }
            },
            "type": "table"
           }
          ]
         },
         "layout": {
          "annotationdefaults": {
           "arrowcolor": "#2a3f5f",
           "arrowhead": 0,
           "arrowwidth": 1
          },
          "colorscale": {
           "diverging": [
            [
             0,
             "#8e0152"
            ],
            [
             0.1,
             "#c51b7d"
            ],
            [
             0.2,
             "#de77ae"
            ],
            [
             0.3,
             "#f1b6da"
            ],
            [
             0.4,
             "#fde0ef"
            ],
            [
             0.5,
             "#f7f7f7"
            ],
            [
             0.6,
             "#e6f5d0"
            ],
            [
             0.7,
             "#b8e186"
            ],
            [
             0.8,
             "#7fbc41"
            ],
            [
             0.9,
             "#4d9221"
            ],
            [
             1,
             "#276419"
            ]
           ],
           "sequential": [
            [
             0,
             "#0d0887"
            ],
            [
             0.1111111111111111,
             "#46039f"
            ],
            [
             0.2222222222222222,
             "#7201a8"
            ],
            [
             0.3333333333333333,
             "#9c179e"
            ],
            [
             0.4444444444444444,
             "#bd3786"
            ],
            [
             0.5555555555555556,
             "#d8576b"
            ],
            [
             0.6666666666666666,
             "#ed7953"
            ],
            [
             0.7777777777777778,
             "#fb9f3a"
            ],
            [
             0.8888888888888888,
             "#fdca26"
            ],
            [
             1,
             "#f0f921"
            ]
           ],
           "sequentialminus": [
            [
             0,
             "#0d0887"
            ],
            [
             0.1111111111111111,
             "#46039f"
            ],
            [
             0.2222222222222222,
             "#7201a8"
            ],
            [
             0.3333333333333333,
             "#9c179e"
            ],
            [
             0.4444444444444444,
             "#bd3786"
            ],
            [
             0.5555555555555556,
             "#d8576b"
            ],
            [
             0.6666666666666666,
             "#ed7953"
            ],
            [
             0.7777777777777778,
             "#fb9f3a"
            ],
            [
             0.8888888888888888,
             "#fdca26"
            ],
            [
             1,
             "#f0f921"
            ]
           ]
          },
          "colorway": [
           "#636efa",
           "#EF553B",
           "#00cc96",
           "#ab63fa",
           "#FFA15A",
           "#19d3f3",
           "#FF6692",
           "#B6E880",
           "#FF97FF",
           "#FECB52"
          ],
          "font": {
           "color": "#2a3f5f"
          },
          "geo": {
           "bgcolor": "white",
           "lakecolor": "white",
           "landcolor": "#E5ECF6",
           "showlakes": true,
           "showland": true,
           "subunitcolor": "white"
          },
          "hoverlabel": {
           "align": "left"
          },
          "hovermode": "closest",
          "mapbox": {
           "style": "light"
          },
          "paper_bgcolor": "white",
          "plot_bgcolor": "#E5ECF6",
          "polar": {
           "angularaxis": {
            "gridcolor": "white",
            "linecolor": "white",
            "ticks": ""
           },
           "bgcolor": "#E5ECF6",
           "radialaxis": {
            "gridcolor": "white",
            "linecolor": "white",
            "ticks": ""
           }
          },
          "scene": {
           "xaxis": {
            "backgroundcolor": "#E5ECF6",
            "gridcolor": "white",
            "gridwidth": 2,
            "linecolor": "white",
            "showbackground": true,
            "ticks": "",
            "zerolinecolor": "white"
           },
           "yaxis": {
            "backgroundcolor": "#E5ECF6",
            "gridcolor": "white",
            "gridwidth": 2,
            "linecolor": "white",
            "showbackground": true,
            "ticks": "",
            "zerolinecolor": "white"
           },
           "zaxis": {
            "backgroundcolor": "#E5ECF6",
            "gridcolor": "white",
            "gridwidth": 2,
            "linecolor": "white",
            "showbackground": true,
            "ticks": "",
            "zerolinecolor": "white"
           }
          },
          "shapedefaults": {
           "line": {
            "color": "#2a3f5f"
           }
          },
          "ternary": {
           "aaxis": {
            "gridcolor": "white",
            "linecolor": "white",
            "ticks": ""
           },
           "baxis": {
            "gridcolor": "white",
            "linecolor": "white",
            "ticks": ""
           },
           "bgcolor": "#E5ECF6",
           "caxis": {
            "gridcolor": "white",
            "linecolor": "white",
            "ticks": ""
           }
          },
          "title": {
           "x": 0.05
          },
          "xaxis": {
           "automargin": true,
           "gridcolor": "white",
           "linecolor": "white",
           "ticks": "",
           "zerolinecolor": "white",
           "zerolinewidth": 2
          },
          "yaxis": {
           "automargin": true,
           "gridcolor": "white",
           "linecolor": "white",
           "ticks": "",
           "zerolinecolor": "white",
           "zerolinewidth": 2
          }
         }
        },
        "title": {
         "text": "Valores de silhueta médio"
        }
       }
      }
     },
     "metadata": {}
    }
   ],
   "source": [
    "valores_silhueta=[]\n",
    "dataframe=df\n",
    "for i in faixa_n_cluster:\n",
    "    agrupador=KMeans(n_clusters=i)\n",
    "    labels=agrupador.fit_predict(dataframe)\n",
    "    media_silhueta=silhouette_score(dataframe,labels)\n",
    "    valores_silhueta.append(media_silhueta)\n",
    "\n",
    "\n",
    "fig=go.Figure()\n",
    "fig.add_trace(go.Scatter(x=faixa_n_cluster,y=valores_silhueta))\n",
    "fig.update_layout(title='Valores de silhueta médio')"
   ]
  },
  {
   "cell_type": "code",
   "execution_count": 59,
   "metadata": {},
   "outputs": [],
   "source": [
    "faixa_quantile=np.linspace(0.2,0.5,15)"
   ]
  },
  {
   "cell_type": "code",
   "execution_count": 82,
   "metadata": {},
   "outputs": [],
   "source": [
    "valores_silhueta=[]\n",
    "dataframe=df\n",
    "for i in faixa_quantile:\n",
    "    BW=estimate_bandwidth(dataframe,quantile=i)\n",
    "    agrupador=MeanShift(bandwidth=BW)\n",
    "    labels=agrupador.fit_predict(dataframe)\n",
    "    if(len(np.unique(labels))>1 and len(np.unique(labels))<len(dataframe)):\n",
    "        media_silhueta=silhouette_score(dataframe,labels)\n",
    "        valores_silhueta.append(media_silhueta)"
   ]
  },
  {
   "cell_type": "code",
   "execution_count": 83,
   "metadata": {},
   "outputs": [
    {
     "output_type": "display_data",
     "data": {
      "application/vnd.plotly.v1+json": {
       "config": {
        "plotlyServerURL": "https://plot.ly"
       },
       "data": [
        {
         "type": "scatter",
         "x": [
          0.2,
          0.22142857142857145,
          0.24285714285714288,
          0.2642857142857143,
          0.2857142857142857,
          0.30714285714285716,
          0.32857142857142857,
          0.35,
          0.37142857142857144,
          0.3928571428571429,
          0.4142857142857143,
          0.4357142857142857,
          0.45714285714285713,
          0.4785714285714286,
          0.5
         ],
         "y": [
          0.5533116157186142,
          0.5476450441436236,
          0.5359132583758999,
          0.5050461524873863,
          0.5122846666096319,
          0.5050461524873863,
          0.6296634658675613,
          0.6493586170880333,
          0.6493586170880333,
          0.6493586170880333,
          0.6493586170880333,
          0.6493586170880333,
          0.6493586170880333
         ]
        }
       ],
       "layout": {
        "template": {
         "data": {
          "bar": [
           {
            "error_x": {
             "color": "#2a3f5f"
            },
            "error_y": {
             "color": "#2a3f5f"
            },
            "marker": {
             "line": {
              "color": "#E5ECF6",
              "width": 0.5
             }
            },
            "type": "bar"
           }
          ],
          "barpolar": [
           {
            "marker": {
             "line": {
              "color": "#E5ECF6",
              "width": 0.5
             }
            },
            "type": "barpolar"
           }
          ],
          "carpet": [
           {
            "aaxis": {
             "endlinecolor": "#2a3f5f",
             "gridcolor": "white",
             "linecolor": "white",
             "minorgridcolor": "white",
             "startlinecolor": "#2a3f5f"
            },
            "baxis": {
             "endlinecolor": "#2a3f5f",
             "gridcolor": "white",
             "linecolor": "white",
             "minorgridcolor": "white",
             "startlinecolor": "#2a3f5f"
            },
            "type": "carpet"
           }
          ],
          "choropleth": [
           {
            "colorbar": {
             "outlinewidth": 0,
             "ticks": ""
            },
            "type": "choropleth"
           }
          ],
          "contour": [
           {
            "colorbar": {
             "outlinewidth": 0,
             "ticks": ""
            },
            "colorscale": [
             [
              0,
              "#0d0887"
             ],
             [
              0.1111111111111111,
              "#46039f"
             ],
             [
              0.2222222222222222,
              "#7201a8"
             ],
             [
              0.3333333333333333,
              "#9c179e"
             ],
             [
              0.4444444444444444,
              "#bd3786"
             ],
             [
              0.5555555555555556,
              "#d8576b"
             ],
             [
              0.6666666666666666,
              "#ed7953"
             ],
             [
              0.7777777777777778,
              "#fb9f3a"
             ],
             [
              0.8888888888888888,
              "#fdca26"
             ],
             [
              1,
              "#f0f921"
             ]
            ],
            "type": "contour"
           }
          ],
          "contourcarpet": [
           {
            "colorbar": {
             "outlinewidth": 0,
             "ticks": ""
            },
            "type": "contourcarpet"
           }
          ],
          "heatmap": [
           {
            "colorbar": {
             "outlinewidth": 0,
             "ticks": ""
            },
            "colorscale": [
             [
              0,
              "#0d0887"
             ],
             [
              0.1111111111111111,
              "#46039f"
             ],
             [
              0.2222222222222222,
              "#7201a8"
             ],
             [
              0.3333333333333333,
              "#9c179e"
             ],
             [
              0.4444444444444444,
              "#bd3786"
             ],
             [
              0.5555555555555556,
              "#d8576b"
             ],
             [
              0.6666666666666666,
              "#ed7953"
             ],
             [
              0.7777777777777778,
              "#fb9f3a"
             ],
             [
              0.8888888888888888,
              "#fdca26"
             ],
             [
              1,
              "#f0f921"
             ]
            ],
            "type": "heatmap"
           }
          ],
          "heatmapgl": [
           {
            "colorbar": {
             "outlinewidth": 0,
             "ticks": ""
            },
            "colorscale": [
             [
              0,
              "#0d0887"
             ],
             [
              0.1111111111111111,
              "#46039f"
             ],
             [
              0.2222222222222222,
              "#7201a8"
             ],
             [
              0.3333333333333333,
              "#9c179e"
             ],
             [
              0.4444444444444444,
              "#bd3786"
             ],
             [
              0.5555555555555556,
              "#d8576b"
             ],
             [
              0.6666666666666666,
              "#ed7953"
             ],
             [
              0.7777777777777778,
              "#fb9f3a"
             ],
             [
              0.8888888888888888,
              "#fdca26"
             ],
             [
              1,
              "#f0f921"
             ]
            ],
            "type": "heatmapgl"
           }
          ],
          "histogram": [
           {
            "marker": {
             "colorbar": {
              "outlinewidth": 0,
              "ticks": ""
             }
            },
            "type": "histogram"
           }
          ],
          "histogram2d": [
           {
            "colorbar": {
             "outlinewidth": 0,
             "ticks": ""
            },
            "colorscale": [
             [
              0,
              "#0d0887"
             ],
             [
              0.1111111111111111,
              "#46039f"
             ],
             [
              0.2222222222222222,
              "#7201a8"
             ],
             [
              0.3333333333333333,
              "#9c179e"
             ],
             [
              0.4444444444444444,
              "#bd3786"
             ],
             [
              0.5555555555555556,
              "#d8576b"
             ],
             [
              0.6666666666666666,
              "#ed7953"
             ],
             [
              0.7777777777777778,
              "#fb9f3a"
             ],
             [
              0.8888888888888888,
              "#fdca26"
             ],
             [
              1,
              "#f0f921"
             ]
            ],
            "type": "histogram2d"
           }
          ],
          "histogram2dcontour": [
           {
            "colorbar": {
             "outlinewidth": 0,
             "ticks": ""
            },
            "colorscale": [
             [
              0,
              "#0d0887"
             ],
             [
              0.1111111111111111,
              "#46039f"
             ],
             [
              0.2222222222222222,
              "#7201a8"
             ],
             [
              0.3333333333333333,
              "#9c179e"
             ],
             [
              0.4444444444444444,
              "#bd3786"
             ],
             [
              0.5555555555555556,
              "#d8576b"
             ],
             [
              0.6666666666666666,
              "#ed7953"
             ],
             [
              0.7777777777777778,
              "#fb9f3a"
             ],
             [
              0.8888888888888888,
              "#fdca26"
             ],
             [
              1,
              "#f0f921"
             ]
            ],
            "type": "histogram2dcontour"
           }
          ],
          "mesh3d": [
           {
            "colorbar": {
             "outlinewidth": 0,
             "ticks": ""
            },
            "type": "mesh3d"
           }
          ],
          "parcoords": [
           {
            "line": {
             "colorbar": {
              "outlinewidth": 0,
              "ticks": ""
             }
            },
            "type": "parcoords"
           }
          ],
          "scatter": [
           {
            "marker": {
             "colorbar": {
              "outlinewidth": 0,
              "ticks": ""
             }
            },
            "type": "scatter"
           }
          ],
          "scatter3d": [
           {
            "line": {
             "colorbar": {
              "outlinewidth": 0,
              "ticks": ""
             }
            },
            "marker": {
             "colorbar": {
              "outlinewidth": 0,
              "ticks": ""
             }
            },
            "type": "scatter3d"
           }
          ],
          "scattercarpet": [
           {
            "marker": {
             "colorbar": {
              "outlinewidth": 0,
              "ticks": ""
             }
            },
            "type": "scattercarpet"
           }
          ],
          "scattergeo": [
           {
            "marker": {
             "colorbar": {
              "outlinewidth": 0,
              "ticks": ""
             }
            },
            "type": "scattergeo"
           }
          ],
          "scattergl": [
           {
            "marker": {
             "colorbar": {
              "outlinewidth": 0,
              "ticks": ""
             }
            },
            "type": "scattergl"
           }
          ],
          "scattermapbox": [
           {
            "marker": {
             "colorbar": {
              "outlinewidth": 0,
              "ticks": ""
             }
            },
            "type": "scattermapbox"
           }
          ],
          "scatterpolar": [
           {
            "marker": {
             "colorbar": {
              "outlinewidth": 0,
              "ticks": ""
             }
            },
            "type": "scatterpolar"
           }
          ],
          "scatterpolargl": [
           {
            "marker": {
             "colorbar": {
              "outlinewidth": 0,
              "ticks": ""
             }
            },
            "type": "scatterpolargl"
           }
          ],
          "scatterternary": [
           {
            "marker": {
             "colorbar": {
              "outlinewidth": 0,
              "ticks": ""
             }
            },
            "type": "scatterternary"
           }
          ],
          "surface": [
           {
            "colorbar": {
             "outlinewidth": 0,
             "ticks": ""
            },
            "colorscale": [
             [
              0,
              "#0d0887"
             ],
             [
              0.1111111111111111,
              "#46039f"
             ],
             [
              0.2222222222222222,
              "#7201a8"
             ],
             [
              0.3333333333333333,
              "#9c179e"
             ],
             [
              0.4444444444444444,
              "#bd3786"
             ],
             [
              0.5555555555555556,
              "#d8576b"
             ],
             [
              0.6666666666666666,
              "#ed7953"
             ],
             [
              0.7777777777777778,
              "#fb9f3a"
             ],
             [
              0.8888888888888888,
              "#fdca26"
             ],
             [
              1,
              "#f0f921"
             ]
            ],
            "type": "surface"
           }
          ],
          "table": [
           {
            "cells": {
             "fill": {
              "color": "#EBF0F8"
             },
             "line": {
              "color": "white"
             }
            },
            "header": {
             "fill": {
              "color": "#C8D4E3"
             },
             "line": {
              "color": "white"
             }
            },
            "type": "table"
           }
          ]
         },
         "layout": {
          "annotationdefaults": {
           "arrowcolor": "#2a3f5f",
           "arrowhead": 0,
           "arrowwidth": 1
          },
          "colorscale": {
           "diverging": [
            [
             0,
             "#8e0152"
            ],
            [
             0.1,
             "#c51b7d"
            ],
            [
             0.2,
             "#de77ae"
            ],
            [
             0.3,
             "#f1b6da"
            ],
            [
             0.4,
             "#fde0ef"
            ],
            [
             0.5,
             "#f7f7f7"
            ],
            [
             0.6,
             "#e6f5d0"
            ],
            [
             0.7,
             "#b8e186"
            ],
            [
             0.8,
             "#7fbc41"
            ],
            [
             0.9,
             "#4d9221"
            ],
            [
             1,
             "#276419"
            ]
           ],
           "sequential": [
            [
             0,
             "#0d0887"
            ],
            [
             0.1111111111111111,
             "#46039f"
            ],
            [
             0.2222222222222222,
             "#7201a8"
            ],
            [
             0.3333333333333333,
             "#9c179e"
            ],
            [
             0.4444444444444444,
             "#bd3786"
            ],
            [
             0.5555555555555556,
             "#d8576b"
            ],
            [
             0.6666666666666666,
             "#ed7953"
            ],
            [
             0.7777777777777778,
             "#fb9f3a"
            ],
            [
             0.8888888888888888,
             "#fdca26"
            ],
            [
             1,
             "#f0f921"
            ]
           ],
           "sequentialminus": [
            [
             0,
             "#0d0887"
            ],
            [
             0.1111111111111111,
             "#46039f"
            ],
            [
             0.2222222222222222,
             "#7201a8"
            ],
            [
             0.3333333333333333,
             "#9c179e"
            ],
            [
             0.4444444444444444,
             "#bd3786"
            ],
            [
             0.5555555555555556,
             "#d8576b"
            ],
            [
             0.6666666666666666,
             "#ed7953"
            ],
            [
             0.7777777777777778,
             "#fb9f3a"
            ],
            [
             0.8888888888888888,
             "#fdca26"
            ],
            [
             1,
             "#f0f921"
            ]
           ]
          },
          "colorway": [
           "#636efa",
           "#EF553B",
           "#00cc96",
           "#ab63fa",
           "#FFA15A",
           "#19d3f3",
           "#FF6692",
           "#B6E880",
           "#FF97FF",
           "#FECB52"
          ],
          "font": {
           "color": "#2a3f5f"
          },
          "geo": {
           "bgcolor": "white",
           "lakecolor": "white",
           "landcolor": "#E5ECF6",
           "showlakes": true,
           "showland": true,
           "subunitcolor": "white"
          },
          "hoverlabel": {
           "align": "left"
          },
          "hovermode": "closest",
          "mapbox": {
           "style": "light"
          },
          "paper_bgcolor": "white",
          "plot_bgcolor": "#E5ECF6",
          "polar": {
           "angularaxis": {
            "gridcolor": "white",
            "linecolor": "white",
            "ticks": ""
           },
           "bgcolor": "#E5ECF6",
           "radialaxis": {
            "gridcolor": "white",
            "linecolor": "white",
            "ticks": ""
           }
          },
          "scene": {
           "xaxis": {
            "backgroundcolor": "#E5ECF6",
            "gridcolor": "white",
            "gridwidth": 2,
            "linecolor": "white",
            "showbackground": true,
            "ticks": "",
            "zerolinecolor": "white"
           },
           "yaxis": {
            "backgroundcolor": "#E5ECF6",
            "gridcolor": "white",
            "gridwidth": 2,
            "linecolor": "white",
            "showbackground": true,
            "ticks": "",
            "zerolinecolor": "white"
           },
           "zaxis": {
            "backgroundcolor": "#E5ECF6",
            "gridcolor": "white",
            "gridwidth": 2,
            "linecolor": "white",
            "showbackground": true,
            "ticks": "",
            "zerolinecolor": "white"
           }
          },
          "shapedefaults": {
           "line": {
            "color": "#2a3f5f"
           }
          },
          "ternary": {
           "aaxis": {
            "gridcolor": "white",
            "linecolor": "white",
            "ticks": ""
           },
           "baxis": {
            "gridcolor": "white",
            "linecolor": "white",
            "ticks": ""
           },
           "bgcolor": "#E5ECF6",
           "caxis": {
            "gridcolor": "white",
            "linecolor": "white",
            "ticks": ""
           }
          },
          "title": {
           "x": 0.05
          },
          "xaxis": {
           "automargin": true,
           "gridcolor": "white",
           "linecolor": "white",
           "ticks": "",
           "zerolinecolor": "white",
           "zerolinewidth": 2
          },
          "yaxis": {
           "automargin": true,
           "gridcolor": "white",
           "linecolor": "white",
           "ticks": "",
           "zerolinecolor": "white",
           "zerolinewidth": 2
          }
         }
        },
        "title": {
         "text": "Valores de silhueta médio"
        }
       }
      }
     },
     "metadata": {}
    }
   ],
   "source": [
    "fig=go.Figure()\n",
    "fig.add_trace(go.Scatter(x=faixa_quantile,y=valores_silhueta))\n",
    "fig.update_layout(title='Valores de silhueta médio')"
   ]
  },
  {
   "cell_type": "code",
   "execution_count": 85,
   "metadata": {},
   "outputs": [
    {
     "output_type": "display_data",
     "data": {
      "application/vnd.plotly.v1+json": {
       "config": {
        "plotlyServerURL": "https://plot.ly"
       },
       "data": [
        {
         "type": "scatter",
         "x": [
          0.2,
          0.22142857142857145,
          0.24285714285714288,
          0.2642857142857143,
          0.2857142857142857,
          0.30714285714285716,
          0.32857142857142857,
          0.35,
          0.37142857142857144,
          0.3928571428571429,
          0.4142857142857143,
          0.4357142857142857,
          0.45714285714285713,
          0.4785714285714286,
          0.5
         ],
         "y": [
          0.34353173543532023,
          0.16508659029011188,
          0.22639036818571823,
          0.30638538825691164,
          0.30672378482144286,
          0.20758352839192923
         ]
        }
       ],
       "layout": {
        "template": {
         "data": {
          "bar": [
           {
            "error_x": {
             "color": "#2a3f5f"
            },
            "error_y": {
             "color": "#2a3f5f"
            },
            "marker": {
             "line": {
              "color": "#E5ECF6",
              "width": 0.5
             }
            },
            "type": "bar"
           }
          ],
          "barpolar": [
           {
            "marker": {
             "line": {
              "color": "#E5ECF6",
              "width": 0.5
             }
            },
            "type": "barpolar"
           }
          ],
          "carpet": [
           {
            "aaxis": {
             "endlinecolor": "#2a3f5f",
             "gridcolor": "white",
             "linecolor": "white",
             "minorgridcolor": "white",
             "startlinecolor": "#2a3f5f"
            },
            "baxis": {
             "endlinecolor": "#2a3f5f",
             "gridcolor": "white",
             "linecolor": "white",
             "minorgridcolor": "white",
             "startlinecolor": "#2a3f5f"
            },
            "type": "carpet"
           }
          ],
          "choropleth": [
           {
            "colorbar": {
             "outlinewidth": 0,
             "ticks": ""
            },
            "type": "choropleth"
           }
          ],
          "contour": [
           {
            "colorbar": {
             "outlinewidth": 0,
             "ticks": ""
            },
            "colorscale": [
             [
              0,
              "#0d0887"
             ],
             [
              0.1111111111111111,
              "#46039f"
             ],
             [
              0.2222222222222222,
              "#7201a8"
             ],
             [
              0.3333333333333333,
              "#9c179e"
             ],
             [
              0.4444444444444444,
              "#bd3786"
             ],
             [
              0.5555555555555556,
              "#d8576b"
             ],
             [
              0.6666666666666666,
              "#ed7953"
             ],
             [
              0.7777777777777778,
              "#fb9f3a"
             ],
             [
              0.8888888888888888,
              "#fdca26"
             ],
             [
              1,
              "#f0f921"
             ]
            ],
            "type": "contour"
           }
          ],
          "contourcarpet": [
           {
            "colorbar": {
             "outlinewidth": 0,
             "ticks": ""
            },
            "type": "contourcarpet"
           }
          ],
          "heatmap": [
           {
            "colorbar": {
             "outlinewidth": 0,
             "ticks": ""
            },
            "colorscale": [
             [
              0,
              "#0d0887"
             ],
             [
              0.1111111111111111,
              "#46039f"
             ],
             [
              0.2222222222222222,
              "#7201a8"
             ],
             [
              0.3333333333333333,
              "#9c179e"
             ],
             [
              0.4444444444444444,
              "#bd3786"
             ],
             [
              0.5555555555555556,
              "#d8576b"
             ],
             [
              0.6666666666666666,
              "#ed7953"
             ],
             [
              0.7777777777777778,
              "#fb9f3a"
             ],
             [
              0.8888888888888888,
              "#fdca26"
             ],
             [
              1,
              "#f0f921"
             ]
            ],
            "type": "heatmap"
           }
          ],
          "heatmapgl": [
           {
            "colorbar": {
             "outlinewidth": 0,
             "ticks": ""
            },
            "colorscale": [
             [
              0,
              "#0d0887"
             ],
             [
              0.1111111111111111,
              "#46039f"
             ],
             [
              0.2222222222222222,
              "#7201a8"
             ],
             [
              0.3333333333333333,
              "#9c179e"
             ],
             [
              0.4444444444444444,
              "#bd3786"
             ],
             [
              0.5555555555555556,
              "#d8576b"
             ],
             [
              0.6666666666666666,
              "#ed7953"
             ],
             [
              0.7777777777777778,
              "#fb9f3a"
             ],
             [
              0.8888888888888888,
              "#fdca26"
             ],
             [
              1,
              "#f0f921"
             ]
            ],
            "type": "heatmapgl"
           }
          ],
          "histogram": [
           {
            "marker": {
             "colorbar": {
              "outlinewidth": 0,
              "ticks": ""
             }
            },
            "type": "histogram"
           }
          ],
          "histogram2d": [
           {
            "colorbar": {
             "outlinewidth": 0,
             "ticks": ""
            },
            "colorscale": [
             [
              0,
              "#0d0887"
             ],
             [
              0.1111111111111111,
              "#46039f"
             ],
             [
              0.2222222222222222,
              "#7201a8"
             ],
             [
              0.3333333333333333,
              "#9c179e"
             ],
             [
              0.4444444444444444,
              "#bd3786"
             ],
             [
              0.5555555555555556,
              "#d8576b"
             ],
             [
              0.6666666666666666,
              "#ed7953"
             ],
             [
              0.7777777777777778,
              "#fb9f3a"
             ],
             [
              0.8888888888888888,
              "#fdca26"
             ],
             [
              1,
              "#f0f921"
             ]
            ],
            "type": "histogram2d"
           }
          ],
          "histogram2dcontour": [
           {
            "colorbar": {
             "outlinewidth": 0,
             "ticks": ""
            },
            "colorscale": [
             [
              0,
              "#0d0887"
             ],
             [
              0.1111111111111111,
              "#46039f"
             ],
             [
              0.2222222222222222,
              "#7201a8"
             ],
             [
              0.3333333333333333,
              "#9c179e"
             ],
             [
              0.4444444444444444,
              "#bd3786"
             ],
             [
              0.5555555555555556,
              "#d8576b"
             ],
             [
              0.6666666666666666,
              "#ed7953"
             ],
             [
              0.7777777777777778,
              "#fb9f3a"
             ],
             [
              0.8888888888888888,
              "#fdca26"
             ],
             [
              1,
              "#f0f921"
             ]
            ],
            "type": "histogram2dcontour"
           }
          ],
          "mesh3d": [
           {
            "colorbar": {
             "outlinewidth": 0,
             "ticks": ""
            },
            "type": "mesh3d"
           }
          ],
          "parcoords": [
           {
            "line": {
             "colorbar": {
              "outlinewidth": 0,
              "ticks": ""
             }
            },
            "type": "parcoords"
           }
          ],
          "scatter": [
           {
            "marker": {
             "colorbar": {
              "outlinewidth": 0,
              "ticks": ""
             }
            },
            "type": "scatter"
           }
          ],
          "scatter3d": [
           {
            "line": {
             "colorbar": {
              "outlinewidth": 0,
              "ticks": ""
             }
            },
            "marker": {
             "colorbar": {
              "outlinewidth": 0,
              "ticks": ""
             }
            },
            "type": "scatter3d"
           }
          ],
          "scattercarpet": [
           {
            "marker": {
             "colorbar": {
              "outlinewidth": 0,
              "ticks": ""
             }
            },
            "type": "scattercarpet"
           }
          ],
          "scattergeo": [
           {
            "marker": {
             "colorbar": {
              "outlinewidth": 0,
              "ticks": ""
             }
            },
            "type": "scattergeo"
           }
          ],
          "scattergl": [
           {
            "marker": {
             "colorbar": {
              "outlinewidth": 0,
              "ticks": ""
             }
            },
            "type": "scattergl"
           }
          ],
          "scattermapbox": [
           {
            "marker": {
             "colorbar": {
              "outlinewidth": 0,
              "ticks": ""
             }
            },
            "type": "scattermapbox"
           }
          ],
          "scatterpolar": [
           {
            "marker": {
             "colorbar": {
              "outlinewidth": 0,
              "ticks": ""
             }
            },
            "type": "scatterpolar"
           }
          ],
          "scatterpolargl": [
           {
            "marker": {
             "colorbar": {
              "outlinewidth": 0,
              "ticks": ""
             }
            },
            "type": "scatterpolargl"
           }
          ],
          "scatterternary": [
           {
            "marker": {
             "colorbar": {
              "outlinewidth": 0,
              "ticks": ""
             }
            },
            "type": "scatterternary"
           }
          ],
          "surface": [
           {
            "colorbar": {
             "outlinewidth": 0,
             "ticks": ""
            },
            "colorscale": [
             [
              0,
              "#0d0887"
             ],
             [
              0.1111111111111111,
              "#46039f"
             ],
             [
              0.2222222222222222,
              "#7201a8"
             ],
             [
              0.3333333333333333,
              "#9c179e"
             ],
             [
              0.4444444444444444,
              "#bd3786"
             ],
             [
              0.5555555555555556,
              "#d8576b"
             ],
             [
              0.6666666666666666,
              "#ed7953"
             ],
             [
              0.7777777777777778,
              "#fb9f3a"
             ],
             [
              0.8888888888888888,
              "#fdca26"
             ],
             [
              1,
              "#f0f921"
             ]
            ],
            "type": "surface"
           }
          ],
          "table": [
           {
            "cells": {
             "fill": {
              "color": "#EBF0F8"
             },
             "line": {
              "color": "white"
             }
            },
            "header": {
             "fill": {
              "color": "#C8D4E3"
             },
             "line": {
              "color": "white"
             }
            },
            "type": "table"
           }
          ]
         },
         "layout": {
          "annotationdefaults": {
           "arrowcolor": "#2a3f5f",
           "arrowhead": 0,
           "arrowwidth": 1
          },
          "colorscale": {
           "diverging": [
            [
             0,
             "#8e0152"
            ],
            [
             0.1,
             "#c51b7d"
            ],
            [
             0.2,
             "#de77ae"
            ],
            [
             0.3,
             "#f1b6da"
            ],
            [
             0.4,
             "#fde0ef"
            ],
            [
             0.5,
             "#f7f7f7"
            ],
            [
             0.6,
             "#e6f5d0"
            ],
            [
             0.7,
             "#b8e186"
            ],
            [
             0.8,
             "#7fbc41"
            ],
            [
             0.9,
             "#4d9221"
            ],
            [
             1,
             "#276419"
            ]
           ],
           "sequential": [
            [
             0,
             "#0d0887"
            ],
            [
             0.1111111111111111,
             "#46039f"
            ],
            [
             0.2222222222222222,
             "#7201a8"
            ],
            [
             0.3333333333333333,
             "#9c179e"
            ],
            [
             0.4444444444444444,
             "#bd3786"
            ],
            [
             0.5555555555555556,
             "#d8576b"
            ],
            [
             0.6666666666666666,
             "#ed7953"
            ],
            [
             0.7777777777777778,
             "#fb9f3a"
            ],
            [
             0.8888888888888888,
             "#fdca26"
            ],
            [
             1,
             "#f0f921"
            ]
           ],
           "sequentialminus": [
            [
             0,
             "#0d0887"
            ],
            [
             0.1111111111111111,
             "#46039f"
            ],
            [
             0.2222222222222222,
             "#7201a8"
            ],
            [
             0.3333333333333333,
             "#9c179e"
            ],
            [
             0.4444444444444444,
             "#bd3786"
            ],
            [
             0.5555555555555556,
             "#d8576b"
            ],
            [
             0.6666666666666666,
             "#ed7953"
            ],
            [
             0.7777777777777778,
             "#fb9f3a"
            ],
            [
             0.8888888888888888,
             "#fdca26"
            ],
            [
             1,
             "#f0f921"
            ]
           ]
          },
          "colorway": [
           "#636efa",
           "#EF553B",
           "#00cc96",
           "#ab63fa",
           "#FFA15A",
           "#19d3f3",
           "#FF6692",
           "#B6E880",
           "#FF97FF",
           "#FECB52"
          ],
          "font": {
           "color": "#2a3f5f"
          },
          "geo": {
           "bgcolor": "white",
           "lakecolor": "white",
           "landcolor": "#E5ECF6",
           "showlakes": true,
           "showland": true,
           "subunitcolor": "white"
          },
          "hoverlabel": {
           "align": "left"
          },
          "hovermode": "closest",
          "mapbox": {
           "style": "light"
          },
          "paper_bgcolor": "white",
          "plot_bgcolor": "#E5ECF6",
          "polar": {
           "angularaxis": {
            "gridcolor": "white",
            "linecolor": "white",
            "ticks": ""
           },
           "bgcolor": "#E5ECF6",
           "radialaxis": {
            "gridcolor": "white",
            "linecolor": "white",
            "ticks": ""
           }
          },
          "scene": {
           "xaxis": {
            "backgroundcolor": "#E5ECF6",
            "gridcolor": "white",
            "gridwidth": 2,
            "linecolor": "white",
            "showbackground": true,
            "ticks": "",
            "zerolinecolor": "white"
           },
           "yaxis": {
            "backgroundcolor": "#E5ECF6",
            "gridcolor": "white",
            "gridwidth": 2,
            "linecolor": "white",
            "showbackground": true,
            "ticks": "",
            "zerolinecolor": "white"
           },
           "zaxis": {
            "backgroundcolor": "#E5ECF6",
            "gridcolor": "white",
            "gridwidth": 2,
            "linecolor": "white",
            "showbackground": true,
            "ticks": "",
            "zerolinecolor": "white"
           }
          },
          "shapedefaults": {
           "line": {
            "color": "#2a3f5f"
           }
          },
          "ternary": {
           "aaxis": {
            "gridcolor": "white",
            "linecolor": "white",
            "ticks": ""
           },
           "baxis": {
            "gridcolor": "white",
            "linecolor": "white",
            "ticks": ""
           },
           "bgcolor": "#E5ECF6",
           "caxis": {
            "gridcolor": "white",
            "linecolor": "white",
            "ticks": ""
           }
          },
          "title": {
           "x": 0.05
          },
          "xaxis": {
           "automargin": true,
           "gridcolor": "white",
           "linecolor": "white",
           "ticks": "",
           "zerolinecolor": "white",
           "zerolinewidth": 2
          },
          "yaxis": {
           "automargin": true,
           "gridcolor": "white",
           "linecolor": "white",
           "ticks": "",
           "zerolinecolor": "white",
           "zerolinewidth": 2
          }
         }
        },
        "title": {
         "text": "Valores de silhueta médio"
        }
       }
      }
     },
     "metadata": {}
    }
   ],
   "source": [
    "valores_silhueta=[]\n",
    "dataframe=df_scaled\n",
    "for i in faixa_quantile:\n",
    "    BW=estimate_bandwidth(dataframe,quantile=i)\n",
    "    agrupador=MeanShift(bandwidth=BW)\n",
    "    labels=agrupador.fit_predict(dataframe)\n",
    "    if(len(np.unique(labels))>1 and len(np.unique(labels))<len(dataframe)):\n",
    "        media_silhueta=silhouette_score(dataframe,labels)\n",
    "        valores_silhueta.append(media_silhueta)\n",
    "\n",
    "\n",
    "fig=go.Figure()\n",
    "fig.add_trace(go.Scatter(x=faixa_quantile,y=valores_silhueta))\n",
    "fig.update_layout(title='Valores de silhueta médio')"
   ]
  },
  {
   "cell_type": "code",
   "execution_count": 88,
   "metadata": {},
   "outputs": [],
   "source": [
    "#20 valores para cada parâmetro.\n",
    "faixa_min_samples = [i for i in range(1,100,5)]\n",
    "faixa_eps = [i/10 for i in range(1,100,1)]"
   ]
  },
  {
   "cell_type": "code",
   "execution_count": 93,
   "metadata": {},
   "outputs": [],
   "source": [
    "from collections import Counter\n",
    "dataframe=df_scaled\n",
    "valores_silhueta = []\n",
    "eps_plot = []\n",
    "min_samples_plot = []\n",
    "for min_samples in faixa_min_samples:\n",
    "  for eps in faixa_eps:\n",
    "    labels = 0\n",
    "    agrupador = DBSCAN(eps = eps, min_samples = min_samples, metric = 'manhattan')\n",
    "    agrupador.fit_predict(dataframe)\n",
    "    labels = agrupador.labels_\n",
    "    if(Counter(labels)[0] < len(dataframe) and Counter(labels)[0] > 1): #porque não é possível calcular\n",
    "    # silhueta para apenas  um cluster ou para número de clústeres igual\n",
    "    # ao número de dados \n",
    "      media_silhueta = silhouette_score(dataframe, labels)\n",
    "      valores_silhueta.append(media_silhueta)\n",
    "      eps_plot.append(eps)\n",
    "      min_samples_plot.append(min_samples)"
   ]
  },
  {
   "cell_type": "code",
   "execution_count": 94,
   "metadata": {},
   "outputs": [
    {
     "output_type": "display_data",
     "data": {
      "application/vnd.plotly.v1+json": {
       "config": {
        "plotlyServerURL": "https://plot.ly"
       },
       "data": [
        {
         "marker": {
          "line": {
           "color": "midnightblue"
          },
          "symbol": [
           "x"
          ]
         },
         "mode": "markers",
         "type": "scatter3d",
         "x": [
          81
         ],
         "y": [
          2.7
         ],
         "z": [
          0.3584231880254969
         ]
        },
        {
         "mode": "markers",
         "text": [
          0,
          0,
          0,
          0,
          0,
          0,
          0,
          0,
          0,
          0,
          0,
          0,
          0,
          0,
          0,
          0,
          0,
          0,
          0,
          0,
          0,
          0,
          0,
          0,
          0,
          0,
          0,
          0,
          0,
          0,
          0,
          0,
          0,
          0,
          0,
          0,
          0,
          0,
          0,
          0,
          0,
          0,
          0,
          0,
          0,
          0,
          0,
          0,
          0,
          0,
          0,
          0,
          0,
          0,
          0,
          0,
          0,
          0,
          0,
          0,
          0,
          0,
          0,
          0,
          0,
          0,
          0,
          0,
          0,
          0,
          0,
          0,
          0,
          0,
          0,
          0,
          0,
          0,
          0,
          0,
          0,
          0,
          0,
          0,
          0,
          0,
          0,
          0,
          0,
          0,
          0,
          0,
          0,
          0,
          0,
          0,
          0,
          0,
          0,
          0,
          0,
          0,
          0,
          0,
          0,
          0,
          0,
          0,
          0,
          0,
          0,
          0,
          0,
          0,
          0,
          0,
          0,
          0,
          0,
          0,
          0,
          0,
          0,
          0,
          0,
          0,
          0,
          0,
          0,
          0,
          0,
          0,
          0,
          0,
          0,
          0,
          0,
          0,
          0,
          0,
          0,
          0,
          0,
          0,
          0,
          0,
          0,
          0,
          0,
          0,
          0,
          0,
          0,
          0,
          0,
          0,
          0,
          0,
          0,
          0,
          0,
          0,
          0,
          0,
          0,
          0,
          0,
          0,
          0,
          0,
          0,
          0,
          0,
          0,
          0,
          0,
          0,
          0
         ],
         "type": "scatter3d",
         "x": [
          1,
          1,
          1,
          1,
          1,
          1,
          1,
          1,
          1,
          1,
          1,
          1,
          1,
          1,
          1,
          1,
          1,
          1,
          6,
          6,
          6,
          6,
          6,
          6,
          6,
          6,
          6,
          6,
          6,
          6,
          6,
          6,
          6,
          6,
          6,
          11,
          11,
          11,
          11,
          11,
          11,
          11,
          11,
          11,
          11,
          11,
          11,
          11,
          11,
          11,
          16,
          16,
          16,
          16,
          16,
          16,
          16,
          16,
          16,
          16,
          16,
          16,
          16,
          16,
          21,
          21,
          21,
          21,
          21,
          21,
          21,
          21,
          21,
          21,
          21,
          21,
          21,
          26,
          26,
          26,
          26,
          26,
          26,
          26,
          26,
          26,
          26,
          26,
          26,
          31,
          31,
          31,
          31,
          31,
          31,
          31,
          31,
          31,
          31,
          31,
          31,
          36,
          36,
          36,
          36,
          36,
          36,
          36,
          36,
          36,
          36,
          36,
          41,
          41,
          41,
          41,
          41,
          41,
          41,
          41,
          41,
          41,
          46,
          46,
          46,
          46,
          46,
          46,
          46,
          46,
          46,
          46,
          51,
          51,
          51,
          51,
          51,
          51,
          51,
          51,
          51,
          56,
          56,
          56,
          56,
          56,
          56,
          56,
          56,
          61,
          61,
          61,
          61,
          61,
          61,
          61,
          66,
          66,
          66,
          66,
          66,
          71,
          71,
          71,
          71,
          71,
          76,
          76,
          76,
          76,
          76,
          76,
          81,
          81,
          81,
          81,
          81,
          81,
          81,
          86,
          86,
          86,
          86,
          86,
          86,
          86,
          91,
          91,
          91,
          91,
          91,
          91,
          91,
          91,
          96,
          96,
          96,
          96,
          96,
          96,
          96,
          96
         ],
         "y": [
          0.8,
          0.9,
          1,
          1.1,
          1.2,
          1.3,
          1.4,
          1.5,
          1.6,
          1.7,
          1.8,
          1.9,
          2,
          2.1,
          2.2,
          2.3,
          2.4,
          2.5,
          0.9,
          1,
          1.1,
          1.2,
          1.3,
          1.4,
          1.5,
          1.6,
          1.7,
          1.8,
          1.9,
          2,
          2.1,
          2.2,
          2.3,
          2.4,
          2.5,
          1.1,
          1.2,
          1.3,
          1.4,
          1.5,
          1.6,
          1.7,
          1.8,
          1.9,
          2,
          2.1,
          2.2,
          2.3,
          2.4,
          2.5,
          1.2,
          1.3,
          1.4,
          1.5,
          1.6,
          1.7,
          1.8,
          1.9,
          2,
          2.1,
          2.2,
          2.3,
          2.4,
          2.5,
          1.3,
          1.4,
          1.5,
          1.6,
          1.7,
          1.8,
          1.9,
          2,
          2.1,
          2.2,
          2.3,
          2.4,
          2.5,
          1.4,
          1.5,
          1.6,
          1.7,
          1.8,
          1.9,
          2,
          2.1,
          2.2,
          2.3,
          2.4,
          2.5,
          1.4,
          1.5,
          1.6,
          1.7,
          1.8,
          1.9,
          2,
          2.1,
          2.2,
          2.3,
          2.4,
          2.5,
          1.5,
          1.6,
          1.7,
          1.8,
          1.9,
          2,
          2.1,
          2.2,
          2.3,
          2.4,
          2.5,
          1.6,
          1.7,
          1.8,
          1.9,
          2,
          2.1,
          2.2,
          2.3,
          2.4,
          2.5,
          1.7,
          1.8,
          1.9,
          2,
          2.1,
          2.2,
          2.3,
          2.4,
          2.5,
          2.6,
          1.8,
          1.9,
          2,
          2.1,
          2.2,
          2.3,
          2.4,
          2.5,
          2.6,
          2,
          2.1,
          2.2,
          2.3,
          2.4,
          2.5,
          2.6,
          2.7,
          2.1,
          2.2,
          2.3,
          2.4,
          2.5,
          2.6,
          2.7,
          2.3,
          2.4,
          2.5,
          2.6,
          2.7,
          2.4,
          2.5,
          2.6,
          2.7,
          2.8,
          2.4,
          2.5,
          2.6,
          2.7,
          2.8,
          2.9,
          2.5,
          2.6,
          2.7,
          2.8,
          2.9,
          3,
          3.1,
          2.6,
          2.7,
          2.8,
          2.9,
          3,
          3.1,
          3.2,
          2.6,
          2.7,
          2.8,
          2.9,
          3,
          3.1,
          3.2,
          3.3,
          2.7,
          2.8,
          2.9,
          3,
          3.1,
          3.2,
          3.3,
          3.4
         ],
         "z": [
          0.019387281906723945,
          -0.0026009597876850634,
          -0.028060845960767754,
          -0.019258444472573653,
          -0.0007421886386255371,
          0.012690676987669375,
          0.07364618073669296,
          0.10078639204233111,
          0.06227195838845275,
          -0.11225153285875021,
          -0.04338439271266369,
          -0.005294682036761672,
          0.20758352839192923,
          0.20758352839192923,
          0.20758352839192923,
          0.20758352839192923,
          0.20758352839192923,
          0.20758352839192923,
          -0.022760524956778962,
          -0.13465065553058306,
          -0.02461084771447794,
          0.21863691123248494,
          0.25334589567257365,
          0.3021088147300799,
          0.32443752978005824,
          0.2648608863645271,
          0.1136381571629029,
          0.13148419369405415,
          0.12605948807482129,
          0.15794591343539094,
          0.20758352839192923,
          0.20758352839192923,
          0.20758352839192923,
          0.20758352839192923,
          0.20758352839192923,
          0.015694800518771024,
          0.006469178331205152,
          0.12617485068545428,
          0.2792720776559708,
          0.3162071568454883,
          0.2572886558965893,
          0.27492297969981455,
          0.27779662738953714,
          0.14306750060687579,
          0.1739343919256152,
          0.15794591343539094,
          0.20758352839192923,
          0.20758352839192923,
          0.20758352839192923,
          0.20758352839192923,
          0.18524112374922277,
          0.18515514296840013,
          0.2128552364128275,
          0.308019252806057,
          0.2438692122077357,
          0.25519752302203663,
          0.267986624218505,
          0.2913331385271099,
          0.29929209143511193,
          0.1476458899203493,
          0.20758352839192923,
          0.20758352839192923,
          0.20758352839192923,
          0.20758352839192923,
          0.19204928394429696,
          0.20675942881304282,
          0.19211589720802916,
          0.23023777302515133,
          0.25342893745720824,
          0.26410432023222974,
          0.2837731738732247,
          0.29929209143511193,
          0.1476458899203493,
          0.16634278151318374,
          0.20758352839192923,
          0.20758352839192923,
          0.20758352839192923,
          0.23553479202547226,
          0.3087260635781428,
          0.26350378139719144,
          0.2542034302222557,
          0.26410432023222974,
          0.27603675243587794,
          0.28835496361079044,
          0.1476458899203493,
          0.16634278151318374,
          0.16634278151318374,
          0.20758352839192923,
          0.20758352839192923,
          0.20393439022727183,
          0.2793984103533369,
          0.3198594650284367,
          0.30801254973486003,
          0.25803527117176295,
          0.27560580090204845,
          0.2801024821349752,
          0.2645303455498681,
          0.16634278151318374,
          0.16634278151318374,
          0.20758352839192923,
          0.20758352839192923,
          0.2606620994438232,
          0.28267098242262734,
          0.3324125751483013,
          0.31868378868264796,
          0.26701828094827995,
          0.2743469050374419,
          0.28516776153905277,
          0.16634278151318374,
          0.16634278151318374,
          0.20758352839192923,
          0.20758352839192923,
          0.28267098242262734,
          0.2990517445224862,
          0.3324125751483013,
          0.2506328146910278,
          0.27383379142531994,
          0.28329020280917444,
          0.17650619927410918,
          0.16634278151318374,
          0.16634278151318374,
          0.20758352839192923,
          0.28267098242262734,
          0.3286876567511713,
          0.29652876950227874,
          0.30456551330928666,
          0.3250188833421259,
          0.30226601617909515,
          0.1928181608805961,
          0.16634278151318374,
          0.20758352839192923,
          0.20758352839192923,
          0.3055011005646289,
          0.3249168810061439,
          0.2961336497052033,
          0.31943705354650825,
          0.3226384296208848,
          0.3447331420629254,
          0.31846119986133276,
          0.16870097612950058,
          0.21807794449586645,
          0.3208838648303557,
          0.3016232115094375,
          0.3097717214788815,
          0.3418928144577739,
          0.3231582147731803,
          0.2870917693295648,
          0.16189071385311118,
          0.20042949414728886,
          0.08210844995976566,
          0.08818370595974669,
          0.30205880250138545,
          0.3418928144577739,
          0.2980610424939815,
          0.15400137423938087,
          0.1397283511697981,
          0.09354623372971145,
          0.3178001021512849,
          0.3429825852485679,
          0.2535279887654711,
          0.14815838586168026,
          0.1383837385298289,
          0.3404862001485829,
          0.332323142232895,
          0.14815838586168026,
          0.14157533249463045,
          0.12493232235431213,
          0.31043994905227046,
          0.35457367765763875,
          0.332323142232895,
          0.14157533249463045,
          0.14239219769947634,
          0.1568929916449907,
          0.18182752558968626,
          0.3584231880254969,
          0.14621221802294576,
          0.14945588680375696,
          0.14239219769947634,
          0.20042949414728886,
          0.17137152271944364,
          0.32535893112673275,
          0.357632151111783,
          0.1892031313240659,
          0.14239219769947634,
          0.20042949414728886,
          0.20042949414728886,
          0.17137152271944364,
          0.19990399596412023,
          0.35462776704904475,
          0.2890038925595783,
          0.14239219769947634,
          0.20042949414728886,
          0.20042949414728886,
          0.20042949414728886,
          0.19990399596412023,
          0.22838553913244555,
          0.34375076361854406,
          0.1739450790473773,
          0.1623788193605902,
          0.20042949414728886,
          0.20042949414728886,
          0.20042949414728886
         ]
        }
       ],
       "layout": {
        "scene": {
         "xaxis": {
          "title": {
           "text": "eps"
          }
         },
         "yaxis": {
          "title": {
           "text": "min_samples"
          }
         },
         "zaxis": {
          "title": {
           "text": "silhueta"
          }
         }
        },
        "template": {
         "data": {
          "bar": [
           {
            "error_x": {
             "color": "#2a3f5f"
            },
            "error_y": {
             "color": "#2a3f5f"
            },
            "marker": {
             "line": {
              "color": "#E5ECF6",
              "width": 0.5
             }
            },
            "type": "bar"
           }
          ],
          "barpolar": [
           {
            "marker": {
             "line": {
              "color": "#E5ECF6",
              "width": 0.5
             }
            },
            "type": "barpolar"
           }
          ],
          "carpet": [
           {
            "aaxis": {
             "endlinecolor": "#2a3f5f",
             "gridcolor": "white",
             "linecolor": "white",
             "minorgridcolor": "white",
             "startlinecolor": "#2a3f5f"
            },
            "baxis": {
             "endlinecolor": "#2a3f5f",
             "gridcolor": "white",
             "linecolor": "white",
             "minorgridcolor": "white",
             "startlinecolor": "#2a3f5f"
            },
            "type": "carpet"
           }
          ],
          "choropleth": [
           {
            "colorbar": {
             "outlinewidth": 0,
             "ticks": ""
            },
            "type": "choropleth"
           }
          ],
          "contour": [
           {
            "colorbar": {
             "outlinewidth": 0,
             "ticks": ""
            },
            "colorscale": [
             [
              0,
              "#0d0887"
             ],
             [
              0.1111111111111111,
              "#46039f"
             ],
             [
              0.2222222222222222,
              "#7201a8"
             ],
             [
              0.3333333333333333,
              "#9c179e"
             ],
             [
              0.4444444444444444,
              "#bd3786"
             ],
             [
              0.5555555555555556,
              "#d8576b"
             ],
             [
              0.6666666666666666,
              "#ed7953"
             ],
             [
              0.7777777777777778,
              "#fb9f3a"
             ],
             [
              0.8888888888888888,
              "#fdca26"
             ],
             [
              1,
              "#f0f921"
             ]
            ],
            "type": "contour"
           }
          ],
          "contourcarpet": [
           {
            "colorbar": {
             "outlinewidth": 0,
             "ticks": ""
            },
            "type": "contourcarpet"
           }
          ],
          "heatmap": [
           {
            "colorbar": {
             "outlinewidth": 0,
             "ticks": ""
            },
            "colorscale": [
             [
              0,
              "#0d0887"
             ],
             [
              0.1111111111111111,
              "#46039f"
             ],
             [
              0.2222222222222222,
              "#7201a8"
             ],
             [
              0.3333333333333333,
              "#9c179e"
             ],
             [
              0.4444444444444444,
              "#bd3786"
             ],
             [
              0.5555555555555556,
              "#d8576b"
             ],
             [
              0.6666666666666666,
              "#ed7953"
             ],
             [
              0.7777777777777778,
              "#fb9f3a"
             ],
             [
              0.8888888888888888,
              "#fdca26"
             ],
             [
              1,
              "#f0f921"
             ]
            ],
            "type": "heatmap"
           }
          ],
          "heatmapgl": [
           {
            "colorbar": {
             "outlinewidth": 0,
             "ticks": ""
            },
            "colorscale": [
             [
              0,
              "#0d0887"
             ],
             [
              0.1111111111111111,
              "#46039f"
             ],
             [
              0.2222222222222222,
              "#7201a8"
             ],
             [
              0.3333333333333333,
              "#9c179e"
             ],
             [
              0.4444444444444444,
              "#bd3786"
             ],
             [
              0.5555555555555556,
              "#d8576b"
             ],
             [
              0.6666666666666666,
              "#ed7953"
             ],
             [
              0.7777777777777778,
              "#fb9f3a"
             ],
             [
              0.8888888888888888,
              "#fdca26"
             ],
             [
              1,
              "#f0f921"
             ]
            ],
            "type": "heatmapgl"
           }
          ],
          "histogram": [
           {
            "marker": {
             "colorbar": {
              "outlinewidth": 0,
              "ticks": ""
             }
            },
            "type": "histogram"
           }
          ],
          "histogram2d": [
           {
            "colorbar": {
             "outlinewidth": 0,
             "ticks": ""
            },
            "colorscale": [
             [
              0,
              "#0d0887"
             ],
             [
              0.1111111111111111,
              "#46039f"
             ],
             [
              0.2222222222222222,
              "#7201a8"
             ],
             [
              0.3333333333333333,
              "#9c179e"
             ],
             [
              0.4444444444444444,
              "#bd3786"
             ],
             [
              0.5555555555555556,
              "#d8576b"
             ],
             [
              0.6666666666666666,
              "#ed7953"
             ],
             [
              0.7777777777777778,
              "#fb9f3a"
             ],
             [
              0.8888888888888888,
              "#fdca26"
             ],
             [
              1,
              "#f0f921"
             ]
            ],
            "type": "histogram2d"
           }
          ],
          "histogram2dcontour": [
           {
            "colorbar": {
             "outlinewidth": 0,
             "ticks": ""
            },
            "colorscale": [
             [
              0,
              "#0d0887"
             ],
             [
              0.1111111111111111,
              "#46039f"
             ],
             [
              0.2222222222222222,
              "#7201a8"
             ],
             [
              0.3333333333333333,
              "#9c179e"
             ],
             [
              0.4444444444444444,
              "#bd3786"
             ],
             [
              0.5555555555555556,
              "#d8576b"
             ],
             [
              0.6666666666666666,
              "#ed7953"
             ],
             [
              0.7777777777777778,
              "#fb9f3a"
             ],
             [
              0.8888888888888888,
              "#fdca26"
             ],
             [
              1,
              "#f0f921"
             ]
            ],
            "type": "histogram2dcontour"
           }
          ],
          "mesh3d": [
           {
            "colorbar": {
             "outlinewidth": 0,
             "ticks": ""
            },
            "type": "mesh3d"
           }
          ],
          "parcoords": [
           {
            "line": {
             "colorbar": {
              "outlinewidth": 0,
              "ticks": ""
             }
            },
            "type": "parcoords"
           }
          ],
          "scatter": [
           {
            "marker": {
             "colorbar": {
              "outlinewidth": 0,
              "ticks": ""
             }
            },
            "type": "scatter"
           }
          ],
          "scatter3d": [
           {
            "line": {
             "colorbar": {
              "outlinewidth": 0,
              "ticks": ""
             }
            },
            "marker": {
             "colorbar": {
              "outlinewidth": 0,
              "ticks": ""
             }
            },
            "type": "scatter3d"
           }
          ],
          "scattercarpet": [
           {
            "marker": {
             "colorbar": {
              "outlinewidth": 0,
              "ticks": ""
             }
            },
            "type": "scattercarpet"
           }
          ],
          "scattergeo": [
           {
            "marker": {
             "colorbar": {
              "outlinewidth": 0,
              "ticks": ""
             }
            },
            "type": "scattergeo"
           }
          ],
          "scattergl": [
           {
            "marker": {
             "colorbar": {
              "outlinewidth": 0,
              "ticks": ""
             }
            },
            "type": "scattergl"
           }
          ],
          "scattermapbox": [
           {
            "marker": {
             "colorbar": {
              "outlinewidth": 0,
              "ticks": ""
             }
            },
            "type": "scattermapbox"
           }
          ],
          "scatterpolar": [
           {
            "marker": {
             "colorbar": {
              "outlinewidth": 0,
              "ticks": ""
             }
            },
            "type": "scatterpolar"
           }
          ],
          "scatterpolargl": [
           {
            "marker": {
             "colorbar": {
              "outlinewidth": 0,
              "ticks": ""
             }
            },
            "type": "scatterpolargl"
           }
          ],
          "scatterternary": [
           {
            "marker": {
             "colorbar": {
              "outlinewidth": 0,
              "ticks": ""
             }
            },
            "type": "scatterternary"
           }
          ],
          "surface": [
           {
            "colorbar": {
             "outlinewidth": 0,
             "ticks": ""
            },
            "colorscale": [
             [
              0,
              "#0d0887"
             ],
             [
              0.1111111111111111,
              "#46039f"
             ],
             [
              0.2222222222222222,
              "#7201a8"
             ],
             [
              0.3333333333333333,
              "#9c179e"
             ],
             [
              0.4444444444444444,
              "#bd3786"
             ],
             [
              0.5555555555555556,
              "#d8576b"
             ],
             [
              0.6666666666666666,
              "#ed7953"
             ],
             [
              0.7777777777777778,
              "#fb9f3a"
             ],
             [
              0.8888888888888888,
              "#fdca26"
             ],
             [
              1,
              "#f0f921"
             ]
            ],
            "type": "surface"
           }
          ],
          "table": [
           {
            "cells": {
             "fill": {
              "color": "#EBF0F8"
             },
             "line": {
              "color": "white"
             }
            },
            "header": {
             "fill": {
              "color": "#C8D4E3"
             },
             "line": {
              "color": "white"
             }
            },
            "type": "table"
           }
          ]
         },
         "layout": {
          "annotationdefaults": {
           "arrowcolor": "#2a3f5f",
           "arrowhead": 0,
           "arrowwidth": 1
          },
          "colorscale": {
           "diverging": [
            [
             0,
             "#8e0152"
            ],
            [
             0.1,
             "#c51b7d"
            ],
            [
             0.2,
             "#de77ae"
            ],
            [
             0.3,
             "#f1b6da"
            ],
            [
             0.4,
             "#fde0ef"
            ],
            [
             0.5,
             "#f7f7f7"
            ],
            [
             0.6,
             "#e6f5d0"
            ],
            [
             0.7,
             "#b8e186"
            ],
            [
             0.8,
             "#7fbc41"
            ],
            [
             0.9,
             "#4d9221"
            ],
            [
             1,
             "#276419"
            ]
           ],
           "sequential": [
            [
             0,
             "#0d0887"
            ],
            [
             0.1111111111111111,
             "#46039f"
            ],
            [
             0.2222222222222222,
             "#7201a8"
            ],
            [
             0.3333333333333333,
             "#9c179e"
            ],
            [
             0.4444444444444444,
             "#bd3786"
            ],
            [
             0.5555555555555556,
             "#d8576b"
            ],
            [
             0.6666666666666666,
             "#ed7953"
            ],
            [
             0.7777777777777778,
             "#fb9f3a"
            ],
            [
             0.8888888888888888,
             "#fdca26"
            ],
            [
             1,
             "#f0f921"
            ]
           ],
           "sequentialminus": [
            [
             0,
             "#0d0887"
            ],
            [
             0.1111111111111111,
             "#46039f"
            ],
            [
             0.2222222222222222,
             "#7201a8"
            ],
            [
             0.3333333333333333,
             "#9c179e"
            ],
            [
             0.4444444444444444,
             "#bd3786"
            ],
            [
             0.5555555555555556,
             "#d8576b"
            ],
            [
             0.6666666666666666,
             "#ed7953"
            ],
            [
             0.7777777777777778,
             "#fb9f3a"
            ],
            [
             0.8888888888888888,
             "#fdca26"
            ],
            [
             1,
             "#f0f921"
            ]
           ]
          },
          "colorway": [
           "#636efa",
           "#EF553B",
           "#00cc96",
           "#ab63fa",
           "#FFA15A",
           "#19d3f3",
           "#FF6692",
           "#B6E880",
           "#FF97FF",
           "#FECB52"
          ],
          "font": {
           "color": "#2a3f5f"
          },
          "geo": {
           "bgcolor": "white",
           "lakecolor": "white",
           "landcolor": "#E5ECF6",
           "showlakes": true,
           "showland": true,
           "subunitcolor": "white"
          },
          "hoverlabel": {
           "align": "left"
          },
          "hovermode": "closest",
          "mapbox": {
           "style": "light"
          },
          "paper_bgcolor": "white",
          "plot_bgcolor": "#E5ECF6",
          "polar": {
           "angularaxis": {
            "gridcolor": "white",
            "linecolor": "white",
            "ticks": ""
           },
           "bgcolor": "#E5ECF6",
           "radialaxis": {
            "gridcolor": "white",
            "linecolor": "white",
            "ticks": ""
           }
          },
          "scene": {
           "xaxis": {
            "backgroundcolor": "#E5ECF6",
            "gridcolor": "white",
            "gridwidth": 2,
            "linecolor": "white",
            "showbackground": true,
            "ticks": "",
            "zerolinecolor": "white"
           },
           "yaxis": {
            "backgroundcolor": "#E5ECF6",
            "gridcolor": "white",
            "gridwidth": 2,
            "linecolor": "white",
            "showbackground": true,
            "ticks": "",
            "zerolinecolor": "white"
           },
           "zaxis": {
            "backgroundcolor": "#E5ECF6",
            "gridcolor": "white",
            "gridwidth": 2,
            "linecolor": "white",
            "showbackground": true,
            "ticks": "",
            "zerolinecolor": "white"
           }
          },
          "shapedefaults": {
           "line": {
            "color": "#2a3f5f"
           }
          },
          "ternary": {
           "aaxis": {
            "gridcolor": "white",
            "linecolor": "white",
            "ticks": ""
           },
           "baxis": {
            "gridcolor": "white",
            "linecolor": "white",
            "ticks": ""
           },
           "bgcolor": "#E5ECF6",
           "caxis": {
            "gridcolor": "white",
            "linecolor": "white",
            "ticks": ""
           }
          },
          "title": {
           "x": 0.05
          },
          "xaxis": {
           "automargin": true,
           "gridcolor": "white",
           "linecolor": "white",
           "ticks": "",
           "zerolinecolor": "white",
           "zerolinewidth": 2
          },
          "yaxis": {
           "automargin": true,
           "gridcolor": "white",
           "linecolor": "white",
           "ticks": "",
           "zerolinecolor": "white",
           "zerolinewidth": 2
          }
         }
        }
       }
      }
     },
     "metadata": {}
    }
   ],
   "source": [
    "ind = valores_silhueta.index(max(valores_silhueta))\n",
    "#@title Default title text\n",
    "fig = go.Figure()\n",
    "fig.add_trace(go.Scatter3d(x=[min_samples_plot[ind]],\n",
    "                         y = [eps_plot[ind]], z = [max(valores_silhueta)],\n",
    "                         mode = 'markers',marker_line_color=\"midnightblue\", \n",
    "                          marker_symbol=['x']))\n",
    "fig.add_trace(go.Scatter3d(x=min_samples_plot,\n",
    "                         y = eps_plot, z = valores_silhueta,\n",
    "                         mode = 'markers',\n",
    "                        text = labels))\n",
    "fig.update_layout(scene = dict(\n",
    "                    xaxis_title='eps',\n",
    "                    yaxis_title='min_samples',\n",
    "                    zaxis_title='silhueta'))\n",
    "fig.show()"
   ]
  },
  {
   "cell_type": "code",
   "execution_count": null,
   "metadata": {},
   "outputs": [],
   "source": []
  }
 ]
}